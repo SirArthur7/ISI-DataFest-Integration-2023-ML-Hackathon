{
  "nbformat": 4,
  "nbformat_minor": 0,
  "metadata": {
    "colab": {
      "provenance": [],
      "collapsed_sections": [
        "ZZiHdtYb70i6",
        "BB2IkN_X8RYi",
        "FsOofBE2-Utb",
        "D0Ief9hb-XDi",
        "Nyy8lGAH-x8t",
        "Y0mhMdRN0TJJ",
        "TzI9Q-l0HBlz",
        "YxoK7e0wNagr",
        "fzpwvsAQC6vc",
        "oUUh8XndVVUd",
        "G4UuFoCma4nL",
        "OWbCrf34f1JI",
        "o4E5QqmRjOCP",
        "582GGI9Egrdn",
        "ZuByk5ofj0rg",
        "rzMWOxi-Aj7E",
        "gFzdEDU8Z841",
        "kPjEVW0-Z5uM",
        "U_xfjAjPwVtG",
        "QVsWH0jVwQ_6"
      ]
    },
    "kernelspec": {
      "name": "python3",
      "display_name": "Python 3"
    },
    "language_info": {
      "name": "python"
    }
  },
  "cells": [
    {
      "cell_type": "markdown",
      "source": [
        "\n",
        "\n",
        "# **DUO TEAM - HUMPBACKERS**\n",
        "\n",
        "\n",
        "  - Anannyo Dey\n",
        "  - Debasmit Roy\n",
        "\n",
        "\n",
        "---\n",
        "\n"
      ],
      "metadata": {
        "id": "prMC_NgBZY-F"
      }
    },
    {
      "cell_type": "markdown",
      "source": [
        "#**I'm Hard to Spot**\n",
        "*Sundarban Tiger Pugmark Identification and Count*\n",
        "\n",
        "![picture](https://www.conservationindia.org/wp-content/files_mf/1299267599pug.jpg)\n",
        "\n"
      ],
      "metadata": {
        "id": "joVy9U6GErA2"
      }
    },
    {
      "cell_type": "markdown",
      "source": [
        "# **Import And Connectivity With Drive**\n",
        "\n"
      ],
      "metadata": {
        "id": "ZZiHdtYb70i6"
      }
    },
    {
      "cell_type": "code",
      "execution_count": null,
      "metadata": {
        "id": "HVI7TGKQeTdl"
      },
      "outputs": [],
      "source": [
        "import pandas as pd\n",
        "import numpy as np\n",
        "from sklearn import svm\n",
        "import sklearn\n",
        "from sklearn.ensemble import RandomForestClassifier \n",
        "import tensorflow as tf\n",
        "import tensorflow.keras as tk\n",
        "from tensorflow.keras.utils import plot_model\n",
        "from sklearn.model_selection import train_test_split  \n",
        "import random\n",
        "from sklearn.preprocessing import normalize, StandardScaler\n",
        "from sklearn.decomposition import PCA\n",
        "from scipy.stats import pearsonr\n",
        "from sklearn.preprocessing import scale\n",
        "from sklearn.decomposition import KernelPCA\n",
        "from sklearn.decomposition import NMF\n",
        "import sklearn.cluster\n",
        "import matplotlib.pyplot as plt\n",
        "from yellowbrick.cluster import KElbowVisualizer\n",
        "import yellowbrick.cluster\n",
        "import plotly.express as px\n",
        "from sklearn import metrics\n",
        "import sklearn\n",
        "\n",
        "\n",
        "from sklearn.preprocessing import StandardScaler\n",
        "from numpy.random import uniform\n",
        "from sklearn.datasets import make_blobs\n",
        "import seaborn as sns\n",
        "import random\n",
        "\n",
        "from scipy import stats"
      ]
    },
    {
      "cell_type": "code",
      "source": [
        "!pip3 install numpy Cython\n",
        "!pip3 install mrmr_selection\n",
        "!pip install pymrmr"
      ],
      "metadata": {
        "colab": {
          "base_uri": "https://localhost:8080/"
        },
        "id": "l6qn4ffgN0Qf",
        "outputId": "ae3bb8d0-22a7-4bf9-db0d-63524a63f253"
      },
      "execution_count": null,
      "outputs": [
        {
          "output_type": "stream",
          "name": "stdout",
          "text": [
            "Looking in indexes: https://pypi.org/simple, https://us-python.pkg.dev/colab-wheels/public/simple/\n",
            "Requirement already satisfied: numpy in /usr/local/lib/python3.8/dist-packages (1.21.6)\n",
            "Requirement already satisfied: Cython in /usr/local/lib/python3.8/dist-packages (0.29.33)\n",
            "Looking in indexes: https://pypi.org/simple, https://us-python.pkg.dev/colab-wheels/public/simple/\n",
            "Collecting mrmr_selection\n",
            "  Downloading mrmr_selection-0.2.5-py3-none-any.whl (24 kB)\n",
            "Requirement already satisfied: joblib in /usr/local/lib/python3.8/dist-packages (from mrmr_selection) (1.2.0)\n",
            "Requirement already satisfied: numpy>=1.18.1 in /usr/local/lib/python3.8/dist-packages (from mrmr_selection) (1.21.6)\n",
            "Requirement already satisfied: pandas>=1.0.3 in /usr/local/lib/python3.8/dist-packages (from mrmr_selection) (1.3.5)\n",
            "Collecting category-encoders\n",
            "  Downloading category_encoders-2.6.0-py2.py3-none-any.whl (81 kB)\n",
            "\u001b[2K     \u001b[90m━━━━━━━━━━━━━━━━━━━━━━━━━━━━━━━━━━━━━━━━\u001b[0m \u001b[32m81.2/81.2 KB\u001b[0m \u001b[31m6.9 MB/s\u001b[0m eta \u001b[36m0:00:00\u001b[0m\n",
            "\u001b[?25hRequirement already satisfied: scipy in /usr/local/lib/python3.8/dist-packages (from mrmr_selection) (1.7.3)\n",
            "Requirement already satisfied: tqdm in /usr/local/lib/python3.8/dist-packages (from mrmr_selection) (4.64.1)\n",
            "Collecting sklearn\n",
            "  Downloading sklearn-0.0.post1.tar.gz (3.6 kB)\n",
            "  Preparing metadata (setup.py) ... \u001b[?25l\u001b[?25hdone\n",
            "Requirement already satisfied: jinja2 in /usr/local/lib/python3.8/dist-packages (from mrmr_selection) (2.11.3)\n",
            "Requirement already satisfied: python-dateutil>=2.7.3 in /usr/local/lib/python3.8/dist-packages (from pandas>=1.0.3->mrmr_selection) (2.8.2)\n",
            "Requirement already satisfied: pytz>=2017.3 in /usr/local/lib/python3.8/dist-packages (from pandas>=1.0.3->mrmr_selection) (2022.7.1)\n",
            "Requirement already satisfied: statsmodels>=0.9.0 in /usr/local/lib/python3.8/dist-packages (from category-encoders->mrmr_selection) (0.12.2)\n",
            "Requirement already satisfied: scikit-learn>=0.20.0 in /usr/local/lib/python3.8/dist-packages (from category-encoders->mrmr_selection) (1.0.2)\n",
            "Requirement already satisfied: patsy>=0.5.1 in /usr/local/lib/python3.8/dist-packages (from category-encoders->mrmr_selection) (0.5.3)\n",
            "Requirement already satisfied: MarkupSafe>=0.23 in /usr/local/lib/python3.8/dist-packages (from jinja2->mrmr_selection) (2.0.1)\n",
            "Requirement already satisfied: six in /usr/local/lib/python3.8/dist-packages (from patsy>=0.5.1->category-encoders->mrmr_selection) (1.15.0)\n",
            "Requirement already satisfied: threadpoolctl>=2.0.0 in /usr/local/lib/python3.8/dist-packages (from scikit-learn>=0.20.0->category-encoders->mrmr_selection) (3.1.0)\n",
            "Building wheels for collected packages: sklearn\n",
            "  Building wheel for sklearn (setup.py) ... \u001b[?25l\u001b[?25hdone\n",
            "  Created wheel for sklearn: filename=sklearn-0.0.post1-py3-none-any.whl size=2344 sha256=5c1f9e4321f107ccb156e7699af692965b2175e8c8a0da12d628ab0eea41a665\n",
            "  Stored in directory: /root/.cache/pip/wheels/14/25/f7/1cc0956978ae479e75140219088deb7a36f60459df242b1a72\n",
            "Successfully built sklearn\n",
            "Installing collected packages: sklearn, category-encoders, mrmr_selection\n",
            "Successfully installed category-encoders-2.6.0 mrmr_selection-0.2.5 sklearn-0.0.post1\n",
            "Looking in indexes: https://pypi.org/simple, https://us-python.pkg.dev/colab-wheels/public/simple/\n",
            "Collecting pymrmr\n",
            "  Downloading pymrmr-0.1.11.tar.gz (69 kB)\n",
            "\u001b[2K     \u001b[90m━━━━━━━━━━━━━━━━━━━━━━━━━━━━━━━━━━━━━━━━\u001b[0m \u001b[32m69.5/69.5 KB\u001b[0m \u001b[31m4.0 MB/s\u001b[0m eta \u001b[36m0:00:00\u001b[0m\n",
            "\u001b[?25h  Preparing metadata (setup.py) ... \u001b[?25l\u001b[?25hdone\n",
            "Requirement already satisfied: numpy>=1.19.5 in /usr/local/lib/python3.8/dist-packages (from pymrmr) (1.21.6)\n",
            "Building wheels for collected packages: pymrmr\n",
            "  Building wheel for pymrmr (setup.py) ... \u001b[?25l\u001b[?25hdone\n",
            "  Created wheel for pymrmr: filename=pymrmr-0.1.11-cp38-cp38-linux_x86_64.whl size=353792 sha256=b6720d846b30fa9f5a032350748c161f8f2396742ac536c5df729f243d1811aa\n",
            "  Stored in directory: /root/.cache/pip/wheels/a7/f0/23/3cb98b0a2ac66bc6bf8930b1ed06d1d5bdc541e175d9f581b7\n",
            "Successfully built pymrmr\n",
            "Installing collected packages: pymrmr\n",
            "Successfully installed pymrmr-0.1.11\n"
          ]
        }
      ]
    },
    {
      "cell_type": "code",
      "source": [
        "import mrmr\n",
        "from mrmr import mrmr_classif"
      ],
      "metadata": {
        "id": "7UZWcehYLfWL"
      },
      "execution_count": null,
      "outputs": []
    },
    {
      "cell_type": "code",
      "source": [
        "from google.colab import drive\n",
        "drive.mount('/content/drive')"
      ],
      "metadata": {
        "colab": {
          "base_uri": "https://localhost:8080/"
        },
        "id": "yIb7yTduOhqH",
        "outputId": "0de36bf3-2e83-45bd-999d-caf525ec5f7c"
      },
      "execution_count": null,
      "outputs": [
        {
          "output_type": "stream",
          "name": "stdout",
          "text": [
            "Mounted at /content/drive\n"
          ]
        }
      ]
    },
    {
      "cell_type": "markdown",
      "source": [
        "# **Our Plan**\n",
        "![picture](https://drive.google.com/uc?id=1yPlWt0Qo6d2Lbuz8eiHs7hAoxt9AOKuf)\n",
        "\n",
        "\n",
        "We use two Feature Selection/Reduction Algorithms Independently\n",
        ">> 1.  Supervised Minimum redundancy maximum relevance (mRMR) to rank the features\n",
        ">> 2.  Unsupervised Principal Component Analysis (PCA) to reduce the dimension of features space\n",
        "\n",
        "We use two types Clustering Algorithms Independently\n",
        ">> 1.  Custom KMeans Algorithm with an explicit weightage on euclidean distance in Geographical dimentions.\n",
        ">> 2.  Naive KMeans Algorithm to cluster samples geographically followed by DBSCAN clustering algorithm to form Non-Geographical-feature-based subclusters in each geographical cluster.\n",
        "\n",
        "\n",
        "1.   **Step 1** \n",
        "> We cluster the samples after applying naive k-means(metric='euclid') clustering algorithm taking 2D Geographical feature vector comprising of longitude and latitude. We assign each sample with their respective Geographical Cluster ID.\n",
        "\n",
        "2.   **Step 2**\n",
        "> We evaluate the cross correlation in the feature set to detect which features are highly correlated with each other using pearson correlation. We group the correlated features together based on a threshold. We keep the uncorrelated/moderately correlated features as ungrouped. We use this for PCA reduction later in step 4.\n",
        "\n",
        "3.   **Step 3**\n",
        "> We use Minimum redundancy maximum relevance feature selection approach to rank NON-GEOGRAPHICAL features. We feed the mRMR ranker function with Hard Coded True Cluster IDs (derived from Data_Description.pdf) and NON-GEOGRAPHICAL features(without any grouping/dim reduction). \n",
        "\n",
        "4.   **Step 4**\n",
        "> We perform Principal Component Analysis on Feature Groups formed in *step 2* individually to reduce dimensions. We form a new feature set using dimension reduced features and ungrouped features. \n",
        "\n",
        "5.   **Step 5**\n",
        "> We apply our Custom K-Means Clustering Algorithm on mRMR selected features formed at Step 3.\n",
        "6.   **Step 6**\n",
        "> We apply our Custom K-Means Clustering Algorithm on PCA reduced features formed at Step 4.\n",
        "\n",
        "7.   **Step 7**\n",
        "> We apply DBSCAN clustering algorithm on samples from each Geographical Cluster individually using the Non-Geographical features selected at step 3. We use DBSCAN here, because we don't have to pre-specify the number of sub-clusters per Geographical Cluster. We use min_sample and eps as hyperparameters to form DBSCAN subclusters (discussed in respective sectionz later).\n",
        "\n",
        "8.   **Step 8**\n",
        "> We aggregate the the numbers of subclusters formed at Step 7 to estimate the total number of possible sub-subclusters i.e. total number of distinct tigers. \n",
        "\n",
        "\n",
        "Additionaly, We tried to predict soil type from each geographical regions based lat/lon using Decision Tree Classifer. But, due to lack of training samples from diverse areas of Sundarban, the classification may lead to overfitting. So, we experimented in that section and have not used the results later in our analysis.\n",
        "\n",
        "**The Notable Conclusions are marked <font color=Red>RED</font> later in this notebook.**\n"
      ],
      "metadata": {
        "id": "k-UT-QMTw8H-"
      }
    },
    {
      "cell_type": "markdown",
      "source": [
        "# **Reading From .csv**\n",
        "\n",
        "\n",
        "*   Firstly, we load the .csv files and stored them in dataframes.\n",
        "*    Secondly, we scale the values coumnwise between 0 and 1.\n",
        "\n"
      ],
      "metadata": {
        "id": "BB2IkN_X8RYi"
      }
    },
    {
      "cell_type": "code",
      "source": [
        "# Reading csv with panda\n",
        "df = pd.read_csv('/content/drive/MyDrive/tiger/Data/Train.csv')\n",
        "census_df = pd.read_csv('/content/drive/MyDrive/tiger/Data/Census.csv')"
      ],
      "metadata": {
        "id": "xCx9eI_cef6z"
      },
      "execution_count": null,
      "outputs": []
    },
    {
      "cell_type": "code",
      "source": [
        "# Converting dataframe to numpy array\n",
        "all_data = df.to_numpy()\n",
        "census_all_data = census_df.to_numpy()"
      ],
      "metadata": {
        "id": "9mgE_NoOeqIK"
      },
      "execution_count": null,
      "outputs": []
    },
    {
      "cell_type": "code",
      "source": [
        "# To scale the values\n",
        "all_data[:,4:-2] = all_data[:,4:-2] / np.max(all_data[:,4:-2],axis=0)\n",
        "census_all_data[:,0:-2] = census_all_data[:,0:-2] / np.max(census_all_data[:,0:-2],axis=0)"
      ],
      "metadata": {
        "id": "OgqfqbOeyzDY"
      },
      "execution_count": null,
      "outputs": []
    },
    {
      "cell_type": "markdown",
      "source": [
        "# **Unsupervised Way To Cluster Geographical Regions Based On Lat and Long**\n",
        "We cluster the samples after applying naive k-means(metric='euclid') clustering algorithm taking 2D feature vector comprising of \n",
        "1. longitude \n",
        "2. latitude. \n",
        "\n",
        "On applying clustering algorithm on given data we find- \n",
        "*   **Conclusive elbow point at k$≈$8 in train data and**, \n",
        "\n",
        "*   **Inconclusive elbow point at k$≈$20 (approx) in test data**.\n",
        "\n",
        "The samples are projected on realworld interactive map using Plotly."
      ],
      "metadata": {
        "id": "ZJkwGNrn8jEn"
      }
    },
    {
      "cell_type": "code",
      "source": [
        "lat_long = df[['Lat', 'Long']].to_numpy().astype(float)\n",
        "census_lat_long = census_df[['Lat', 'Long']].to_numpy().astype(float)"
      ],
      "metadata": {
        "id": "6T62h8rC97EL"
      },
      "execution_count": null,
      "outputs": []
    },
    {
      "cell_type": "markdown",
      "source": [
        "### Train Data"
      ],
      "metadata": {
        "id": "FsOofBE2-Utb"
      }
    },
    {
      "cell_type": "code",
      "source": [
        "temp_model = sklearn.cluster.KMeans()\n",
        "visualizer = KElbowVisualizer(temp_model, k=(2,60), timings= True)\n",
        "visualizer.fit(lat_long)        # Fit data to visualizer\n",
        "visualizer.show()        # Finalize and render figure"
      ],
      "metadata": {
        "colab": {
          "base_uri": "https://localhost:8080/"
        },
        "id": "BqOGZZHq-IcW",
        "outputId": "e527efc2-6ce9-4ddd-c622-cf18253e14b6"
      },
      "execution_count": null,
      "outputs": [
        {
          "output_type": "display_data",
          "data": {
            "text/plain": [
              "<Figure size 576x396 with 2 Axes>"
            ],
            "image/png": "[encoded data removed]"
          },
          "metadata": {}
        },
        {
          "output_type": "execute_result",
          "data": {
            "text/plain": [
              "<matplotlib.axes._subplots.AxesSubplot at 0x7fdd2302daf0>"
            ]
          },
          "metadata": {},
          "execution_count": 9
        }
      ]
    },
    {
      "cell_type": "code",
      "source": [
        "# Number of Region Clusters in Train Dataset\n",
        "NUM_REGION_CLUSTER = 8"
      ],
      "metadata": {
        "id": "H_prZegGPwCn"
      },
      "execution_count": null,
      "outputs": []
    },
    {
      "cell_type": "code",
      "source": [
        "kmean_reg_clustering = sklearn.cluster.KMeans(n_clusters=NUM_REGION_CLUSTER,random_state=0).fit(lat_long)\n",
        "# Storing Geographical Cluster IDs from train dataset in reg_labels_kmean\n",
        "reg_labels_kmean = kmean_reg_clustering.labels_\n",
        "print(list(reg_labels_kmean))"
      ],
      "metadata": {
        "colab": {
          "base_uri": "https://localhost:8080/"
        },
        "id": "Brdq_Dy8-f2X",
        "outputId": "097eb2c6-32e2-4c2f-c7dd-689c1f143654"
      },
      "execution_count": null,
      "outputs": [
        {
          "output_type": "stream",
          "name": "stdout",
          "text": [
            "[2, 2, 2, 2, 2, 7, 7, 7, 7, 0, 0, 0, 1, 1, 1, 6, 6, 6, 6, 6, 5, 5, 5, 5, 5, 1, 1, 1, 1, 1, 3, 3, 3, 3, 3, 3, 3, 7, 7, 1, 1, 1, 4, 4, 4, 4, 4, 4, 1, 1, 1, 4, 4, 4, 4, 4, 4, 4, 4, 4, 4, 5, 5, 5]\n"
          ]
        }
      ]
    },
    {
      "cell_type": "code",
      "source": [
        "# Ploting Different Geographical Clusters and we use color to distinguish each clusters\n",
        "fig = px.scatter_mapbox(df[['Lat', 'Long']],\n",
        "                        lat=\"Lat\", \n",
        "                        lon=\"Long\",\n",
        "                        color = reg_labels_kmean,\n",
        "                        zoom=10, \n",
        "                        height=500,\n",
        "                        width=500)\n",
        "\n",
        "fig.update_layout(mapbox_style=\"open-street-map\")\n",
        "fig.update_layout(margin={\"r\":0,\"t\":0,\"l\":0,\"b\":0})\n",
        "fig.show()"
      ],
      "metadata": {
        "colab": {
          "base_uri": "https://localhost:8080/"
        },
        "id": "6r7OP5Ok-rC0",
        "outputId": "bf203bd7-c3cf-4740-8bf9-a1708a603c4e"
      },
      "execution_count": null,
      "outputs": [
        {
          "output_type": "display_data",
          "data": {
            "text/html": [
              "<html>\n",
              "<head><meta charset=\"utf-8\" /></head>\n",
              "<body>\n",
              "    <div>            <script src=\"https://cdnjs.cloudflare.com/ajax/libs/mathjax/2.7.5/MathJax.js?config=TeX-AMS-MML_SVG\"></script><script type=\"text/javascript\">if (window.MathJax) {MathJax.Hub.Config({SVG: {font: \"STIX-Web\"}});}</script>                <script type=\"text/javascript\">window.PlotlyConfig = {MathJaxConfig: 'local'};</script>\n",
              "        <script src=\"https://cdn.plot.ly/plotly-2.8.3.min.js\"></script>                <div id=\"5e6f2a13-8b75-4c29-9043-9d8f337cc686\" class=\"plotly-graph-div\" style=\"height:500px; width:500px;\"></div>            <script type=\"text/javascript\">                                    window.PLOTLYENV=window.PLOTLYENV || {};                                    if (document.getElementById(\"5e6f2a13-8b75-4c29-9043-9d8f337cc686\")) {                    Plotly.newPlot(                        \"5e6f2a13-8b75-4c29-9043-9d8f337cc686\",                        [{\"hovertemplate\":\"Lat=%{lat}<br>Long=%{lon}<br>color=%{marker.color}<extra></extra>\",\"lat\":[21.688,21.686,21.696,21.689,21.697,22.021,22.02,22.021,22.021,22.086,22.088,22.093,21.836,21.837,21.835,21.91,21.91,21.91,21.915,21.915,21.619,21.619,21.619,21.619,21.62,21.867,21.867,21.872,21.932,21.93,21.955,21.958,21.957,21.958,21.957,21.956,21.958,22.025,22.03,21.843,21.844,21.844,21.971,21.977,21.972,21.976,21.976,21.976,21.842,21.838,21.834,21.973,21.971,21.973,21.972,21.973,21.968,21.963,21.963,21.968,21.963,21.61,21.608,21.607],\"legendgroup\":\"\",\"lon\":[88.971,88.982,88.983,88.977,88.975,89.019,89.016,89.018,89.014,88.808,88.812,88.808,88.885,88.886,88.884,88.738,88.737,88.737,88.733,88.732,89.0,88.999,88.999,88.998,89.0,88.906,88.901,88.905,88.866,88.87,89.039,89.041,89.041,89.042,89.04,89.041,89.04,88.936,88.94,88.887,88.887,88.887,88.785,88.786,88.784,88.787,88.787,88.786,88.886,88.889,88.889,88.782,88.781,88.784,88.78,88.783,88.784,88.785,88.785,88.785,88.785,88.996,89.001,89.002],\"marker\":{\"color\":[2,2,2,2,2,7,7,7,7,0,0,0,1,1,1,6,6,6,6,6,5,5,5,5,5,1,1,1,1,1,3,3,3,3,3,3,3,7,7,1,1,1,4,4,4,4,4,4,1,1,1,4,4,4,4,4,4,4,4,4,4,5,5,5],\"coloraxis\":\"coloraxis\"},\"mode\":\"markers\",\"name\":\"\",\"showlegend\":false,\"subplot\":\"mapbox\",\"type\":\"scattermapbox\"}],                        {\"template\":{\"data\":{\"bar\":[{\"error_x\":{\"color\":\"#2a3f5f\"},\"error_y\":{\"color\":\"#2a3f5f\"},\"marker\":{\"line\":{\"color\":\"#E5ECF6\",\"width\":0.5},\"pattern\":{\"fillmode\":\"overlay\",\"size\":10,\"solidity\":0.2}},\"type\":\"bar\"}],\"barpolar\":[{\"marker\":{\"line\":{\"color\":\"#E5ECF6\",\"width\":0.5},\"pattern\":{\"fillmode\":\"overlay\",\"size\":10,\"solidity\":0.2}},\"type\":\"barpolar\"}],\"carpet\":[{\"aaxis\":{\"endlinecolor\":\"#2a3f5f\",\"gridcolor\":\"white\",\"linecolor\":\"white\",\"minorgridcolor\":\"white\",\"startlinecolor\":\"#2a3f5f\"},\"baxis\":{\"endlinecolor\":\"#2a3f5f\",\"gridcolor\":\"white\",\"linecolor\":\"white\",\"minorgridcolor\":\"white\",\"startlinecolor\":\"#2a3f5f\"},\"type\":\"carpet\"}],\"choropleth\":[{\"colorbar\":{\"outlinewidth\":0,\"ticks\":\"\"},\"type\":\"choropleth\"}],\"contour\":[{\"colorbar\":{\"outlinewidth\":0,\"ticks\":\"\"},\"colorscale\":[[0.0,\"#0d0887\"],[0.1111111111111111,\"#46039f\"],[0.2222222222222222,\"#7201a8\"],[0.3333333333333333,\"#9c179e\"],[0.4444444444444444,\"#bd3786\"],[0.5555555555555556,\"#d8576b\"],[0.6666666666666666,\"#ed7953\"],[0.7777777777777778,\"#fb9f3a\"],[0.8888888888888888,\"#fdca26\"],[1.0,\"#f0f921\"]],\"type\":\"contour\"}],\"contourcarpet\":[{\"colorbar\":{\"outlinewidth\":0,\"ticks\":\"\"},\"type\":\"contourcarpet\"}],\"heatmap\":[{\"colorbar\":{\"outlinewidth\":0,\"ticks\":\"\"},\"colorscale\":[[0.0,\"#0d0887\"],[0.1111111111111111,\"#46039f\"],[0.2222222222222222,\"#7201a8\"],[0.3333333333333333,\"#9c179e\"],[0.4444444444444444,\"#bd3786\"],[0.5555555555555556,\"#d8576b\"],[0.6666666666666666,\"#ed7953\"],[0.7777777777777778,\"#fb9f3a\"],[0.8888888888888888,\"#fdca26\"],[1.0,\"#f0f921\"]],\"type\":\"heatmap\"}],\"heatmapgl\":[{\"colorbar\":{\"outlinewidth\":0,\"ticks\":\"\"},\"colorscale\":[[0.0,\"#0d0887\"],[0.1111111111111111,\"#46039f\"],[0.2222222222222222,\"#7201a8\"],[0.3333333333333333,\"#9c179e\"],[0.4444444444444444,\"#bd3786\"],[0.5555555555555556,\"#d8576b\"],[0.6666666666666666,\"#ed7953\"],[0.7777777777777778,\"#fb9f3a\"],[0.8888888888888888,\"#fdca26\"],[1.0,\"#f0f921\"]],\"type\":\"heatmapgl\"}],\"histogram\":[{\"marker\":{\"pattern\":{\"fillmode\":\"overlay\",\"size\":10,\"solidity\":0.2}},\"type\":\"histogram\"}],\"histogram2d\":[{\"colorbar\":{\"outlinewidth\":0,\"ticks\":\"\"},\"colorscale\":[[0.0,\"#0d0887\"],[0.1111111111111111,\"#46039f\"],[0.2222222222222222,\"#7201a8\"],[0.3333333333333333,\"#9c179e\"],[0.4444444444444444,\"#bd3786\"],[0.5555555555555556,\"#d8576b\"],[0.6666666666666666,\"#ed7953\"],[0.7777777777777778,\"#fb9f3a\"],[0.8888888888888888,\"#fdca26\"],[1.0,\"#f0f921\"]],\"type\":\"histogram2d\"}],\"histogram2dcontour\":[{\"colorbar\":{\"outlinewidth\":0,\"ticks\":\"\"},\"colorscale\":[[0.0,\"#0d0887\"],[0.1111111111111111,\"#46039f\"],[0.2222222222222222,\"#7201a8\"],[0.3333333333333333,\"#9c179e\"],[0.4444444444444444,\"#bd3786\"],[0.5555555555555556,\"#d8576b\"],[0.6666666666666666,\"#ed7953\"],[0.7777777777777778,\"#fb9f3a\"],[0.8888888888888888,\"#fdca26\"],[1.0,\"#f0f921\"]],\"type\":\"histogram2dcontour\"}],\"mesh3d\":[{\"colorbar\":{\"outlinewidth\":0,\"ticks\":\"\"},\"type\":\"mesh3d\"}],\"parcoords\":[{\"line\":{\"colorbar\":{\"outlinewidth\":0,\"ticks\":\"\"}},\"type\":\"parcoords\"}],\"pie\":[{\"automargin\":true,\"type\":\"pie\"}],\"scatter\":[{\"marker\":{\"colorbar\":{\"outlinewidth\":0,\"ticks\":\"\"}},\"type\":\"scatter\"}],\"scatter3d\":[{\"line\":{\"colorbar\":{\"outlinewidth\":0,\"ticks\":\"\"}},\"marker\":{\"colorbar\":{\"outlinewidth\":0,\"ticks\":\"\"}},\"type\":\"scatter3d\"}],\"scattercarpet\":[{\"marker\":{\"colorbar\":{\"outlinewidth\":0,\"ticks\":\"\"}},\"type\":\"scattercarpet\"}],\"scattergeo\":[{\"marker\":{\"colorbar\":{\"outlinewidth\":0,\"ticks\":\"\"}},\"type\":\"scattergeo\"}],\"scattergl\":[{\"marker\":{\"colorbar\":{\"outlinewidth\":0,\"ticks\":\"\"}},\"type\":\"scattergl\"}],\"scattermapbox\":[{\"marker\":{\"colorbar\":{\"outlinewidth\":0,\"ticks\":\"\"}},\"type\":\"scattermapbox\"}],\"scatterpolar\":[{\"marker\":{\"colorbar\":{\"outlinewidth\":0,\"ticks\":\"\"}},\"type\":\"scatterpolar\"}],\"scatterpolargl\":[{\"marker\":{\"colorbar\":{\"outlinewidth\":0,\"ticks\":\"\"}},\"type\":\"scatterpolargl\"}],\"scatterternary\":[{\"marker\":{\"colorbar\":{\"outlinewidth\":0,\"ticks\":\"\"}},\"type\":\"scatterternary\"}],\"surface\":[{\"colorbar\":{\"outlinewidth\":0,\"ticks\":\"\"},\"colorscale\":[[0.0,\"#0d0887\"],[0.1111111111111111,\"#46039f\"],[0.2222222222222222,\"#7201a8\"],[0.3333333333333333,\"#9c179e\"],[0.4444444444444444,\"#bd3786\"],[0.5555555555555556,\"#d8576b\"],[0.6666666666666666,\"#ed7953\"],[0.7777777777777778,\"#fb9f3a\"],[0.8888888888888888,\"#fdca26\"],[1.0,\"#f0f921\"]],\"type\":\"surface\"}],\"table\":[{\"cells\":{\"fill\":{\"color\":\"#EBF0F8\"},\"line\":{\"color\":\"white\"}},\"header\":{\"fill\":{\"color\":\"#C8D4E3\"},\"line\":{\"color\":\"white\"}},\"type\":\"table\"}]},\"layout\":{\"annotationdefaults\":{\"arrowcolor\":\"#2a3f5f\",\"arrowhead\":0,\"arrowwidth\":1},\"autotypenumbers\":\"strict\",\"coloraxis\":{\"colorbar\":{\"outlinewidth\":0,\"ticks\":\"\"}},\"colorscale\":{\"diverging\":[[0,\"#8e0152\"],[0.1,\"#c51b7d\"],[0.2,\"#de77ae\"],[0.3,\"#f1b6da\"],[0.4,\"#fde0ef\"],[0.5,\"#f7f7f7\"],[0.6,\"#e6f5d0\"],[0.7,\"#b8e186\"],[0.8,\"#7fbc41\"],[0.9,\"#4d9221\"],[1,\"#276419\"]],\"sequential\":[[0.0,\"#0d0887\"],[0.1111111111111111,\"#46039f\"],[0.2222222222222222,\"#7201a8\"],[0.3333333333333333,\"#9c179e\"],[0.4444444444444444,\"#bd3786\"],[0.5555555555555556,\"#d8576b\"],[0.6666666666666666,\"#ed7953\"],[0.7777777777777778,\"#fb9f3a\"],[0.8888888888888888,\"#fdca26\"],[1.0,\"#f0f921\"]],\"sequentialminus\":[[0.0,\"#0d0887\"],[0.1111111111111111,\"#46039f\"],[0.2222222222222222,\"#7201a8\"],[0.3333333333333333,\"#9c179e\"],[0.4444444444444444,\"#bd3786\"],[0.5555555555555556,\"#d8576b\"],[0.6666666666666666,\"#ed7953\"],[0.7777777777777778,\"#fb9f3a\"],[0.8888888888888888,\"#fdca26\"],[1.0,\"#f0f921\"]]},\"colorway\":[\"#636efa\",\"#EF553B\",\"#00cc96\",\"#ab63fa\",\"#FFA15A\",\"#19d3f3\",\"#FF6692\",\"#B6E880\",\"#FF97FF\",\"#FECB52\"],\"font\":{\"color\":\"#2a3f5f\"},\"geo\":{\"bgcolor\":\"white\",\"lakecolor\":\"white\",\"landcolor\":\"#E5ECF6\",\"showlakes\":true,\"showland\":true,\"subunitcolor\":\"white\"},\"hoverlabel\":{\"align\":\"left\"},\"hovermode\":\"closest\",\"mapbox\":{\"style\":\"light\"},\"paper_bgcolor\":\"white\",\"plot_bgcolor\":\"#E5ECF6\",\"polar\":{\"angularaxis\":{\"gridcolor\":\"white\",\"linecolor\":\"white\",\"ticks\":\"\"},\"bgcolor\":\"#E5ECF6\",\"radialaxis\":{\"gridcolor\":\"white\",\"linecolor\":\"white\",\"ticks\":\"\"}},\"scene\":{\"xaxis\":{\"backgroundcolor\":\"#E5ECF6\",\"gridcolor\":\"white\",\"gridwidth\":2,\"linecolor\":\"white\",\"showbackground\":true,\"ticks\":\"\",\"zerolinecolor\":\"white\"},\"yaxis\":{\"backgroundcolor\":\"#E5ECF6\",\"gridcolor\":\"white\",\"gridwidth\":2,\"linecolor\":\"white\",\"showbackground\":true,\"ticks\":\"\",\"zerolinecolor\":\"white\"},\"zaxis\":{\"backgroundcolor\":\"#E5ECF6\",\"gridcolor\":\"white\",\"gridwidth\":2,\"linecolor\":\"white\",\"showbackground\":true,\"ticks\":\"\",\"zerolinecolor\":\"white\"}},\"shapedefaults\":{\"line\":{\"color\":\"#2a3f5f\"}},\"ternary\":{\"aaxis\":{\"gridcolor\":\"white\",\"linecolor\":\"white\",\"ticks\":\"\"},\"baxis\":{\"gridcolor\":\"white\",\"linecolor\":\"white\",\"ticks\":\"\"},\"bgcolor\":\"#E5ECF6\",\"caxis\":{\"gridcolor\":\"white\",\"linecolor\":\"white\",\"ticks\":\"\"}},\"title\":{\"x\":0.05},\"xaxis\":{\"automargin\":true,\"gridcolor\":\"white\",\"linecolor\":\"white\",\"ticks\":\"\",\"title\":{\"standoff\":15},\"zerolinecolor\":\"white\",\"zerolinewidth\":2},\"yaxis\":{\"automargin\":true,\"gridcolor\":\"white\",\"linecolor\":\"white\",\"ticks\":\"\",\"title\":{\"standoff\":15},\"zerolinecolor\":\"white\",\"zerolinewidth\":2}}},\"mapbox\":{\"domain\":{\"x\":[0.0,1.0],\"y\":[0.0,1.0]},\"center\":{\"lat\":21.884328125000003,\"lon\":88.89362500000001},\"zoom\":10,\"style\":\"open-street-map\"},\"coloraxis\":{\"colorbar\":{\"title\":{\"text\":\"color\"}},\"colorscale\":[[0.0,\"#0d0887\"],[0.1111111111111111,\"#46039f\"],[0.2222222222222222,\"#7201a8\"],[0.3333333333333333,\"#9c179e\"],[0.4444444444444444,\"#bd3786\"],[0.5555555555555556,\"#d8576b\"],[0.6666666666666666,\"#ed7953\"],[0.7777777777777778,\"#fb9f3a\"],[0.8888888888888888,\"#fdca26\"],[1.0,\"#f0f921\"]]},\"legend\":{\"tracegroupgap\":0},\"margin\":{\"t\":0,\"r\":0,\"l\":0,\"b\":0},\"height\":500,\"width\":500},                        {\"responsive\": true}                    ).then(function(){\n",
              "                            \n",
              "var gd = document.getElementById('5e6f2a13-8b75-4c29-9043-9d8f337cc686');\n",
              "var x = new MutationObserver(function (mutations, observer) {{\n",
              "        var display = window.getComputedStyle(gd).display;\n",
              "        if (!display || display === 'none') {{\n",
              "            console.log([gd, 'removed!']);\n",
              "            Plotly.purge(gd);\n",
              "            observer.disconnect();\n",
              "        }}\n",
              "}});\n",
              "\n",
              "// Listen for the removal of the full notebook cells\n",
              "var notebookContainer = gd.closest('#notebook-container');\n",
              "if (notebookContainer) {{\n",
              "    x.observe(notebookContainer, {childList: true});\n",
              "}}\n",
              "\n",
              "// Listen for the clearing of the current output cell\n",
              "var outputEl = gd.closest('.output');\n",
              "if (outputEl) {{\n",
              "    x.observe(outputEl, {childList: true});\n",
              "}}\n",
              "\n",
              "                        })                };                            </script>        </div>\n",
              "</body>\n",
              "</html>"
            ]
          },
          "metadata": {}
        }
      ]
    },
    {
      "cell_type": "markdown",
      "source": [
        "###  Test Data"
      ],
      "metadata": {
        "id": "D0Ief9hb-XDi"
      }
    },
    {
      "cell_type": "code",
      "source": [
        "# Number of Region Clusters in Test Dataset\n",
        "temp_model = sklearn.cluster.KMeans()\n",
        "visualizer = KElbowVisualizer(temp_model, k=(2,200), timings= True)\n",
        "visualizer.fit(census_lat_long)        # Fit data to visualizer\n",
        "visualizer.show()        # Finalize and render figure"
      ],
      "metadata": {
        "id": "L5XdVXVa-aLD",
        "colab": {
          "base_uri": "https://localhost:8080/"
        },
        "outputId": "cbbf079f-0759-4ec0-f522-304d3eaa86fe"
      },
      "execution_count": null,
      "outputs": [
        {
          "output_type": "display_data",
          "data": {
            "text/plain": [
              "<Figure size 576x396 with 2 Axes>"
            ],
            "image/png": "[encoded data removed]"
          },
          "metadata": {}
        },
        {
          "output_type": "execute_result",
          "data": {
            "text/plain": [
              "<matplotlib.axes._subplots.AxesSubplot at 0x7fdd20ec8cd0>"
            ]
          },
          "metadata": {},
          "execution_count": 13
        }
      ]
    },
    {
      "cell_type": "code",
      "source": [
        "# Number of Region Clusters in Test Dataset\n",
        "CENSUS_NUM_REGION_CLUSTER = 20"
      ],
      "metadata": {
        "id": "_frvpnP_P0te"
      },
      "execution_count": null,
      "outputs": []
    },
    {
      "cell_type": "code",
      "source": [
        "census_reg_kmean_clustering = sklearn.cluster.KMeans(n_clusters=CENSUS_NUM_REGION_CLUSTER,random_state=0).fit(census_lat_long)\n",
        "# Storing Geographical Cluster IDs from test dataset in census_reg_labels_kmean\n",
        "census_reg_labels_kmean = census_reg_kmean_clustering.labels_\n",
        "print(list(census_reg_labels_kmean))"
      ],
      "metadata": {
        "colab": {
          "base_uri": "https://localhost:8080/"
        },
        "id": "O8oqBsND-o6I",
        "outputId": "c86f2a18-3371-4aa5-f60d-eae8f15771f3"
      },
      "execution_count": null,
      "outputs": [
        {
          "output_type": "stream",
          "name": "stdout",
          "text": [
            "[5, 5, 5, 5, 5, 5, 5, 5, 5, 5, 5, 5, 5, 5, 5, 5, 5, 5, 5, 5, 5, 5, 5, 5, 5, 5, 5, 5, 5, 5, 5, 5, 5, 5, 5, 5, 5, 5, 5, 7, 7, 7, 7, 7, 7, 7, 7, 7, 7, 7, 7, 7, 7, 7, 7, 7, 14, 14, 14, 14, 14, 14, 14, 7, 14, 14, 14, 14, 14, 14, 7, 7, 7, 7, 7, 7, 7, 7, 7, 7, 7, 7, 7, 7, 7, 7, 7, 14, 14, 14, 14, 7, 7, 7, 7, 7, 7, 7, 7, 7, 7, 7, 7, 7, 5, 5, 5, 5, 5, 7, 7, 7, 17, 5, 5, 5, 5, 17, 5, 5, 14, 14, 14, 14, 14, 14, 14, 7, 7, 14, 17, 14, 14, 14, 14, 17, 17, 17, 17, 17, 17, 17, 17, 17, 17, 17, 17, 17, 17, 17, 17, 17, 17, 17, 17, 14, 14, 14, 14, 14, 14, 6, 6, 14, 14, 14, 14, 14, 14, 14, 14, 14, 14, 14, 14, 14, 14, 14, 14, 14, 14, 14, 17, 17, 17, 14, 14, 14, 14, 14, 17, 17, 17, 0, 0, 0, 0, 0, 0, 0, 0, 0, 0, 0, 0, 17, 17, 17, 17, 9, 9, 9, 9, 9, 9, 9, 9, 9, 9, 9, 9, 9, 9, 9, 9, 9, 9, 9, 9, 17, 17, 17, 17, 17, 17, 0, 0, 17, 17, 17, 9, 9, 9, 9, 9, 9, 9, 9, 9, 9, 9, 9, 9, 9, 12, 12, 12, 12, 12, 12, 12, 12, 12, 12, 12, 17, 12, 19, 19, 17, 17, 12, 12, 12, 12, 3, 3, 12, 12, 9, 9, 3, 12, 12, 12, 12, 12, 12, 12, 12, 12, 12, 3, 3, 3, 3, 3, 3, 3, 3, 3, 3, 9, 3, 3, 3, 9, 9, 3, 3, 3, 3, 3, 3, 3, 3, 3, 3, 3, 3, 3, 3, 3, 3, 3, 3, 3, 12, 12, 12, 12, 12, 19, 19, 19, 19, 19, 19, 19, 19, 19, 19, 19, 19, 19, 19, 19, 19, 19, 19, 12, 12, 12, 12, 12, 12, 12, 12, 12, 12, 12, 12, 12, 12, 12, 12, 12, 12, 12, 12, 12, 12, 12, 19, 19, 17, 17, 17, 17, 0, 0, 0, 0, 0, 0, 0, 0, 0, 0, 0, 0, 0, 0, 19, 19, 19, 19, 19, 19, 19, 19, 19, 19, 19, 19, 19, 19, 19, 19, 19, 19, 19, 19, 19, 19, 19, 19, 19, 19, 19, 19, 19, 19, 19, 19, 19, 19, 19, 19, 19, 14, 14, 14, 6, 6, 6, 6, 6, 6, 6, 6, 6, 6, 6, 6, 0, 0, 0, 0, 0, 0, 0, 10, 10, 10, 10, 10, 10, 10, 10, 10, 10, 10, 10, 10, 10, 10, 0, 0, 0, 0, 0, 0, 0, 0, 0, 0, 0, 0, 0, 0, 0, 0, 0, 0, 6, 6, 6, 6, 6, 10, 6, 6, 13, 13, 10, 10, 10, 13, 13, 13, 10, 13, 13, 13, 13, 13, 13, 10, 10, 10, 10, 10, 10, 13, 13, 13, 13, 13, 13, 13, 13, 8, 6, 6, 6, 6, 6, 6, 6, 6, 6, 6, 8, 8, 8, 8, 8, 8, 8, 11, 11, 11, 1, 1, 1, 8, 8, 8, 8, 8, 11, 8, 8, 8, 8, 8, 8, 8, 8, 8, 8, 8, 8, 8, 8, 8, 8, 8, 8, 8, 8, 8, 8, 10, 10, 10, 10, 10, 8, 10, 10, 10, 8, 8, 8, 8, 10, 10, 10, 10, 10, 10, 10, 10, 10, 10, 10, 10, 10, 10, 10, 10, 11, 11, 11, 11, 11, 11, 11, 11, 11, 11, 11, 11, 11, 11, 11, 11, 11, 11, 11, 11, 11, 11, 11, 11, 11, 11, 11, 11, 11, 11, 11, 11, 11, 11, 11, 11, 11, 11, 11, 11, 11, 11, 11, 8, 11, 11, 1, 1, 1, 1, 1, 1, 1, 1, 1, 1, 1, 1, 1, 13, 13, 13, 13, 1, 1, 1, 1, 1, 1, 1, 1, 1, 1, 1, 1, 1, 1, 8, 8, 8, 8, 8, 8, 8, 8, 8, 8, 8, 13, 13, 6, 6, 6, 6, 6, 6, 6, 6, 6, 13, 13, 13, 13, 13, 13, 13, 13, 13, 13, 13, 13, 13, 13, 13, 13, 13, 13, 13, 13, 13, 13, 13, 13, 13, 6, 6, 6, 6, 6, 11, 11, 11, 11, 11, 11, 11, 11, 1, 1, 1, 1, 1, 1, 1, 1, 1, 1, 1, 1, 1, 1, 1, 1, 1, 1, 1, 1, 1, 1, 1, 1, 1, 1, 1, 1, 1, 1, 1, 1, 1, 1, 1, 1, 1, 1, 1, 1, 1, 1, 1, 1, 16, 16, 16, 16, 16, 16, 16, 16, 16, 16, 16, 16, 16, 16, 16, 16, 16, 4, 4, 4, 4, 4, 4, 4, 4, 4, 4, 4, 4, 4, 4, 4, 4, 4, 4, 4, 4, 4, 4, 4, 4, 4, 4, 4, 4, 2, 2, 2, 7, 7, 7, 7, 2, 2, 2, 7, 7, 7, 6, 2, 2, 2, 2, 2, 2, 2, 2, 2, 2, 6, 6, 6, 6, 6, 6, 6, 6, 6, 15, 15, 15, 15, 15, 15, 15, 15, 15, 15, 15, 15, 15, 15, 15, 15, 15, 15, 15, 15, 15, 15, 2, 2, 2, 2, 2, 2, 2, 2, 2, 18, 18, 18, 18, 15, 18, 18, 18, 18, 16, 16, 16, 16, 18, 18, 18, 18, 18, 18, 18, 18, 18, 18, 18, 13, 13, 18, 18, 18, 18, 18, 18, 18, 18, 18, 18, 18, 18, 18, 18, 18, 18, 18, 4, 4, 4, 4, 18, 18, 18, 18, 18, 2, 2, 2, 2, 2, 2, 2, 2, 2, 2, 2, 2, 2, 2, 2, 2, 2, 2, 2, 2, 2, 15, 15, 15, 2, 2, 15, 2, 2, 2, 2, 2, 2, 2, 2, 2, 2, 2, 2, 2, 2, 2, 2, 2, 2, 2, 2, 2, 2, 2, 2, 2, 2, 2, 2, 2, 2, 2, 2, 2, 2, 15, 15, 15, 15, 15, 15, 15, 15, 15, 15, 15, 15, 15, 15, 4, 4, 4, 4, 4, 4, 4, 4, 4, 4, 4, 4, 4, 4, 4, 4, 4, 4, 4, 4, 4, 4, 4, 4, 18, 18, 18, 18, 18, 18, 15, 15, 15, 18, 15, 15, 15, 15, 15]\n"
          ]
        }
      ]
    },
    {
      "cell_type": "code",
      "source": [
        "# Ploting Different Geographical Clusters and we use color to distinguish each clusters\n",
        "fig = px.scatter_mapbox(census_df[['Lat', 'Long']], \n",
        "                        lat=\"Lat\", \n",
        "                        lon=\"Long\",\n",
        "                        color = census_reg_labels_kmean,\n",
        "                        zoom=10, \n",
        "                        height=500,\n",
        "                        width=500)\n",
        "\n",
        "fig.update_layout(mapbox_style=\"open-street-map\")\n",
        "fig.update_layout(margin={\"r\":0,\"t\":0,\"l\":0,\"b\":0})\n",
        "fig.show()"
      ],
      "metadata": {
        "colab": {
          "base_uri": "https://localhost:8080/"
        },
        "id": "xQqCtRMx-vir",
        "outputId": "e236a22a-8e8a-4c6e-d892-6a5b5dbbd199"
      },
      "execution_count": null,
      "outputs": [
        {
          "output_type": "display_data",
          "data": {
            "text/html": [
              "<html>\n",
              "<head><meta charset=\"utf-8\" /></head>\n",
              "<body>\n",
              "    <div>            <script src=\"https://cdnjs.cloudflare.com/ajax/libs/mathjax/2.7.5/MathJax.js?config=TeX-AMS-MML_SVG\"></script><script type=\"text/javascript\">if (window.MathJax) {MathJax.Hub.Config({SVG: {font: \"STIX-Web\"}});}</script>                <script type=\"text/javascript\">window.PlotlyConfig = {MathJaxConfig: 'local'};</script>\n",
              "        <script src=\"https://cdn.plot.ly/plotly-2.8.3.min.js\"></script>                <div id=\"68bfbb26-849c-416f-9c33-457fa68149d0\" class=\"plotly-graph-div\" style=\"height:500px; width:500px;\"></div>            <script type=\"text/javascript\">                                    window.PLOTLYENV=window.PLOTLYENV || {};                                    if (document.getElementById(\"68bfbb26-849c-416f-9c33-457fa68149d0\")) {                    Plotly.newPlot(                        \"68bfbb26-849c-416f-9c33-457fa68149d0\",                        [{\"hovertemplate\":\"Lat=%{lat}<br>Long=%{lon}<br>color=%{marker.color}<extra></extra>\",\"lat\":[22.09853256,22.09174282,22.08506221,22.0828961,22.07816333,22.07798145,22.07142856,22.05972417,22.05407225,22.07329352,22.07116378,22.06422854,22.07052719,22.06135308,22.05335316,22.0643478,22.04257638,22.03705179,22.02719496,22.034148,22.0252649,22.03552227,22.0433403,22.0488653,22.05195057,22.10201838,22.1054674,22.09212477,22.08761027,22.08093006,22.07861805,22.08351451,22.09125978,22.09806772,22.08483421,22.08178493,22.08976665,22.10406522,22.11473246,21.96387715,21.95947218,21.94937851,21.94381753,21.93937618,21.93029301,21.92702546,21.9261059,21.93394212,21.9229111,21.92320212,21.92885404,21.93808272,21.94024923,21.93600755,21.93163896,21.92837141,21.9273791,21.92627765,21.92416611,21.9206803,21.92080762,21.91959744,21.92304688,21.91815042,21.9509609,21.94993262,21.943252,21.93765465,21.93870113,21.93431434,21.94187773,21.96072718,21.95856108,21.96403112,21.96394017,21.96061805,21.96717134,21.97280508,21.97381517,21.97260501,21.96814507,21.97253225,21.96807231,21.97240493,21.97979449,21.98210651,21.9866388,21.9867843,21.98801307,21.99032469,21.99487556,21.9944936,21.99664153,22.0022207,21.98631141,21.98401798,21.99073496,21.99170869,21.98827744,21.98838658,21.99600493,22.00060997,21.99961806,21.99748793,22.04063867,22.0419216,22.03099971,22.02244401,22.01679209,21.99024388,21.98345413,22.01523593,22.07313828,22.07295639,22.04234839,22.03790664,22.02774061,22.04830951,22.05273267,22.01174039,22.00614303,21.99720537,22.00419518,21.99962611,21.99518477,21.99505745,21.97894808,21.97548047,21.9742517,21.9740419,22.01044733,21.98437161,21.98877698,21.98204181,21.98521841,22.0392991,22.03720574,22.03843411,22.04901887,22.0445953,22.02345283,22.02787599,22.03574858,22.04017215,22.04353064,22.04345788,22.04253833,22.04692551,22.04817206,22.05033857,22.06573818,22.06904211,22.0712264,22.08045508,22.08030957,21.94787524,21.94798437,21.93998445,21.92807026,21.92592234,21.9160833,21.91408089,21.91530966,21.92401087,21.92617698,21.93607017,21.94053011,21.94948596,21.95396368,21.95956144,21.96514061,21.96501329,21.96362083,21.96123646,21.97523388,21.979712,21.98169623,21.97090166,21.97662633,21.9800394,21.98908619,21.99251744,22.00046279,22.00611471,22.00940044,21.95188851,21.95761319,21.9599434,21.96897201,21.97467849,21.98502639,21.98517191,21.9930449,21.91883144,21.9202421,21.9247566,21.92567575,21.92380066,21.93170964,21.94303207,21.95538239,21.962063,21.96188111,21.94384209,21.94277743,21.98773856,21.99783183,22.00897198,22.01110211,22.1869778,22.18459343,22.18224544,22.16009206,22.1672739,22.1627594,22.15835442,22.15734392,22.15633342,22.12847396,22.1282557,22.15640618,22.16147607,22.16114867,22.11585042,22.1091698,22.10133358,22.10593863,22.10032308,22.09692822,22.06527373,22.06512822,22.06500091,22.03049681,22.02612821,22.01599817,21.98142172,21.97567886,22.02961403,22.03956179,22.03967092,22.08983772,22.0840221,22.11018836,22.12369508,22.11861674,22.12186611,22.13156768,22.13147674,22.13246905,22.13577258,22.1412794,22.13891281,22.14926112,22.16892059,22.0640251,22.05811854,22.06030284,22.06705621,22.06239619,22.06342489,22.06782985,22.07236254,22.07685846,22.06403484,22.06405303,22.06150496,22.06168684,21.99016736,21.99693891,22.02766578,22.05110248,22.0508559,22.05426896,22.07776788,22.08220963,22.10232382,22.10333431,22.07774164,22.08561423,22.09462465,22.09930285,22.1020328,22.09537038,22.09329521,22.0688666,22.08204593,22.06967703,22.0695679,22.05657044,22.05875514,22.06319648,22.07270812,22.14697575,22.13704577,22.13276812,22.12722533,22.11120691,22.13234978,22.1455651,22.14883265,22.16226663,22.17768482,22.16181192,22.13859388,22.13870301,22.1870772,22.1874507,22.18308211,22.19113659,22.14896843,22.13865649,22.12869014,22.14127732,22.15084352,22.15717855,22.18092406,22.1920642,22.17437076,22.15770601,22.15989031,22.19118102,22.19791619,22.20081998,22.19520444,22.17173175,22.17296012,22.15170851,22.04670517,22.03666646,22.01537808,22.00761462,22.00075212,21.99056751,21.97606886,21.9728195,21.97848962,21.98307687,21.96081436,21.95285082,21.9351392,21.95205859,21.92801233,21.95370568,21.92815783,21.93169782,21.93843299,21.94731608,21.95406946,21.96539149,21.97864357,21.98667987,21.99227723,21.9990124,22.00350831,22.01325641,22.01755264,22.02193943,22.00500184,22.01612381,22.0014251,22.0081239,22.0148041,22.02599921,22.03401732,22.01676041,22.02338645,22.02993934,22.0398875,22.04537573,22.04965378,22.05059113,22.05154706,22.05360403,21.97796215,21.97675197,22.00189967,22.01755432,22.01193878,21.99975175,21.98299566,21.97629727,21.97066353,21.96154398,21.95713862,21.95699311,21.94249446,21.94383236,21.93025287,21.92586609,21.92373596,21.91819316,21.91837505,21.92402697,21.95118554,21.95102184,21.95672833,21.96238065,21.96140653,21.95929498,21.95602743,21.94925588,21.95028457,21.93119868,21.93020636,21.93367398,21.92932358,21.92383535,21.91717294,21.92715747,21.92278848,21.91827437,21.91618062,21.91054688,21.90379352,21.90819889,21.90827165,21.90370258,21.90586909,21.89476491,21.89577542,21.89676773,21.90348432,21.90111814,21.90438569,21.93657777,21.94107408,21.94230244,21.95994132,21.98605341,21.98278585,21.90909349,21.91120543,21.91465487,21.90127546,21.89147281,21.88818747,21.88264428,21.86599772,21.87836662,21.87963176,21.87889409,21.87566291,21.86912781,21.86589663,21.88669393,21.89911741,21.88916965,21.88483703,21.88054119,21.89287332,21.89858021,21.88536449,21.87099317,21.86534125,21.86627859,21.86725272,21.85383733,21.85414654,21.84194132,21.8443257,21.85891528,21.8700918,21.85355437,21.86157247,21.87385044,21.8906611,21.89396462,21.89717761,21.90040878,21.90252033,21.90466865,21.90228388,21.91118516,21.90986586,21.91528133,21.92084231,21.90961122,21.90726323,21.91051219,21.91553597,21.91990456,21.92539319,21.91737468,21.91042124,21.91000291,21.90756398,21.90411454,21.90064692,21.89393033,21.90483403,21.83803717,21.8465565,21.83395114,21.81838744,21.81047846,21.83829181,21.83152026,21.82585015,21.82126289,21.81781386,21.81531996,21.81169709,21.79475911,21.78336433,21.78459309,21.78802434,21.76877474,21.75866288,21.82969973,21.82083483,21.80866599,21.80082977,21.80673633,21.79770773,21.79385815,21.79035414,21.77244244,21.77572818,21.76924764,21.76251247,21.75301097,21.75554124,21.75810749,21.85694078,21.86901868,21.87428864,21.87392487,21.85606774,21.8494239,21.85041582,21.85072503,21.85744201,21.85767846,21.74270748,21.75058008,21.74707648,21.72324809,21.71972589,21.71893366,21.69551555,21.67560143,21.67661193,21.65759879,21.6472141,21.66290512,21.67186097,21.69964809,21.69979359,21.71060635,21.6999391,21.70118565,21.72127191,21.71942475,21.72043525,21.73515215,21.73955752,21.73365056,21.75062492,21.71797812,21.72792588,21.73791042,21.75685081,21.76013615,21.76593398,21.76584304,21.76463246,21.76455971,21.77131308,21.77006612,21.76325819,21.75648704,21.75301942,21.7528921,21.74936991,21.8201699,21.81802199,21.8072638,21.829918,21.82444796,21.78689457,21.79012574,21.79702462,21.80157549,21.76747155,21.75853388,21.78527412,21.79311074,21.79984551,21.80992099,21.8187859,21.82028749,21.82707683,21.83379382,21.84233134,21.8422222,21.84771043,21.85885058,21.87241187,21.87340419,21.85628432,21.87623481,21.85151558,21.88091301,21.69236558,21.70462535,21.69429523,21.7008849,21.69947425,21.69479646,21.69404059,21.68016036,21.67236012,21.66887471,21.66678095,21.66463304,21.66028262,21.64923302,21.64235274,21.62915521,21.61192662,21.60945091,21.60807704,21.62086429,21.61930812,21.61958095,21.62123779,21.62909259,21.63553635,21.63458082,21.64718618,21.62739898,21.63184073,21.63512648,21.65305637,21.65971878,21.68122503,21.67327968,21.68324603,21.67732128,21.67062248,21.64819628,21.65498602,21.65231063,21.6600741,21.67807674,21.68589517,21.70613668,21.70883025,21.70249522,21.69376945,21.7003955,21.68934629,21.6901927,21.67385534,21.67340063,21.66040317,21.65695413,21.62199532,21.63779548,21.67314599,21.66639263,21.6696238,21.71781611,21.7134653,21.72104728,21.71976395,21.69965782,21.69528922,21.70870461,21.69209443,21.69558025,21.70121398,21.70798553,21.69462431,21.69365058,21.69486076,21.69487895,21.69831019,21.69476982,21.70152318,21.7081856,21.72053632,21.72169193,21.72627919,21.72495948,21.72934667,21.73703738,21.73376983,21.73797513,21.74349973,21.74906071,21.74445526,21.74429157,21.85008843,21.84553794,21.84003153,21.84458202,21.84208851,21.83228586,21.83417954,21.82630654,21.81848851,21.79954813,21.79057409,21.78271967,21.77600269,21.76607271,21.76739242,21.76862118,21.73429897,21.72466041,21.7226576,21.73282402,21.73244207,21.74136154,21.74824223,21.76301369,21.78999037,21.81032282,21.81355399,21.80408887,21.77608349,21.78067075,21.78529398,21.7914835,21.80220532,21.8045719,21.83261325,21.82909106,21.84256141,21.84353553,21.83690949,21.59978571,21.61215462,21.62103772,21.6175519,21.60742225,21.59620935,21.596983,21.6430274,21.64280913,21.64158037,21.63155985,21.63592845,21.65923743,21.65797269,21.66720137,21.67274416,21.66995925,21.67781405,21.67803231,21.68561389,21.68583215,21.67944256,21.68726099,21.67505577,21.66107614,21.66010242,21.65688943,21.66203208,21.65087374,21.63756709,21.63323487,21.62758295,21.64329176,21.64360097,21.62455185,21.62469735,21.69287654,21.68729737,21.68384793,21.69164777,21.68920883,21.68908151,21.68484024,21.68658801,21.64836206,21.6382502,21.63613866,21.62272287,21.60988951,21.61453094,21.60682204,21.6055569,21.57390409,21.55083157,21.53042636,21.55520016,21.53360257,21.57220243,21.57424162,21.5717841,21.56209098,21.56077127,21.53755323,21.56934516,21.58283371,21.58297921,21.59879716,21.58557339,21.55375521,21.56337598,21.57003801,21.58014987,21.5869396,21.59618648,21.60286668,21.63320186,21.63135509,21.62586687,21.60479674,21.59934489,21.61714746,21.60898345,21.60233921,21.58336285,21.57092119,21.58876013,21.63218331,21.62432889,21.6164563,21.60856512,21.60291319,21.59399372,21.5873313,21.58408194,21.58487417,21.57366127,21.56360398,21.89037345,21.8860776,21.88057079,21.91238131,21.90694725,21.90762022,21.90070357,21.8631138,21.86520755,21.87412703,21.90567237,21.90556325,21.90480778,21.89061795,21.88157115,21.87351668,21.89267533,21.89251163,21.85432165,21.84775057,21.84569319,21.84363621,21.84152467,21.83264157,21.83941312,21.84508324,21.85053509,21.88408325,21.87971425,21.87205992,21.86310407,21.85743396,21.8595455,21.73463818,21.74030829,21.74344852,21.75581743,21.75910317,21.76009549,21.75045652,21.75713714,21.76262536,21.7659111,21.77051614,21.77932649,21.77587706,21.77463051,21.7825031,21.76338082,21.7599136,21.75332393,21.78909277,21.79118612,21.78333172,21.77208203,21.78671645,21.7857787,21.79802029,21.80936051,21.79488006,21.78708022,21.779244,21.80358972,21.80237915,21.7597842,21.7517661,21.73989841,21.73312685,21.75531621,21.6812753,21.67573211,21.65095831,21.63270104,21.62389069,21.62340766,21.6281768,21.63612215,21.68815558,21.68264917,21.6782442,21.67714276,21.66609355,21.65832968,21.65166767,21.64612487,21.73572949,21.73708557,21.74645975,21.75344957,21.74931703,21.70853455,21.70990882,21.71675313,21.71801786,21.70794278,21.70787002,21.70584903,21.69922338,21.68434238,21.67430367,21.66419182,21.65503589,21.66604872,21.65826706,21.67377621,21.68040226,21.67787197,21.67321237,21.67862784,21.67848234,21.67181991,21.65792149,21.68919441,21.69049553,21.69401772,21.6975399,21.86926695,21.87699443,21.88240991,21.88668755,21.87633965,21.86622779,21.84029799,21.84748747,21.84649556,21.84550325,21.84913457,21.85262038,21.84938921,21.8438828,21.84133474,21.83671109,21.83322528,21.82862024,21.82311383,21.822841,21.8204926,21.79694717,21.79377056,21.79841239,21.80393699,21.80868754,21.78203825,21.78994762,21.7978566,21.80466453,21.80668513,21.8144308,21.8201191,21.83582791,21.8517372,21.85950107,21.83176852,21.8307944,21.83640995,21.83985938,21.83888566,21.83789335,21.83805705,21.83139462,21.8235584,21.82794518,21.82357659,21.82561538,21.80893244,21.81788829,21.81440248,21.80430881,21.80087756,21.79184896,21.79508013,21.80076843,21.80401779,21.80966972,21.81411146,21.81970882,21.81871651,21.72983306,21.73425622,21.73978082,21.74414982,21.74627955,21.74727186,21.74718092,21.74485071,21.72589254,21.71368733,21.72278868,21.7003261,21.70612393,21.70548734,21.68526362,21.6752431,21.67085592,21.66549501,21.65442762,21.64447946,21.63899123,21.65020413,21.6569575,21.66694204,21.6413756,21.65148747,21.65159659,21.64497055,21.66910814,21.68116785,21.68369773,21.6639655,21.66084346,21.66633169,21.67508746,21.67947465,21.68732905,21.68745637,21.68534483,21.68326926,21.68563584,21.68785652,21.69679418,21.70116277,21.70975485,21.71771879,21.71010044,21.71488776,21.71811894,21.72245116,21.72680196,21.73117055,21.72766655],\"legendgroup\":\"\",\"lon\":[88.79724112,88.79388101,88.79567555,88.79913682,88.7871612,88.77857108,88.78637841,88.76245254,88.75993912,88.82158599,88.82676521,88.81653333,88.79669958,88.78649268,88.77885041,88.76927393,88.79873495,88.80223473,88.81265706,88.82374833,88.82728579,88.83576205,88.8348142,88.83131442,88.81839094,88.80321624,88.80747301,88.81192064,88.81025348,88.81204761,88.80863712,88.8283439,88.82395975,88.82817884,88.83778029,88.85242212,88.85920543,88.84701395,88.82197517,88.73088884,88.73437592,88.73363081,88.73541265,88.73718138,88.73126975,88.7356031,88.7450649,88.74497602,88.75283414,88.76657891,88.76909234,88.78187615,88.77841487,88.78963269,88.79483772,88.79917108,88.80519698,88.80606865,88.81210725,88.80613214,88.81214535,88.80786277,88.81211995,88.79241317,88.80836623,88.81267419,88.81446832,88.8145318,88.81108322,88.81542886,88.8024546,88.79364862,88.79711031,88.79103362,88.78673835,88.78849439,88.78068705,88.78234151,88.77717458,88.77289242,88.77380218,88.76945612,88.77036588,88.76344291,88.79515072,88.79856162,88.80108774,88.80795992,88.81310146,88.81651237,88.81989746,88.80185783,88.79753758,88.79661513,88.78562544,88.78307351,88.78299733,88.77611245,88.77271466,88.7778689,88.76747154,88.77343396,88.77945987,88.7846395,88.76009148,88.76780994,88.78082229,88.79982247,88.79730904,88.75980387,88.75644376,88.77670479,88.86712703,88.85853691,88.84084011,88.84260884,88.83842784,88.85795686,88.85532916,88.8231433,88.82320678,88.82416733,88.83697654,88.83273206,88.8345012,88.82848799,88.8080488,88.80293307,88.79779153,88.84075565,88.86783807,88.85266739,88.84918071,88.84839793,88.8397693,88.85548153,88.8623791,88.86752064,88.8914592,88.89408691,88.90034136,88.89771366,88.89934272,88.89671502,88.89667693,88.89324063,88.90270283,88.89835678,88.90435729,88.9008956,88.88783245,88.88521745,88.88261473,88.89539854,88.88852636,88.82128971,88.82644395,88.81880167,88.83783994,88.8421606,88.85344191,88.86463475,88.86977629,88.85764829,88.85418702,88.84548221,88.84457245,88.84447088,88.84442009,88.8443566,88.84343414,88.83742094,88.82454825,88.81770146,88.84417884,88.84412805,88.83207624,88.85110181,88.85705153,88.85959077,88.86378405,88.86718225,88.87224761,88.87476104,88.87128665,88.85217663,88.85812636,88.86239623,88.86573095,88.87082129,88.8835924,88.890465,88.89209406,88.87746935,88.89120142,88.89286858,88.88340638,88.90061243,88.90395984,88.90984608,88.91142436,88.90963023,88.9010397,88.89522964,88.89781966,88.9059019,88.9066466,88.90394272,88.89876308,88.95519608,88.94834929,88.94322044,88.95464183,88.92362794,88.92196079,88.92544746,88.93061439,88.93578133,88.94211196,88.93180349,88.93921762,88.91424233,88.89877962,88.9276483,88.92944242,88.9295313,88.93549373,88.93469824,88.93301839,88.91877016,88.91189798,88.90588477,88.91572789,88.9209325,88.91846986,88.92487668,88.91806799,88.92690762,88.92078014,88.92593438,88.96832714,88.95808215,88.97754809,88.98083161,88.95253471,88.94734238,88.98246068,88.97816582,88.97213991,88.9695245,88.96516616,88.95917835,88.97194946,88.94852705,89.01845548,89.00391563,89.00131291,89.00295508,88.99441534,88.99010779,88.98662071,88.98914683,88.98995543,88.96604226,88.96690123,88.95232329,88.96091341,88.96773923,88.97023996,88.94067779,88.93697485,88.97822104,88.98075986,89.03290645,89.03113771,89.02919123,89.02402429,88.97877528,88.98040434,88.98287968,88.99227839,89.01544687,89.01809996,89.02585651,89.03558535,89.02340656,89.02096932,89.01581508,89.03658399,89.03398168,89.03221254,89.00546851,89.02267013,89.02965659,89.03915688,89.04179728,89.02565335,89.0193989,89.00893847,89.00460511,89.00445275,88.99224857,88.98297724,88.99698823,89.00214247,89.01276353,88.97753097,88.98273599,88.99295518,89.06389093,89.05283775,89.05810627,89.07085199,89.04668488,89.02856907,89.03946988,89.03676558,89.04727721,89.05348087,89.05087816,89.04794573,89.04872851,89.02721491,89.02641943,89.02840401,89.03354555,89.03464576,88.99373413,88.99556634,88.99494862,88.99847379,88.99167779,88.98663783,88.98937981,88.99457214,88.99794495,89.00304798,89.00931513,89.0033908,89.01304346,89.01886622,89.04663427,89.04376532,89.05350645,89.06205889,89.06284168,89.05930381,89.06094598,89.06683222,89.05808932,89.06744994,89.06738646,89.06816925,89.06897743,89.05340085,89.04475953,89.04041389,89.03373175,89.0301689,89.02346178,89.02252663,89.02073209,89.02060512,89.02910677,89.06023494,89.05586349,89.04805616,89.04192868,89.03671096,89.02721066,89.01860784,89.010864,89.00224807,88.97303314,88.96875057,88.94011044,88.9390737,88.93827822,88.9444311,88.9463395,88.94727506,88.94562019,88.93799061,88.9414777,88.93460552,88.9373475,88.94764327,88.94092305,88.9452691,88.95044874,88.95308913,88.96167967,88.9641931,88.97763273,88.96990157,88.97499233,88.97750575,88.98439063,88.99042923,88.99476259,88.99226186,88.98795389,88.98559283,88.99161874,88.99673448,89.00279847,89.00801619,89.0106697,89.00626016,89.01146519,89.00979762,89.01669561,89.01504074,89.01339898,89.00991189,89.01334819,89.00910371,89.00564243,89.01006426,89.00489774,88.99887183,88.99879565,88.99280783,88.98847448,88.97522087,88.97602905,88.9811706,88.96808206,88.98497068,88.98930362,88.8406327,88.8345941,88.83885127,88.84158097,88.85458063,88.8580546,88.86069541,88.86775805,88.87019529,88.87705477,88.8951071,88.9011584,88.9098247,88.91587601,88.89330028,88.89831485,88.90444233,88.9113653,88.92000621,88.92072551,88.92581626,88.9362771,88.94503229,88.94251886,88.93391563,88.92703075,88.92804209,88.94264583,88.94793932,88.95478652,88.9563394,88.95535346,88.96757033,88.97607158,88.97421397,88.97488248,88.97226707,88.9653568,88.9593055,88.95326689,88.94894664,88.94209986,88.93942096,88.92998456,88.92133054,88.91954911,88.91795814,88.9128293,88.90763697,88.93335696,88.92815193,88.92293462,88.91443297,88.90334171,88.88358414,88.87416044,88.86990326,88.86478712,88.8648633,88.85099197,88.92220664,88.90148852,88.88788383,88.89321583,88.88986841,88.93423306,88.93173233,88.92835951,88.92325607,88.9189993,88.90699828,88.94742317,88.94074145,88.93141933,88.93656087,88.93995866,88.92986604,88.92826237,88.95151529,88.95591213,88.96292398,88.96301286,88.9775527,88.97421839,88.95106262,88.94422853,88.94443169,88.9409573,88.95220093,88.95141814,88.92574894,88.9394679,88.95490481,88.91597758,88.90467088,88.88914468,88.87196403,88.8747445,88.87825657,88.87223066,88.88683441,88.88675822,88.89792526,88.96796796,88.96959744,88.96276334,89.00083988,88.9931464,89.00862182,89.01318372,89.0245793,89.01941278,89.0204876,89.00599813,89.00667934,89.00657777,88.99681125,89.00368343,88.98551683,89.01055561,89.01655612,89.06616388,89.03181568,89.02664874,89.03421483,89.03072775,89.01618791,89.02458798,89.01636566,89.01023818,89.00582864,89.00131793,88.99784355,89.00722957,89.0029343,88.99865173,88.99521585,88.9968576,88.9908571,88.98663801,88.98413728,88.97902113,88.97300792,88.96531486,88.97740034,88.981721,89.00246451,88.96182376,88.96790046,88.99238458,88.98633328,88.99484763,88.99823273,89.02697444,89.02793499,89.02161705,89.02152817,89.02231096,89.02219668,89.01780025,89.03582677,89.03918688,89.0391107,89.01925156,89.01409732,89.0088796,89.00617571,89.01203655,89.00601065,88.99073839,88.98106075,88.97704482,88.99045906,89.07594351,89.07322651,89.06131437,89.05522498,89.04149332,89.03209501,89.04928795,89.081237,89.08304424,89.07706912,89.08396669,89.08828735,89.09435094,89.1013505,89.09369512,89.10501493,89.08458885,89.0734468,89.06143307,89.0836283,89.06302405,89.07590944,89.04839532,89.04916541,89.03620384,89.04394769,89.05755279,89.07496159,89.07319285,89.06971888,89.0703747,89.06772119,89.07864739,89.07358203,89.06831352,89.0529147,89.05384986,89.05238586,89.05574556,89.03515441,89.03162924,89.03572136,89.0347735,89.03884022,89.06029034,89.07840615,88.93071674,88.9263457,88.93334485,88.92044677,88.94211273,88.92063722,88.94140613,88.93714895,88.92551614,88.93135159,88.90861081,88.90696905,88.90091775,88.90294869,88.90901268,88.89689738,88.88917893,88.94439803,88.94960264,88.94859131,88.95737229,88.96334741,88.96500187,88.9675026,88.97109126,88.97797613,88.98225871,88.98311768,88.98651547,88.97796344,88.9796052,88.9769521,88.97853038,88.98023562,88.98533907,88.97590268,88.97155662,88.96459556,88.96892892,88.95599274,88.95249296,88.95071153,88.94474912,88.93701796,88.85676836,88.85338285,88.8577416,88.86112711,88.84912609,88.86212575,88.84577867,88.84414961,88.84509746,88.84960858,88.84885118,88.84808068,88.84815686,88.85514332,88.86458012,88.86972166,88.8881549,88.90888571,88.92007855,88.92425913,88.90621992,88.90439999,88.91205537,88.92219837,88.92704788,88.93540945,88.92935815,88.90540731,88.90486535,88.9099688,88.91679019,88.8918022,88.86934075,88.87532856,88.87758805,88.869895,88.87146057,88.86457569,88.86894714,89.04004645,89.04248369,89.03894623,89.03297111,89.03050806,89.02977606,89.01344168,89.01979369,89.00948521,89.00434368,89.00703486,89.00183025,88.99211411,88.98525462,88.99803843,88.99539803,88.96965265,88.97042274,88.98073081,88.96861551,88.97892399,88.99446288,88.99351462,88.99880852,88.97319011,88.98007499,88.98698526,88.96544627,88.96729118,88.97345675,88.98037972,88.97786629,88.97940648,88.99400981,88.99336668,89.00023886,88.99431052,88.99523297,88.9909758,88.98916898,88.97974487,88.97373166,88.98494989,88.96173063,88.95443118,88.95282751,88.95886612,88.95987745,88.98837751,88.99605828,89.00216037,88.99530089,88.87536684,88.89625043,88.88445255,88.8910454,88.87582393,88.84789082,88.83841591,88.82813325,88.84628715,88.83685034,88.85086134,88.81870914,88.82113409,88.82800627,88.8347007,88.79188893,88.76990956,88.74831977,88.74566668,88.74727035,88.75063005,88.76427324,88.76247871,88.76729013,88.73294192,88.73815964,88.74784998,88.75478565,88.74942825,88.73405484,88.7375669,88.74036007,88.73448653,88.73084709,88.71918487,88.71841436,88.7167853,88.71429727,88.71178343,88.71360336,88.71625645,88.72144878,88.70597337,88.70524137,88.70621462,88.74976647,88.75840738,88.76276613,88.7314729,88.73926754,88.77105152,88.76167861,88.7844448,88.77754722,88.7757277,88.78482128,88.77966745,88.79686039,88.81420611,88.81001242,88.79979323,88.80559059,88.79785944,88.79227793,88.79922629,88.80784181,88.81645733,88.82249593,88.8260338,88.82853453,88.83190734,88.82497168,88.82287282,88.82807744,88.83675685,88.83685843,88.83348562,88.82744701,88.74551815,88.74889055,88.7385444,88.74098164,88.73750767,88.73148176,88.75221257,88.75041845,88.74520072,88.74172634,88.74768876,88.740715,88.73645824,88.73045773,88.73208679,88.72800737,88.72289122,88.72898062,88.7259974,88.71909982,88.71832973,88.71587938,88.77242281,88.78102604,88.77745007,88.78419528,88.78779664,88.78960346,88.78969234,88.82894084,88.82465868,88.82256385,88.8140626,88.78240559,88.77990444,88.77020141,88.81658046,88.81922127,88.81262801,88.79650989,88.80348365,88.83356239,88.84725596,88.85232132,88.82423543,88.82859418,88.83208126,88.83295293,88.83995208,88.84347685,88.84613035,88.84877075,88.79705971,88.80821445,88.82787045,88.84067965,88.85705213,88.78190213,88.79391585,88.79985288,88.80671236,88.80682663,88.80339034,88.81372421,88.81809525,88.80279801,88.80463022,88.80302656,88.79367863,88.78496154,88.78762733,88.77971842,88.77534738,88.761628,88.75308867,88.74443506,88.73756288,88.74021598,88.77130606,88.76751424,88.77609208,88.78378514,88.7914782,88.75773886,88.75249574,88.74384214,88.73434185,88.72157073,88.71996706,88.71166897,88.73392727,88.73995318,88.74597908,88.75882638,88.7648015,88.7708528,88.77521155,88.76063361,88.75381181,88.74783669,88.74187427,88.74623302,88.73334764,88.7282188,88.72676749,88.7353957,88.74307648,88.7395767,88.7524113,88.7630245,88.7663715,88.76971892,88.77393801,88.76360414,88.75921999,88.76345177,88.76499196,88.77598164,88.77245647,88.78480031,88.79168519,88.79248109,88.79673785,88.80362273,88.80964863,88.8173802,88.82003329,88.82012217,88.81577612,88.82098114,88.81150665,88.81685093,88.81674936,88.81077424,88.81002955,88.80663175,88.80329703,88.79724573,88.80147752,88.79628519,88.79879903,88.79702988,88.7969664,88.8029923,88.73010623,88.72747853,88.72397875,88.71877413,88.7135945,88.70756859,88.70327332,88.69900346,88.7026556,88.7079495,88.71472011,88.71153776,88.72092377,88.69085773,88.68765039,88.69034158,88.69468763,88.70591815,88.71205833,88.71818582,88.72340354,88.72413554,88.72577771,88.72136817,88.73025033,88.7318544,88.73700823,88.74137968,88.71790648,88.70574039,88.71945977,88.73944589,88.75065142,88.7454337,88.73588262,88.73153698,88.73230707,88.73832028,88.74435888,88.75211543,88.75810324,88.75721887,88.75625833,88.7510533,88.73377107,88.7396954,88.75009276,88.7646453,88.758594,88.75167103,88.74560703,88.74040201,88.73356792],\"marker\":{\"color\":[5,5,5,5,5,5,5,5,5,5,5,5,5,5,5,5,5,5,5,5,5,5,5,5,5,5,5,5,5,5,5,5,5,5,5,5,5,5,5,7,7,7,7,7,7,7,7,7,7,7,7,7,7,7,7,7,14,14,14,14,14,14,14,7,14,14,14,14,14,14,7,7,7,7,7,7,7,7,7,7,7,7,7,7,7,7,7,14,14,14,14,7,7,7,7,7,7,7,7,7,7,7,7,7,5,5,5,5,5,7,7,7,17,5,5,5,5,17,5,5,14,14,14,14,14,14,14,7,7,14,17,14,14,14,14,17,17,17,17,17,17,17,17,17,17,17,17,17,17,17,17,17,17,17,17,14,14,14,14,14,14,6,6,14,14,14,14,14,14,14,14,14,14,14,14,14,14,14,14,14,14,14,17,17,17,14,14,14,14,14,17,17,17,0,0,0,0,0,0,0,0,0,0,0,0,17,17,17,17,9,9,9,9,9,9,9,9,9,9,9,9,9,9,9,9,9,9,9,9,17,17,17,17,17,17,0,0,17,17,17,9,9,9,9,9,9,9,9,9,9,9,9,9,9,12,12,12,12,12,12,12,12,12,12,12,17,12,19,19,17,17,12,12,12,12,3,3,12,12,9,9,3,12,12,12,12,12,12,12,12,12,12,3,3,3,3,3,3,3,3,3,3,9,3,3,3,9,9,3,3,3,3,3,3,3,3,3,3,3,3,3,3,3,3,3,3,3,12,12,12,12,12,19,19,19,19,19,19,19,19,19,19,19,19,19,19,19,19,19,19,12,12,12,12,12,12,12,12,12,12,12,12,12,12,12,12,12,12,12,12,12,12,12,19,19,17,17,17,17,0,0,0,0,0,0,0,0,0,0,0,0,0,0,19,19,19,19,19,19,19,19,19,19,19,19,19,19,19,19,19,19,19,19,19,19,19,19,19,19,19,19,19,19,19,19,19,19,19,19,19,14,14,14,6,6,6,6,6,6,6,6,6,6,6,6,0,0,0,0,0,0,0,10,10,10,10,10,10,10,10,10,10,10,10,10,10,10,0,0,0,0,0,0,0,0,0,0,0,0,0,0,0,0,0,0,6,6,6,6,6,10,6,6,13,13,10,10,10,13,13,13,10,13,13,13,13,13,13,10,10,10,10,10,10,13,13,13,13,13,13,13,13,8,6,6,6,6,6,6,6,6,6,6,8,8,8,8,8,8,8,11,11,11,1,1,1,8,8,8,8,8,11,8,8,8,8,8,8,8,8,8,8,8,8,8,8,8,8,8,8,8,8,8,8,10,10,10,10,10,8,10,10,10,8,8,8,8,10,10,10,10,10,10,10,10,10,10,10,10,10,10,10,10,11,11,11,11,11,11,11,11,11,11,11,11,11,11,11,11,11,11,11,11,11,11,11,11,11,11,11,11,11,11,11,11,11,11,11,11,11,11,11,11,11,11,11,8,11,11,1,1,1,1,1,1,1,1,1,1,1,1,1,13,13,13,13,1,1,1,1,1,1,1,1,1,1,1,1,1,1,8,8,8,8,8,8,8,8,8,8,8,13,13,6,6,6,6,6,6,6,6,6,13,13,13,13,13,13,13,13,13,13,13,13,13,13,13,13,13,13,13,13,13,13,13,13,13,6,6,6,6,6,11,11,11,11,11,11,11,11,1,1,1,1,1,1,1,1,1,1,1,1,1,1,1,1,1,1,1,1,1,1,1,1,1,1,1,1,1,1,1,1,1,1,1,1,1,1,1,1,1,1,1,1,16,16,16,16,16,16,16,16,16,16,16,16,16,16,16,16,16,4,4,4,4,4,4,4,4,4,4,4,4,4,4,4,4,4,4,4,4,4,4,4,4,4,4,4,4,2,2,2,7,7,7,7,2,2,2,7,7,7,6,2,2,2,2,2,2,2,2,2,2,6,6,6,6,6,6,6,6,6,15,15,15,15,15,15,15,15,15,15,15,15,15,15,15,15,15,15,15,15,15,15,2,2,2,2,2,2,2,2,2,18,18,18,18,15,18,18,18,18,16,16,16,16,18,18,18,18,18,18,18,18,18,18,18,13,13,18,18,18,18,18,18,18,18,18,18,18,18,18,18,18,18,18,4,4,4,4,18,18,18,18,18,2,2,2,2,2,2,2,2,2,2,2,2,2,2,2,2,2,2,2,2,2,15,15,15,2,2,15,2,2,2,2,2,2,2,2,2,2,2,2,2,2,2,2,2,2,2,2,2,2,2,2,2,2,2,2,2,2,2,2,2,2,15,15,15,15,15,15,15,15,15,15,15,15,15,15,4,4,4,4,4,4,4,4,4,4,4,4,4,4,4,4,4,4,4,4,4,4,4,4,18,18,18,18,18,18,15,15,15,18,15,15,15,15,15],\"coloraxis\":\"coloraxis\"},\"mode\":\"markers\",\"name\":\"\",\"showlegend\":false,\"subplot\":\"mapbox\",\"type\":\"scattermapbox\"}],                        {\"template\":{\"data\":{\"bar\":[{\"error_x\":{\"color\":\"#2a3f5f\"},\"error_y\":{\"color\":\"#2a3f5f\"},\"marker\":{\"line\":{\"color\":\"#E5ECF6\",\"width\":0.5},\"pattern\":{\"fillmode\":\"overlay\",\"size\":10,\"solidity\":0.2}},\"type\":\"bar\"}],\"barpolar\":[{\"marker\":{\"line\":{\"color\":\"#E5ECF6\",\"width\":0.5},\"pattern\":{\"fillmode\":\"overlay\",\"size\":10,\"solidity\":0.2}},\"type\":\"barpolar\"}],\"carpet\":[{\"aaxis\":{\"endlinecolor\":\"#2a3f5f\",\"gridcolor\":\"white\",\"linecolor\":\"white\",\"minorgridcolor\":\"white\",\"startlinecolor\":\"#2a3f5f\"},\"baxis\":{\"endlinecolor\":\"#2a3f5f\",\"gridcolor\":\"white\",\"linecolor\":\"white\",\"minorgridcolor\":\"white\",\"startlinecolor\":\"#2a3f5f\"},\"type\":\"carpet\"}],\"choropleth\":[{\"colorbar\":{\"outlinewidth\":0,\"ticks\":\"\"},\"type\":\"choropleth\"}],\"contour\":[{\"colorbar\":{\"outlinewidth\":0,\"ticks\":\"\"},\"colorscale\":[[0.0,\"#0d0887\"],[0.1111111111111111,\"#46039f\"],[0.2222222222222222,\"#7201a8\"],[0.3333333333333333,\"#9c179e\"],[0.4444444444444444,\"#bd3786\"],[0.5555555555555556,\"#d8576b\"],[0.6666666666666666,\"#ed7953\"],[0.7777777777777778,\"#fb9f3a\"],[0.8888888888888888,\"#fdca26\"],[1.0,\"#f0f921\"]],\"type\":\"contour\"}],\"contourcarpet\":[{\"colorbar\":{\"outlinewidth\":0,\"ticks\":\"\"},\"type\":\"contourcarpet\"}],\"heatmap\":[{\"colorbar\":{\"outlinewidth\":0,\"ticks\":\"\"},\"colorscale\":[[0.0,\"#0d0887\"],[0.1111111111111111,\"#46039f\"],[0.2222222222222222,\"#7201a8\"],[0.3333333333333333,\"#9c179e\"],[0.4444444444444444,\"#bd3786\"],[0.5555555555555556,\"#d8576b\"],[0.6666666666666666,\"#ed7953\"],[0.7777777777777778,\"#fb9f3a\"],[0.8888888888888888,\"#fdca26\"],[1.0,\"#f0f921\"]],\"type\":\"heatmap\"}],\"heatmapgl\":[{\"colorbar\":{\"outlinewidth\":0,\"ticks\":\"\"},\"colorscale\":[[0.0,\"#0d0887\"],[0.1111111111111111,\"#46039f\"],[0.2222222222222222,\"#7201a8\"],[0.3333333333333333,\"#9c179e\"],[0.4444444444444444,\"#bd3786\"],[0.5555555555555556,\"#d8576b\"],[0.6666666666666666,\"#ed7953\"],[0.7777777777777778,\"#fb9f3a\"],[0.8888888888888888,\"#fdca26\"],[1.0,\"#f0f921\"]],\"type\":\"heatmapgl\"}],\"histogram\":[{\"marker\":{\"pattern\":{\"fillmode\":\"overlay\",\"size\":10,\"solidity\":0.2}},\"type\":\"histogram\"}],\"histogram2d\":[{\"colorbar\":{\"outlinewidth\":0,\"ticks\":\"\"},\"colorscale\":[[0.0,\"#0d0887\"],[0.1111111111111111,\"#46039f\"],[0.2222222222222222,\"#7201a8\"],[0.3333333333333333,\"#9c179e\"],[0.4444444444444444,\"#bd3786\"],[0.5555555555555556,\"#d8576b\"],[0.6666666666666666,\"#ed7953\"],[0.7777777777777778,\"#fb9f3a\"],[0.8888888888888888,\"#fdca26\"],[1.0,\"#f0f921\"]],\"type\":\"histogram2d\"}],\"histogram2dcontour\":[{\"colorbar\":{\"outlinewidth\":0,\"ticks\":\"\"},\"colorscale\":[[0.0,\"#0d0887\"],[0.1111111111111111,\"#46039f\"],[0.2222222222222222,\"#7201a8\"],[0.3333333333333333,\"#9c179e\"],[0.4444444444444444,\"#bd3786\"],[0.5555555555555556,\"#d8576b\"],[0.6666666666666666,\"#ed7953\"],[0.7777777777777778,\"#fb9f3a\"],[0.8888888888888888,\"#fdca26\"],[1.0,\"#f0f921\"]],\"type\":\"histogram2dcontour\"}],\"mesh3d\":[{\"colorbar\":{\"outlinewidth\":0,\"ticks\":\"\"},\"type\":\"mesh3d\"}],\"parcoords\":[{\"line\":{\"colorbar\":{\"outlinewidth\":0,\"ticks\":\"\"}},\"type\":\"parcoords\"}],\"pie\":[{\"automargin\":true,\"type\":\"pie\"}],\"scatter\":[{\"marker\":{\"colorbar\":{\"outlinewidth\":0,\"ticks\":\"\"}},\"type\":\"scatter\"}],\"scatter3d\":[{\"line\":{\"colorbar\":{\"outlinewidth\":0,\"ticks\":\"\"}},\"marker\":{\"colorbar\":{\"outlinewidth\":0,\"ticks\":\"\"}},\"type\":\"scatter3d\"}],\"scattercarpet\":[{\"marker\":{\"colorbar\":{\"outlinewidth\":0,\"ticks\":\"\"}},\"type\":\"scattercarpet\"}],\"scattergeo\":[{\"marker\":{\"colorbar\":{\"outlinewidth\":0,\"ticks\":\"\"}},\"type\":\"scattergeo\"}],\"scattergl\":[{\"marker\":{\"colorbar\":{\"outlinewidth\":0,\"ticks\":\"\"}},\"type\":\"scattergl\"}],\"scattermapbox\":[{\"marker\":{\"colorbar\":{\"outlinewidth\":0,\"ticks\":\"\"}},\"type\":\"scattermapbox\"}],\"scatterpolar\":[{\"marker\":{\"colorbar\":{\"outlinewidth\":0,\"ticks\":\"\"}},\"type\":\"scatterpolar\"}],\"scatterpolargl\":[{\"marker\":{\"colorbar\":{\"outlinewidth\":0,\"ticks\":\"\"}},\"type\":\"scatterpolargl\"}],\"scatterternary\":[{\"marker\":{\"colorbar\":{\"outlinewidth\":0,\"ticks\":\"\"}},\"type\":\"scatterternary\"}],\"surface\":[{\"colorbar\":{\"outlinewidth\":0,\"ticks\":\"\"},\"colorscale\":[[0.0,\"#0d0887\"],[0.1111111111111111,\"#46039f\"],[0.2222222222222222,\"#7201a8\"],[0.3333333333333333,\"#9c179e\"],[0.4444444444444444,\"#bd3786\"],[0.5555555555555556,\"#d8576b\"],[0.6666666666666666,\"#ed7953\"],[0.7777777777777778,\"#fb9f3a\"],[0.8888888888888888,\"#fdca26\"],[1.0,\"#f0f921\"]],\"type\":\"surface\"}],\"table\":[{\"cells\":{\"fill\":{\"color\":\"#EBF0F8\"},\"line\":{\"color\":\"white\"}},\"header\":{\"fill\":{\"color\":\"#C8D4E3\"},\"line\":{\"color\":\"white\"}},\"type\":\"table\"}]},\"layout\":{\"annotationdefaults\":{\"arrowcolor\":\"#2a3f5f\",\"arrowhead\":0,\"arrowwidth\":1},\"autotypenumbers\":\"strict\",\"coloraxis\":{\"colorbar\":{\"outlinewidth\":0,\"ticks\":\"\"}},\"colorscale\":{\"diverging\":[[0,\"#8e0152\"],[0.1,\"#c51b7d\"],[0.2,\"#de77ae\"],[0.3,\"#f1b6da\"],[0.4,\"#fde0ef\"],[0.5,\"#f7f7f7\"],[0.6,\"#e6f5d0\"],[0.7,\"#b8e186\"],[0.8,\"#7fbc41\"],[0.9,\"#4d9221\"],[1,\"#276419\"]],\"sequential\":[[0.0,\"#0d0887\"],[0.1111111111111111,\"#46039f\"],[0.2222222222222222,\"#7201a8\"],[0.3333333333333333,\"#9c179e\"],[0.4444444444444444,\"#bd3786\"],[0.5555555555555556,\"#d8576b\"],[0.6666666666666666,\"#ed7953\"],[0.7777777777777778,\"#fb9f3a\"],[0.8888888888888888,\"#fdca26\"],[1.0,\"#f0f921\"]],\"sequentialminus\":[[0.0,\"#0d0887\"],[0.1111111111111111,\"#46039f\"],[0.2222222222222222,\"#7201a8\"],[0.3333333333333333,\"#9c179e\"],[0.4444444444444444,\"#bd3786\"],[0.5555555555555556,\"#d8576b\"],[0.6666666666666666,\"#ed7953\"],[0.7777777777777778,\"#fb9f3a\"],[0.8888888888888888,\"#fdca26\"],[1.0,\"#f0f921\"]]},\"colorway\":[\"#636efa\",\"#EF553B\",\"#00cc96\",\"#ab63fa\",\"#FFA15A\",\"#19d3f3\",\"#FF6692\",\"#B6E880\",\"#FF97FF\",\"#FECB52\"],\"font\":{\"color\":\"#2a3f5f\"},\"geo\":{\"bgcolor\":\"white\",\"lakecolor\":\"white\",\"landcolor\":\"#E5ECF6\",\"showlakes\":true,\"showland\":true,\"subunitcolor\":\"white\"},\"hoverlabel\":{\"align\":\"left\"},\"hovermode\":\"closest\",\"mapbox\":{\"style\":\"light\"},\"paper_bgcolor\":\"white\",\"plot_bgcolor\":\"#E5ECF6\",\"polar\":{\"angularaxis\":{\"gridcolor\":\"white\",\"linecolor\":\"white\",\"ticks\":\"\"},\"bgcolor\":\"#E5ECF6\",\"radialaxis\":{\"gridcolor\":\"white\",\"linecolor\":\"white\",\"ticks\":\"\"}},\"scene\":{\"xaxis\":{\"backgroundcolor\":\"#E5ECF6\",\"gridcolor\":\"white\",\"gridwidth\":2,\"linecolor\":\"white\",\"showbackground\":true,\"ticks\":\"\",\"zerolinecolor\":\"white\"},\"yaxis\":{\"backgroundcolor\":\"#E5ECF6\",\"gridcolor\":\"white\",\"gridwidth\":2,\"linecolor\":\"white\",\"showbackground\":true,\"ticks\":\"\",\"zerolinecolor\":\"white\"},\"zaxis\":{\"backgroundcolor\":\"#E5ECF6\",\"gridcolor\":\"white\",\"gridwidth\":2,\"linecolor\":\"white\",\"showbackground\":true,\"ticks\":\"\",\"zerolinecolor\":\"white\"}},\"shapedefaults\":{\"line\":{\"color\":\"#2a3f5f\"}},\"ternary\":{\"aaxis\":{\"gridcolor\":\"white\",\"linecolor\":\"white\",\"ticks\":\"\"},\"baxis\":{\"gridcolor\":\"white\",\"linecolor\":\"white\",\"ticks\":\"\"},\"bgcolor\":\"#E5ECF6\",\"caxis\":{\"gridcolor\":\"white\",\"linecolor\":\"white\",\"ticks\":\"\"}},\"title\":{\"x\":0.05},\"xaxis\":{\"automargin\":true,\"gridcolor\":\"white\",\"linecolor\":\"white\",\"ticks\":\"\",\"title\":{\"standoff\":15},\"zerolinecolor\":\"white\",\"zerolinewidth\":2},\"yaxis\":{\"automargin\":true,\"gridcolor\":\"white\",\"linecolor\":\"white\",\"ticks\":\"\",\"title\":{\"standoff\":15},\"zerolinecolor\":\"white\",\"zerolinewidth\":2}}},\"mapbox\":{\"domain\":{\"x\":[0.0,1.0],\"y\":[0.0,1.0]},\"center\":{\"lat\":21.858540807119923,\"lon\":88.89275864247404},\"zoom\":10,\"style\":\"open-street-map\"},\"coloraxis\":{\"colorbar\":{\"title\":{\"text\":\"color\"}},\"colorscale\":[[0.0,\"#0d0887\"],[0.1111111111111111,\"#46039f\"],[0.2222222222222222,\"#7201a8\"],[0.3333333333333333,\"#9c179e\"],[0.4444444444444444,\"#bd3786\"],[0.5555555555555556,\"#d8576b\"],[0.6666666666666666,\"#ed7953\"],[0.7777777777777778,\"#fb9f3a\"],[0.8888888888888888,\"#fdca26\"],[1.0,\"#f0f921\"]]},\"legend\":{\"tracegroupgap\":0},\"margin\":{\"t\":0,\"r\":0,\"l\":0,\"b\":0},\"height\":500,\"width\":500},                        {\"responsive\": true}                    ).then(function(){\n",
              "                            \n",
              "var gd = document.getElementById('68bfbb26-849c-416f-9c33-457fa68149d0');\n",
              "var x = new MutationObserver(function (mutations, observer) {{\n",
              "        var display = window.getComputedStyle(gd).display;\n",
              "        if (!display || display === 'none') {{\n",
              "            console.log([gd, 'removed!']);\n",
              "            Plotly.purge(gd);\n",
              "            observer.disconnect();\n",
              "        }}\n",
              "}});\n",
              "\n",
              "// Listen for the removal of the full notebook cells\n",
              "var notebookContainer = gd.closest('#notebook-container');\n",
              "if (notebookContainer) {{\n",
              "    x.observe(notebookContainer, {childList: true});\n",
              "}}\n",
              "\n",
              "// Listen for the clearing of the current output cell\n",
              "var outputEl = gd.closest('.output');\n",
              "if (outputEl) {{\n",
              "    x.observe(outputEl, {childList: true});\n",
              "}}\n",
              "\n",
              "                        })                };                            </script>        </div>\n",
              "</body>\n",
              "</html>"
            ]
          },
          "metadata": {}
        }
      ]
    },
    {
      "cell_type": "markdown",
      "source": [
        "# **Supervised Learning To Predict Soil Type  based On Lat and Long (Not Used, Just For Experiment)**\n",
        "\n",
        "We tried to predict soil type from each geographical regions based lat/lon using Decision Tree Classifer. But, due to lack of training samples from diverse areas of Sundarban the classification may lead to overfitting. So, we experimented in this section and have not used the results later in our analysis. "
      ],
      "metadata": {
        "id": "Nyy8lGAH-x8t"
      }
    },
    {
      "cell_type": "code",
      "execution_count": null,
      "metadata": {
        "id": "z5eBpc74_Vgi"
      },
      "outputs": [],
      "source": [
        "lat_long_soil = df[['Long', 'Lat','Soil']].to_numpy()"
      ]
    },
    {
      "cell_type": "code",
      "execution_count": null,
      "metadata": {
        "id": "MyfMNQTg_Vgi"
      },
      "outputs": [],
      "source": [
        "np.random.shuffle(lat_long_soil)\n",
        "soil_training, soil_val = lat_long_soil[:51,:], lat_long_soil[51:,:]"
      ]
    },
    {
      "cell_type": "code",
      "execution_count": null,
      "metadata": {
        "id": "XC7cJgUj_Vgi"
      },
      "outputs": [],
      "source": [
        "soil_training_x = soil_training[:,[0,1]]\n",
        "soil_training_y = np.squeeze(soil_training[:,[2]])\n",
        "\n",
        "soil_val_x = soil_val[:,[0,1]]\n",
        "soil_val_y = np.squeeze(soil_val[:,[2]])"
      ]
    },
    {
      "cell_type": "code",
      "execution_count": null,
      "metadata": {
        "id": "6TuDB7Of_Vgi"
      },
      "outputs": [],
      "source": [
        "#  Decision Tree Classifer with max_depth=4\n",
        "soil_clf = sklearn.tree.DecisionTreeClassifier(max_depth=4, random_state=0).fit(soil_training_x, soil_training_y)"
      ]
    },
    {
      "cell_type": "code",
      "execution_count": null,
      "metadata": {
        "colab": {
          "base_uri": "https://localhost:8080/"
        },
        "outputId": "7c0445e4-cf2a-4460-a718-0f7b5a882fa3",
        "id": "iZeHHnjV_Vgj"
      },
      "outputs": [
        {
          "output_type": "stream",
          "name": "stdout",
          "text": [
            "0.8461538461538461\n"
          ]
        }
      ],
      "source": [
        "#  Validation Acc. when validated on 20% unseen validation samples\n",
        "print(soil_clf.score(soil_val_x,soil_val_y))"
      ]
    },
    {
      "cell_type": "code",
      "source": [
        "soil_feature = np.expand_dims(soil_clf.predict(all_data[:,41:43].astype(np.float32)),axis=1)\n",
        "census_soil_feature = np.expand_dims(soil_clf.predict(census_all_data[:,37:39].astype(np.float32)),axis=1)"
      ],
      "metadata": {
        "id": "ZC5awy8L_Vgj"
      },
      "execution_count": null,
      "outputs": []
    },
    {
      "cell_type": "markdown",
      "source": [
        "### Train Data"
      ],
      "metadata": {
        "id": "-jFwzHk0JIIK"
      }
    },
    {
      "cell_type": "code",
      "source": [
        "# Ploting Predicted Soil types and we use color to distinguish each type\n",
        "\n",
        "fig = px.scatter_mapbox(df[['Lat', 'Long']],\n",
        "                        lat=\"Lat\", \n",
        "                        lon=\"Long\",\n",
        "                        color = soil_feature[:,0],\n",
        "                        zoom=10, \n",
        "                        height=500,\n",
        "                        width=500,title=\"Soil Category\")\n",
        "\n",
        "fig.update_layout(mapbox_style=\"open-street-map\")\n",
        "fig.update_layout(margin={\"r\":0,\"t\":0,\"l\":0,\"b\":0})\n",
        "fig.show()"
      ],
      "metadata": {
        "colab": {
          "base_uri": "https://localhost:8080/",
          "height": 517
        },
        "id": "2y4jP4cFJFkp",
        "outputId": "28f4f361-4d9a-4e69-eb19-adf81526a50c"
      },
      "execution_count": null,
      "outputs": [
        {
          "output_type": "display_data",
          "data": {
            "text/html": [
              "<html>\n",
              "<head><meta charset=\"utf-8\" /></head>\n",
              "<body>\n",
              "    <div>            <script src=\"https://cdnjs.cloudflare.com/ajax/libs/mathjax/2.7.5/MathJax.js?config=TeX-AMS-MML_SVG\"></script><script type=\"text/javascript\">if (window.MathJax) {MathJax.Hub.Config({SVG: {font: \"STIX-Web\"}});}</script>                <script type=\"text/javascript\">window.PlotlyConfig = {MathJaxConfig: 'local'};</script>\n",
              "        <script src=\"https://cdn.plot.ly/plotly-2.8.3.min.js\"></script>                <div id=\"c5ff0bd8-6cca-4b59-a94a-429ed7056786\" class=\"plotly-graph-div\" style=\"height:500px; width:500px;\"></div>            <script type=\"text/javascript\">                                    window.PLOTLYENV=window.PLOTLYENV || {};                                    if (document.getElementById(\"c5ff0bd8-6cca-4b59-a94a-429ed7056786\")) {                    Plotly.newPlot(                        \"c5ff0bd8-6cca-4b59-a94a-429ed7056786\",                        [{\"hovertemplate\":\"Lat=%{lat}<br>Long=%{lon}<br>color=%{marker.color}<extra></extra>\",\"lat\":[21.688,21.686,21.696,21.689,21.697,22.021,22.02,22.021,22.021,22.086,22.088,22.093,21.836,21.837,21.835,21.91,21.91,21.91,21.915,21.915,21.619,21.619,21.619,21.619,21.62,21.867,21.867,21.872,21.932,21.93,21.955,21.958,21.957,21.958,21.957,21.956,21.958,22.025,22.03,21.843,21.844,21.844,21.971,21.977,21.972,21.976,21.976,21.976,21.842,21.838,21.834,21.973,21.971,21.973,21.972,21.973,21.968,21.963,21.963,21.968,21.963,21.61,21.608,21.607],\"legendgroup\":\"\",\"lon\":[88.971,88.982,88.983,88.977,88.975,89.019,89.016,89.018,89.014,88.808,88.812,88.808,88.885,88.886,88.884,88.738,88.737,88.737,88.733,88.732,89.0,88.999,88.999,88.998,89.0,88.906,88.901,88.905,88.866,88.87,89.039,89.041,89.041,89.042,89.04,89.041,89.04,88.936,88.94,88.887,88.887,88.887,88.785,88.786,88.784,88.787,88.787,88.786,88.886,88.889,88.889,88.782,88.781,88.784,88.78,88.783,88.784,88.785,88.785,88.785,88.785,88.996,89.001,89.002],\"marker\":{\"color\":[1.0,1.0,1.0,1.0,1.0,1.0,1.0,1.0,1.0,1.0,1.0,1.0,2.0,2.0,2.0,2.0,2.0,2.0,2.0,2.0,3.0,3.0,3.0,3.0,3.0,2.0,2.0,2.0,1.0,1.0,1.0,1.0,1.0,1.0,1.0,1.0,1.0,2.0,2.0,2.0,2.0,2.0,2.0,2.0,2.0,2.0,2.0,2.0,2.0,2.0,2.0,2.0,2.0,2.0,2.0,2.0,2.0,2.0,2.0,2.0,2.0,3.0,3.0,3.0],\"coloraxis\":\"coloraxis\"},\"mode\":\"markers\",\"name\":\"\",\"showlegend\":false,\"subplot\":\"mapbox\",\"type\":\"scattermapbox\"}],                        {\"template\":{\"data\":{\"bar\":[{\"error_x\":{\"color\":\"#2a3f5f\"},\"error_y\":{\"color\":\"#2a3f5f\"},\"marker\":{\"line\":{\"color\":\"#E5ECF6\",\"width\":0.5},\"pattern\":{\"fillmode\":\"overlay\",\"size\":10,\"solidity\":0.2}},\"type\":\"bar\"}],\"barpolar\":[{\"marker\":{\"line\":{\"color\":\"#E5ECF6\",\"width\":0.5},\"pattern\":{\"fillmode\":\"overlay\",\"size\":10,\"solidity\":0.2}},\"type\":\"barpolar\"}],\"carpet\":[{\"aaxis\":{\"endlinecolor\":\"#2a3f5f\",\"gridcolor\":\"white\",\"linecolor\":\"white\",\"minorgridcolor\":\"white\",\"startlinecolor\":\"#2a3f5f\"},\"baxis\":{\"endlinecolor\":\"#2a3f5f\",\"gridcolor\":\"white\",\"linecolor\":\"white\",\"minorgridcolor\":\"white\",\"startlinecolor\":\"#2a3f5f\"},\"type\":\"carpet\"}],\"choropleth\":[{\"colorbar\":{\"outlinewidth\":0,\"ticks\":\"\"},\"type\":\"choropleth\"}],\"contour\":[{\"colorbar\":{\"outlinewidth\":0,\"ticks\":\"\"},\"colorscale\":[[0.0,\"#0d0887\"],[0.1111111111111111,\"#46039f\"],[0.2222222222222222,\"#7201a8\"],[0.3333333333333333,\"#9c179e\"],[0.4444444444444444,\"#bd3786\"],[0.5555555555555556,\"#d8576b\"],[0.6666666666666666,\"#ed7953\"],[0.7777777777777778,\"#fb9f3a\"],[0.8888888888888888,\"#fdca26\"],[1.0,\"#f0f921\"]],\"type\":\"contour\"}],\"contourcarpet\":[{\"colorbar\":{\"outlinewidth\":0,\"ticks\":\"\"},\"type\":\"contourcarpet\"}],\"heatmap\":[{\"colorbar\":{\"outlinewidth\":0,\"ticks\":\"\"},\"colorscale\":[[0.0,\"#0d0887\"],[0.1111111111111111,\"#46039f\"],[0.2222222222222222,\"#7201a8\"],[0.3333333333333333,\"#9c179e\"],[0.4444444444444444,\"#bd3786\"],[0.5555555555555556,\"#d8576b\"],[0.6666666666666666,\"#ed7953\"],[0.7777777777777778,\"#fb9f3a\"],[0.8888888888888888,\"#fdca26\"],[1.0,\"#f0f921\"]],\"type\":\"heatmap\"}],\"heatmapgl\":[{\"colorbar\":{\"outlinewidth\":0,\"ticks\":\"\"},\"colorscale\":[[0.0,\"#0d0887\"],[0.1111111111111111,\"#46039f\"],[0.2222222222222222,\"#7201a8\"],[0.3333333333333333,\"#9c179e\"],[0.4444444444444444,\"#bd3786\"],[0.5555555555555556,\"#d8576b\"],[0.6666666666666666,\"#ed7953\"],[0.7777777777777778,\"#fb9f3a\"],[0.8888888888888888,\"#fdca26\"],[1.0,\"#f0f921\"]],\"type\":\"heatmapgl\"}],\"histogram\":[{\"marker\":{\"pattern\":{\"fillmode\":\"overlay\",\"size\":10,\"solidity\":0.2}},\"type\":\"histogram\"}],\"histogram2d\":[{\"colorbar\":{\"outlinewidth\":0,\"ticks\":\"\"},\"colorscale\":[[0.0,\"#0d0887\"],[0.1111111111111111,\"#46039f\"],[0.2222222222222222,\"#7201a8\"],[0.3333333333333333,\"#9c179e\"],[0.4444444444444444,\"#bd3786\"],[0.5555555555555556,\"#d8576b\"],[0.6666666666666666,\"#ed7953\"],[0.7777777777777778,\"#fb9f3a\"],[0.8888888888888888,\"#fdca26\"],[1.0,\"#f0f921\"]],\"type\":\"histogram2d\"}],\"histogram2dcontour\":[{\"colorbar\":{\"outlinewidth\":0,\"ticks\":\"\"},\"colorscale\":[[0.0,\"#0d0887\"],[0.1111111111111111,\"#46039f\"],[0.2222222222222222,\"#7201a8\"],[0.3333333333333333,\"#9c179e\"],[0.4444444444444444,\"#bd3786\"],[0.5555555555555556,\"#d8576b\"],[0.6666666666666666,\"#ed7953\"],[0.7777777777777778,\"#fb9f3a\"],[0.8888888888888888,\"#fdca26\"],[1.0,\"#f0f921\"]],\"type\":\"histogram2dcontour\"}],\"mesh3d\":[{\"colorbar\":{\"outlinewidth\":0,\"ticks\":\"\"},\"type\":\"mesh3d\"}],\"parcoords\":[{\"line\":{\"colorbar\":{\"outlinewidth\":0,\"ticks\":\"\"}},\"type\":\"parcoords\"}],\"pie\":[{\"automargin\":true,\"type\":\"pie\"}],\"scatter\":[{\"marker\":{\"colorbar\":{\"outlinewidth\":0,\"ticks\":\"\"}},\"type\":\"scatter\"}],\"scatter3d\":[{\"line\":{\"colorbar\":{\"outlinewidth\":0,\"ticks\":\"\"}},\"marker\":{\"colorbar\":{\"outlinewidth\":0,\"ticks\":\"\"}},\"type\":\"scatter3d\"}],\"scattercarpet\":[{\"marker\":{\"colorbar\":{\"outlinewidth\":0,\"ticks\":\"\"}},\"type\":\"scattercarpet\"}],\"scattergeo\":[{\"marker\":{\"colorbar\":{\"outlinewidth\":0,\"ticks\":\"\"}},\"type\":\"scattergeo\"}],\"scattergl\":[{\"marker\":{\"colorbar\":{\"outlinewidth\":0,\"ticks\":\"\"}},\"type\":\"scattergl\"}],\"scattermapbox\":[{\"marker\":{\"colorbar\":{\"outlinewidth\":0,\"ticks\":\"\"}},\"type\":\"scattermapbox\"}],\"scatterpolar\":[{\"marker\":{\"colorbar\":{\"outlinewidth\":0,\"ticks\":\"\"}},\"type\":\"scatterpolar\"}],\"scatterpolargl\":[{\"marker\":{\"colorbar\":{\"outlinewidth\":0,\"ticks\":\"\"}},\"type\":\"scatterpolargl\"}],\"scatterternary\":[{\"marker\":{\"colorbar\":{\"outlinewidth\":0,\"ticks\":\"\"}},\"type\":\"scatterternary\"}],\"surface\":[{\"colorbar\":{\"outlinewidth\":0,\"ticks\":\"\"},\"colorscale\":[[0.0,\"#0d0887\"],[0.1111111111111111,\"#46039f\"],[0.2222222222222222,\"#7201a8\"],[0.3333333333333333,\"#9c179e\"],[0.4444444444444444,\"#bd3786\"],[0.5555555555555556,\"#d8576b\"],[0.6666666666666666,\"#ed7953\"],[0.7777777777777778,\"#fb9f3a\"],[0.8888888888888888,\"#fdca26\"],[1.0,\"#f0f921\"]],\"type\":\"surface\"}],\"table\":[{\"cells\":{\"fill\":{\"color\":\"#EBF0F8\"},\"line\":{\"color\":\"white\"}},\"header\":{\"fill\":{\"color\":\"#C8D4E3\"},\"line\":{\"color\":\"white\"}},\"type\":\"table\"}]},\"layout\":{\"annotationdefaults\":{\"arrowcolor\":\"#2a3f5f\",\"arrowhead\":0,\"arrowwidth\":1},\"autotypenumbers\":\"strict\",\"coloraxis\":{\"colorbar\":{\"outlinewidth\":0,\"ticks\":\"\"}},\"colorscale\":{\"diverging\":[[0,\"#8e0152\"],[0.1,\"#c51b7d\"],[0.2,\"#de77ae\"],[0.3,\"#f1b6da\"],[0.4,\"#fde0ef\"],[0.5,\"#f7f7f7\"],[0.6,\"#e6f5d0\"],[0.7,\"#b8e186\"],[0.8,\"#7fbc41\"],[0.9,\"#4d9221\"],[1,\"#276419\"]],\"sequential\":[[0.0,\"#0d0887\"],[0.1111111111111111,\"#46039f\"],[0.2222222222222222,\"#7201a8\"],[0.3333333333333333,\"#9c179e\"],[0.4444444444444444,\"#bd3786\"],[0.5555555555555556,\"#d8576b\"],[0.6666666666666666,\"#ed7953\"],[0.7777777777777778,\"#fb9f3a\"],[0.8888888888888888,\"#fdca26\"],[1.0,\"#f0f921\"]],\"sequentialminus\":[[0.0,\"#0d0887\"],[0.1111111111111111,\"#46039f\"],[0.2222222222222222,\"#7201a8\"],[0.3333333333333333,\"#9c179e\"],[0.4444444444444444,\"#bd3786\"],[0.5555555555555556,\"#d8576b\"],[0.6666666666666666,\"#ed7953\"],[0.7777777777777778,\"#fb9f3a\"],[0.8888888888888888,\"#fdca26\"],[1.0,\"#f0f921\"]]},\"colorway\":[\"#636efa\",\"#EF553B\",\"#00cc96\",\"#ab63fa\",\"#FFA15A\",\"#19d3f3\",\"#FF6692\",\"#B6E880\",\"#FF97FF\",\"#FECB52\"],\"font\":{\"color\":\"#2a3f5f\"},\"geo\":{\"bgcolor\":\"white\",\"lakecolor\":\"white\",\"landcolor\":\"#E5ECF6\",\"showlakes\":true,\"showland\":true,\"subunitcolor\":\"white\"},\"hoverlabel\":{\"align\":\"left\"},\"hovermode\":\"closest\",\"mapbox\":{\"style\":\"light\"},\"paper_bgcolor\":\"white\",\"plot_bgcolor\":\"#E5ECF6\",\"polar\":{\"angularaxis\":{\"gridcolor\":\"white\",\"linecolor\":\"white\",\"ticks\":\"\"},\"bgcolor\":\"#E5ECF6\",\"radialaxis\":{\"gridcolor\":\"white\",\"linecolor\":\"white\",\"ticks\":\"\"}},\"scene\":{\"xaxis\":{\"backgroundcolor\":\"#E5ECF6\",\"gridcolor\":\"white\",\"gridwidth\":2,\"linecolor\":\"white\",\"showbackground\":true,\"ticks\":\"\",\"zerolinecolor\":\"white\"},\"yaxis\":{\"backgroundcolor\":\"#E5ECF6\",\"gridcolor\":\"white\",\"gridwidth\":2,\"linecolor\":\"white\",\"showbackground\":true,\"ticks\":\"\",\"zerolinecolor\":\"white\"},\"zaxis\":{\"backgroundcolor\":\"#E5ECF6\",\"gridcolor\":\"white\",\"gridwidth\":2,\"linecolor\":\"white\",\"showbackground\":true,\"ticks\":\"\",\"zerolinecolor\":\"white\"}},\"shapedefaults\":{\"line\":{\"color\":\"#2a3f5f\"}},\"ternary\":{\"aaxis\":{\"gridcolor\":\"white\",\"linecolor\":\"white\",\"ticks\":\"\"},\"baxis\":{\"gridcolor\":\"white\",\"linecolor\":\"white\",\"ticks\":\"\"},\"bgcolor\":\"#E5ECF6\",\"caxis\":{\"gridcolor\":\"white\",\"linecolor\":\"white\",\"ticks\":\"\"}},\"title\":{\"x\":0.05},\"xaxis\":{\"automargin\":true,\"gridcolor\":\"white\",\"linecolor\":\"white\",\"ticks\":\"\",\"title\":{\"standoff\":15},\"zerolinecolor\":\"white\",\"zerolinewidth\":2},\"yaxis\":{\"automargin\":true,\"gridcolor\":\"white\",\"linecolor\":\"white\",\"ticks\":\"\",\"title\":{\"standoff\":15},\"zerolinecolor\":\"white\",\"zerolinewidth\":2}}},\"mapbox\":{\"domain\":{\"x\":[0.0,1.0],\"y\":[0.0,1.0]},\"center\":{\"lat\":21.884328125000003,\"lon\":88.89362500000001},\"zoom\":10,\"style\":\"open-street-map\"},\"coloraxis\":{\"colorbar\":{\"title\":{\"text\":\"color\"}},\"colorscale\":[[0.0,\"#0d0887\"],[0.1111111111111111,\"#46039f\"],[0.2222222222222222,\"#7201a8\"],[0.3333333333333333,\"#9c179e\"],[0.4444444444444444,\"#bd3786\"],[0.5555555555555556,\"#d8576b\"],[0.6666666666666666,\"#ed7953\"],[0.7777777777777778,\"#fb9f3a\"],[0.8888888888888888,\"#fdca26\"],[1.0,\"#f0f921\"]]},\"legend\":{\"tracegroupgap\":0},\"title\":{\"text\":\"Soil Category\"},\"height\":500,\"width\":500,\"margin\":{\"r\":0,\"t\":0,\"l\":0,\"b\":0}},                        {\"responsive\": true}                    ).then(function(){\n",
              "                            \n",
              "var gd = document.getElementById('c5ff0bd8-6cca-4b59-a94a-429ed7056786');\n",
              "var x = new MutationObserver(function (mutations, observer) {{\n",
              "        var display = window.getComputedStyle(gd).display;\n",
              "        if (!display || display === 'none') {{\n",
              "            console.log([gd, 'removed!']);\n",
              "            Plotly.purge(gd);\n",
              "            observer.disconnect();\n",
              "        }}\n",
              "}});\n",
              "\n",
              "// Listen for the removal of the full notebook cells\n",
              "var notebookContainer = gd.closest('#notebook-container');\n",
              "if (notebookContainer) {{\n",
              "    x.observe(notebookContainer, {childList: true});\n",
              "}}\n",
              "\n",
              "// Listen for the clearing of the current output cell\n",
              "var outputEl = gd.closest('.output');\n",
              "if (outputEl) {{\n",
              "    x.observe(outputEl, {childList: true});\n",
              "}}\n",
              "\n",
              "                        })                };                            </script>        </div>\n",
              "</body>\n",
              "</html>"
            ]
          },
          "metadata": {}
        }
      ]
    },
    {
      "cell_type": "markdown",
      "source": [
        "### Test Data"
      ],
      "metadata": {
        "id": "TrU9yACaJY94"
      }
    },
    {
      "cell_type": "code",
      "source": [
        "# Ploting Predicted Soil types and we use color to distinguish each type. For example, the soil types from south-west region were not \n",
        "# provided in train data, but in test dataset we need them. So, we can not confirm this result. \n",
        "\n",
        "fig = px.scatter_mapbox(census_df[['Lat', 'Long']],\n",
        "                        lat=\"Lat\", \n",
        "                        lon=\"Long\",\n",
        "                        color = census_soil_feature[:,0],\n",
        "                        zoom=10, \n",
        "                        height=500,\n",
        "                        width=500,title=\"Soil Category\")\n",
        "\n",
        "fig.update_layout(mapbox_style=\"open-street-map\")\n",
        "fig.update_layout(margin={\"r\":0,\"t\":0,\"l\":0,\"b\":0})\n",
        "fig.show()"
      ],
      "metadata": {
        "colab": {
          "base_uri": "https://localhost:8080/",
          "height": 517
        },
        "outputId": "852b4029-eb8f-45e3-8ac7-57236c3f1979",
        "id": "N_LalU9OJY95"
      },
      "execution_count": null,
      "outputs": [
        {
          "output_type": "display_data",
          "data": {
            "text/html": [
              "<html>\n",
              "<head><meta charset=\"utf-8\" /></head>\n",
              "<body>\n",
              "    <div>            <script src=\"https://cdnjs.cloudflare.com/ajax/libs/mathjax/2.7.5/MathJax.js?config=TeX-AMS-MML_SVG\"></script><script type=\"text/javascript\">if (window.MathJax) {MathJax.Hub.Config({SVG: {font: \"STIX-Web\"}});}</script>                <script type=\"text/javascript\">window.PlotlyConfig = {MathJaxConfig: 'local'};</script>\n",
              "        <script src=\"https://cdn.plot.ly/plotly-2.8.3.min.js\"></script>                <div id=\"2e3aa479-18e8-4060-87e0-f320c6c8b669\" class=\"plotly-graph-div\" style=\"height:500px; width:500px;\"></div>            <script type=\"text/javascript\">                                    window.PLOTLYENV=window.PLOTLYENV || {};                                    if (document.getElementById(\"2e3aa479-18e8-4060-87e0-f320c6c8b669\")) {                    Plotly.newPlot(                        \"2e3aa479-18e8-4060-87e0-f320c6c8b669\",                        [{\"hovertemplate\":\"Lat=%{lat}<br>Long=%{lon}<br>color=%{marker.color}<extra></extra>\",\"lat\":[22.09853256,22.09174282,22.08506221,22.0828961,22.07816333,22.07798145,22.07142856,22.05972417,22.05407225,22.07329352,22.07116378,22.06422854,22.07052719,22.06135308,22.05335316,22.0643478,22.04257638,22.03705179,22.02719496,22.034148,22.0252649,22.03552227,22.0433403,22.0488653,22.05195057,22.10201838,22.1054674,22.09212477,22.08761027,22.08093006,22.07861805,22.08351451,22.09125978,22.09806772,22.08483421,22.08178493,22.08976665,22.10406522,22.11473246,21.96387715,21.95947218,21.94937851,21.94381753,21.93937618,21.93029301,21.92702546,21.9261059,21.93394212,21.9229111,21.92320212,21.92885404,21.93808272,21.94024923,21.93600755,21.93163896,21.92837141,21.9273791,21.92627765,21.92416611,21.9206803,21.92080762,21.91959744,21.92304688,21.91815042,21.9509609,21.94993262,21.943252,21.93765465,21.93870113,21.93431434,21.94187773,21.96072718,21.95856108,21.96403112,21.96394017,21.96061805,21.96717134,21.97280508,21.97381517,21.97260501,21.96814507,21.97253225,21.96807231,21.97240493,21.97979449,21.98210651,21.9866388,21.9867843,21.98801307,21.99032469,21.99487556,21.9944936,21.99664153,22.0022207,21.98631141,21.98401798,21.99073496,21.99170869,21.98827744,21.98838658,21.99600493,22.00060997,21.99961806,21.99748793,22.04063867,22.0419216,22.03099971,22.02244401,22.01679209,21.99024388,21.98345413,22.01523593,22.07313828,22.07295639,22.04234839,22.03790664,22.02774061,22.04830951,22.05273267,22.01174039,22.00614303,21.99720537,22.00419518,21.99962611,21.99518477,21.99505745,21.97894808,21.97548047,21.9742517,21.9740419,22.01044733,21.98437161,21.98877698,21.98204181,21.98521841,22.0392991,22.03720574,22.03843411,22.04901887,22.0445953,22.02345283,22.02787599,22.03574858,22.04017215,22.04353064,22.04345788,22.04253833,22.04692551,22.04817206,22.05033857,22.06573818,22.06904211,22.0712264,22.08045508,22.08030957,21.94787524,21.94798437,21.93998445,21.92807026,21.92592234,21.9160833,21.91408089,21.91530966,21.92401087,21.92617698,21.93607017,21.94053011,21.94948596,21.95396368,21.95956144,21.96514061,21.96501329,21.96362083,21.96123646,21.97523388,21.979712,21.98169623,21.97090166,21.97662633,21.9800394,21.98908619,21.99251744,22.00046279,22.00611471,22.00940044,21.95188851,21.95761319,21.9599434,21.96897201,21.97467849,21.98502639,21.98517191,21.9930449,21.91883144,21.9202421,21.9247566,21.92567575,21.92380066,21.93170964,21.94303207,21.95538239,21.962063,21.96188111,21.94384209,21.94277743,21.98773856,21.99783183,22.00897198,22.01110211,22.1869778,22.18459343,22.18224544,22.16009206,22.1672739,22.1627594,22.15835442,22.15734392,22.15633342,22.12847396,22.1282557,22.15640618,22.16147607,22.16114867,22.11585042,22.1091698,22.10133358,22.10593863,22.10032308,22.09692822,22.06527373,22.06512822,22.06500091,22.03049681,22.02612821,22.01599817,21.98142172,21.97567886,22.02961403,22.03956179,22.03967092,22.08983772,22.0840221,22.11018836,22.12369508,22.11861674,22.12186611,22.13156768,22.13147674,22.13246905,22.13577258,22.1412794,22.13891281,22.14926112,22.16892059,22.0640251,22.05811854,22.06030284,22.06705621,22.06239619,22.06342489,22.06782985,22.07236254,22.07685846,22.06403484,22.06405303,22.06150496,22.06168684,21.99016736,21.99693891,22.02766578,22.05110248,22.0508559,22.05426896,22.07776788,22.08220963,22.10232382,22.10333431,22.07774164,22.08561423,22.09462465,22.09930285,22.1020328,22.09537038,22.09329521,22.0688666,22.08204593,22.06967703,22.0695679,22.05657044,22.05875514,22.06319648,22.07270812,22.14697575,22.13704577,22.13276812,22.12722533,22.11120691,22.13234978,22.1455651,22.14883265,22.16226663,22.17768482,22.16181192,22.13859388,22.13870301,22.1870772,22.1874507,22.18308211,22.19113659,22.14896843,22.13865649,22.12869014,22.14127732,22.15084352,22.15717855,22.18092406,22.1920642,22.17437076,22.15770601,22.15989031,22.19118102,22.19791619,22.20081998,22.19520444,22.17173175,22.17296012,22.15170851,22.04670517,22.03666646,22.01537808,22.00761462,22.00075212,21.99056751,21.97606886,21.9728195,21.97848962,21.98307687,21.96081436,21.95285082,21.9351392,21.95205859,21.92801233,21.95370568,21.92815783,21.93169782,21.93843299,21.94731608,21.95406946,21.96539149,21.97864357,21.98667987,21.99227723,21.9990124,22.00350831,22.01325641,22.01755264,22.02193943,22.00500184,22.01612381,22.0014251,22.0081239,22.0148041,22.02599921,22.03401732,22.01676041,22.02338645,22.02993934,22.0398875,22.04537573,22.04965378,22.05059113,22.05154706,22.05360403,21.97796215,21.97675197,22.00189967,22.01755432,22.01193878,21.99975175,21.98299566,21.97629727,21.97066353,21.96154398,21.95713862,21.95699311,21.94249446,21.94383236,21.93025287,21.92586609,21.92373596,21.91819316,21.91837505,21.92402697,21.95118554,21.95102184,21.95672833,21.96238065,21.96140653,21.95929498,21.95602743,21.94925588,21.95028457,21.93119868,21.93020636,21.93367398,21.92932358,21.92383535,21.91717294,21.92715747,21.92278848,21.91827437,21.91618062,21.91054688,21.90379352,21.90819889,21.90827165,21.90370258,21.90586909,21.89476491,21.89577542,21.89676773,21.90348432,21.90111814,21.90438569,21.93657777,21.94107408,21.94230244,21.95994132,21.98605341,21.98278585,21.90909349,21.91120543,21.91465487,21.90127546,21.89147281,21.88818747,21.88264428,21.86599772,21.87836662,21.87963176,21.87889409,21.87566291,21.86912781,21.86589663,21.88669393,21.89911741,21.88916965,21.88483703,21.88054119,21.89287332,21.89858021,21.88536449,21.87099317,21.86534125,21.86627859,21.86725272,21.85383733,21.85414654,21.84194132,21.8443257,21.85891528,21.8700918,21.85355437,21.86157247,21.87385044,21.8906611,21.89396462,21.89717761,21.90040878,21.90252033,21.90466865,21.90228388,21.91118516,21.90986586,21.91528133,21.92084231,21.90961122,21.90726323,21.91051219,21.91553597,21.91990456,21.92539319,21.91737468,21.91042124,21.91000291,21.90756398,21.90411454,21.90064692,21.89393033,21.90483403,21.83803717,21.8465565,21.83395114,21.81838744,21.81047846,21.83829181,21.83152026,21.82585015,21.82126289,21.81781386,21.81531996,21.81169709,21.79475911,21.78336433,21.78459309,21.78802434,21.76877474,21.75866288,21.82969973,21.82083483,21.80866599,21.80082977,21.80673633,21.79770773,21.79385815,21.79035414,21.77244244,21.77572818,21.76924764,21.76251247,21.75301097,21.75554124,21.75810749,21.85694078,21.86901868,21.87428864,21.87392487,21.85606774,21.8494239,21.85041582,21.85072503,21.85744201,21.85767846,21.74270748,21.75058008,21.74707648,21.72324809,21.71972589,21.71893366,21.69551555,21.67560143,21.67661193,21.65759879,21.6472141,21.66290512,21.67186097,21.69964809,21.69979359,21.71060635,21.6999391,21.70118565,21.72127191,21.71942475,21.72043525,21.73515215,21.73955752,21.73365056,21.75062492,21.71797812,21.72792588,21.73791042,21.75685081,21.76013615,21.76593398,21.76584304,21.76463246,21.76455971,21.77131308,21.77006612,21.76325819,21.75648704,21.75301942,21.7528921,21.74936991,21.8201699,21.81802199,21.8072638,21.829918,21.82444796,21.78689457,21.79012574,21.79702462,21.80157549,21.76747155,21.75853388,21.78527412,21.79311074,21.79984551,21.80992099,21.8187859,21.82028749,21.82707683,21.83379382,21.84233134,21.8422222,21.84771043,21.85885058,21.87241187,21.87340419,21.85628432,21.87623481,21.85151558,21.88091301,21.69236558,21.70462535,21.69429523,21.7008849,21.69947425,21.69479646,21.69404059,21.68016036,21.67236012,21.66887471,21.66678095,21.66463304,21.66028262,21.64923302,21.64235274,21.62915521,21.61192662,21.60945091,21.60807704,21.62086429,21.61930812,21.61958095,21.62123779,21.62909259,21.63553635,21.63458082,21.64718618,21.62739898,21.63184073,21.63512648,21.65305637,21.65971878,21.68122503,21.67327968,21.68324603,21.67732128,21.67062248,21.64819628,21.65498602,21.65231063,21.6600741,21.67807674,21.68589517,21.70613668,21.70883025,21.70249522,21.69376945,21.7003955,21.68934629,21.6901927,21.67385534,21.67340063,21.66040317,21.65695413,21.62199532,21.63779548,21.67314599,21.66639263,21.6696238,21.71781611,21.7134653,21.72104728,21.71976395,21.69965782,21.69528922,21.70870461,21.69209443,21.69558025,21.70121398,21.70798553,21.69462431,21.69365058,21.69486076,21.69487895,21.69831019,21.69476982,21.70152318,21.7081856,21.72053632,21.72169193,21.72627919,21.72495948,21.72934667,21.73703738,21.73376983,21.73797513,21.74349973,21.74906071,21.74445526,21.74429157,21.85008843,21.84553794,21.84003153,21.84458202,21.84208851,21.83228586,21.83417954,21.82630654,21.81848851,21.79954813,21.79057409,21.78271967,21.77600269,21.76607271,21.76739242,21.76862118,21.73429897,21.72466041,21.7226576,21.73282402,21.73244207,21.74136154,21.74824223,21.76301369,21.78999037,21.81032282,21.81355399,21.80408887,21.77608349,21.78067075,21.78529398,21.7914835,21.80220532,21.8045719,21.83261325,21.82909106,21.84256141,21.84353553,21.83690949,21.59978571,21.61215462,21.62103772,21.6175519,21.60742225,21.59620935,21.596983,21.6430274,21.64280913,21.64158037,21.63155985,21.63592845,21.65923743,21.65797269,21.66720137,21.67274416,21.66995925,21.67781405,21.67803231,21.68561389,21.68583215,21.67944256,21.68726099,21.67505577,21.66107614,21.66010242,21.65688943,21.66203208,21.65087374,21.63756709,21.63323487,21.62758295,21.64329176,21.64360097,21.62455185,21.62469735,21.69287654,21.68729737,21.68384793,21.69164777,21.68920883,21.68908151,21.68484024,21.68658801,21.64836206,21.6382502,21.63613866,21.62272287,21.60988951,21.61453094,21.60682204,21.6055569,21.57390409,21.55083157,21.53042636,21.55520016,21.53360257,21.57220243,21.57424162,21.5717841,21.56209098,21.56077127,21.53755323,21.56934516,21.58283371,21.58297921,21.59879716,21.58557339,21.55375521,21.56337598,21.57003801,21.58014987,21.5869396,21.59618648,21.60286668,21.63320186,21.63135509,21.62586687,21.60479674,21.59934489,21.61714746,21.60898345,21.60233921,21.58336285,21.57092119,21.58876013,21.63218331,21.62432889,21.6164563,21.60856512,21.60291319,21.59399372,21.5873313,21.58408194,21.58487417,21.57366127,21.56360398,21.89037345,21.8860776,21.88057079,21.91238131,21.90694725,21.90762022,21.90070357,21.8631138,21.86520755,21.87412703,21.90567237,21.90556325,21.90480778,21.89061795,21.88157115,21.87351668,21.89267533,21.89251163,21.85432165,21.84775057,21.84569319,21.84363621,21.84152467,21.83264157,21.83941312,21.84508324,21.85053509,21.88408325,21.87971425,21.87205992,21.86310407,21.85743396,21.8595455,21.73463818,21.74030829,21.74344852,21.75581743,21.75910317,21.76009549,21.75045652,21.75713714,21.76262536,21.7659111,21.77051614,21.77932649,21.77587706,21.77463051,21.7825031,21.76338082,21.7599136,21.75332393,21.78909277,21.79118612,21.78333172,21.77208203,21.78671645,21.7857787,21.79802029,21.80936051,21.79488006,21.78708022,21.779244,21.80358972,21.80237915,21.7597842,21.7517661,21.73989841,21.73312685,21.75531621,21.6812753,21.67573211,21.65095831,21.63270104,21.62389069,21.62340766,21.6281768,21.63612215,21.68815558,21.68264917,21.6782442,21.67714276,21.66609355,21.65832968,21.65166767,21.64612487,21.73572949,21.73708557,21.74645975,21.75344957,21.74931703,21.70853455,21.70990882,21.71675313,21.71801786,21.70794278,21.70787002,21.70584903,21.69922338,21.68434238,21.67430367,21.66419182,21.65503589,21.66604872,21.65826706,21.67377621,21.68040226,21.67787197,21.67321237,21.67862784,21.67848234,21.67181991,21.65792149,21.68919441,21.69049553,21.69401772,21.6975399,21.86926695,21.87699443,21.88240991,21.88668755,21.87633965,21.86622779,21.84029799,21.84748747,21.84649556,21.84550325,21.84913457,21.85262038,21.84938921,21.8438828,21.84133474,21.83671109,21.83322528,21.82862024,21.82311383,21.822841,21.8204926,21.79694717,21.79377056,21.79841239,21.80393699,21.80868754,21.78203825,21.78994762,21.7978566,21.80466453,21.80668513,21.8144308,21.8201191,21.83582791,21.8517372,21.85950107,21.83176852,21.8307944,21.83640995,21.83985938,21.83888566,21.83789335,21.83805705,21.83139462,21.8235584,21.82794518,21.82357659,21.82561538,21.80893244,21.81788829,21.81440248,21.80430881,21.80087756,21.79184896,21.79508013,21.80076843,21.80401779,21.80966972,21.81411146,21.81970882,21.81871651,21.72983306,21.73425622,21.73978082,21.74414982,21.74627955,21.74727186,21.74718092,21.74485071,21.72589254,21.71368733,21.72278868,21.7003261,21.70612393,21.70548734,21.68526362,21.6752431,21.67085592,21.66549501,21.65442762,21.64447946,21.63899123,21.65020413,21.6569575,21.66694204,21.6413756,21.65148747,21.65159659,21.64497055,21.66910814,21.68116785,21.68369773,21.6639655,21.66084346,21.66633169,21.67508746,21.67947465,21.68732905,21.68745637,21.68534483,21.68326926,21.68563584,21.68785652,21.69679418,21.70116277,21.70975485,21.71771879,21.71010044,21.71488776,21.71811894,21.72245116,21.72680196,21.73117055,21.72766655],\"legendgroup\":\"\",\"lon\":[88.79724112,88.79388101,88.79567555,88.79913682,88.7871612,88.77857108,88.78637841,88.76245254,88.75993912,88.82158599,88.82676521,88.81653333,88.79669958,88.78649268,88.77885041,88.76927393,88.79873495,88.80223473,88.81265706,88.82374833,88.82728579,88.83576205,88.8348142,88.83131442,88.81839094,88.80321624,88.80747301,88.81192064,88.81025348,88.81204761,88.80863712,88.8283439,88.82395975,88.82817884,88.83778029,88.85242212,88.85920543,88.84701395,88.82197517,88.73088884,88.73437592,88.73363081,88.73541265,88.73718138,88.73126975,88.7356031,88.7450649,88.74497602,88.75283414,88.76657891,88.76909234,88.78187615,88.77841487,88.78963269,88.79483772,88.79917108,88.80519698,88.80606865,88.81210725,88.80613214,88.81214535,88.80786277,88.81211995,88.79241317,88.80836623,88.81267419,88.81446832,88.8145318,88.81108322,88.81542886,88.8024546,88.79364862,88.79711031,88.79103362,88.78673835,88.78849439,88.78068705,88.78234151,88.77717458,88.77289242,88.77380218,88.76945612,88.77036588,88.76344291,88.79515072,88.79856162,88.80108774,88.80795992,88.81310146,88.81651237,88.81989746,88.80185783,88.79753758,88.79661513,88.78562544,88.78307351,88.78299733,88.77611245,88.77271466,88.7778689,88.76747154,88.77343396,88.77945987,88.7846395,88.76009148,88.76780994,88.78082229,88.79982247,88.79730904,88.75980387,88.75644376,88.77670479,88.86712703,88.85853691,88.84084011,88.84260884,88.83842784,88.85795686,88.85532916,88.8231433,88.82320678,88.82416733,88.83697654,88.83273206,88.8345012,88.82848799,88.8080488,88.80293307,88.79779153,88.84075565,88.86783807,88.85266739,88.84918071,88.84839793,88.8397693,88.85548153,88.8623791,88.86752064,88.8914592,88.89408691,88.90034136,88.89771366,88.89934272,88.89671502,88.89667693,88.89324063,88.90270283,88.89835678,88.90435729,88.9008956,88.88783245,88.88521745,88.88261473,88.89539854,88.88852636,88.82128971,88.82644395,88.81880167,88.83783994,88.8421606,88.85344191,88.86463475,88.86977629,88.85764829,88.85418702,88.84548221,88.84457245,88.84447088,88.84442009,88.8443566,88.84343414,88.83742094,88.82454825,88.81770146,88.84417884,88.84412805,88.83207624,88.85110181,88.85705153,88.85959077,88.86378405,88.86718225,88.87224761,88.87476104,88.87128665,88.85217663,88.85812636,88.86239623,88.86573095,88.87082129,88.8835924,88.890465,88.89209406,88.87746935,88.89120142,88.89286858,88.88340638,88.90061243,88.90395984,88.90984608,88.91142436,88.90963023,88.9010397,88.89522964,88.89781966,88.9059019,88.9066466,88.90394272,88.89876308,88.95519608,88.94834929,88.94322044,88.95464183,88.92362794,88.92196079,88.92544746,88.93061439,88.93578133,88.94211196,88.93180349,88.93921762,88.91424233,88.89877962,88.9276483,88.92944242,88.9295313,88.93549373,88.93469824,88.93301839,88.91877016,88.91189798,88.90588477,88.91572789,88.9209325,88.91846986,88.92487668,88.91806799,88.92690762,88.92078014,88.92593438,88.96832714,88.95808215,88.97754809,88.98083161,88.95253471,88.94734238,88.98246068,88.97816582,88.97213991,88.9695245,88.96516616,88.95917835,88.97194946,88.94852705,89.01845548,89.00391563,89.00131291,89.00295508,88.99441534,88.99010779,88.98662071,88.98914683,88.98995543,88.96604226,88.96690123,88.95232329,88.96091341,88.96773923,88.97023996,88.94067779,88.93697485,88.97822104,88.98075986,89.03290645,89.03113771,89.02919123,89.02402429,88.97877528,88.98040434,88.98287968,88.99227839,89.01544687,89.01809996,89.02585651,89.03558535,89.02340656,89.02096932,89.01581508,89.03658399,89.03398168,89.03221254,89.00546851,89.02267013,89.02965659,89.03915688,89.04179728,89.02565335,89.0193989,89.00893847,89.00460511,89.00445275,88.99224857,88.98297724,88.99698823,89.00214247,89.01276353,88.97753097,88.98273599,88.99295518,89.06389093,89.05283775,89.05810627,89.07085199,89.04668488,89.02856907,89.03946988,89.03676558,89.04727721,89.05348087,89.05087816,89.04794573,89.04872851,89.02721491,89.02641943,89.02840401,89.03354555,89.03464576,88.99373413,88.99556634,88.99494862,88.99847379,88.99167779,88.98663783,88.98937981,88.99457214,88.99794495,89.00304798,89.00931513,89.0033908,89.01304346,89.01886622,89.04663427,89.04376532,89.05350645,89.06205889,89.06284168,89.05930381,89.06094598,89.06683222,89.05808932,89.06744994,89.06738646,89.06816925,89.06897743,89.05340085,89.04475953,89.04041389,89.03373175,89.0301689,89.02346178,89.02252663,89.02073209,89.02060512,89.02910677,89.06023494,89.05586349,89.04805616,89.04192868,89.03671096,89.02721066,89.01860784,89.010864,89.00224807,88.97303314,88.96875057,88.94011044,88.9390737,88.93827822,88.9444311,88.9463395,88.94727506,88.94562019,88.93799061,88.9414777,88.93460552,88.9373475,88.94764327,88.94092305,88.9452691,88.95044874,88.95308913,88.96167967,88.9641931,88.97763273,88.96990157,88.97499233,88.97750575,88.98439063,88.99042923,88.99476259,88.99226186,88.98795389,88.98559283,88.99161874,88.99673448,89.00279847,89.00801619,89.0106697,89.00626016,89.01146519,89.00979762,89.01669561,89.01504074,89.01339898,89.00991189,89.01334819,89.00910371,89.00564243,89.01006426,89.00489774,88.99887183,88.99879565,88.99280783,88.98847448,88.97522087,88.97602905,88.9811706,88.96808206,88.98497068,88.98930362,88.8406327,88.8345941,88.83885127,88.84158097,88.85458063,88.8580546,88.86069541,88.86775805,88.87019529,88.87705477,88.8951071,88.9011584,88.9098247,88.91587601,88.89330028,88.89831485,88.90444233,88.9113653,88.92000621,88.92072551,88.92581626,88.9362771,88.94503229,88.94251886,88.93391563,88.92703075,88.92804209,88.94264583,88.94793932,88.95478652,88.9563394,88.95535346,88.96757033,88.97607158,88.97421397,88.97488248,88.97226707,88.9653568,88.9593055,88.95326689,88.94894664,88.94209986,88.93942096,88.92998456,88.92133054,88.91954911,88.91795814,88.9128293,88.90763697,88.93335696,88.92815193,88.92293462,88.91443297,88.90334171,88.88358414,88.87416044,88.86990326,88.86478712,88.8648633,88.85099197,88.92220664,88.90148852,88.88788383,88.89321583,88.88986841,88.93423306,88.93173233,88.92835951,88.92325607,88.9189993,88.90699828,88.94742317,88.94074145,88.93141933,88.93656087,88.93995866,88.92986604,88.92826237,88.95151529,88.95591213,88.96292398,88.96301286,88.9775527,88.97421839,88.95106262,88.94422853,88.94443169,88.9409573,88.95220093,88.95141814,88.92574894,88.9394679,88.95490481,88.91597758,88.90467088,88.88914468,88.87196403,88.8747445,88.87825657,88.87223066,88.88683441,88.88675822,88.89792526,88.96796796,88.96959744,88.96276334,89.00083988,88.9931464,89.00862182,89.01318372,89.0245793,89.01941278,89.0204876,89.00599813,89.00667934,89.00657777,88.99681125,89.00368343,88.98551683,89.01055561,89.01655612,89.06616388,89.03181568,89.02664874,89.03421483,89.03072775,89.01618791,89.02458798,89.01636566,89.01023818,89.00582864,89.00131793,88.99784355,89.00722957,89.0029343,88.99865173,88.99521585,88.9968576,88.9908571,88.98663801,88.98413728,88.97902113,88.97300792,88.96531486,88.97740034,88.981721,89.00246451,88.96182376,88.96790046,88.99238458,88.98633328,88.99484763,88.99823273,89.02697444,89.02793499,89.02161705,89.02152817,89.02231096,89.02219668,89.01780025,89.03582677,89.03918688,89.0391107,89.01925156,89.01409732,89.0088796,89.00617571,89.01203655,89.00601065,88.99073839,88.98106075,88.97704482,88.99045906,89.07594351,89.07322651,89.06131437,89.05522498,89.04149332,89.03209501,89.04928795,89.081237,89.08304424,89.07706912,89.08396669,89.08828735,89.09435094,89.1013505,89.09369512,89.10501493,89.08458885,89.0734468,89.06143307,89.0836283,89.06302405,89.07590944,89.04839532,89.04916541,89.03620384,89.04394769,89.05755279,89.07496159,89.07319285,89.06971888,89.0703747,89.06772119,89.07864739,89.07358203,89.06831352,89.0529147,89.05384986,89.05238586,89.05574556,89.03515441,89.03162924,89.03572136,89.0347735,89.03884022,89.06029034,89.07840615,88.93071674,88.9263457,88.93334485,88.92044677,88.94211273,88.92063722,88.94140613,88.93714895,88.92551614,88.93135159,88.90861081,88.90696905,88.90091775,88.90294869,88.90901268,88.89689738,88.88917893,88.94439803,88.94960264,88.94859131,88.95737229,88.96334741,88.96500187,88.9675026,88.97109126,88.97797613,88.98225871,88.98311768,88.98651547,88.97796344,88.9796052,88.9769521,88.97853038,88.98023562,88.98533907,88.97590268,88.97155662,88.96459556,88.96892892,88.95599274,88.95249296,88.95071153,88.94474912,88.93701796,88.85676836,88.85338285,88.8577416,88.86112711,88.84912609,88.86212575,88.84577867,88.84414961,88.84509746,88.84960858,88.84885118,88.84808068,88.84815686,88.85514332,88.86458012,88.86972166,88.8881549,88.90888571,88.92007855,88.92425913,88.90621992,88.90439999,88.91205537,88.92219837,88.92704788,88.93540945,88.92935815,88.90540731,88.90486535,88.9099688,88.91679019,88.8918022,88.86934075,88.87532856,88.87758805,88.869895,88.87146057,88.86457569,88.86894714,89.04004645,89.04248369,89.03894623,89.03297111,89.03050806,89.02977606,89.01344168,89.01979369,89.00948521,89.00434368,89.00703486,89.00183025,88.99211411,88.98525462,88.99803843,88.99539803,88.96965265,88.97042274,88.98073081,88.96861551,88.97892399,88.99446288,88.99351462,88.99880852,88.97319011,88.98007499,88.98698526,88.96544627,88.96729118,88.97345675,88.98037972,88.97786629,88.97940648,88.99400981,88.99336668,89.00023886,88.99431052,88.99523297,88.9909758,88.98916898,88.97974487,88.97373166,88.98494989,88.96173063,88.95443118,88.95282751,88.95886612,88.95987745,88.98837751,88.99605828,89.00216037,88.99530089,88.87536684,88.89625043,88.88445255,88.8910454,88.87582393,88.84789082,88.83841591,88.82813325,88.84628715,88.83685034,88.85086134,88.81870914,88.82113409,88.82800627,88.8347007,88.79188893,88.76990956,88.74831977,88.74566668,88.74727035,88.75063005,88.76427324,88.76247871,88.76729013,88.73294192,88.73815964,88.74784998,88.75478565,88.74942825,88.73405484,88.7375669,88.74036007,88.73448653,88.73084709,88.71918487,88.71841436,88.7167853,88.71429727,88.71178343,88.71360336,88.71625645,88.72144878,88.70597337,88.70524137,88.70621462,88.74976647,88.75840738,88.76276613,88.7314729,88.73926754,88.77105152,88.76167861,88.7844448,88.77754722,88.7757277,88.78482128,88.77966745,88.79686039,88.81420611,88.81001242,88.79979323,88.80559059,88.79785944,88.79227793,88.79922629,88.80784181,88.81645733,88.82249593,88.8260338,88.82853453,88.83190734,88.82497168,88.82287282,88.82807744,88.83675685,88.83685843,88.83348562,88.82744701,88.74551815,88.74889055,88.7385444,88.74098164,88.73750767,88.73148176,88.75221257,88.75041845,88.74520072,88.74172634,88.74768876,88.740715,88.73645824,88.73045773,88.73208679,88.72800737,88.72289122,88.72898062,88.7259974,88.71909982,88.71832973,88.71587938,88.77242281,88.78102604,88.77745007,88.78419528,88.78779664,88.78960346,88.78969234,88.82894084,88.82465868,88.82256385,88.8140626,88.78240559,88.77990444,88.77020141,88.81658046,88.81922127,88.81262801,88.79650989,88.80348365,88.83356239,88.84725596,88.85232132,88.82423543,88.82859418,88.83208126,88.83295293,88.83995208,88.84347685,88.84613035,88.84877075,88.79705971,88.80821445,88.82787045,88.84067965,88.85705213,88.78190213,88.79391585,88.79985288,88.80671236,88.80682663,88.80339034,88.81372421,88.81809525,88.80279801,88.80463022,88.80302656,88.79367863,88.78496154,88.78762733,88.77971842,88.77534738,88.761628,88.75308867,88.74443506,88.73756288,88.74021598,88.77130606,88.76751424,88.77609208,88.78378514,88.7914782,88.75773886,88.75249574,88.74384214,88.73434185,88.72157073,88.71996706,88.71166897,88.73392727,88.73995318,88.74597908,88.75882638,88.7648015,88.7708528,88.77521155,88.76063361,88.75381181,88.74783669,88.74187427,88.74623302,88.73334764,88.7282188,88.72676749,88.7353957,88.74307648,88.7395767,88.7524113,88.7630245,88.7663715,88.76971892,88.77393801,88.76360414,88.75921999,88.76345177,88.76499196,88.77598164,88.77245647,88.78480031,88.79168519,88.79248109,88.79673785,88.80362273,88.80964863,88.8173802,88.82003329,88.82012217,88.81577612,88.82098114,88.81150665,88.81685093,88.81674936,88.81077424,88.81002955,88.80663175,88.80329703,88.79724573,88.80147752,88.79628519,88.79879903,88.79702988,88.7969664,88.8029923,88.73010623,88.72747853,88.72397875,88.71877413,88.7135945,88.70756859,88.70327332,88.69900346,88.7026556,88.7079495,88.71472011,88.71153776,88.72092377,88.69085773,88.68765039,88.69034158,88.69468763,88.70591815,88.71205833,88.71818582,88.72340354,88.72413554,88.72577771,88.72136817,88.73025033,88.7318544,88.73700823,88.74137968,88.71790648,88.70574039,88.71945977,88.73944589,88.75065142,88.7454337,88.73588262,88.73153698,88.73230707,88.73832028,88.74435888,88.75211543,88.75810324,88.75721887,88.75625833,88.7510533,88.73377107,88.7396954,88.75009276,88.7646453,88.758594,88.75167103,88.74560703,88.74040201,88.73356792],\"marker\":{\"color\":[1.0,2.0,2.0,1.0,2.0,2.0,2.0,2.0,2.0,1.0,1.0,1.0,2.0,2.0,2.0,2.0,1.0,1.0,1.0,1.0,1.0,1.0,1.0,1.0,1.0,1.0,1.0,1.0,1.0,1.0,1.0,1.0,1.0,1.0,1.0,1.0,1.0,1.0,1.0,2.0,2.0,2.0,2.0,2.0,2.0,2.0,2.0,2.0,2.0,2.0,2.0,2.0,2.0,2.0,2.0,1.0,1.0,1.0,1.0,1.0,1.0,1.0,1.0,2.0,1.0,1.0,1.0,1.0,1.0,1.0,1.0,2.0,1.0,2.0,2.0,2.0,2.0,2.0,2.0,2.0,2.0,2.0,2.0,2.0,2.0,1.0,1.0,1.0,1.0,1.0,1.0,1.0,1.0,2.0,2.0,2.0,2.0,2.0,2.0,2.0,2.0,2.0,2.0,2.0,2.0,2.0,2.0,1.0,1.0,2.0,2.0,2.0,1.0,1.0,1.0,1.0,1.0,1.0,1.0,1.0,1.0,1.0,1.0,1.0,1.0,1.0,1.0,1.0,1.0,1.0,1.0,1.0,1.0,1.0,1.0,1.0,1.0,1.0,2.0,2.0,2.0,2.0,2.0,2.0,2.0,2.0,2.0,2.0,2.0,2.0,2.0,2.0,2.0,2.0,2.0,1.0,1.0,1.0,1.0,1.0,1.0,1.0,1.0,1.0,1.0,1.0,1.0,1.0,1.0,1.0,1.0,1.0,1.0,1.0,1.0,1.0,1.0,1.0,1.0,1.0,1.0,1.0,1.0,1.0,1.0,1.0,1.0,1.0,1.0,1.0,2.0,2.0,2.0,2.0,2.0,2.0,2.0,2.0,2.0,2.0,2.0,2.0,2.0,2.0,2.0,2.0,2.0,2.0,2.0,2.0,2.0,2.0,2.0,2.0,2.0,2.0,2.0,2.0,2.0,2.0,2.0,2.0,2.0,2.0,2.0,2.0,2.0,2.0,2.0,2.0,2.0,2.0,2.0,2.0,2.0,2.0,2.0,2.0,2.0,2.0,1.0,1.0,1.0,1.0,2.0,2.0,1.0,1.0,1.0,1.0,1.0,1.0,1.0,2.0,1.0,1.0,1.0,1.0,1.0,1.0,1.0,1.0,1.0,1.0,1.0,2.0,1.0,1.0,1.0,2.0,2.0,1.0,1.0,1.0,1.0,1.0,1.0,1.0,1.0,1.0,1.0,1.0,1.0,1.0,1.0,1.0,1.0,1.0,1.0,1.0,1.0,1.0,1.0,1.0,1.0,1.0,1.0,1.0,1.0,1.0,1.0,1.0,1.0,1.0,1.0,1.0,1.0,1.0,1.0,1.0,1.0,1.0,1.0,1.0,1.0,1.0,1.0,1.0,1.0,1.0,1.0,1.0,1.0,1.0,1.0,1.0,1.0,1.0,1.0,1.0,1.0,1.0,1.0,1.0,1.0,1.0,1.0,1.0,1.0,1.0,1.0,1.0,1.0,1.0,1.0,1.0,1.0,1.0,1.0,1.0,1.0,1.0,1.0,1.0,1.0,1.0,1.0,1.0,1.0,1.0,1.0,1.0,1.0,1.0,1.0,1.0,1.0,1.0,1.0,1.0,1.0,1.0,1.0,1.0,1.0,2.0,2.0,2.0,2.0,2.0,2.0,2.0,2.0,2.0,2.0,2.0,2.0,2.0,2.0,2.0,2.0,1.0,1.0,1.0,1.0,1.0,1.0,1.0,1.0,1.0,1.0,1.0,1.0,1.0,1.0,1.0,1.0,1.0,1.0,1.0,1.0,1.0,1.0,1.0,1.0,1.0,1.0,1.0,1.0,1.0,1.0,1.0,1.0,1.0,1.0,1.0,1.0,1.0,1.0,1.0,1.0,1.0,1.0,1.0,1.0,1.0,1.0,1.0,1.0,2.0,2.0,2.0,2.0,2.0,2.0,2.0,2.0,2.0,2.0,2.0,2.0,2.0,2.0,2.0,2.0,2.0,2.0,2.0,2.0,2.0,1.0,2.0,1.0,1.0,1.0,1.0,1.0,1.0,1.0,2.0,2.0,2.0,2.0,2.0,2.0,2.0,2.0,2.0,2.0,2.0,2.0,2.0,2.0,2.0,2.0,1.0,1.0,1.0,1.0,1.0,2.0,2.0,2.0,2.0,2.0,2.0,2.0,2.0,2.0,2.0,2.0,2.0,2.0,2.0,2.0,2.0,2.0,2.0,2.0,1.0,1.0,1.0,1.0,1.0,2.0,2.0,2.0,2.0,2.0,2.0,2.0,2.0,2.0,2.0,2.0,2.0,1.0,1.0,2.0,1.0,2.0,2.0,2.0,1.0,1.0,1.0,1.0,1.0,1.0,1.0,1.0,1.0,1.0,3.0,1.0,1.0,1.0,1.0,1.0,1.0,1.0,1.0,1.0,1.0,1.0,1.0,1.0,1.0,1.0,1.0,1.0,1.0,1.0,1.0,1.0,1.0,1.0,1.0,1.0,1.0,1.0,1.0,1.0,1.0,1.0,1.0,1.0,1.0,1.0,1.0,1.0,1.0,1.0,1.0,1.0,1.0,1.0,1.0,1.0,1.0,1.0,1.0,1.0,1.0,1.0,1.0,1.0,1.0,1.0,1.0,1.0,1.0,1.0,1.0,1.0,1.0,1.0,1.0,1.0,1.0,1.0,1.0,1.0,1.0,1.0,1.0,3.0,3.0,3.0,3.0,3.0,3.0,3.0,3.0,3.0,3.0,3.0,3.0,3.0,3.0,3.0,3.0,3.0,1.0,1.0,1.0,1.0,1.0,1.0,1.0,3.0,1.0,3.0,1.0,1.0,1.0,1.0,1.0,1.0,2.0,2.0,2.0,2.0,2.0,2.0,2.0,2.0,2.0,2.0,2.0,2.0,2.0,2.0,2.0,2.0,2.0,2.0,2.0,2.0,1.0,1.0,1.0,1.0,1.0,1.0,1.0,1.0,1.0,1.0,1.0,1.0,1.0,1.0,1.0,1.0,1.0,1.0,1.0,1.0,2.0,2.0,2.0,2.0,1.0,1.0,1.0,1.0,1.0,1.0,1.0,1.0,1.0,1.0,1.0,1.0,1.0,1.0,1.0,1.0,2.0,2.0,2.0,2.0,2.0,2.0,2.0,2.0,2.0,2.0,2.0,2.0,2.0,2.0,2.0,2.0,1.0,1.0,2.0,1.0,1.0,1.0,1.0,3.0,3.0,3.0,3.0,3.0,3.0,3.0,3.0,3.0,3.0,3.0,3.0,1.0,1.0,1.0,1.0,1.0,1.0,1.0,1.0,1.0,1.0,1.0,1.0,1.0,1.0,1.0,1.0,3.0,3.0,3.0,3.0,3.0,3.0,3.0,3.0,1.0,1.0,1.0,1.0,1.0,1.0,1.0,1.0,2.0,2.0,3.0,3.0,3.0,3.0,3.0,3.0,1.0,2.0,2.0,2.0,1.0,1.0,1.0,1.0,1.0,1.0,1.0,1.0,1.0,1.0,1.0,2.0,2.0,2.0,2.0,2.0,2.0,2.0,2.0,2.0,2.0,2.0,2.0,2.0,2.0,2.0,2.0,2.0,2.0,2.0,2.0,2.0,2.0,2.0,2.0,2.0,2.0,2.0,2.0,2.0,2.0,2.0,2.0,2.0,2.0,2.0,2.0,2.0,2.0,2.0,2.0,2.0,2.0,2.0,1.0,1.0,1.0,1.0,1.0,2.0,1.0,1.0,1.0,1.0,1.0,1.0,1.0,1.0,1.0,1.0,1.0,1.0,1.0,1.0,2.0,2.0,2.0,2.0,2.0,2.0,2.0,2.0,2.0,2.0,2.0,2.0,2.0,2.0,2.0,2.0,2.0,2.0,2.0,2.0,2.0,2.0,2.0,2.0,2.0,2.0,2.0,2.0,2.0,1.0,1.0,1.0,1.0,2.0,2.0,2.0,1.0,1.0,1.0,2.0,1.0,1.0,1.0,1.0,1.0,1.0,1.0,1.0,1.0,1.0,1.0,1.0,1.0,1.0,1.0,1.0,1.0,2.0,2.0,1.0,1.0,1.0,1.0,1.0,1.0,1.0,1.0,1.0,2.0,2.0,2.0,2.0,2.0,2.0,2.0,2.0,2.0,2.0,2.0,2.0,2.0,2.0,2.0,2.0,2.0,2.0,2.0,2.0,2.0,2.0,2.0,2.0,2.0,2.0,2.0,2.0,2.0,2.0,2.0,2.0,2.0,2.0,2.0,2.0,2.0,2.0,2.0,2.0,2.0,2.0,2.0,2.0,2.0,2.0,2.0,2.0,2.0,2.0,2.0,2.0,2.0,2.0,2.0,1.0,1.0,1.0,1.0,1.0,1.0,1.0,1.0,1.0,1.0,1.0,1.0,1.0,1.0,1.0,1.0,2.0,1.0,1.0,2.0,1.0,2.0,2.0,2.0,2.0,2.0,2.0,2.0,2.0,2.0,2.0,2.0,2.0,2.0,2.0,2.0,2.0,2.0,2.0,2.0,2.0,2.0,2.0,2.0,2.0,2.0,2.0,2.0,2.0,2.0,2.0,2.0,2.0,2.0,2.0,2.0,2.0,2.0,2.0,2.0,2.0,2.0,2.0,2.0,2.0,2.0,2.0,2.0,2.0,2.0,2.0,2.0,2.0,2.0],\"coloraxis\":\"coloraxis\"},\"mode\":\"markers\",\"name\":\"\",\"showlegend\":false,\"subplot\":\"mapbox\",\"type\":\"scattermapbox\"}],                        {\"template\":{\"data\":{\"bar\":[{\"error_x\":{\"color\":\"#2a3f5f\"},\"error_y\":{\"color\":\"#2a3f5f\"},\"marker\":{\"line\":{\"color\":\"#E5ECF6\",\"width\":0.5},\"pattern\":{\"fillmode\":\"overlay\",\"size\":10,\"solidity\":0.2}},\"type\":\"bar\"}],\"barpolar\":[{\"marker\":{\"line\":{\"color\":\"#E5ECF6\",\"width\":0.5},\"pattern\":{\"fillmode\":\"overlay\",\"size\":10,\"solidity\":0.2}},\"type\":\"barpolar\"}],\"carpet\":[{\"aaxis\":{\"endlinecolor\":\"#2a3f5f\",\"gridcolor\":\"white\",\"linecolor\":\"white\",\"minorgridcolor\":\"white\",\"startlinecolor\":\"#2a3f5f\"},\"baxis\":{\"endlinecolor\":\"#2a3f5f\",\"gridcolor\":\"white\",\"linecolor\":\"white\",\"minorgridcolor\":\"white\",\"startlinecolor\":\"#2a3f5f\"},\"type\":\"carpet\"}],\"choropleth\":[{\"colorbar\":{\"outlinewidth\":0,\"ticks\":\"\"},\"type\":\"choropleth\"}],\"contour\":[{\"colorbar\":{\"outlinewidth\":0,\"ticks\":\"\"},\"colorscale\":[[0.0,\"#0d0887\"],[0.1111111111111111,\"#46039f\"],[0.2222222222222222,\"#7201a8\"],[0.3333333333333333,\"#9c179e\"],[0.4444444444444444,\"#bd3786\"],[0.5555555555555556,\"#d8576b\"],[0.6666666666666666,\"#ed7953\"],[0.7777777777777778,\"#fb9f3a\"],[0.8888888888888888,\"#fdca26\"],[1.0,\"#f0f921\"]],\"type\":\"contour\"}],\"contourcarpet\":[{\"colorbar\":{\"outlinewidth\":0,\"ticks\":\"\"},\"type\":\"contourcarpet\"}],\"heatmap\":[{\"colorbar\":{\"outlinewidth\":0,\"ticks\":\"\"},\"colorscale\":[[0.0,\"#0d0887\"],[0.1111111111111111,\"#46039f\"],[0.2222222222222222,\"#7201a8\"],[0.3333333333333333,\"#9c179e\"],[0.4444444444444444,\"#bd3786\"],[0.5555555555555556,\"#d8576b\"],[0.6666666666666666,\"#ed7953\"],[0.7777777777777778,\"#fb9f3a\"],[0.8888888888888888,\"#fdca26\"],[1.0,\"#f0f921\"]],\"type\":\"heatmap\"}],\"heatmapgl\":[{\"colorbar\":{\"outlinewidth\":0,\"ticks\":\"\"},\"colorscale\":[[0.0,\"#0d0887\"],[0.1111111111111111,\"#46039f\"],[0.2222222222222222,\"#7201a8\"],[0.3333333333333333,\"#9c179e\"],[0.4444444444444444,\"#bd3786\"],[0.5555555555555556,\"#d8576b\"],[0.6666666666666666,\"#ed7953\"],[0.7777777777777778,\"#fb9f3a\"],[0.8888888888888888,\"#fdca26\"],[1.0,\"#f0f921\"]],\"type\":\"heatmapgl\"}],\"histogram\":[{\"marker\":{\"pattern\":{\"fillmode\":\"overlay\",\"size\":10,\"solidity\":0.2}},\"type\":\"histogram\"}],\"histogram2d\":[{\"colorbar\":{\"outlinewidth\":0,\"ticks\":\"\"},\"colorscale\":[[0.0,\"#0d0887\"],[0.1111111111111111,\"#46039f\"],[0.2222222222222222,\"#7201a8\"],[0.3333333333333333,\"#9c179e\"],[0.4444444444444444,\"#bd3786\"],[0.5555555555555556,\"#d8576b\"],[0.6666666666666666,\"#ed7953\"],[0.7777777777777778,\"#fb9f3a\"],[0.8888888888888888,\"#fdca26\"],[1.0,\"#f0f921\"]],\"type\":\"histogram2d\"}],\"histogram2dcontour\":[{\"colorbar\":{\"outlinewidth\":0,\"ticks\":\"\"},\"colorscale\":[[0.0,\"#0d0887\"],[0.1111111111111111,\"#46039f\"],[0.2222222222222222,\"#7201a8\"],[0.3333333333333333,\"#9c179e\"],[0.4444444444444444,\"#bd3786\"],[0.5555555555555556,\"#d8576b\"],[0.6666666666666666,\"#ed7953\"],[0.7777777777777778,\"#fb9f3a\"],[0.8888888888888888,\"#fdca26\"],[1.0,\"#f0f921\"]],\"type\":\"histogram2dcontour\"}],\"mesh3d\":[{\"colorbar\":{\"outlinewidth\":0,\"ticks\":\"\"},\"type\":\"mesh3d\"}],\"parcoords\":[{\"line\":{\"colorbar\":{\"outlinewidth\":0,\"ticks\":\"\"}},\"type\":\"parcoords\"}],\"pie\":[{\"automargin\":true,\"type\":\"pie\"}],\"scatter\":[{\"marker\":{\"colorbar\":{\"outlinewidth\":0,\"ticks\":\"\"}},\"type\":\"scatter\"}],\"scatter3d\":[{\"line\":{\"colorbar\":{\"outlinewidth\":0,\"ticks\":\"\"}},\"marker\":{\"colorbar\":{\"outlinewidth\":0,\"ticks\":\"\"}},\"type\":\"scatter3d\"}],\"scattercarpet\":[{\"marker\":{\"colorbar\":{\"outlinewidth\":0,\"ticks\":\"\"}},\"type\":\"scattercarpet\"}],\"scattergeo\":[{\"marker\":{\"colorbar\":{\"outlinewidth\":0,\"ticks\":\"\"}},\"type\":\"scattergeo\"}],\"scattergl\":[{\"marker\":{\"colorbar\":{\"outlinewidth\":0,\"ticks\":\"\"}},\"type\":\"scattergl\"}],\"scattermapbox\":[{\"marker\":{\"colorbar\":{\"outlinewidth\":0,\"ticks\":\"\"}},\"type\":\"scattermapbox\"}],\"scatterpolar\":[{\"marker\":{\"colorbar\":{\"outlinewidth\":0,\"ticks\":\"\"}},\"type\":\"scatterpolar\"}],\"scatterpolargl\":[{\"marker\":{\"colorbar\":{\"outlinewidth\":0,\"ticks\":\"\"}},\"type\":\"scatterpolargl\"}],\"scatterternary\":[{\"marker\":{\"colorbar\":{\"outlinewidth\":0,\"ticks\":\"\"}},\"type\":\"scatterternary\"}],\"surface\":[{\"colorbar\":{\"outlinewidth\":0,\"ticks\":\"\"},\"colorscale\":[[0.0,\"#0d0887\"],[0.1111111111111111,\"#46039f\"],[0.2222222222222222,\"#7201a8\"],[0.3333333333333333,\"#9c179e\"],[0.4444444444444444,\"#bd3786\"],[0.5555555555555556,\"#d8576b\"],[0.6666666666666666,\"#ed7953\"],[0.7777777777777778,\"#fb9f3a\"],[0.8888888888888888,\"#fdca26\"],[1.0,\"#f0f921\"]],\"type\":\"surface\"}],\"table\":[{\"cells\":{\"fill\":{\"color\":\"#EBF0F8\"},\"line\":{\"color\":\"white\"}},\"header\":{\"fill\":{\"color\":\"#C8D4E3\"},\"line\":{\"color\":\"white\"}},\"type\":\"table\"}]},\"layout\":{\"annotationdefaults\":{\"arrowcolor\":\"#2a3f5f\",\"arrowhead\":0,\"arrowwidth\":1},\"autotypenumbers\":\"strict\",\"coloraxis\":{\"colorbar\":{\"outlinewidth\":0,\"ticks\":\"\"}},\"colorscale\":{\"diverging\":[[0,\"#8e0152\"],[0.1,\"#c51b7d\"],[0.2,\"#de77ae\"],[0.3,\"#f1b6da\"],[0.4,\"#fde0ef\"],[0.5,\"#f7f7f7\"],[0.6,\"#e6f5d0\"],[0.7,\"#b8e186\"],[0.8,\"#7fbc41\"],[0.9,\"#4d9221\"],[1,\"#276419\"]],\"sequential\":[[0.0,\"#0d0887\"],[0.1111111111111111,\"#46039f\"],[0.2222222222222222,\"#7201a8\"],[0.3333333333333333,\"#9c179e\"],[0.4444444444444444,\"#bd3786\"],[0.5555555555555556,\"#d8576b\"],[0.6666666666666666,\"#ed7953\"],[0.7777777777777778,\"#fb9f3a\"],[0.8888888888888888,\"#fdca26\"],[1.0,\"#f0f921\"]],\"sequentialminus\":[[0.0,\"#0d0887\"],[0.1111111111111111,\"#46039f\"],[0.2222222222222222,\"#7201a8\"],[0.3333333333333333,\"#9c179e\"],[0.4444444444444444,\"#bd3786\"],[0.5555555555555556,\"#d8576b\"],[0.6666666666666666,\"#ed7953\"],[0.7777777777777778,\"#fb9f3a\"],[0.8888888888888888,\"#fdca26\"],[1.0,\"#f0f921\"]]},\"colorway\":[\"#636efa\",\"#EF553B\",\"#00cc96\",\"#ab63fa\",\"#FFA15A\",\"#19d3f3\",\"#FF6692\",\"#B6E880\",\"#FF97FF\",\"#FECB52\"],\"font\":{\"color\":\"#2a3f5f\"},\"geo\":{\"bgcolor\":\"white\",\"lakecolor\":\"white\",\"landcolor\":\"#E5ECF6\",\"showlakes\":true,\"showland\":true,\"subunitcolor\":\"white\"},\"hoverlabel\":{\"align\":\"left\"},\"hovermode\":\"closest\",\"mapbox\":{\"style\":\"light\"},\"paper_bgcolor\":\"white\",\"plot_bgcolor\":\"#E5ECF6\",\"polar\":{\"angularaxis\":{\"gridcolor\":\"white\",\"linecolor\":\"white\",\"ticks\":\"\"},\"bgcolor\":\"#E5ECF6\",\"radialaxis\":{\"gridcolor\":\"white\",\"linecolor\":\"white\",\"ticks\":\"\"}},\"scene\":{\"xaxis\":{\"backgroundcolor\":\"#E5ECF6\",\"gridcolor\":\"white\",\"gridwidth\":2,\"linecolor\":\"white\",\"showbackground\":true,\"ticks\":\"\",\"zerolinecolor\":\"white\"},\"yaxis\":{\"backgroundcolor\":\"#E5ECF6\",\"gridcolor\":\"white\",\"gridwidth\":2,\"linecolor\":\"white\",\"showbackground\":true,\"ticks\":\"\",\"zerolinecolor\":\"white\"},\"zaxis\":{\"backgroundcolor\":\"#E5ECF6\",\"gridcolor\":\"white\",\"gridwidth\":2,\"linecolor\":\"white\",\"showbackground\":true,\"ticks\":\"\",\"zerolinecolor\":\"white\"}},\"shapedefaults\":{\"line\":{\"color\":\"#2a3f5f\"}},\"ternary\":{\"aaxis\":{\"gridcolor\":\"white\",\"linecolor\":\"white\",\"ticks\":\"\"},\"baxis\":{\"gridcolor\":\"white\",\"linecolor\":\"white\",\"ticks\":\"\"},\"bgcolor\":\"#E5ECF6\",\"caxis\":{\"gridcolor\":\"white\",\"linecolor\":\"white\",\"ticks\":\"\"}},\"title\":{\"x\":0.05},\"xaxis\":{\"automargin\":true,\"gridcolor\":\"white\",\"linecolor\":\"white\",\"ticks\":\"\",\"title\":{\"standoff\":15},\"zerolinecolor\":\"white\",\"zerolinewidth\":2},\"yaxis\":{\"automargin\":true,\"gridcolor\":\"white\",\"linecolor\":\"white\",\"ticks\":\"\",\"title\":{\"standoff\":15},\"zerolinecolor\":\"white\",\"zerolinewidth\":2}}},\"mapbox\":{\"domain\":{\"x\":[0.0,1.0],\"y\":[0.0,1.0]},\"center\":{\"lat\":21.858540807119923,\"lon\":88.89275864247404},\"zoom\":10,\"style\":\"open-street-map\"},\"coloraxis\":{\"colorbar\":{\"title\":{\"text\":\"color\"}},\"colorscale\":[[0.0,\"#0d0887\"],[0.1111111111111111,\"#46039f\"],[0.2222222222222222,\"#7201a8\"],[0.3333333333333333,\"#9c179e\"],[0.4444444444444444,\"#bd3786\"],[0.5555555555555556,\"#d8576b\"],[0.6666666666666666,\"#ed7953\"],[0.7777777777777778,\"#fb9f3a\"],[0.8888888888888888,\"#fdca26\"],[1.0,\"#f0f921\"]]},\"legend\":{\"tracegroupgap\":0},\"title\":{\"text\":\"Soil Category\"},\"height\":500,\"width\":500,\"margin\":{\"r\":0,\"t\":0,\"l\":0,\"b\":0}},                        {\"responsive\": true}                    ).then(function(){\n",
              "                            \n",
              "var gd = document.getElementById('2e3aa479-18e8-4060-87e0-f320c6c8b669');\n",
              "var x = new MutationObserver(function (mutations, observer) {{\n",
              "        var display = window.getComputedStyle(gd).display;\n",
              "        if (!display || display === 'none') {{\n",
              "            console.log([gd, 'removed!']);\n",
              "            Plotly.purge(gd);\n",
              "            observer.disconnect();\n",
              "        }}\n",
              "}});\n",
              "\n",
              "// Listen for the removal of the full notebook cells\n",
              "var notebookContainer = gd.closest('#notebook-container');\n",
              "if (notebookContainer) {{\n",
              "    x.observe(notebookContainer, {childList: true});\n",
              "}}\n",
              "\n",
              "// Listen for the clearing of the current output cell\n",
              "var outputEl = gd.closest('.output');\n",
              "if (outputEl) {{\n",
              "    x.observe(outputEl, {childList: true});\n",
              "}}\n",
              "\n",
              "                        })                };                            </script>        </div>\n",
              "</body>\n",
              "</html>"
            ]
          },
          "metadata": {}
        }
      ]
    },
    {
      "cell_type": "markdown",
      "source": [
        "# **On Train Data**"
      ],
      "metadata": {
        "id": "Hf1WJcT7wmwJ"
      }
    },
    {
      "cell_type": "markdown",
      "source": [
        "##**Custom Functions**\n",
        "\n",
        "\n",
        "1.   **Custom K-Means**: We have developed our own K-Means Distance measurement. It is as follows, the distance between *centorids* and the *point*, \n",
        "  \\begin{align}\\\\\\\\\n",
        "  \\mathrm{D}(\\overrightarrow{point}\\text{ },\\overrightarrow{centroid}) = α*(\\|\\overrightarrow{centroid_{paw}}\\text{ }-\\text{ }\\overrightarrow{point_{paw}}\\|)+ (1-α)*(\\|\\overrightarrow{centroid_{geo}}-\\overrightarrow{point_{geo}}\\text{ }\\|)\\\\\\\\\n",
        "  \\end{align}\n",
        "And, we untouched the rest part of regular K-Means algortihm. We have done this because we tried to explicitly seperate the tigers which are far distant geographically though they are somewhat correlated in terms of pugmark similarity. We have done this explicitly as we find out that two tiger pugmarks are clustered together by the naive K-Means algorithm but, one those pugmarks were found in nothmost region and other one at southmost region of Sundarban. \n",
        "  In our case, $\\overrightarrow{point_{geo}}$ and $\\overrightarrow{centroid_{geo}}$ are 2D vectors,\n",
        "  \\begin{align}\n",
        "    \\begin{pmatrix}\n",
        "    longitude\\\\\n",
        "    latitude\n",
        "    \\end{pmatrix}.\n",
        "  \\end{align}\n",
        "On the other hand, $\\overrightarrow{point_{paw}}$ and $\\overrightarrow{centroid_{paw}}$ are k-dimentional vectors bassed on the selected features from raw feature set consisting of geometric features of paw (e.g. log(AB), log(ABC), bounding box area etc),\n",
        "  \\begin{align}\n",
        "    \\begin{pmatrix}\n",
        "    feature-0\\\\\n",
        "    feature-1\\\\\n",
        "    .\\\\.\\\\.\\\\feature-k\n",
        "    \\end{pmatrix}.\\\\\\\\\n",
        "  \\end{align}\n",
        "2.   **Elbow Test Utilty**: Custom function to visualize the tradeoff between number of cluster and cost value produced due to clustering.\n"
      ],
      "metadata": {
        "id": "stKo3THkL-nC"
      }
    },
    {
      "cell_type": "markdown",
      "source": [
        "##### Custom K-Means"
      ],
      "metadata": {
        "id": "Y0mhMdRN0TJJ"
      }
    },
    {
      "cell_type": "code",
      "source": [
        "def euclidean(point, data):\n",
        "    \"\"\"\n",
        "    Euclidean distance between point & data.\n",
        "    Point has dimensions (m,), data has dimensions (n,m), and output will be of size (n,).\n",
        "    \"\"\"\n",
        "    return np.sqrt(np.sum((point - data)**2, axis=1))\n",
        "\n",
        "class KMEANS_CUSTOM:\n",
        "    def __init__(self, n_clusters=8, max_iter=300,alpha=0.3,seed = 0):\n",
        "        self.n_clusters = n_clusters\n",
        "        self.max_iter = max_iter\n",
        "        self.alpha = alpha\n",
        "        self.seed = seed\n",
        "\n",
        "      \n",
        "    def cost_fun(self, point, data):\n",
        "      \"\"\"\n",
        "      Using custom loss function with explicit weightage on euicledian distance in Geographical dimentions as described above\n",
        "      \"\"\"\n",
        "      data = np.array(data)\n",
        "      point = np.array(point)\n",
        "\n",
        "      non_geo_data = data[:,2:]\n",
        "      geo_data = data[:,[0,1]]\n",
        "\n",
        "      non_geo_point = point[2:]\n",
        "      geo_point = point[[0,1]]  \n",
        "\n",
        "      return self.alpha*euclidean(non_geo_point,non_geo_data) + (1-self.alpha)*euclidean(geo_point , geo_data)\n",
        "      \n",
        "    def fit(self, X_train):\n",
        "        # Initialize the centroids, using the \"k-means++\" method, where a random datapoint is selected as the first,\n",
        "        # then the rest are initialized w/ probabilities proportional to their distances to the first\n",
        "        # Pick a random point from train data for first centroid\n",
        "        random.seed(self.seed)\n",
        "        self.centroids = [random.choice(X_train)]\n",
        "        self.cost = None;\n",
        "        for _ in range(self.n_clusters-1):\n",
        "            # Calculate distances from points to the centroids\n",
        "            dists = np.sum([self.cost_fun(centroid, X_train) for centroid in self.centroids], axis=0)\n",
        "            # Normalize the distances\n",
        "            dists /= np.sum(dists)\n",
        "            # Choose remaining points based on their distances\n",
        "            new_centroid_idx, = np.random.choice(range(len(X_train)), size=1, p=dists)\n",
        "            self.centroids += [X_train[new_centroid_idx]]\n",
        "        # This initial method of randomly selecting centroid starts is less effective\n",
        "        # min_, max_ = np.min(X_train, axis=0), np.max(X_train, axis=0)\n",
        "        # self.centroids = [uniform(min_, max_) for _ in range(self.n_clusters)]\n",
        "        # Iterate, adjusting centroids until converged or until passed max_iter\n",
        "        iteration = 0\n",
        "        prev_centroids = None\n",
        "        while np.not_equal(self.centroids, prev_centroids).any() and iteration < self.max_iter:\n",
        "            # Sort each datapoint, assigning to nearest centroid\n",
        "            sorted_points = [[] for _ in range(self.n_clusters)]\n",
        "            temp_dist = 0.0\n",
        "            for x in X_train:\n",
        "                dists = self.cost_fun(x, self.centroids)\n",
        "                centroid_idx = np.argmin(dists)\n",
        "                temp_dist+=np.min(dists)\n",
        "                sorted_points[centroid_idx].append(x)\n",
        "            # Push current centroids to previous, reassign centroids as mean of the points belonging to them\n",
        "            prev_centroids = self.centroids\n",
        "            self.centroids = [np.mean(cluster, axis=0) for cluster in sorted_points]\n",
        "            for i, centroid in enumerate(self.centroids):\n",
        "                if np.isnan(centroid).any():  # Catch any np.nans, resulting from a centroid having no points\n",
        "                    self.centroids[i] = prev_centroids[i]\n",
        "            iteration += 1\n",
        "\n",
        "            self.cost = temp_dist\n",
        "\n",
        "    def evaluate(self, X):\n",
        "        centroids = []\n",
        "        centroid_idxs = []\n",
        "        for x in X:\n",
        "            dists = self.cost_fun(x, self.centroids)\n",
        "            centroid_idx = np.argmin(dists)\n",
        "            centroids.append(self.centroids[centroid_idx])\n",
        "            centroid_idxs.append(centroid_idx)\n",
        "        return self.cost,centroids, centroid_idxs"
      ],
      "metadata": {
        "id": "kohrQZWe0XZG"
      },
      "execution_count": null,
      "outputs": []
    },
    {
      "cell_type": "markdown",
      "source": [
        "##### Custom Elbow Test Util"
      ],
      "metadata": {
        "id": "TzI9Q-l0HBlz"
      }
    },
    {
      "cell_type": "code",
      "source": [
        "def elbowtest_custom(input, max_cluster,alpha, show_step=False):\n",
        "  sse = {}\n",
        "  for k in range(2, max_cluster):\n",
        "    if show_step==True:\n",
        "      print(\"k = \",str(k))\n",
        "    clustering = KMEANS_CUSTOM(n_clusters=k,max_iter=300,alpha=alpha)\n",
        "    clustering.fit(input)\n",
        "    sse[k] = clustering.evaluate(input)[0]\n",
        "  plt.figure()\n",
        "  plt.plot(list(sse.keys()), list(sse.values()))\n",
        "  plt.xlabel(\"Number of cluster\")\n",
        "  plt.ylabel(\"SSE\")\n",
        "  plt.show()"
      ],
      "metadata": {
        "id": "voR-k69-HDKU"
      },
      "execution_count": null,
      "outputs": []
    },
    {
      "cell_type": "markdown",
      "source": [
        "## **Cross Correlation Among Individual Feature Columns & Forming Feature Groups**\n",
        "\n",
        "We evaluate the cross correlation in the feature set to detect which features are highly correlated with each other. We use pearson correlation and a threshold of **0.5(green) and 0.7(red)** to group the correlated features. \n",
        "In our feature set we find out 3 group of feaures and rest of the features are kept individually. These groups are:\n",
        "\n",
        "Group 0(Correlated)            | Group 1(Higly Correlated)            | Group 2(Moderately Correlated)         |Ungrouped         |\n",
        "-------------------|------------------  | ----------------|----------------  |\n",
        "log(AB)| log(area(toe4))| log(maj_a / min_a)| log(maj_o / min_o)\n",
        "log(OA)| log(area(toe3))| log(maj_b / min_b)| bounding ratio\n",
        "log(OB)| log(area(toe2))| log(maj_c / min_c)| Lat (Geographical)\n",
        "log(AC)| log(area(toe1))| log(maj_d / min_d)| Lon (Geographical)\n",
        "log(CD)| log(area(Pad))||||\n",
        "log(OD)| log(maj_a * min_a)|||\n",
        "log(OC)| log(maj_b * min_b)|||\n",
        "log(BD)| log(maj_c * min_c)|||\n",
        "log(BC)| log(maj_d * min_d)|||\n",
        "log(AD)| log(maj_o * min_o)|||\n",
        "log(area(OCD))|bounding area|||\n",
        "log(area(BCD))||||\n",
        "log(area(ACD))||||\n",
        "log(area(OBD))||||\n",
        "log(area(OAB))||||\n",
        "log(area(ABC))||||\n",
        "log(area(ABD))||||\n",
        "log(area(OAC))||||\n",
        "log(area(OAD))||||\n",
        "log(area(OBC))||||\n",
        "bounding area ||||\n",
        "\n",
        "**Note:** We can also observe that soil type is correlated with Group 1 features. So, we have excluded soil type from grouping.\n",
        "\n",
        "One can see the Cross-Correlation Matrix here-\n",
        "![picture](https://drive.google.com/uc?id=12BFFaO3qZXn8QQ-kVI5BZbb_BwVWE-Ag)\n"
      ],
      "metadata": {
        "id": "YxoK7e0wNagr"
      }
    },
    {
      "cell_type": "code",
      "source": [
        "# Cross-Correlation Matrix\n",
        "CORR = np.vstack(((np.expand_dims([' ']+df.columns.tolist()[1:],axis=0)),        \n",
        "              np.hstack((np.expand_dims(df.columns.tolist()[1:],axis=1),np.corrcoef(all_data[:,1:].astype(np.float32),rowvar=False) ))\n",
        "              ))"
      ],
      "metadata": {
        "id": "Z2ygezu1NsBM"
      },
      "execution_count": null,
      "outputs": []
    },
    {
      "cell_type": "code",
      "source": [
        "np.savetxt(\"cross_corr_train.csv\", CORR, delimiter=\",\", fmt = \"%s\")"
      ],
      "metadata": {
        "id": "R9vHx8G7PobA"
      },
      "execution_count": null,
      "outputs": []
    },
    {
      "cell_type": "code",
      "source": [
        "# This section groups features \n",
        "feature_group0_ = all_data[:,4:24].astype(np.float32)     # log(AB). -> log(area(OBC))\n",
        "feature_group1_ = all_data[:,24:34].astype(np.float32)     # log(area(toe4)) -> log(maj_o * min_o)\n",
        "feature_group2 = all_data[:,34:38].astype(np.float32)     # log(maj_a / min_a) -> log(maj_d / min_d)\n",
        "feature_3 = all_data[:,38:39].astype(np.float32)     # log(maj_o / min_o)\n",
        "feature_4 = all_data[:,39:40].astype(np.float32)     # bounding area\n",
        "\n",
        "feature_group0 = np.concatenate((feature_group0_,feature_4),axis=1)  # feature_group1 + merged bounding area\n",
        "feature_group1 = np.concatenate((feature_group1_,feature_4),axis=1)  # feature_group2 + merged bounding area \n",
        "\n",
        "feature_5 = all_data[:,40:41].astype(np.float32)     # bounding ratio\n",
        "\n",
        "feature_6 = all_data[:,41:42].astype(np.float32)     # Lon\n",
        "feature_7 = all_data[:,42:43].astype(np.float32)     # Lat"
      ],
      "metadata": {
        "id": "-HPdYiBHtj_-"
      },
      "execution_count": null,
      "outputs": []
    },
    {
      "cell_type": "code",
      "source": [
        "raw_features = np.hstack((feature_group0_,\n",
        "                          feature_group1_,\n",
        "                          feature_group2,\n",
        "                          feature_3,\n",
        "                          feature_4,\n",
        "                          feature_5,\n",
        "                          feature_6,\n",
        "                          feature_7))"
      ],
      "metadata": {
        "id": "Gp8JXp5oVj2N"
      },
      "execution_count": null,
      "outputs": []
    },
    {
      "cell_type": "markdown",
      "source": [
        "## **Hard Coded Labels**\n",
        "\n",
        "We considered the information shared on page 15 of \n",
        "<a href=\"https://drive.google.com/uc?id=1VUon9KW2E30X1ksWKS1sz6gdplLKHqxU\">Data-Description.pdf</a>. We manually grouped the trails and assigned them a Cluster-ID (stored in list namely TRUE_CLUSTER). These label assignments are as follows-  \n",
        "\n",
        "\n",
        "\n",
        "1.   **True Cluster 1**: Gona, Bagmara\n",
        "2.   **True Cluster 2:** Khatua juri-3, Khatua juri-4, Khatua juri-5, Khatua juri-6\n",
        "3.   **True Cluster 3**: Pirkhali-1 \n",
        "4.   **True Cluster 4**: Pirkhali-2\n",
        "5.   **True Cluster 5**: Panchamukhani-4, Chamta-2, Chamta-4, Chamta-5, Chamta-6\n",
        "6.   **True Cluster 6**: Netidhopani-2\n",
        "7.   **True Cluster 7**: Gazikhali-1 ,Gazikhali-2 ,Gazikhali-3 ,Harinbhanga, Netidhopani-3 \n",
        "8.   **True Cluster 8**: Mechua-1, Mechua-2, Mechua-4\n",
        "\n"
      ],
      "metadata": {
        "id": "IB3nrNicC4np"
      }
    },
    {
      "cell_type": "code",
      "source": [
        "# To store hard coded Cluster IDs of the 64 samples from train.csv in accordance with page 15 from Data-Description\n",
        "TRUE_CLUSTER = [1,1,1,1,1,2,2,2,2,3,3,4,5,5,5,6,6,6,7,7,8,8,8,8,8,5,5,5,5,5,2,2,2,2,2,2,2,7,7,5,5,5,7,7,7,7,7,7,5,5,5,7,7,7,7,7,7,7,7,7,7,8,8,8]"
      ],
      "metadata": {
        "id": "E2hXkCFCWBY2"
      },
      "execution_count": null,
      "outputs": []
    },
    {
      "cell_type": "markdown",
      "source": [
        "## **Feature Selection / Reduction [Train Data]**\n"
      ],
      "metadata": {
        "id": "UPj1a82rBuoZ"
      }
    },
    {
      "cell_type": "markdown",
      "source": [
        "### PCA Dim. Reduction\n",
        "We can observe that Group 0 features are well correlated and Group 1 features are highly correlated. So, we reduce the dimension of Group 0 feature-space to 4D and Group 1 feature-space to 2D. As, Group-2 featrue set are moderately correlated we keep them unchanged along with the ungrouped features. We perform Principle Component Analysis(PCA) to reduce the no. of dimensions."
      ],
      "metadata": {
        "id": "fzpwvsAQC6vc"
      }
    },
    {
      "cell_type": "code",
      "source": [
        "# Dimention Reduction Using PCA from group 0 feature \n",
        "kpca = KernelPCA(n_components = 4, kernel='rbf')\n",
        "principle_cluster0 = kpca.fit_transform(feature_group0).astype(np.float32)\n",
        "\n",
        "# Dimention Reduction Using PCA from group 1 feature \n",
        "kpca = KernelPCA(n_components = 2, kernel='rbf')\n",
        "principle_cluster1 = kpca.fit_transform(feature_group1).astype(np.float32)"
      ],
      "metadata": {
        "id": "2R1b1OoHCB4K"
      },
      "execution_count": null,
      "outputs": []
    },
    {
      "cell_type": "code",
      "source": [
        "# To Store The Non-Geographical PCA reduced feature vectors \n",
        "location_eleminated_pca_selected_features = np.hstack((principle_cluster0,principle_cluster1,feature_group2,feature_3,feature_5))\n",
        "# To Store The Geographical+Non-Geographical PCA reduced feature vectors \n",
        "pca_selected_features = np.hstack((raw_features[:,37:],location_eleminated_pca_selected_features))"
      ],
      "metadata": {
        "id": "1ypxyDQRC-Oc"
      },
      "execution_count": null,
      "outputs": []
    },
    {
      "cell_type": "code",
      "source": [
        "pca_selected_features[0]"
      ],
      "metadata": {
        "colab": {
          "base_uri": "https://localhost:8080/"
        },
        "id": "1O4eZs0V0IXE",
        "outputId": "23ddcbcb-33df-4050-f74e-17bbc0f9a4f2"
      },
      "execution_count": null,
      "outputs": [
        {
          "output_type": "execute_result",
          "data": {
            "text/plain": [
              "array([ 8.89710007e+01,  2.16879997e+01, -1.19155884e-01, -2.85664748e-04,\n",
              "       -5.86063452e-02, -1.56665826e-03,  2.02565774e-01,  1.10860318e-02,\n",
              "        8.67241383e-01,  6.37958527e-01,  7.03601122e-01,  6.28318608e-01,\n",
              "        4.80916023e-01,  7.10714281e-01], dtype=float32)"
            ]
          },
          "metadata": {},
          "execution_count": 26
        }
      ]
    },
    {
      "cell_type": "markdown",
      "source": [
        "### mRMR Feature Ranking\n",
        "We use **Minimum redundancy maximum relevance** feature selection approach to rank NON-GEOGRAPHICAL features. We feed the mRMR ranker function with TRUE_CLUSTER and NON-GEOGRAPHICAL features(without any grouping/dim reduction). \n",
        "\n",
        "\n",
        "<font color=Red>Thus, we filter out</font> **<font color=Red>Top 10 NON-GEOGRAPHICAL features</font>** \n",
        "\n",
        "<font color=Red>\n",
        "\n",
        "1.   log(maj_o * min_o)\n",
        "2.   bounding ratio\n",
        "3.   log(maj_b / min_b)\n",
        "4.   log(area(Pad))\n",
        "5.   log(area(toe3))\n",
        "6.   log(area(BCD))\n",
        "7.   log(maj_b * min_b)\n",
        "8.   log(area(toe1))\n",
        "9.   log(area(ABC))\n",
        "10.  log(maj_d * min_d)\n",
        "\n",
        "\n",
        "And,</font> **<font color=Red>GEOGRAPHICAL features</font>**. \n",
        "<font color=Red>\n",
        "1. Longitude\n",
        "2. Latitude</font>\n",
        "\n"
      ],
      "metadata": {
        "id": "oUUh8XndVVUd"
      }
    },
    {
      "cell_type": "code",
      "source": [
        "# To Store The raw Non-Geographical features  \n",
        "location_eleminated_raw_features = raw_features[:,0:37]"
      ],
      "metadata": {
        "id": "6-A2krZtPBf5"
      },
      "execution_count": null,
      "outputs": []
    },
    {
      "cell_type": "code",
      "source": [
        "location_eleminated_raw_features[0]"
      ],
      "metadata": {
        "colab": {
          "base_uri": "https://localhost:8080/"
        },
        "id": "Rp_CItskP7y1",
        "outputId": "0d247e2a-b56f-4518-c54e-20cd5103873b"
      },
      "execution_count": null,
      "outputs": [
        {
          "output_type": "execute_result",
          "data": {
            "text/plain": [
              "array([0.6352357 , 0.7659794 , 0.81101567, 0.8252202 , 0.76641417,\n",
              "       0.8621908 , 0.8880157 , 0.8368522 , 0.81699795, 0.83006537,\n",
              "       0.7997118 , 0.7558528 , 0.7805469 , 0.8081228 , 0.66422015,\n",
              "       0.35210526, 0.67199713, 0.8036457 , 0.78515005, 0.77271056,\n",
              "       0.59396434, 0.7187773 , 0.7529264 , 0.7118492 , 0.86312777,\n",
              "       0.15443279, 0.44260868, 0.52992815, 0.41214353, 0.81174314,\n",
              "       0.8672414 , 0.6379585 , 0.7036011 , 0.6283186 , 0.48091602,\n",
              "       0.8883268 , 0.7107143 ], dtype=float32)"
            ]
          },
          "metadata": {},
          "execution_count": 28
        }
      ]
    },
    {
      "cell_type": "code",
      "source": [
        "location_eleminated_raw_features.shape"
      ],
      "metadata": {
        "colab": {
          "base_uri": "https://localhost:8080/"
        },
        "id": "mAIygdKWPs4s",
        "outputId": "b974b7b8-6a8f-4ae0-d2e7-27a17d1fccf0"
      },
      "execution_count": null,
      "outputs": [
        {
          "output_type": "execute_result",
          "data": {
            "text/plain": [
              "(64, 37)"
            ]
          },
          "metadata": {},
          "execution_count": 29
        }
      ]
    },
    {
      "cell_type": "code",
      "source": [
        "# Converting to dataframe\n",
        "location_eleminated_mrmr_df = pd.DataFrame(location_eleminated_raw_features[:,:])"
      ],
      "metadata": {
        "id": "m5tQ0FwaWfS-"
      },
      "execution_count": null,
      "outputs": []
    },
    {
      "cell_type": "code",
      "source": [
        "# mRMR top 10 ranking of Non-Geographical features using\n",
        "location_eleminated_mmr_ranking = mrmr_classif(X=location_eleminated_mrmr_df, y=np.array(TRUE_CLUSTER), K=10)"
      ],
      "metadata": {
        "colab": {
          "base_uri": "https://localhost:8080/"
        },
        "id": "UqzRHt1vVU2S",
        "outputId": "af5d582f-2732-450d-a387-1c39fc804354"
      },
      "execution_count": null,
      "outputs": [
        {
          "output_type": "stream",
          "name": "stderr",
          "text": [
            "100%|██████████| 10/10 [00:00<00:00, 41.34it/s]\n"
          ]
        }
      ]
    },
    {
      "cell_type": "code",
      "source": [
        "print(location_eleminated_mmr_ranking)"
      ],
      "metadata": {
        "colab": {
          "base_uri": "https://localhost:8080/"
        },
        "id": "4hTUjQehc9WU",
        "outputId": "391d0300-c953-4d61-8a94-3c40aa65c21b"
      },
      "execution_count": null,
      "outputs": [
        {
          "output_type": "stream",
          "name": "stdout",
          "text": [
            "[29, 36, 31, 24, 21, 11, 26, 23, 15, 28]\n"
          ]
        }
      ]
    },
    {
      "cell_type": "code",
      "source": [
        "location_eleminated_mmr_slected_features = raw_features[:,location_eleminated_mmr_ranking]"
      ],
      "metadata": {
        "id": "DurQzM91XlXU"
      },
      "execution_count": null,
      "outputs": []
    },
    {
      "cell_type": "code",
      "source": [
        "# to store the mRMR selcted Non-Geographical features + raw Geographical features\n",
        "mmr_slected_features = np.hstack((raw_features[:,37:],location_eleminated_mmr_slected_features))"
      ],
      "metadata": {
        "id": "CC7ZUYrXQtDN"
      },
      "execution_count": null,
      "outputs": []
    },
    {
      "cell_type": "code",
      "source": [
        "mmr_slected_features.shape"
      ],
      "metadata": {
        "colab": {
          "base_uri": "https://localhost:8080/"
        },
        "id": "FjmA0wqiYQ2T",
        "outputId": "fefba0ad-735d-455f-a386-e376239db00d"
      },
      "execution_count": null,
      "outputs": [
        {
          "output_type": "execute_result",
          "data": {
            "text/plain": [
              "(64, 12)"
            ]
          },
          "metadata": {},
          "execution_count": 35
        }
      ]
    },
    {
      "cell_type": "code",
      "source": [
        "mmr_slected_features[0]"
      ],
      "metadata": {
        "id": "3WXDtOicJ0jZ",
        "colab": {
          "base_uri": "https://localhost:8080/"
        },
        "outputId": "f3d74763-9b6a-40f4-95f6-1f1ae54002e1"
      },
      "execution_count": null,
      "outputs": [
        {
          "output_type": "execute_result",
          "data": {
            "text/plain": [
              "array([88.971     , 21.688     ,  0.81174314,  0.7107143 ,  0.6379585 ,\n",
              "        0.86312777,  0.7187773 ,  0.7558528 ,  0.44260868,  0.7118492 ,\n",
              "        0.35210526,  0.41214353], dtype=float32)"
            ]
          },
          "metadata": {},
          "execution_count": 36
        }
      ]
    },
    {
      "cell_type": "markdown",
      "source": [
        "## **Unsupervised Clustering Of Tigers On Train Data**"
      ],
      "metadata": {
        "id": "C09Fd98jGpTl"
      }
    },
    {
      "cell_type": "markdown",
      "source": [
        "#### Elbow Test On *mrmr_selected_features* Using Custom K-Means\n",
        "We can observe that within k = 7-9 range, the plot starts to flatten"
      ],
      "metadata": {
        "id": "ZACyxC6IIt70"
      }
    },
    {
      "cell_type": "code",
      "source": [
        "elbowtest_custom(mmr_slected_features,40,0.1,show_step=False)"
      ],
      "metadata": {
        "colab": {
          "base_uri": "https://localhost:8080/",
          "height": 361
        },
        "id": "NZ2mFm4dIxzi",
        "outputId": "e0115502-4531-4ee1-eb7d-efb2085ae0e1"
      },
      "execution_count": null,
      "outputs": [
        {
          "output_type": "display_data",
          "data": {
            "text/plain": [
              "<Figure size 576x396 with 1 Axes>"
            ],
            "image/png": "[encoded data removed]"
          },
          "metadata": {}
        }
      ]
    },
    {
      "cell_type": "markdown",
      "source": [
        "#### Elbow Test On pca_selected_features Using Custom K-Means\n",
        "We can observe that within k = 8-10 range, the plot starts to flatten"
      ],
      "metadata": {
        "id": "JaSMcRLOWlw5"
      }
    },
    {
      "cell_type": "code",
      "source": [
        "elbowtest_custom(pca_selected_features,40,0.1,show_step=False)"
      ],
      "metadata": {
        "colab": {
          "base_uri": "https://localhost:8080/",
          "height": 361
        },
        "id": "qOiIRAfG3cCz",
        "outputId": "a202e362-4b58-4dec-d4bd-0950a85b1330"
      },
      "execution_count": null,
      "outputs": [
        {
          "output_type": "display_data",
          "data": {
            "text/plain": [
              "<Figure size 576x396 with 1 Axes>"
            ],
            "image/png": "[encoded data removed]"
          },
          "metadata": {}
        }
      ]
    },
    {
      "cell_type": "markdown",
      "source": [
        "#### Clustering\n",
        "**<font color='red'>Based on the elbow test, we find out that The Estimated Number Of Distinct Tigers is $≈ 8$</font>**"
      ],
      "metadata": {
        "id": "DgM1cnRzWr4_"
      }
    },
    {
      "cell_type": "code",
      "source": [
        "NUMBER_OF_CLUSTER = 8"
      ],
      "metadata": {
        "id": "nsCwY0pQUL-r"
      },
      "execution_count": null,
      "outputs": []
    },
    {
      "cell_type": "code",
      "source": [
        "clustering = KMEANS_CUSTOM(n_clusters=NUMBER_OF_CLUSTER,alpha=0.1)\n",
        "clustering.fit(mmr_slected_features)\n",
        "cost,_,labels_hc = clustering.evaluate(mmr_slected_features)\n",
        "print(TRUE_CLUSTER)\n",
        "print(list(labels_hc))"
      ],
      "metadata": {
        "colab": {
          "base_uri": "https://localhost:8080/"
        },
        "id": "d6rFGAgMBcjN",
        "outputId": "eba99dfc-cedd-412b-f75b-6b72062609f2"
      },
      "execution_count": null,
      "outputs": [
        {
          "output_type": "stream",
          "name": "stdout",
          "text": [
            "[1, 1, 1, 1, 1, 2, 2, 2, 2, 3, 3, 4, 5, 5, 5, 6, 6, 6, 7, 7, 8, 8, 8, 8, 8, 5, 5, 5, 5, 5, 2, 2, 2, 2, 2, 2, 2, 7, 7, 5, 5, 5, 7, 7, 7, 7, 7, 7, 5, 5, 5, 7, 7, 7, 7, 7, 7, 7, 7, 7, 7, 8, 8, 8]\n",
            "[3, 7, 3, 3, 3, 2, 2, 2, 2, 1, 1, 1, 0, 0, 0, 4, 4, 4, 4, 4, 6, 6, 6, 6, 6, 5, 5, 5, 5, 5, 2, 2, 2, 2, 2, 2, 2, 2, 2, 0, 0, 0, 4, 4, 4, 4, 4, 4, 0, 0, 0, 4, 4, 4, 4, 4, 4, 4, 4, 4, 4, 6, 6, 6]\n"
          ]
        }
      ]
    },
    {
      "cell_type": "markdown",
      "source": [
        "#### Statistical Measure\n",
        "We use Homogenity Score, Completeness And V-Measure Statistics to estimate how well the clusters are formed comapered to TRUE-LABEL"
      ],
      "metadata": {
        "id": "45g-HZyGzPi0"
      }
    },
    {
      "cell_type": "code",
      "source": [
        "print(f\"Homogeneity: {metrics.homogeneity_score(TRUE_CLUSTER, labels_hc):.3f}\")\n",
        "print(f\"Completeness: {metrics.completeness_score(TRUE_CLUSTER, labels_hc):.3f}\")\n",
        "print(f\"V-measure: {metrics.v_measure_score(TRUE_CLUSTER, labels_hc):.3f}\")"
      ],
      "metadata": {
        "colab": {
          "base_uri": "https://localhost:8080/"
        },
        "id": "eWSxFltbUwkJ",
        "outputId": "b9074052-5529-4ae8-beca-5cb58ac874b0"
      },
      "execution_count": null,
      "outputs": [
        {
          "output_type": "stream",
          "name": "stdout",
          "text": [
            "Homogeneity: 0.858\n",
            "Completeness: 0.843\n",
            "V-measure: 0.851\n"
          ]
        }
      ]
    },
    {
      "cell_type": "markdown",
      "source": [
        "## **Unsupervised Sub Clustering Of Tigers**\n",
        "We independently run DBSCAN clustering algorithm on the samples from each of the Geo-Graphical Cluster separately. DBSCAN algorithm does not need the number of clusters as input parameter. It takes min_sample(min number of paw-print in close proximity to form a valid cluster) and eps(The maximum distance between two samples for one to be considered as in the neighborhood of the other). \n",
        "\n",
        "**We chose eps = 0.9 and min_sample = 1 to find the upperbound of cluster numbers and min_sample = 5 to find the regular number of clusters.** \n",
        ">>Example: sub_cluster_id = 7\\~1, this signifies 1$^{st}$ feature wise subcluster in 7$^{th}$ geographical cluster. 7\\~noise are sub-clusters with noise (i.e. outliers) in  7$^{th}$ geographical cluster."
      ],
      "metadata": {
        "id": "EJg6PPVHRhPk"
      }
    },
    {
      "cell_type": "markdown",
      "source": [
        "##### Utility Function To Run DBSCAN Algorithm in each geo-cluster. This returns number of subclusters in each geo-cluster, total number of subclusters and sub_cluster list. "
      ],
      "metadata": {
        "id": "G4UuFoCma4nL"
      }
    },
    {
      "cell_type": "code",
      "source": [
        "def accumulate_number_of_subcluster_dbscan(num_reg_cluster, reg_ids,input,eps=float('inf'), min_samples=3):\n",
        "  sub_freq_cluster_list = []\n",
        "  all_cluster_list = reg_ids.astype(str)\n",
        "  for id in range(num_reg_cluster):\n",
        "    indx = np.where(reg_ids==id)\n",
        "    A = input[indx]\n",
        "    cluster_db = sklearn.cluster.DBSCAN(eps=eps, min_samples=min_samples).fit(A)\n",
        "    labels_db = cluster_db.labels_\n",
        "    # Number of clusters in labels, ignoring noise if present.\n",
        "    n_clusters_db = max(1,len(set(labels_db)) - (1 if -1 in labels_db else 0))\n",
        "    n_noise_db = list(labels_db).count(-1)\n",
        "    j = 0\n",
        "    for i in indx[0]:\n",
        "      all_cluster_list[i] = all_cluster_list[i]+'~'+str(\"noise\" if labels_db[j]==-1 else labels_db[j])\n",
        "      j+=1\n",
        "    # print(\"Estimated number of clusters: %d\" % n_clusters_db)\n",
        "    # print(\"Estimated number of noise points: %d\" % n_noise_db)\n",
        "    sub_freq_cluster_list.append(n_clusters_db)\n",
        "  return sub_freq_cluster_list, np.sum(sub_freq_cluster_list), all_cluster_list"
      ],
      "metadata": {
        "id": "UO-13U7CVZRi"
      },
      "execution_count": null,
      "outputs": []
    },
    {
      "cell_type": "markdown",
      "source": [
        "##### **Subclustering Based On Feature selected with mRMR algorithm**"
      ],
      "metadata": {
        "id": "YuF8cTKuu-jT"
      }
    },
    {
      "cell_type": "markdown",
      "source": [
        "###### *min_samples = 5*"
      ],
      "metadata": {
        "id": "OWbCrf34f1JI"
      }
    },
    {
      "cell_type": "code",
      "source": [
        "sub_freq_cluster_list,n_sub_cluster,all_sub_cluster_list = accumulate_number_of_subcluster_dbscan(NUM_REGION_CLUSTER, reg_labels_kmean, location_eleminated_mmr_slected_features,eps=0.9, min_samples=5)\n",
        "\n",
        "print(\" number of subclusters in each geo-cluster: \",sub_freq_cluster_list)\n",
        "print(\" total number of subclusters: \",n_sub_cluster)\n",
        "print(\" sub_cluster list: \",all_sub_cluster_list)\n",
        "\n",
        "mrmr_n_sub_cluster = n_sub_cluster\n",
        "mrmr_all_sub_cluster_list = all_sub_cluster_list"
      ],
      "metadata": {
        "colab": {
          "base_uri": "https://localhost:8080/"
        },
        "id": "SkimDaScRmBe",
        "outputId": "61f2b123-da99-4e4c-92ba-b879d1577941"
      },
      "execution_count": null,
      "outputs": [
        {
          "output_type": "stream",
          "name": "stdout",
          "text": [
            " number of subclusters in each geo-cluster:  [1, 1, 1, 1, 1, 1, 1, 1]\n",
            " total number of subclusters:  8\n",
            " sub_cluster list:  ['2~0' '2~0' '2~0' '2~0' '2~0' '7~0' '7~0' '7~0' '7~0' '0~noise' '0~noise'\n",
            " '0~noise' '1~0' '1~0' '1~0' '6~0' '6~0' '6~0' '6~0' '6~0' '5~0' '5~0'\n",
            " '5~0' '5~0' '5~0' '1~0' '1~0' '1~0' '1~0' '1~0' '3~0' '3~0' '3~0' '3~0'\n",
            " '3~0' '3~0' '3~0' '7~0' '7~noise' '1~0' '1~0' '1~0' '4~0' '4~0' '4~0'\n",
            " '4~0' '4~0' '4~0' '1~0' '1~0' '1~0' '4~0' '4~0' '4~0' '4~0' '4~0' '4~0'\n",
            " '4~0' '4~0' '4~0' '4~0' '5~0' '5~0' '5~0']\n"
          ]
        }
      ]
    },
    {
      "cell_type": "markdown",
      "source": [
        "##### *min_samples=1 (to get the upperbound)*"
      ],
      "metadata": {
        "id": "o4E5QqmRjOCP"
      }
    },
    {
      "cell_type": "code",
      "source": [
        "sub_freq_cluster_list,n_sub_cluster,all_sub_cluster_list = accumulate_number_of_subcluster_dbscan(NUM_REGION_CLUSTER, reg_labels_kmean, location_eleminated_mmr_slected_features,eps=0.9, min_samples=1)\n",
        "\n",
        "print(\" upperbound of number of subclusters in each geo-cluster: \",sub_freq_cluster_list)\n",
        "print(\" upperbound of total number of subclusters: \",n_sub_cluster)\n",
        "\n",
        "mrmr_upper_num_cluster = n_sub_cluster\n",
        "mrmr_upper_labels_hc = all_sub_cluster_list"
      ],
      "metadata": {
        "colab": {
          "base_uri": "https://localhost:8080/"
        },
        "id": "i2lhlL2fjZXu",
        "outputId": "56cdcd9a-4c5c-43c3-91db-0db9387344f5"
      },
      "execution_count": null,
      "outputs": [
        {
          "output_type": "stream",
          "name": "stdout",
          "text": [
            " upperbound of number of subclusters in each geo-cluster:  [1, 1, 1, 1, 1, 1, 1, 1]\n",
            " upperbound of total number of subclusters:  8\n"
          ]
        }
      ]
    },
    {
      "cell_type": "markdown",
      "source": [
        "##### **Subclustering Based On Feature selected with PCA algorithm**"
      ],
      "metadata": {
        "id": "4kynmGkAvA_3"
      }
    },
    {
      "cell_type": "markdown",
      "source": [
        "###### *min_samples = 5*"
      ],
      "metadata": {
        "id": "582GGI9Egrdn"
      }
    },
    {
      "cell_type": "code",
      "source": [
        "sub_freq_cluster_list,n_sub_cluster,all_sub_cluster_list = accumulate_number_of_subcluster_dbscan(NUM_REGION_CLUSTER, reg_labels_kmean, location_eleminated_pca_selected_features,eps=0.9, min_samples=5)\n",
        "\n",
        "print(\" number of subclusters in each geo-cluster: \",sub_freq_cluster_list)\n",
        "print(\" total number of subclusters: \",n_sub_cluster)\n",
        "print(\" sub_cluster list: \",all_sub_cluster_list)\n",
        "\n",
        "pca_upper_num_cluster = n_sub_cluster\n",
        "pca_upper_labels_hc = all_sub_cluster_list"
      ],
      "metadata": {
        "colab": {
          "base_uri": "https://localhost:8080/"
        },
        "id": "tiK5PgAkbfu-",
        "outputId": "ca1b1ca6-2487-4c08-f1bf-9b8209b32357"
      },
      "execution_count": null,
      "outputs": [
        {
          "output_type": "stream",
          "name": "stdout",
          "text": [
            " number of subclusters in each geo-cluster:  [1, 1, 1, 1, 1, 1, 1, 1]\n",
            " total number of subclusters:  8\n",
            " sub_cluster list:  ['2~0' '2~0' '2~0' '2~0' '2~0' '7~0' '7~0' '7~0' '7~0' '0~noise' '0~noise'\n",
            " '0~noise' '1~0' '1~0' '1~0' '6~0' '6~0' '6~0' '6~0' '6~0' '5~0' '5~0'\n",
            " '5~0' '5~0' '5~0' '1~0' '1~0' '1~0' '1~0' '1~0' '3~0' '3~0' '3~0' '3~0'\n",
            " '3~0' '3~0' '3~0' '7~0' '7~noise' '1~0' '1~0' '1~0' '4~0' '4~0' '4~0'\n",
            " '4~0' '4~0' '4~0' '1~0' '1~0' '1~0' '4~0' '4~0' '4~0' '4~0' '4~0' '4~0'\n",
            " '4~0' '4~0' '4~0' '4~0' '5~0' '5~0' '5~0']\n"
          ]
        }
      ]
    },
    {
      "cell_type": "markdown",
      "source": [
        "##### *min_samples=1 (to get the upperbound)*"
      ],
      "metadata": {
        "id": "ZuByk5ofj0rg"
      }
    },
    {
      "cell_type": "code",
      "source": [
        "sub_freq_cluster_list,n_sub_cluster,all_sub_cluster_list = accumulate_number_of_subcluster_dbscan(NUM_REGION_CLUSTER, reg_labels_kmean, location_eleminated_pca_selected_features,eps=0.9, min_samples=1)\n",
        "\n",
        "print(\" upperbound of number of subclusters in each geo-cluster: \",sub_freq_cluster_list)\n",
        "print(\" upperbound of total number of subclusters: \",n_sub_cluster)\n",
        "\n",
        "pca_upper_num_cluster = n_sub_cluster\n",
        "pca_upper_labels_hc = all_sub_cluster_list"
      ],
      "metadata": {
        "colab": {
          "base_uri": "https://localhost:8080/"
        },
        "outputId": "3dac5031-8102-4b8b-f19f-0de1a2b1244d",
        "id": "LIomTtQBj0rg"
      },
      "execution_count": null,
      "outputs": [
        {
          "output_type": "stream",
          "name": "stdout",
          "text": [
            " upperbound of number of subclusters in each geo-cluster:  [1, 1, 1, 1, 1, 1, 1, 1]\n",
            " upperbound of total number of subclusters:  8\n"
          ]
        }
      ]
    },
    {
      "cell_type": "markdown",
      "source": [
        "###**<font color='red'>Based on the Sub-clustering method, we find out that The Estimated Number Of Distinct Tigers is $≈ 8$ in the training dataset, using both PCA and mRMR selected features, for eps = 0.9 and min_sample = 5, where 3 samples are classified as outliers. Additionally, we found that upper bound of Number Of Distinct Tigers is 8 using min_sample=1. </font>**\n",
        "### *This holds good with the information provided in Data_Description.pdf (page 15)*"
      ],
      "metadata": {
        "id": "9Ver2_4Ke0Vl"
      }
    },
    {
      "cell_type": "markdown",
      "source": [
        "## **Visualizing Train Data [Plotting The training samples at respective Geographical Position using different colors for different group id]**"
      ],
      "metadata": {
        "id": "qL4cM-YGK5IG"
      }
    },
    {
      "cell_type": "markdown",
      "source": [
        "### Based on the result acheived from Custom K-Means approach using mRMR selected features."
      ],
      "metadata": {
        "id": "clmw8vFVsRVd"
      }
    },
    {
      "cell_type": "code",
      "source": [
        "fig = px.scatter_mapbox(df[['Lat', 'Long']],\n",
        "                        lat=\"Lat\", \n",
        "                        lon=\"Long\",\n",
        "                        color = labels_hc,\n",
        "                        zoom=10, \n",
        "                        height=500,\n",
        "                        width=500,title=\"Tiger Category\")\n",
        "\n",
        "fig.update_layout(mapbox_style=\"open-street-map\")\n",
        "fig.update_layout(margin={\"r\":0,\"t\":0,\"l\":0,\"b\":0})\n",
        "fig.show()"
      ],
      "metadata": {
        "colab": {
          "base_uri": "https://localhost:8080/"
        },
        "outputId": "e702f980-2cc7-4aca-a90c-aee854462257",
        "id": "xcHbfJe7K5IT"
      },
      "execution_count": null,
      "outputs": [
        {
          "output_type": "display_data",
          "data": {
            "text/html": [
              "<html>\n",
              "<head><meta charset=\"utf-8\" /></head>\n",
              "<body>\n",
              "    <div>            <script src=\"https://cdnjs.cloudflare.com/ajax/libs/mathjax/2.7.5/MathJax.js?config=TeX-AMS-MML_SVG\"></script><script type=\"text/javascript\">if (window.MathJax) {MathJax.Hub.Config({SVG: {font: \"STIX-Web\"}});}</script>                <script type=\"text/javascript\">window.PlotlyConfig = {MathJaxConfig: 'local'};</script>\n",
              "        <script src=\"https://cdn.plot.ly/plotly-2.8.3.min.js\"></script>                <div id=\"392623b1-b379-43a3-8b58-8f9a2f6d5f3a\" class=\"plotly-graph-div\" style=\"height:500px; width:500px;\"></div>            <script type=\"text/javascript\">                                    window.PLOTLYENV=window.PLOTLYENV || {};                                    if (document.getElementById(\"392623b1-b379-43a3-8b58-8f9a2f6d5f3a\")) {                    Plotly.newPlot(                        \"392623b1-b379-43a3-8b58-8f9a2f6d5f3a\",                        [{\"hovertemplate\":\"Lat=%{lat}<br>Long=%{lon}<br>color=%{marker.color}<extra></extra>\",\"lat\":[21.688,21.686,21.696,21.689,21.697,22.021,22.02,22.021,22.021,22.086,22.088,22.093,21.836,21.837,21.835,21.91,21.91,21.91,21.915,21.915,21.619,21.619,21.619,21.619,21.62,21.867,21.867,21.872,21.932,21.93,21.955,21.958,21.957,21.958,21.957,21.956,21.958,22.025,22.03,21.843,21.844,21.844,21.971,21.977,21.972,21.976,21.976,21.976,21.842,21.838,21.834,21.973,21.971,21.973,21.972,21.973,21.968,21.963,21.963,21.968,21.963,21.61,21.608,21.607],\"legendgroup\":\"\",\"lon\":[88.971,88.982,88.983,88.977,88.975,89.019,89.016,89.018,89.014,88.808,88.812,88.808,88.885,88.886,88.884,88.738,88.737,88.737,88.733,88.732,89.0,88.999,88.999,88.998,89.0,88.906,88.901,88.905,88.866,88.87,89.039,89.041,89.041,89.042,89.04,89.041,89.04,88.936,88.94,88.887,88.887,88.887,88.785,88.786,88.784,88.787,88.787,88.786,88.886,88.889,88.889,88.782,88.781,88.784,88.78,88.783,88.784,88.785,88.785,88.785,88.785,88.996,89.001,89.002],\"marker\":{\"color\":[5,5,5,5,5,3,3,3,3,1,1,1,0,0,0,2,2,2,2,2,6,6,6,6,6,0,0,0,0,1,7,7,7,7,7,7,7,4,4,0,0,0,1,1,1,1,1,1,0,0,0,1,1,1,1,1,1,1,1,1,1,6,6,6],\"coloraxis\":\"coloraxis\"},\"mode\":\"markers\",\"name\":\"\",\"showlegend\":false,\"subplot\":\"mapbox\",\"type\":\"scattermapbox\"}],                        {\"template\":{\"data\":{\"bar\":[{\"error_x\":{\"color\":\"#2a3f5f\"},\"error_y\":{\"color\":\"#2a3f5f\"},\"marker\":{\"line\":{\"color\":\"#E5ECF6\",\"width\":0.5},\"pattern\":{\"fillmode\":\"overlay\",\"size\":10,\"solidity\":0.2}},\"type\":\"bar\"}],\"barpolar\":[{\"marker\":{\"line\":{\"color\":\"#E5ECF6\",\"width\":0.5},\"pattern\":{\"fillmode\":\"overlay\",\"size\":10,\"solidity\":0.2}},\"type\":\"barpolar\"}],\"carpet\":[{\"aaxis\":{\"endlinecolor\":\"#2a3f5f\",\"gridcolor\":\"white\",\"linecolor\":\"white\",\"minorgridcolor\":\"white\",\"startlinecolor\":\"#2a3f5f\"},\"baxis\":{\"endlinecolor\":\"#2a3f5f\",\"gridcolor\":\"white\",\"linecolor\":\"white\",\"minorgridcolor\":\"white\",\"startlinecolor\":\"#2a3f5f\"},\"type\":\"carpet\"}],\"choropleth\":[{\"colorbar\":{\"outlinewidth\":0,\"ticks\":\"\"},\"type\":\"choropleth\"}],\"contour\":[{\"colorbar\":{\"outlinewidth\":0,\"ticks\":\"\"},\"colorscale\":[[0.0,\"#0d0887\"],[0.1111111111111111,\"#46039f\"],[0.2222222222222222,\"#7201a8\"],[0.3333333333333333,\"#9c179e\"],[0.4444444444444444,\"#bd3786\"],[0.5555555555555556,\"#d8576b\"],[0.6666666666666666,\"#ed7953\"],[0.7777777777777778,\"#fb9f3a\"],[0.8888888888888888,\"#fdca26\"],[1.0,\"#f0f921\"]],\"type\":\"contour\"}],\"contourcarpet\":[{\"colorbar\":{\"outlinewidth\":0,\"ticks\":\"\"},\"type\":\"contourcarpet\"}],\"heatmap\":[{\"colorbar\":{\"outlinewidth\":0,\"ticks\":\"\"},\"colorscale\":[[0.0,\"#0d0887\"],[0.1111111111111111,\"#46039f\"],[0.2222222222222222,\"#7201a8\"],[0.3333333333333333,\"#9c179e\"],[0.4444444444444444,\"#bd3786\"],[0.5555555555555556,\"#d8576b\"],[0.6666666666666666,\"#ed7953\"],[0.7777777777777778,\"#fb9f3a\"],[0.8888888888888888,\"#fdca26\"],[1.0,\"#f0f921\"]],\"type\":\"heatmap\"}],\"heatmapgl\":[{\"colorbar\":{\"outlinewidth\":0,\"ticks\":\"\"},\"colorscale\":[[0.0,\"#0d0887\"],[0.1111111111111111,\"#46039f\"],[0.2222222222222222,\"#7201a8\"],[0.3333333333333333,\"#9c179e\"],[0.4444444444444444,\"#bd3786\"],[0.5555555555555556,\"#d8576b\"],[0.6666666666666666,\"#ed7953\"],[0.7777777777777778,\"#fb9f3a\"],[0.8888888888888888,\"#fdca26\"],[1.0,\"#f0f921\"]],\"type\":\"heatmapgl\"}],\"histogram\":[{\"marker\":{\"pattern\":{\"fillmode\":\"overlay\",\"size\":10,\"solidity\":0.2}},\"type\":\"histogram\"}],\"histogram2d\":[{\"colorbar\":{\"outlinewidth\":0,\"ticks\":\"\"},\"colorscale\":[[0.0,\"#0d0887\"],[0.1111111111111111,\"#46039f\"],[0.2222222222222222,\"#7201a8\"],[0.3333333333333333,\"#9c179e\"],[0.4444444444444444,\"#bd3786\"],[0.5555555555555556,\"#d8576b\"],[0.6666666666666666,\"#ed7953\"],[0.7777777777777778,\"#fb9f3a\"],[0.8888888888888888,\"#fdca26\"],[1.0,\"#f0f921\"]],\"type\":\"histogram2d\"}],\"histogram2dcontour\":[{\"colorbar\":{\"outlinewidth\":0,\"ticks\":\"\"},\"colorscale\":[[0.0,\"#0d0887\"],[0.1111111111111111,\"#46039f\"],[0.2222222222222222,\"#7201a8\"],[0.3333333333333333,\"#9c179e\"],[0.4444444444444444,\"#bd3786\"],[0.5555555555555556,\"#d8576b\"],[0.6666666666666666,\"#ed7953\"],[0.7777777777777778,\"#fb9f3a\"],[0.8888888888888888,\"#fdca26\"],[1.0,\"#f0f921\"]],\"type\":\"histogram2dcontour\"}],\"mesh3d\":[{\"colorbar\":{\"outlinewidth\":0,\"ticks\":\"\"},\"type\":\"mesh3d\"}],\"parcoords\":[{\"line\":{\"colorbar\":{\"outlinewidth\":0,\"ticks\":\"\"}},\"type\":\"parcoords\"}],\"pie\":[{\"automargin\":true,\"type\":\"pie\"}],\"scatter\":[{\"marker\":{\"colorbar\":{\"outlinewidth\":0,\"ticks\":\"\"}},\"type\":\"scatter\"}],\"scatter3d\":[{\"line\":{\"colorbar\":{\"outlinewidth\":0,\"ticks\":\"\"}},\"marker\":{\"colorbar\":{\"outlinewidth\":0,\"ticks\":\"\"}},\"type\":\"scatter3d\"}],\"scattercarpet\":[{\"marker\":{\"colorbar\":{\"outlinewidth\":0,\"ticks\":\"\"}},\"type\":\"scattercarpet\"}],\"scattergeo\":[{\"marker\":{\"colorbar\":{\"outlinewidth\":0,\"ticks\":\"\"}},\"type\":\"scattergeo\"}],\"scattergl\":[{\"marker\":{\"colorbar\":{\"outlinewidth\":0,\"ticks\":\"\"}},\"type\":\"scattergl\"}],\"scattermapbox\":[{\"marker\":{\"colorbar\":{\"outlinewidth\":0,\"ticks\":\"\"}},\"type\":\"scattermapbox\"}],\"scatterpolar\":[{\"marker\":{\"colorbar\":{\"outlinewidth\":0,\"ticks\":\"\"}},\"type\":\"scatterpolar\"}],\"scatterpolargl\":[{\"marker\":{\"colorbar\":{\"outlinewidth\":0,\"ticks\":\"\"}},\"type\":\"scatterpolargl\"}],\"scatterternary\":[{\"marker\":{\"colorbar\":{\"outlinewidth\":0,\"ticks\":\"\"}},\"type\":\"scatterternary\"}],\"surface\":[{\"colorbar\":{\"outlinewidth\":0,\"ticks\":\"\"},\"colorscale\":[[0.0,\"#0d0887\"],[0.1111111111111111,\"#46039f\"],[0.2222222222222222,\"#7201a8\"],[0.3333333333333333,\"#9c179e\"],[0.4444444444444444,\"#bd3786\"],[0.5555555555555556,\"#d8576b\"],[0.6666666666666666,\"#ed7953\"],[0.7777777777777778,\"#fb9f3a\"],[0.8888888888888888,\"#fdca26\"],[1.0,\"#f0f921\"]],\"type\":\"surface\"}],\"table\":[{\"cells\":{\"fill\":{\"color\":\"#EBF0F8\"},\"line\":{\"color\":\"white\"}},\"header\":{\"fill\":{\"color\":\"#C8D4E3\"},\"line\":{\"color\":\"white\"}},\"type\":\"table\"}]},\"layout\":{\"annotationdefaults\":{\"arrowcolor\":\"#2a3f5f\",\"arrowhead\":0,\"arrowwidth\":1},\"autotypenumbers\":\"strict\",\"coloraxis\":{\"colorbar\":{\"outlinewidth\":0,\"ticks\":\"\"}},\"colorscale\":{\"diverging\":[[0,\"#8e0152\"],[0.1,\"#c51b7d\"],[0.2,\"#de77ae\"],[0.3,\"#f1b6da\"],[0.4,\"#fde0ef\"],[0.5,\"#f7f7f7\"],[0.6,\"#e6f5d0\"],[0.7,\"#b8e186\"],[0.8,\"#7fbc41\"],[0.9,\"#4d9221\"],[1,\"#276419\"]],\"sequential\":[[0.0,\"#0d0887\"],[0.1111111111111111,\"#46039f\"],[0.2222222222222222,\"#7201a8\"],[0.3333333333333333,\"#9c179e\"],[0.4444444444444444,\"#bd3786\"],[0.5555555555555556,\"#d8576b\"],[0.6666666666666666,\"#ed7953\"],[0.7777777777777778,\"#fb9f3a\"],[0.8888888888888888,\"#fdca26\"],[1.0,\"#f0f921\"]],\"sequentialminus\":[[0.0,\"#0d0887\"],[0.1111111111111111,\"#46039f\"],[0.2222222222222222,\"#7201a8\"],[0.3333333333333333,\"#9c179e\"],[0.4444444444444444,\"#bd3786\"],[0.5555555555555556,\"#d8576b\"],[0.6666666666666666,\"#ed7953\"],[0.7777777777777778,\"#fb9f3a\"],[0.8888888888888888,\"#fdca26\"],[1.0,\"#f0f921\"]]},\"colorway\":[\"#636efa\",\"#EF553B\",\"#00cc96\",\"#ab63fa\",\"#FFA15A\",\"#19d3f3\",\"#FF6692\",\"#B6E880\",\"#FF97FF\",\"#FECB52\"],\"font\":{\"color\":\"#2a3f5f\"},\"geo\":{\"bgcolor\":\"white\",\"lakecolor\":\"white\",\"landcolor\":\"#E5ECF6\",\"showlakes\":true,\"showland\":true,\"subunitcolor\":\"white\"},\"hoverlabel\":{\"align\":\"left\"},\"hovermode\":\"closest\",\"mapbox\":{\"style\":\"light\"},\"paper_bgcolor\":\"white\",\"plot_bgcolor\":\"#E5ECF6\",\"polar\":{\"angularaxis\":{\"gridcolor\":\"white\",\"linecolor\":\"white\",\"ticks\":\"\"},\"bgcolor\":\"#E5ECF6\",\"radialaxis\":{\"gridcolor\":\"white\",\"linecolor\":\"white\",\"ticks\":\"\"}},\"scene\":{\"xaxis\":{\"backgroundcolor\":\"#E5ECF6\",\"gridcolor\":\"white\",\"gridwidth\":2,\"linecolor\":\"white\",\"showbackground\":true,\"ticks\":\"\",\"zerolinecolor\":\"white\"},\"yaxis\":{\"backgroundcolor\":\"#E5ECF6\",\"gridcolor\":\"white\",\"gridwidth\":2,\"linecolor\":\"white\",\"showbackground\":true,\"ticks\":\"\",\"zerolinecolor\":\"white\"},\"zaxis\":{\"backgroundcolor\":\"#E5ECF6\",\"gridcolor\":\"white\",\"gridwidth\":2,\"linecolor\":\"white\",\"showbackground\":true,\"ticks\":\"\",\"zerolinecolor\":\"white\"}},\"shapedefaults\":{\"line\":{\"color\":\"#2a3f5f\"}},\"ternary\":{\"aaxis\":{\"gridcolor\":\"white\",\"linecolor\":\"white\",\"ticks\":\"\"},\"baxis\":{\"gridcolor\":\"white\",\"linecolor\":\"white\",\"ticks\":\"\"},\"bgcolor\":\"#E5ECF6\",\"caxis\":{\"gridcolor\":\"white\",\"linecolor\":\"white\",\"ticks\":\"\"}},\"title\":{\"x\":0.05},\"xaxis\":{\"automargin\":true,\"gridcolor\":\"white\",\"linecolor\":\"white\",\"ticks\":\"\",\"title\":{\"standoff\":15},\"zerolinecolor\":\"white\",\"zerolinewidth\":2},\"yaxis\":{\"automargin\":true,\"gridcolor\":\"white\",\"linecolor\":\"white\",\"ticks\":\"\",\"title\":{\"standoff\":15},\"zerolinecolor\":\"white\",\"zerolinewidth\":2}}},\"mapbox\":{\"domain\":{\"x\":[0.0,1.0],\"y\":[0.0,1.0]},\"center\":{\"lat\":21.884328125000003,\"lon\":88.89362500000001},\"zoom\":10,\"style\":\"open-street-map\"},\"coloraxis\":{\"colorbar\":{\"title\":{\"text\":\"color\"}},\"colorscale\":[[0.0,\"#0d0887\"],[0.1111111111111111,\"#46039f\"],[0.2222222222222222,\"#7201a8\"],[0.3333333333333333,\"#9c179e\"],[0.4444444444444444,\"#bd3786\"],[0.5555555555555556,\"#d8576b\"],[0.6666666666666666,\"#ed7953\"],[0.7777777777777778,\"#fb9f3a\"],[0.8888888888888888,\"#fdca26\"],[1.0,\"#f0f921\"]]},\"legend\":{\"tracegroupgap\":0},\"title\":{\"text\":\"Tiger Category\"},\"height\":500,\"width\":500,\"margin\":{\"r\":0,\"t\":0,\"l\":0,\"b\":0}},                        {\"responsive\": true}                    ).then(function(){\n",
              "                            \n",
              "var gd = document.getElementById('392623b1-b379-43a3-8b58-8f9a2f6d5f3a');\n",
              "var x = new MutationObserver(function (mutations, observer) {{\n",
              "        var display = window.getComputedStyle(gd).display;\n",
              "        if (!display || display === 'none') {{\n",
              "            console.log([gd, 'removed!']);\n",
              "            Plotly.purge(gd);\n",
              "            observer.disconnect();\n",
              "        }}\n",
              "}});\n",
              "\n",
              "// Listen for the removal of the full notebook cells\n",
              "var notebookContainer = gd.closest('#notebook-container');\n",
              "if (notebookContainer) {{\n",
              "    x.observe(notebookContainer, {childList: true});\n",
              "}}\n",
              "\n",
              "// Listen for the clearing of the current output cell\n",
              "var outputEl = gd.closest('.output');\n",
              "if (outputEl) {{\n",
              "    x.observe(outputEl, {childList: true});\n",
              "}}\n",
              "\n",
              "                        })                };                            </script>        </div>\n",
              "</body>\n",
              "</html>"
            ]
          },
          "metadata": {}
        }
      ]
    },
    {
      "cell_type": "markdown",
      "source": [
        "### Based on the result acheived from sub-clustering method approach using mRMR selected features."
      ],
      "metadata": {
        "id": "GX_jvICOsl8g"
      }
    },
    {
      "cell_type": "code",
      "source": [
        "fig = px.scatter_mapbox(df[['Lat', 'Long']],\n",
        "                        lat=\"Lat\", \n",
        "                        lon=\"Long\",\n",
        "                        color = mrmr_all_sub_cluster_list,\n",
        "                        zoom=10, \n",
        "                        height=500,\n",
        "                        width=500,title=\"Tiger Category[Upper Bound]\")\n",
        "\n",
        "fig.update_layout(mapbox_style=\"open-street-map\")\n",
        "fig.update_layout(margin={\"r\":0,\"t\":0,\"l\":0,\"b\":0})\n",
        "fig.show()"
      ],
      "metadata": {
        "colab": {
          "base_uri": "https://localhost:8080/"
        },
        "id": "joBFQz2evaVq",
        "outputId": "9ab632d8-228c-4c63-8ef8-fc09f744c3b6"
      },
      "execution_count": null,
      "outputs": [
        {
          "output_type": "display_data",
          "data": {
            "text/html": [
              "<html>\n",
              "<head><meta charset=\"utf-8\" /></head>\n",
              "<body>\n",
              "    <div>            <script src=\"https://cdnjs.cloudflare.com/ajax/libs/mathjax/2.7.5/MathJax.js?config=TeX-AMS-MML_SVG\"></script><script type=\"text/javascript\">if (window.MathJax) {MathJax.Hub.Config({SVG: {font: \"STIX-Web\"}});}</script>                <script type=\"text/javascript\">window.PlotlyConfig = {MathJaxConfig: 'local'};</script>\n",
              "        <script src=\"https://cdn.plot.ly/plotly-2.8.3.min.js\"></script>                <div id=\"0c1d8f2a-c249-40a5-8a36-3d953c465cd3\" class=\"plotly-graph-div\" style=\"height:500px; width:500px;\"></div>            <script type=\"text/javascript\">                                    window.PLOTLYENV=window.PLOTLYENV || {};                                    if (document.getElementById(\"0c1d8f2a-c249-40a5-8a36-3d953c465cd3\")) {                    Plotly.newPlot(                        \"0c1d8f2a-c249-40a5-8a36-3d953c465cd3\",                        [{\"hovertemplate\":\"color=2~0<br>Lat=%{lat}<br>Long=%{lon}<extra></extra>\",\"lat\":[21.688,21.686,21.696,21.689,21.697],\"legendgroup\":\"2~0\",\"lon\":[88.971,88.982,88.983,88.977,88.975],\"marker\":{\"color\":\"#636efa\"},\"mode\":\"markers\",\"name\":\"2~0\",\"showlegend\":true,\"subplot\":\"mapbox\",\"type\":\"scattermapbox\"},{\"hovertemplate\":\"color=7~0<br>Lat=%{lat}<br>Long=%{lon}<extra></extra>\",\"lat\":[22.021,22.02,22.021,22.021,22.025],\"legendgroup\":\"7~0\",\"lon\":[89.019,89.016,89.018,89.014,88.936],\"marker\":{\"color\":\"#EF553B\"},\"mode\":\"markers\",\"name\":\"7~0\",\"showlegend\":true,\"subplot\":\"mapbox\",\"type\":\"scattermapbox\"},{\"hovertemplate\":\"color=0~noise<br>Lat=%{lat}<br>Long=%{lon}<extra></extra>\",\"lat\":[22.086,22.088,22.093],\"legendgroup\":\"0~noise\",\"lon\":[88.808,88.812,88.808],\"marker\":{\"color\":\"#00cc96\"},\"mode\":\"markers\",\"name\":\"0~noise\",\"showlegend\":true,\"subplot\":\"mapbox\",\"type\":\"scattermapbox\"},{\"hovertemplate\":\"color=1~0<br>Lat=%{lat}<br>Long=%{lon}<extra></extra>\",\"lat\":[21.836,21.837,21.835,21.867,21.867,21.872,21.932,21.93,21.843,21.844,21.844,21.842,21.838,21.834],\"legendgroup\":\"1~0\",\"lon\":[88.885,88.886,88.884,88.906,88.901,88.905,88.866,88.87,88.887,88.887,88.887,88.886,88.889,88.889],\"marker\":{\"color\":\"#ab63fa\"},\"mode\":\"markers\",\"name\":\"1~0\",\"showlegend\":true,\"subplot\":\"mapbox\",\"type\":\"scattermapbox\"},{\"hovertemplate\":\"color=6~0<br>Lat=%{lat}<br>Long=%{lon}<extra></extra>\",\"lat\":[21.91,21.91,21.91,21.915,21.915],\"legendgroup\":\"6~0\",\"lon\":[88.738,88.737,88.737,88.733,88.732],\"marker\":{\"color\":\"#FFA15A\"},\"mode\":\"markers\",\"name\":\"6~0\",\"showlegend\":true,\"subplot\":\"mapbox\",\"type\":\"scattermapbox\"},{\"hovertemplate\":\"color=5~0<br>Lat=%{lat}<br>Long=%{lon}<extra></extra>\",\"lat\":[21.619,21.619,21.619,21.619,21.62,21.61,21.608,21.607],\"legendgroup\":\"5~0\",\"lon\":[89.0,88.999,88.999,88.998,89.0,88.996,89.001,89.002],\"marker\":{\"color\":\"#19d3f3\"},\"mode\":\"markers\",\"name\":\"5~0\",\"showlegend\":true,\"subplot\":\"mapbox\",\"type\":\"scattermapbox\"},{\"hovertemplate\":\"color=3~0<br>Lat=%{lat}<br>Long=%{lon}<extra></extra>\",\"lat\":[21.955,21.958,21.957,21.958,21.957,21.956,21.958],\"legendgroup\":\"3~0\",\"lon\":[89.039,89.041,89.041,89.042,89.04,89.041,89.04],\"marker\":{\"color\":\"#FF6692\"},\"mode\":\"markers\",\"name\":\"3~0\",\"showlegend\":true,\"subplot\":\"mapbox\",\"type\":\"scattermapbox\"},{\"hovertemplate\":\"color=7~noise<br>Lat=%{lat}<br>Long=%{lon}<extra></extra>\",\"lat\":[22.03],\"legendgroup\":\"7~noise\",\"lon\":[88.94],\"marker\":{\"color\":\"#B6E880\"},\"mode\":\"markers\",\"name\":\"7~noise\",\"showlegend\":true,\"subplot\":\"mapbox\",\"type\":\"scattermapbox\"},{\"hovertemplate\":\"color=4~0<br>Lat=%{lat}<br>Long=%{lon}<extra></extra>\",\"lat\":[21.971,21.977,21.972,21.976,21.976,21.976,21.973,21.971,21.973,21.972,21.973,21.968,21.963,21.963,21.968,21.963],\"legendgroup\":\"4~0\",\"lon\":[88.785,88.786,88.784,88.787,88.787,88.786,88.782,88.781,88.784,88.78,88.783,88.784,88.785,88.785,88.785,88.785],\"marker\":{\"color\":\"#FF97FF\"},\"mode\":\"markers\",\"name\":\"4~0\",\"showlegend\":true,\"subplot\":\"mapbox\",\"type\":\"scattermapbox\"}],                        {\"template\":{\"data\":{\"bar\":[{\"error_x\":{\"color\":\"#2a3f5f\"},\"error_y\":{\"color\":\"#2a3f5f\"},\"marker\":{\"line\":{\"color\":\"#E5ECF6\",\"width\":0.5},\"pattern\":{\"fillmode\":\"overlay\",\"size\":10,\"solidity\":0.2}},\"type\":\"bar\"}],\"barpolar\":[{\"marker\":{\"line\":{\"color\":\"#E5ECF6\",\"width\":0.5},\"pattern\":{\"fillmode\":\"overlay\",\"size\":10,\"solidity\":0.2}},\"type\":\"barpolar\"}],\"carpet\":[{\"aaxis\":{\"endlinecolor\":\"#2a3f5f\",\"gridcolor\":\"white\",\"linecolor\":\"white\",\"minorgridcolor\":\"white\",\"startlinecolor\":\"#2a3f5f\"},\"baxis\":{\"endlinecolor\":\"#2a3f5f\",\"gridcolor\":\"white\",\"linecolor\":\"white\",\"minorgridcolor\":\"white\",\"startlinecolor\":\"#2a3f5f\"},\"type\":\"carpet\"}],\"choropleth\":[{\"colorbar\":{\"outlinewidth\":0,\"ticks\":\"\"},\"type\":\"choropleth\"}],\"contour\":[{\"colorbar\":{\"outlinewidth\":0,\"ticks\":\"\"},\"colorscale\":[[0.0,\"#0d0887\"],[0.1111111111111111,\"#46039f\"],[0.2222222222222222,\"#7201a8\"],[0.3333333333333333,\"#9c179e\"],[0.4444444444444444,\"#bd3786\"],[0.5555555555555556,\"#d8576b\"],[0.6666666666666666,\"#ed7953\"],[0.7777777777777778,\"#fb9f3a\"],[0.8888888888888888,\"#fdca26\"],[1.0,\"#f0f921\"]],\"type\":\"contour\"}],\"contourcarpet\":[{\"colorbar\":{\"outlinewidth\":0,\"ticks\":\"\"},\"type\":\"contourcarpet\"}],\"heatmap\":[{\"colorbar\":{\"outlinewidth\":0,\"ticks\":\"\"},\"colorscale\":[[0.0,\"#0d0887\"],[0.1111111111111111,\"#46039f\"],[0.2222222222222222,\"#7201a8\"],[0.3333333333333333,\"#9c179e\"],[0.4444444444444444,\"#bd3786\"],[0.5555555555555556,\"#d8576b\"],[0.6666666666666666,\"#ed7953\"],[0.7777777777777778,\"#fb9f3a\"],[0.8888888888888888,\"#fdca26\"],[1.0,\"#f0f921\"]],\"type\":\"heatmap\"}],\"heatmapgl\":[{\"colorbar\":{\"outlinewidth\":0,\"ticks\":\"\"},\"colorscale\":[[0.0,\"#0d0887\"],[0.1111111111111111,\"#46039f\"],[0.2222222222222222,\"#7201a8\"],[0.3333333333333333,\"#9c179e\"],[0.4444444444444444,\"#bd3786\"],[0.5555555555555556,\"#d8576b\"],[0.6666666666666666,\"#ed7953\"],[0.7777777777777778,\"#fb9f3a\"],[0.8888888888888888,\"#fdca26\"],[1.0,\"#f0f921\"]],\"type\":\"heatmapgl\"}],\"histogram\":[{\"marker\":{\"pattern\":{\"fillmode\":\"overlay\",\"size\":10,\"solidity\":0.2}},\"type\":\"histogram\"}],\"histogram2d\":[{\"colorbar\":{\"outlinewidth\":0,\"ticks\":\"\"},\"colorscale\":[[0.0,\"#0d0887\"],[0.1111111111111111,\"#46039f\"],[0.2222222222222222,\"#7201a8\"],[0.3333333333333333,\"#9c179e\"],[0.4444444444444444,\"#bd3786\"],[0.5555555555555556,\"#d8576b\"],[0.6666666666666666,\"#ed7953\"],[0.7777777777777778,\"#fb9f3a\"],[0.8888888888888888,\"#fdca26\"],[1.0,\"#f0f921\"]],\"type\":\"histogram2d\"}],\"histogram2dcontour\":[{\"colorbar\":{\"outlinewidth\":0,\"ticks\":\"\"},\"colorscale\":[[0.0,\"#0d0887\"],[0.1111111111111111,\"#46039f\"],[0.2222222222222222,\"#7201a8\"],[0.3333333333333333,\"#9c179e\"],[0.4444444444444444,\"#bd3786\"],[0.5555555555555556,\"#d8576b\"],[0.6666666666666666,\"#ed7953\"],[0.7777777777777778,\"#fb9f3a\"],[0.8888888888888888,\"#fdca26\"],[1.0,\"#f0f921\"]],\"type\":\"histogram2dcontour\"}],\"mesh3d\":[{\"colorbar\":{\"outlinewidth\":0,\"ticks\":\"\"},\"type\":\"mesh3d\"}],\"parcoords\":[{\"line\":{\"colorbar\":{\"outlinewidth\":0,\"ticks\":\"\"}},\"type\":\"parcoords\"}],\"pie\":[{\"automargin\":true,\"type\":\"pie\"}],\"scatter\":[{\"marker\":{\"colorbar\":{\"outlinewidth\":0,\"ticks\":\"\"}},\"type\":\"scatter\"}],\"scatter3d\":[{\"line\":{\"colorbar\":{\"outlinewidth\":0,\"ticks\":\"\"}},\"marker\":{\"colorbar\":{\"outlinewidth\":0,\"ticks\":\"\"}},\"type\":\"scatter3d\"}],\"scattercarpet\":[{\"marker\":{\"colorbar\":{\"outlinewidth\":0,\"ticks\":\"\"}},\"type\":\"scattercarpet\"}],\"scattergeo\":[{\"marker\":{\"colorbar\":{\"outlinewidth\":0,\"ticks\":\"\"}},\"type\":\"scattergeo\"}],\"scattergl\":[{\"marker\":{\"colorbar\":{\"outlinewidth\":0,\"ticks\":\"\"}},\"type\":\"scattergl\"}],\"scattermapbox\":[{\"marker\":{\"colorbar\":{\"outlinewidth\":0,\"ticks\":\"\"}},\"type\":\"scattermapbox\"}],\"scatterpolar\":[{\"marker\":{\"colorbar\":{\"outlinewidth\":0,\"ticks\":\"\"}},\"type\":\"scatterpolar\"}],\"scatterpolargl\":[{\"marker\":{\"colorbar\":{\"outlinewidth\":0,\"ticks\":\"\"}},\"type\":\"scatterpolargl\"}],\"scatterternary\":[{\"marker\":{\"colorbar\":{\"outlinewidth\":0,\"ticks\":\"\"}},\"type\":\"scatterternary\"}],\"surface\":[{\"colorbar\":{\"outlinewidth\":0,\"ticks\":\"\"},\"colorscale\":[[0.0,\"#0d0887\"],[0.1111111111111111,\"#46039f\"],[0.2222222222222222,\"#7201a8\"],[0.3333333333333333,\"#9c179e\"],[0.4444444444444444,\"#bd3786\"],[0.5555555555555556,\"#d8576b\"],[0.6666666666666666,\"#ed7953\"],[0.7777777777777778,\"#fb9f3a\"],[0.8888888888888888,\"#fdca26\"],[1.0,\"#f0f921\"]],\"type\":\"surface\"}],\"table\":[{\"cells\":{\"fill\":{\"color\":\"#EBF0F8\"},\"line\":{\"color\":\"white\"}},\"header\":{\"fill\":{\"color\":\"#C8D4E3\"},\"line\":{\"color\":\"white\"}},\"type\":\"table\"}]},\"layout\":{\"annotationdefaults\":{\"arrowcolor\":\"#2a3f5f\",\"arrowhead\":0,\"arrowwidth\":1},\"autotypenumbers\":\"strict\",\"coloraxis\":{\"colorbar\":{\"outlinewidth\":0,\"ticks\":\"\"}},\"colorscale\":{\"diverging\":[[0,\"#8e0152\"],[0.1,\"#c51b7d\"],[0.2,\"#de77ae\"],[0.3,\"#f1b6da\"],[0.4,\"#fde0ef\"],[0.5,\"#f7f7f7\"],[0.6,\"#e6f5d0\"],[0.7,\"#b8e186\"],[0.8,\"#7fbc41\"],[0.9,\"#4d9221\"],[1,\"#276419\"]],\"sequential\":[[0.0,\"#0d0887\"],[0.1111111111111111,\"#46039f\"],[0.2222222222222222,\"#7201a8\"],[0.3333333333333333,\"#9c179e\"],[0.4444444444444444,\"#bd3786\"],[0.5555555555555556,\"#d8576b\"],[0.6666666666666666,\"#ed7953\"],[0.7777777777777778,\"#fb9f3a\"],[0.8888888888888888,\"#fdca26\"],[1.0,\"#f0f921\"]],\"sequentialminus\":[[0.0,\"#0d0887\"],[0.1111111111111111,\"#46039f\"],[0.2222222222222222,\"#7201a8\"],[0.3333333333333333,\"#9c179e\"],[0.4444444444444444,\"#bd3786\"],[0.5555555555555556,\"#d8576b\"],[0.6666666666666666,\"#ed7953\"],[0.7777777777777778,\"#fb9f3a\"],[0.8888888888888888,\"#fdca26\"],[1.0,\"#f0f921\"]]},\"colorway\":[\"#636efa\",\"#EF553B\",\"#00cc96\",\"#ab63fa\",\"#FFA15A\",\"#19d3f3\",\"#FF6692\",\"#B6E880\",\"#FF97FF\",\"#FECB52\"],\"font\":{\"color\":\"#2a3f5f\"},\"geo\":{\"bgcolor\":\"white\",\"lakecolor\":\"white\",\"landcolor\":\"#E5ECF6\",\"showlakes\":true,\"showland\":true,\"subunitcolor\":\"white\"},\"hoverlabel\":{\"align\":\"left\"},\"hovermode\":\"closest\",\"mapbox\":{\"style\":\"light\"},\"paper_bgcolor\":\"white\",\"plot_bgcolor\":\"#E5ECF6\",\"polar\":{\"angularaxis\":{\"gridcolor\":\"white\",\"linecolor\":\"white\",\"ticks\":\"\"},\"bgcolor\":\"#E5ECF6\",\"radialaxis\":{\"gridcolor\":\"white\",\"linecolor\":\"white\",\"ticks\":\"\"}},\"scene\":{\"xaxis\":{\"backgroundcolor\":\"#E5ECF6\",\"gridcolor\":\"white\",\"gridwidth\":2,\"linecolor\":\"white\",\"showbackground\":true,\"ticks\":\"\",\"zerolinecolor\":\"white\"},\"yaxis\":{\"backgroundcolor\":\"#E5ECF6\",\"gridcolor\":\"white\",\"gridwidth\":2,\"linecolor\":\"white\",\"showbackground\":true,\"ticks\":\"\",\"zerolinecolor\":\"white\"},\"zaxis\":{\"backgroundcolor\":\"#E5ECF6\",\"gridcolor\":\"white\",\"gridwidth\":2,\"linecolor\":\"white\",\"showbackground\":true,\"ticks\":\"\",\"zerolinecolor\":\"white\"}},\"shapedefaults\":{\"line\":{\"color\":\"#2a3f5f\"}},\"ternary\":{\"aaxis\":{\"gridcolor\":\"white\",\"linecolor\":\"white\",\"ticks\":\"\"},\"baxis\":{\"gridcolor\":\"white\",\"linecolor\":\"white\",\"ticks\":\"\"},\"bgcolor\":\"#E5ECF6\",\"caxis\":{\"gridcolor\":\"white\",\"linecolor\":\"white\",\"ticks\":\"\"}},\"title\":{\"x\":0.05},\"xaxis\":{\"automargin\":true,\"gridcolor\":\"white\",\"linecolor\":\"white\",\"ticks\":\"\",\"title\":{\"standoff\":15},\"zerolinecolor\":\"white\",\"zerolinewidth\":2},\"yaxis\":{\"automargin\":true,\"gridcolor\":\"white\",\"linecolor\":\"white\",\"ticks\":\"\",\"title\":{\"standoff\":15},\"zerolinecolor\":\"white\",\"zerolinewidth\":2}}},\"mapbox\":{\"domain\":{\"x\":[0.0,1.0],\"y\":[0.0,1.0]},\"center\":{\"lat\":21.884328125000003,\"lon\":88.89362500000001},\"zoom\":10,\"style\":\"open-street-map\"},\"legend\":{\"title\":{\"text\":\"color\"},\"tracegroupgap\":0},\"title\":{\"text\":\"Tiger Category[Upper Bound]\"},\"height\":500,\"width\":500,\"margin\":{\"r\":0,\"t\":0,\"l\":0,\"b\":0}},                        {\"responsive\": true}                    ).then(function(){\n",
              "                            \n",
              "var gd = document.getElementById('0c1d8f2a-c249-40a5-8a36-3d953c465cd3');\n",
              "var x = new MutationObserver(function (mutations, observer) {{\n",
              "        var display = window.getComputedStyle(gd).display;\n",
              "        if (!display || display === 'none') {{\n",
              "            console.log([gd, 'removed!']);\n",
              "            Plotly.purge(gd);\n",
              "            observer.disconnect();\n",
              "        }}\n",
              "}});\n",
              "\n",
              "// Listen for the removal of the full notebook cells\n",
              "var notebookContainer = gd.closest('#notebook-container');\n",
              "if (notebookContainer) {{\n",
              "    x.observe(notebookContainer, {childList: true});\n",
              "}}\n",
              "\n",
              "// Listen for the clearing of the current output cell\n",
              "var outputEl = gd.closest('.output');\n",
              "if (outputEl) {{\n",
              "    x.observe(outputEl, {childList: true});\n",
              "}}\n",
              "\n",
              "                        })                };                            </script>        </div>\n",
              "</body>\n",
              "</html>"
            ]
          },
          "metadata": {}
        }
      ]
    },
    {
      "cell_type": "markdown",
      "source": [
        "# **On Census.csv [Test Data]**"
      ],
      "metadata": {
        "id": "N2PlpPpLy8Ac"
      }
    },
    {
      "cell_type": "markdown",
      "source": [
        "### Feature Grouping\n",
        "We grouped the feature vectors in test data (Census.csv) according to the same strategy we followed for train data"
      ],
      "metadata": {
        "id": "rzMWOxi-Aj7E"
      }
    },
    {
      "cell_type": "code",
      "source": [
        "census_feature_group0_ = census_all_data[:,0:20].astype(np.float32)      # log(AB). -> log(area(OBC))\n",
        "census_feature_group1_ = census_all_data[:,20:30].astype(np.float32)     #log(area(toe4)) -> log(maj_o * min_o)\n",
        "census_feature_group2 = census_all_data[:,30:34].astype(np.float32)     # log(maj_a / min_a) -> log(maj_d / min_d)\n",
        "census_feature_3 = census_all_data[:,34:35].astype(np.float32)     # log(maj_o / min_o)\n",
        "census_feature_4 = census_all_data[:,35:36].astype(np.float32)    # bounding area\n",
        "\n",
        "census_feature_group0 = np.concatenate((census_feature_group0_,census_feature_4),axis=1)  # merged bounding area + feature_group1\n",
        "census_feature_group1 = np.concatenate((census_feature_group1_,census_feature_4),axis=1)  # merged bounding area + feature_group2\n",
        "\n",
        "census_feature_5 = census_all_data[:,36:37].astype(np.float32)     # bounding ratio\n",
        "\n",
        "census_feature_6 = census_all_data[:,37:38].astype(np.float32)  \n",
        "census_feature_7 = census_all_data[:,38:39].astype(np.float32)  "
      ],
      "metadata": {
        "id": "0C20sI8rxpss"
      },
      "execution_count": null,
      "outputs": []
    },
    {
      "cell_type": "code",
      "source": [
        "census_raw_features = np.hstack((census_feature_group0_,\n",
        "                          census_feature_group1_,\n",
        "                          census_feature_group2,\n",
        "                          census_feature_3,\n",
        "                          census_feature_4,\n",
        "                          census_feature_5,\n",
        "                          census_feature_6,\n",
        "                          census_feature_7))"
      ],
      "metadata": {
        "id": "2nStRGqaYw4_"
      },
      "execution_count": null,
      "outputs": []
    },
    {
      "cell_type": "markdown",
      "source": [
        "### mRMR ranking\n",
        "We selected the features according to the mRMR ranking achieved while evaluated on train data"
      ],
      "metadata": {
        "id": "gFzdEDU8Z841"
      }
    },
    {
      "cell_type": "code",
      "source": [
        "census_df.columns[location_eleminated_mmr_ranking]"
      ],
      "metadata": {
        "colab": {
          "base_uri": "https://localhost:8080/"
        },
        "id": "Ajl38Jpqs5zd",
        "outputId": "821300d9-395a-4f85-e565-91dc101fdeac"
      },
      "execution_count": null,
      "outputs": [
        {
          "output_type": "execute_result",
          "data": {
            "text/plain": [
              "Index(['log(maj_o * min_o)', 'bounding ratio', 'log(maj_b / min_b)',\n",
              "       'log(area(Pad))', 'log(area(toe3))', 'log(area(BCD))',\n",
              "       'log(maj_b * min_b)', 'log(area(toe1))', 'log(area(ABC))',\n",
              "       'log(maj_d * min_d)'],\n",
              "      dtype='object')"
            ]
          },
          "metadata": {},
          "execution_count": 52
        }
      ]
    },
    {
      "cell_type": "code",
      "source": [
        "census_location_eleminated_mmr_slected_features = census_raw_features[:,location_eleminated_mmr_ranking]\n",
        "census_mmr_slected_features = np.hstack((census_raw_features[:,37:],census_location_eleminated_mmr_slected_features))"
      ],
      "metadata": {
        "id": "7CyDwWJ0aAFB"
      },
      "execution_count": null,
      "outputs": []
    },
    {
      "cell_type": "code",
      "source": [
        "census_mmr_slected_features[0]"
      ],
      "metadata": {
        "colab": {
          "base_uri": "https://localhost:8080/"
        },
        "id": "YvwlWAmpn0si",
        "outputId": "da62ae0f-e0ce-4e88-ebc2-dfa911896307"
      },
      "execution_count": null,
      "outputs": [
        {
          "output_type": "execute_result",
          "data": {
            "text/plain": [
              "array([ 8.8797241e+01,  2.2098532e+01,  6.0250080e-01, -7.3359072e-02,\n",
              "        8.9705884e-01,  7.1442544e-01,  6.3961923e-01,  5.2541667e-01,\n",
              "        2.5700936e-01,  5.2285713e-01,  4.5831570e-01,  1.1178248e-01],\n",
              "      dtype=float32)"
            ]
          },
          "metadata": {},
          "execution_count": 54
        }
      ]
    },
    {
      "cell_type": "markdown",
      "source": [
        "### PCA Reduction"
      ],
      "metadata": {
        "id": "kPjEVW0-Z5uM"
      }
    },
    {
      "cell_type": "code",
      "source": [
        "census_kpca = KernelPCA(n_components = 4, kernel='rbf')\n",
        "census_principle_cluster0 = census_kpca.fit_transform(census_feature_group0).astype(np.float32)\n",
        "\n",
        "census_kpca = KernelPCA(n_components = 2, kernel='rbf')\n",
        "census_principle_cluster1 = census_kpca.fit_transform(census_feature_group1).astype(np.float32)\n",
        "\n",
        "\n",
        "location_eleminated_pca_census_selected_features = np.hstack((census_principle_cluster0,census_principle_cluster1,census_feature_group2,census_feature_3,census_feature_5))\n",
        "pca_census_selected_features = np.hstack((census_raw_features[:,37:],location_eleminated_pca_census_selected_features))"
      ],
      "metadata": {
        "id": "mYKN8JCfHdcq"
      },
      "execution_count": null,
      "outputs": []
    },
    {
      "cell_type": "code",
      "source": [
        "pca_census_selected_features[0]"
      ],
      "metadata": {
        "colab": {
          "base_uri": "https://localhost:8080/"
        },
        "id": "dyUZrYc5n5Hs",
        "outputId": "b852b7fe-50ad-4094-a413-ec7f7bde3eb7"
      },
      "execution_count": null,
      "outputs": [
        {
          "output_type": "execute_result",
          "data": {
            "text/plain": [
              "array([ 8.8797241e+01,  2.2098532e+01,  2.8892983e-02, -3.7462801e-02,\n",
              "       -8.2110083e-03, -1.4382539e-02,  2.2620256e-01, -2.5459430e-01,\n",
              "        6.5857607e-01,  8.9705884e-01,  6.2738854e-01,  5.8573598e-01,\n",
              "        7.6516634e-01, -7.3359072e-02], dtype=float32)"
            ]
          },
          "metadata": {},
          "execution_count": 56
        }
      ]
    },
    {
      "cell_type": "markdown",
      "source": [
        "## Elbow Test On Census Using Custom K-Means With *mrmr_selected_features*\n",
        "\n",
        "*   We can see that elbow test is inconclusive. \n",
        "\n",
        "*   We can observe that after k ≈ 25, the plot starts to flatten.\n",
        "\n",
        "\n"
      ],
      "metadata": {
        "id": "zl3hTUdAMpGp"
      }
    },
    {
      "cell_type": "code",
      "source": [
        "elbowtest_custom(census_mmr_slected_features,40,0.2)"
      ],
      "metadata": {
        "id": "WEo_2AWzLHBT",
        "colab": {
          "base_uri": "https://localhost:8080/",
          "height": 361
        },
        "outputId": "d2b150dc-1c2f-42fd-c2fe-3bccdaefb88b"
      },
      "execution_count": null,
      "outputs": [
        {
          "output_type": "display_data",
          "data": {
            "text/plain": [
              "<Figure size 576x396 with 1 Axes>"
            ],
            "image/png": "[encoded data removed]"
          },
          "metadata": {}
        }
      ]
    },
    {
      "cell_type": "markdown",
      "source": [
        "## **Unsupervised Sub-Clustering On Census**\n",
        "As we could not draw any conclusion from the Elbow test above, we have to rely upon subclustering technique for better results. Following the Geo-Graphical clustering formed in the previous section, we can get the upperbound of number of distinct tiger using min_samples = 1 and a regular number of distinct tiger using min_samples = 5."
      ],
      "metadata": {
        "id": "tp90kJf0uHXD"
      }
    },
    {
      "cell_type": "markdown",
      "source": [
        "#### From mRMR\n",
        "Subclustering Based On Feature selected with mRMR algorithm."
      ],
      "metadata": {
        "id": "U_xfjAjPwVtG"
      }
    },
    {
      "cell_type": "markdown",
      "source": [
        "##### min_samples = 5"
      ],
      "metadata": {
        "id": "8Io735gUnXct"
      }
    },
    {
      "cell_type": "code",
      "source": [
        "census_min_foot_steps_for_closure = 5\n",
        "census_sub_freq_cluster_list,census_n_sub_cluster,census_all_sub_cluster_list = accumulate_number_of_subcluster_dbscan(CENSUS_NUM_REGION_CLUSTER, census_reg_labels_kmean, census_location_eleminated_mmr_slected_features,eps=0.9, min_samples=census_min_foot_steps_for_closure)\n",
        "\n",
        "\n",
        "print(\" number of subclusters in each geo-cluster: \",census_sub_freq_cluster_list)\n",
        "print(\" total number of subclusters: \",census_n_sub_cluster)\n",
        "print(\" sub_cluster list: \",census_all_sub_cluster_list)\n",
        "print(\" Number of noise: \",(len(set(census_all_sub_cluster_list))-census_n_sub_cluster))\n",
        "\n",
        "mrmr_census_n_sub_cluster = census_n_sub_cluster\n",
        "mrmr_census_all_sub_cluster_list = census_all_sub_cluster_list"
      ],
      "metadata": {
        "colab": {
          "base_uri": "https://localhost:8080/"
        },
        "id": "oFyyXYKTuND0",
        "outputId": "92124943-42e5-41e0-da86-1c25ac61434c"
      },
      "execution_count": null,
      "outputs": [
        {
          "output_type": "stream",
          "name": "stdout",
          "text": [
            " number of subclusters in each geo-cluster:  [1, 2, 2, 1, 2, 2, 1, 2, 1, 1, 1, 1, 2, 1, 1, 1, 1, 1, 1, 2]\n",
            " total number of subclusters:  27\n",
            " sub_cluster list:  ['5~0' '5~0' '5~1' ... '15~0' '15~0' '15~0']\n",
            " Number of noise:  13\n"
          ]
        }
      ]
    },
    {
      "cell_type": "markdown",
      "source": [
        "##### min_samples = 1(to get upper bound)"
      ],
      "metadata": {
        "id": "_M3LbP1woTV4"
      }
    },
    {
      "cell_type": "code",
      "source": [
        "census_min_foot_steps_for_closure = 1\n",
        "census_sub_freq_cluster_list,census_n_sub_cluster,census_all_sub_cluster_list = accumulate_number_of_subcluster_dbscan(CENSUS_NUM_REGION_CLUSTER, census_reg_labels_kmean, census_location_eleminated_mmr_slected_features,eps=0.9, min_samples=census_min_foot_steps_for_closure)\n",
        "\n",
        "\n",
        "print(\" number of subclusters in each geo-cluster: \",census_sub_freq_cluster_list)\n",
        "print(\" total number of subclusters: \",census_n_sub_cluster)\n",
        "print(\" sub_cluster list: \",census_all_sub_cluster_list)\n",
        "print(\" Number of noise: \",(len(set(census_all_sub_cluster_list))-census_n_sub_cluster))\n",
        "\n",
        "mrmr_census_upper_n_sub_cluster = census_n_sub_cluster\n",
        "mrmr_census_all_upper_sub_cluster_list = census_all_sub_cluster_list"
      ],
      "metadata": {
        "colab": {
          "base_uri": "https://localhost:8080/"
        },
        "id": "OvX8_KlJm8_F",
        "outputId": "6eda9e92-d2f9-4caa-e870-34f20c4ede40"
      },
      "execution_count": null,
      "outputs": [
        {
          "output_type": "stream",
          "name": "stdout",
          "text": [
            " number of subclusters in each geo-cluster:  [2, 3, 2, 2, 3, 2, 2, 2, 1, 1, 1, 3, 2, 2, 2, 2, 2, 2, 2, 2]\n",
            " total number of subclusters:  40\n",
            " sub_cluster list:  ['5~0' '5~0' '5~1' ... '15~0' '15~0' '15~0']\n",
            " Number of noise:  0\n"
          ]
        }
      ]
    },
    {
      "cell_type": "markdown",
      "source": [
        "#### From PCA\n",
        "Subclustering Based On Feature selected with PCA algorithm"
      ],
      "metadata": {
        "id": "QVsWH0jVwQ_6"
      }
    },
    {
      "cell_type": "markdown",
      "source": [
        "##### min_samples = 5"
      ],
      "metadata": {
        "id": "v8aQcsCLoYtY"
      }
    },
    {
      "cell_type": "code",
      "source": [
        "census_min_foot_steps_for_closure = 5\n",
        "census_sub_freq_cluster_list,census_n_sub_cluster,census_all_sub_cluster_list = accumulate_number_of_subcluster_dbscan(CENSUS_NUM_REGION_CLUSTER, census_reg_labels_kmean, location_eleminated_pca_census_selected_features,eps=0.9, min_samples=census_min_foot_steps_for_closure)\n",
        "\n",
        "\n",
        "print(\" number of subclusters in each geo-cluster: \",census_sub_freq_cluster_list)\n",
        "print(\" total number of subclusters: \",census_n_sub_cluster)\n",
        "print(\" sub_cluster list: \",census_all_sub_cluster_list)\n",
        "print(\" Number of noise: \",(len(set(census_all_sub_cluster_list))-census_n_sub_cluster))\n",
        "\n",
        "pca_census_n_sub_cluster = census_n_sub_cluster\n",
        "pca_census_all_sub_cluster_list = census_all_sub_cluster_list"
      ],
      "metadata": {
        "colab": {
          "base_uri": "https://localhost:8080/"
        },
        "id": "90dalxXfuaGe",
        "outputId": "74cbb5a6-491c-4aa8-f6f8-3a3a6942bc97"
      },
      "execution_count": null,
      "outputs": [
        {
          "output_type": "stream",
          "name": "stdout",
          "text": [
            " number of subclusters in each geo-cluster:  [1, 1, 2, 1, 2, 1, 1, 2, 1, 1, 1, 1, 1, 1, 1, 1, 1, 1, 1, 2]\n",
            " total number of subclusters:  24\n",
            " sub_cluster list:  ['5~0' '5~0' '5~0' ... '15~0' '15~0' '15~0']\n",
            " Number of noise:  10\n"
          ]
        }
      ]
    },
    {
      "cell_type": "markdown",
      "source": [
        "##### min_samples = 1(to get upper bound)"
      ],
      "metadata": {
        "id": "sYk2BLxWo-nk"
      }
    },
    {
      "cell_type": "code",
      "source": [
        "census_min_foot_steps_for_closure = 1\n",
        "census_sub_freq_cluster_list,census_n_sub_cluster,census_all_sub_cluster_list = accumulate_number_of_subcluster_dbscan(CENSUS_NUM_REGION_CLUSTER, census_reg_labels_kmean, location_eleminated_pca_census_selected_features,eps=0.9, min_samples=census_min_foot_steps_for_closure)\n",
        "\n",
        "\n",
        "print(\" number of subclusters in each geo-cluster: \",census_sub_freq_cluster_list)\n",
        "print(\" total number of subclusters: \",census_n_sub_cluster)\n",
        "print(\" sub_cluster list: \",census_all_sub_cluster_list)\n",
        "print(\" Number of noise: \",(len(set(census_all_sub_cluster_list))-census_n_sub_cluster))\n",
        "\n",
        "pca_census_upper_n_sub_cluster = census_n_sub_cluster\n",
        "pca_census_all_upper_sub_cluster_list = census_all_sub_cluster_list"
      ],
      "metadata": {
        "colab": {
          "base_uri": "https://localhost:8080/"
        },
        "id": "lBtabGbEnOwV",
        "outputId": "eaf4d533-4c05-4140-e1da-80811fa029ec"
      },
      "execution_count": null,
      "outputs": [
        {
          "output_type": "stream",
          "name": "stdout",
          "text": [
            " number of subclusters in each geo-cluster:  [2, 1, 2, 2, 2, 1, 1, 2, 1, 1, 1, 3, 1, 2, 2, 1, 2, 2, 2, 2]\n",
            " total number of subclusters:  33\n",
            " sub_cluster list:  ['5~0' '5~0' '5~0' ... '15~0' '15~0' '15~0']\n",
            " Number of noise:  0\n"
          ]
        }
      ]
    },
    {
      "cell_type": "markdown",
      "source": [
        "###**<font color='red'>Based on the Sub-clustering method, we found that The Estimated Regular Number Of Distinct Tigers is $≈ 24 - 27$ , using eps = 0.9 and min_sample = 5, where 10-13 samples were classified as outliers among the total 1059 census samples. We also estimate the upperbound of number of Distinct Tigers to be within 33-40 based on the upper bound test.</font>**"
      ],
      "metadata": {
        "id": "j-2J4kz0ffi5"
      }
    },
    {
      "cell_type": "markdown",
      "source": [
        "## *Unsupervised Clustering On Census using Custom K-Means*\n",
        "We ran our Custom K-Mean algorithm using number of cluster = 27"
      ],
      "metadata": {
        "id": "LutdJZaDt-M0"
      }
    },
    {
      "cell_type": "code",
      "source": [
        "CENSUS_NUMBER_OF_CLUSTER = 27"
      ],
      "metadata": {
        "id": "WO3SyKS6LQFi"
      },
      "execution_count": null,
      "outputs": []
    },
    {
      "cell_type": "code",
      "source": [
        "census_clustering = KMEANS_CUSTOM(n_clusters=CENSUS_NUMBER_OF_CLUSTER,max_iter=300,alpha=0.2)\n",
        "census_clustering.fit(census_mmr_slected_features)\n",
        "census_cost,census_centroids, census_labels_hc = census_clustering.evaluate(census_mmr_slected_features)\n",
        "print(list(census_labels_hc))"
      ],
      "metadata": {
        "colab": {
          "base_uri": "https://localhost:8080/"
        },
        "id": "kZLt5Le6LFFg",
        "outputId": "60d57cd1-89ff-4f36-cf73-fd037dcc0e84"
      },
      "execution_count": null,
      "outputs": [
        {
          "output_type": "stream",
          "name": "stdout",
          "text": [
            "[2, 2, 2, 2, 2, 2, 2, 2, 2, 2, 2, 2, 2, 2, 2, 2, 23, 2, 3, 2, 3, 3, 2, 23, 2, 2, 2, 2, 17, 2, 2, 2, 2, 17, 2, 2, 2, 17, 2, 21, 21, 21, 21, 21, 21, 21, 21, 21, 21, 21, 21, 21, 21, 21, 21, 17, 24, 24, 24, 24, 24, 24, 24, 21, 3, 23, 24, 24, 24, 24, 24, 3, 23, 3, 3, 23, 3, 3, 17, 3, 17, 3, 3, 3, 3, 3, 17, 3, 3, 3, 3, 3, 3, 3, 3, 23, 3, 3, 17, 3, 23, 3, 17, 3, 2, 17, 2, 3, 3, 3, 17, 3, 16, 16, 2, 17, 17, 16, 23, 23, 17, 3, 3, 23, 3, 3, 3, 17, 23, 23, 16, 3, 17, 3, 3, 16, 16, 16, 16, 17, 16, 16, 16, 16, 16, 17, 16, 16, 16, 16, 16, 16, 16, 16, 16, 24, 24, 24, 24, 23, 24, 24, 24, 24, 23, 24, 24, 24, 24, 23, 3, 24, 23, 3, 3, 3, 3, 3, 3, 3, 17, 16, 16, 16, 16, 24, 24, 17, 24, 24, 16, 16, 16, 24, 24, 24, 24, 5, 5, 4, 4, 4, 4, 17, 24, 17, 16, 16, 16, 7, 7, 7, 7, 7, 7, 7, 7, 7, 7, 7, 7, 7, 7, 7, 7, 7, 7, 7, 7, 16, 16, 16, 16, 16, 16, 4, 4, 16, 16, 16, 22, 22, 22, 7, 7, 7, 7, 7, 7, 7, 7, 7, 7, 7, 22, 22, 22, 22, 22, 22, 22, 22, 22, 22, 22, 22, 22, 4, 4, 16, 16, 22, 22, 22, 1, 22, 1, 22, 1, 22, 22, 22, 22, 22, 22, 22, 22, 22, 22, 22, 22, 22, 25, 25, 25, 25, 25, 25, 25, 25, 25, 25, 7, 25, 25, 25, 25, 25, 25, 25, 25, 25, 25, 25, 25, 25, 25, 25, 25, 25, 25, 25, 25, 25, 25, 25, 25, 22, 22, 12, 12, 4, 4, 4, 4, 12, 12, 12, 12, 9, 12, 9, 12, 12, 12, 12, 12, 12, 12, 12, 12, 1, 1, 12, 1, 12, 12, 12, 12, 12, 12, 12, 12, 22, 12, 12, 12, 12, 12, 22, 22, 22, 22, 4, 4, 4, 16, 4, 4, 4, 4, 4, 4, 1, 4, 4, 4, 4, 4, 4, 9, 9, 4, 4, 4, 4, 4, 4, 4, 4, 4, 1, 9, 9, 9, 9, 9, 9, 9, 9, 1, 9, 9, 9, 1, 9, 9, 9, 9, 9, 9, 1, 9, 9, 4, 4, 1, 4, 4, 1, 24, 24, 24, 24, 24, 24, 24, 5, 5, 5, 5, 5, 5, 5, 5, 5, 5, 5, 5, 5, 5, 5, 5, 5, 5, 5, 5, 5, 5, 5, 5, 5, 9, 9, 9, 9, 9, 9, 9, 9, 9, 5, 5, 5, 5, 5, 5, 5, 5, 5, 5, 4, 5, 5, 5, 24, 24, 24, 17, 24, 5, 5, 5, 11, 11, 5, 5, 5, 11, 11, 11, 11, 11, 11, 11, 11, 11, 11, 5, 15, 15, 15, 15, 15, 11, 11, 11, 11, 11, 11, 11, 11, 11, 5, 5, 5, 5, 5, 5, 19, 5, 5, 5, 15, 15, 15, 10, 10, 10, 10, 20, 26, 26, 26, 26, 26, 10, 10, 10, 10, 10, 20, 15, 15, 15, 15, 15, 15, 15, 15, 15, 15, 15, 15, 15, 15, 15, 15, 15, 15, 15, 15, 15, 15, 15, 15, 15, 5, 15, 15, 15, 15, 15, 15, 15, 15, 15, 15, 15, 15, 15, 15, 15, 9, 9, 9, 9, 9, 9, 9, 9, 9, 9, 20, 20, 20, 20, 20, 20, 20, 20, 20, 20, 20, 20, 20, 20, 20, 20, 20, 20, 26, 20, 20, 20, 26, 26, 26, 26, 20, 20, 20, 20, 20, 8, 20, 20, 20, 20, 20, 20, 20, 26, 26, 20, 20, 20, 20, 20, 10, 10, 10, 8, 10, 10, 10, 10, 10, 10, 10, 10, 10, 11, 11, 11, 11, 10, 10, 10, 10, 10, 8, 10, 10, 10, 10, 10, 8, 8, 10, 10, 10, 10, 10, 10, 10, 10, 10, 10, 11, 11, 11, 11, 13, 13, 13, 5, 13, 13, 13, 13, 13, 13, 13, 13, 11, 11, 11, 11, 11, 11, 11, 11, 11, 11, 8, 11, 11, 11, 11, 11, 11, 11, 11, 11, 11, 11, 5, 5, 5, 5, 5, 26, 26, 26, 26, 26, 26, 26, 26, 26, 26, 26, 26, 26, 10, 10, 10, 10, 8, 10, 10, 10, 10, 10, 10, 8, 10, 8, 10, 10, 26, 8, 26, 26, 26, 26, 26, 10, 10, 10, 10, 10, 10, 8, 10, 10, 10, 8, 26, 26, 26, 26, 26, 0, 0, 0, 0, 0, 0, 0, 0, 0, 0, 0, 0, 0, 0, 0, 0, 6, 6, 6, 6, 6, 6, 6, 6, 6, 6, 6, 6, 6, 6, 6, 6, 6, 6, 6, 6, 6, 6, 6, 6, 6, 6, 6, 6, 6, 21, 21, 21, 21, 21, 21, 21, 13, 13, 21, 21, 21, 17, 24, 24, 13, 24, 21, 13, 13, 13, 13, 13, 13, 13, 13, 13, 24, 24, 24, 13, 13, 13, 18, 18, 18, 18, 18, 18, 18, 18, 18, 19, 18, 18, 18, 18, 18, 18, 19, 18, 18, 18, 19, 18, 18, 13, 19, 13, 13, 13, 13, 19, 13, 13, 13, 18, 19, 18, 14, 14, 14, 14, 0, 0, 0, 0, 14, 14, 14, 14, 14, 0, 0, 0, 14, 14, 13, 11, 11, 14, 14, 14, 14, 14, 14, 14, 14, 14, 14, 14, 14, 14, 14, 14, 14, 14, 14, 14, 14, 14, 14, 14, 14, 14, 14, 21, 21, 21, 21, 21, 21, 19, 13, 19, 13, 13, 13, 13, 13, 13, 13, 13, 19, 19, 19, 18, 18, 18, 18, 19, 18, 18, 18, 13, 13, 13, 13, 13, 13, 13, 13, 13, 13, 13, 13, 13, 13, 13, 13, 13, 13, 13, 13, 13, 13, 13, 13, 13, 13, 13, 13, 13, 13, 13, 19, 19, 18, 18, 18, 18, 18, 18, 18, 18, 18, 18, 18, 14, 14, 18, 14, 14, 6, 6, 6, 6, 6, 6, 14, 6, 6, 14, 6, 6, 14, 14, 14, 14, 14, 14, 14, 14, 14, 14, 14, 14, 14, 14, 14, 14, 14, 18, 14, 14, 14, 18, 18, 18, 18]\n"
          ]
        }
      ]
    },
    {
      "cell_type": "markdown",
      "source": [
        "## **Visualizing Test Data [Plotting the test samples at respective Geographical Position using different colors for different group ids]**"
      ],
      "metadata": {
        "id": "j9C0MfVGK6CD"
      }
    },
    {
      "cell_type": "markdown",
      "source": [
        "### Based on the result achieved from Custom K-Means approach using mRMR selected features."
      ],
      "metadata": {
        "id": "v5jVWQqDs0eL"
      }
    },
    {
      "cell_type": "code",
      "source": [
        "fig = px.scatter_mapbox(census_df[['Lat', 'Long']],\n",
        "                        lat=\"Lat\", \n",
        "                        lon=\"Long\",\n",
        "                        color = census_labels_hc,\n",
        "                        zoom=10, \n",
        "                        height=800,\n",
        "                        width=800,title=\"Tiger Category\")\n",
        "\n",
        "fig.update_layout(mapbox_style=\"open-street-map\")\n",
        "fig.update_layout(margin={\"r\":0,\"t\":0,\"l\":0,\"b\":0})\n",
        "fig.show()"
      ],
      "metadata": {
        "colab": {
          "base_uri": "https://localhost:8080/",
          "height": 817
        },
        "outputId": "d09eaf70-09c7-42d5-8ddc-5a201c1bfc44",
        "id": "Ozb7y7cvK6CD"
      },
      "execution_count": null,
      "outputs": [
        {
          "output_type": "display_data",
          "data": {
            "text/html": [
              "<html>\n",
              "<head><meta charset=\"utf-8\" /></head>\n",
              "<body>\n",
              "    <div>            <script src=\"https://cdnjs.cloudflare.com/ajax/libs/mathjax/2.7.5/MathJax.js?config=TeX-AMS-MML_SVG\"></script><script type=\"text/javascript\">if (window.MathJax) {MathJax.Hub.Config({SVG: {font: \"STIX-Web\"}});}</script>                <script type=\"text/javascript\">window.PlotlyConfig = {MathJaxConfig: 'local'};</script>\n",
              "        <script src=\"https://cdn.plot.ly/plotly-2.8.3.min.js\"></script>                <div id=\"5d347484-fe0a-408f-9bda-4d55e0a08359\" class=\"plotly-graph-div\" style=\"height:800px; width:800px;\"></div>            <script type=\"text/javascript\">                                    window.PLOTLYENV=window.PLOTLYENV || {};                                    if (document.getElementById(\"5d347484-fe0a-408f-9bda-4d55e0a08359\")) {                    Plotly.newPlot(                        \"5d347484-fe0a-408f-9bda-4d55e0a08359\",                        [{\"hovertemplate\":\"Lat=%{lat}<br>Long=%{lon}<br>color=%{marker.color}<extra></extra>\",\"lat\":[22.09853256,22.09174282,22.08506221,22.0828961,22.07816333,22.07798145,22.07142856,22.05972417,22.05407225,22.07329352,22.07116378,22.06422854,22.07052719,22.06135308,22.05335316,22.0643478,22.04257638,22.03705179,22.02719496,22.034148,22.0252649,22.03552227,22.0433403,22.0488653,22.05195057,22.10201838,22.1054674,22.09212477,22.08761027,22.08093006,22.07861805,22.08351451,22.09125978,22.09806772,22.08483421,22.08178493,22.08976665,22.10406522,22.11473246,21.96387715,21.95947218,21.94937851,21.94381753,21.93937618,21.93029301,21.92702546,21.9261059,21.93394212,21.9229111,21.92320212,21.92885404,21.93808272,21.94024923,21.93600755,21.93163896,21.92837141,21.9273791,21.92627765,21.92416611,21.9206803,21.92080762,21.91959744,21.92304688,21.91815042,21.9509609,21.94993262,21.943252,21.93765465,21.93870113,21.93431434,21.94187773,21.96072718,21.95856108,21.96403112,21.96394017,21.96061805,21.96717134,21.97280508,21.97381517,21.97260501,21.96814507,21.97253225,21.96807231,21.97240493,21.97979449,21.98210651,21.9866388,21.9867843,21.98801307,21.99032469,21.99487556,21.9944936,21.99664153,22.0022207,21.98631141,21.98401798,21.99073496,21.99170869,21.98827744,21.98838658,21.99600493,22.00060997,21.99961806,21.99748793,22.04063867,22.0419216,22.03099971,22.02244401,22.01679209,21.99024388,21.98345413,22.01523593,22.07313828,22.07295639,22.04234839,22.03790664,22.02774061,22.04830951,22.05273267,22.01174039,22.00614303,21.99720537,22.00419518,21.99962611,21.99518477,21.99505745,21.97894808,21.97548047,21.9742517,21.9740419,22.01044733,21.98437161,21.98877698,21.98204181,21.98521841,22.0392991,22.03720574,22.03843411,22.04901887,22.0445953,22.02345283,22.02787599,22.03574858,22.04017215,22.04353064,22.04345788,22.04253833,22.04692551,22.04817206,22.05033857,22.06573818,22.06904211,22.0712264,22.08045508,22.08030957,21.94787524,21.94798437,21.93998445,21.92807026,21.92592234,21.9160833,21.91408089,21.91530966,21.92401087,21.92617698,21.93607017,21.94053011,21.94948596,21.95396368,21.95956144,21.96514061,21.96501329,21.96362083,21.96123646,21.97523388,21.979712,21.98169623,21.97090166,21.97662633,21.9800394,21.98908619,21.99251744,22.00046279,22.00611471,22.00940044,21.95188851,21.95761319,21.9599434,21.96897201,21.97467849,21.98502639,21.98517191,21.9930449,21.91883144,21.9202421,21.9247566,21.92567575,21.92380066,21.93170964,21.94303207,21.95538239,21.962063,21.96188111,21.94384209,21.94277743,21.98773856,21.99783183,22.00897198,22.01110211,22.1869778,22.18459343,22.18224544,22.16009206,22.1672739,22.1627594,22.15835442,22.15734392,22.15633342,22.12847396,22.1282557,22.15640618,22.16147607,22.16114867,22.11585042,22.1091698,22.10133358,22.10593863,22.10032308,22.09692822,22.06527373,22.06512822,22.06500091,22.03049681,22.02612821,22.01599817,21.98142172,21.97567886,22.02961403,22.03956179,22.03967092,22.08983772,22.0840221,22.11018836,22.12369508,22.11861674,22.12186611,22.13156768,22.13147674,22.13246905,22.13577258,22.1412794,22.13891281,22.14926112,22.16892059,22.0640251,22.05811854,22.06030284,22.06705621,22.06239619,22.06342489,22.06782985,22.07236254,22.07685846,22.06403484,22.06405303,22.06150496,22.06168684,21.99016736,21.99693891,22.02766578,22.05110248,22.0508559,22.05426896,22.07776788,22.08220963,22.10232382,22.10333431,22.07774164,22.08561423,22.09462465,22.09930285,22.1020328,22.09537038,22.09329521,22.0688666,22.08204593,22.06967703,22.0695679,22.05657044,22.05875514,22.06319648,22.07270812,22.14697575,22.13704577,22.13276812,22.12722533,22.11120691,22.13234978,22.1455651,22.14883265,22.16226663,22.17768482,22.16181192,22.13859388,22.13870301,22.1870772,22.1874507,22.18308211,22.19113659,22.14896843,22.13865649,22.12869014,22.14127732,22.15084352,22.15717855,22.18092406,22.1920642,22.17437076,22.15770601,22.15989031,22.19118102,22.19791619,22.20081998,22.19520444,22.17173175,22.17296012,22.15170851,22.04670517,22.03666646,22.01537808,22.00761462,22.00075212,21.99056751,21.97606886,21.9728195,21.97848962,21.98307687,21.96081436,21.95285082,21.9351392,21.95205859,21.92801233,21.95370568,21.92815783,21.93169782,21.93843299,21.94731608,21.95406946,21.96539149,21.97864357,21.98667987,21.99227723,21.9990124,22.00350831,22.01325641,22.01755264,22.02193943,22.00500184,22.01612381,22.0014251,22.0081239,22.0148041,22.02599921,22.03401732,22.01676041,22.02338645,22.02993934,22.0398875,22.04537573,22.04965378,22.05059113,22.05154706,22.05360403,21.97796215,21.97675197,22.00189967,22.01755432,22.01193878,21.99975175,21.98299566,21.97629727,21.97066353,21.96154398,21.95713862,21.95699311,21.94249446,21.94383236,21.93025287,21.92586609,21.92373596,21.91819316,21.91837505,21.92402697,21.95118554,21.95102184,21.95672833,21.96238065,21.96140653,21.95929498,21.95602743,21.94925588,21.95028457,21.93119868,21.93020636,21.93367398,21.92932358,21.92383535,21.91717294,21.92715747,21.92278848,21.91827437,21.91618062,21.91054688,21.90379352,21.90819889,21.90827165,21.90370258,21.90586909,21.89476491,21.89577542,21.89676773,21.90348432,21.90111814,21.90438569,21.93657777,21.94107408,21.94230244,21.95994132,21.98605341,21.98278585,21.90909349,21.91120543,21.91465487,21.90127546,21.89147281,21.88818747,21.88264428,21.86599772,21.87836662,21.87963176,21.87889409,21.87566291,21.86912781,21.86589663,21.88669393,21.89911741,21.88916965,21.88483703,21.88054119,21.89287332,21.89858021,21.88536449,21.87099317,21.86534125,21.86627859,21.86725272,21.85383733,21.85414654,21.84194132,21.8443257,21.85891528,21.8700918,21.85355437,21.86157247,21.87385044,21.8906611,21.89396462,21.89717761,21.90040878,21.90252033,21.90466865,21.90228388,21.91118516,21.90986586,21.91528133,21.92084231,21.90961122,21.90726323,21.91051219,21.91553597,21.91990456,21.92539319,21.91737468,21.91042124,21.91000291,21.90756398,21.90411454,21.90064692,21.89393033,21.90483403,21.83803717,21.8465565,21.83395114,21.81838744,21.81047846,21.83829181,21.83152026,21.82585015,21.82126289,21.81781386,21.81531996,21.81169709,21.79475911,21.78336433,21.78459309,21.78802434,21.76877474,21.75866288,21.82969973,21.82083483,21.80866599,21.80082977,21.80673633,21.79770773,21.79385815,21.79035414,21.77244244,21.77572818,21.76924764,21.76251247,21.75301097,21.75554124,21.75810749,21.85694078,21.86901868,21.87428864,21.87392487,21.85606774,21.8494239,21.85041582,21.85072503,21.85744201,21.85767846,21.74270748,21.75058008,21.74707648,21.72324809,21.71972589,21.71893366,21.69551555,21.67560143,21.67661193,21.65759879,21.6472141,21.66290512,21.67186097,21.69964809,21.69979359,21.71060635,21.6999391,21.70118565,21.72127191,21.71942475,21.72043525,21.73515215,21.73955752,21.73365056,21.75062492,21.71797812,21.72792588,21.73791042,21.75685081,21.76013615,21.76593398,21.76584304,21.76463246,21.76455971,21.77131308,21.77006612,21.76325819,21.75648704,21.75301942,21.7528921,21.74936991,21.8201699,21.81802199,21.8072638,21.829918,21.82444796,21.78689457,21.79012574,21.79702462,21.80157549,21.76747155,21.75853388,21.78527412,21.79311074,21.79984551,21.80992099,21.8187859,21.82028749,21.82707683,21.83379382,21.84233134,21.8422222,21.84771043,21.85885058,21.87241187,21.87340419,21.85628432,21.87623481,21.85151558,21.88091301,21.69236558,21.70462535,21.69429523,21.7008849,21.69947425,21.69479646,21.69404059,21.68016036,21.67236012,21.66887471,21.66678095,21.66463304,21.66028262,21.64923302,21.64235274,21.62915521,21.61192662,21.60945091,21.60807704,21.62086429,21.61930812,21.61958095,21.62123779,21.62909259,21.63553635,21.63458082,21.64718618,21.62739898,21.63184073,21.63512648,21.65305637,21.65971878,21.68122503,21.67327968,21.68324603,21.67732128,21.67062248,21.64819628,21.65498602,21.65231063,21.6600741,21.67807674,21.68589517,21.70613668,21.70883025,21.70249522,21.69376945,21.7003955,21.68934629,21.6901927,21.67385534,21.67340063,21.66040317,21.65695413,21.62199532,21.63779548,21.67314599,21.66639263,21.6696238,21.71781611,21.7134653,21.72104728,21.71976395,21.69965782,21.69528922,21.70870461,21.69209443,21.69558025,21.70121398,21.70798553,21.69462431,21.69365058,21.69486076,21.69487895,21.69831019,21.69476982,21.70152318,21.7081856,21.72053632,21.72169193,21.72627919,21.72495948,21.72934667,21.73703738,21.73376983,21.73797513,21.74349973,21.74906071,21.74445526,21.74429157,21.85008843,21.84553794,21.84003153,21.84458202,21.84208851,21.83228586,21.83417954,21.82630654,21.81848851,21.79954813,21.79057409,21.78271967,21.77600269,21.76607271,21.76739242,21.76862118,21.73429897,21.72466041,21.7226576,21.73282402,21.73244207,21.74136154,21.74824223,21.76301369,21.78999037,21.81032282,21.81355399,21.80408887,21.77608349,21.78067075,21.78529398,21.7914835,21.80220532,21.8045719,21.83261325,21.82909106,21.84256141,21.84353553,21.83690949,21.59978571,21.61215462,21.62103772,21.6175519,21.60742225,21.59620935,21.596983,21.6430274,21.64280913,21.64158037,21.63155985,21.63592845,21.65923743,21.65797269,21.66720137,21.67274416,21.66995925,21.67781405,21.67803231,21.68561389,21.68583215,21.67944256,21.68726099,21.67505577,21.66107614,21.66010242,21.65688943,21.66203208,21.65087374,21.63756709,21.63323487,21.62758295,21.64329176,21.64360097,21.62455185,21.62469735,21.69287654,21.68729737,21.68384793,21.69164777,21.68920883,21.68908151,21.68484024,21.68658801,21.64836206,21.6382502,21.63613866,21.62272287,21.60988951,21.61453094,21.60682204,21.6055569,21.57390409,21.55083157,21.53042636,21.55520016,21.53360257,21.57220243,21.57424162,21.5717841,21.56209098,21.56077127,21.53755323,21.56934516,21.58283371,21.58297921,21.59879716,21.58557339,21.55375521,21.56337598,21.57003801,21.58014987,21.5869396,21.59618648,21.60286668,21.63320186,21.63135509,21.62586687,21.60479674,21.59934489,21.61714746,21.60898345,21.60233921,21.58336285,21.57092119,21.58876013,21.63218331,21.62432889,21.6164563,21.60856512,21.60291319,21.59399372,21.5873313,21.58408194,21.58487417,21.57366127,21.56360398,21.89037345,21.8860776,21.88057079,21.91238131,21.90694725,21.90762022,21.90070357,21.8631138,21.86520755,21.87412703,21.90567237,21.90556325,21.90480778,21.89061795,21.88157115,21.87351668,21.89267533,21.89251163,21.85432165,21.84775057,21.84569319,21.84363621,21.84152467,21.83264157,21.83941312,21.84508324,21.85053509,21.88408325,21.87971425,21.87205992,21.86310407,21.85743396,21.8595455,21.73463818,21.74030829,21.74344852,21.75581743,21.75910317,21.76009549,21.75045652,21.75713714,21.76262536,21.7659111,21.77051614,21.77932649,21.77587706,21.77463051,21.7825031,21.76338082,21.7599136,21.75332393,21.78909277,21.79118612,21.78333172,21.77208203,21.78671645,21.7857787,21.79802029,21.80936051,21.79488006,21.78708022,21.779244,21.80358972,21.80237915,21.7597842,21.7517661,21.73989841,21.73312685,21.75531621,21.6812753,21.67573211,21.65095831,21.63270104,21.62389069,21.62340766,21.6281768,21.63612215,21.68815558,21.68264917,21.6782442,21.67714276,21.66609355,21.65832968,21.65166767,21.64612487,21.73572949,21.73708557,21.74645975,21.75344957,21.74931703,21.70853455,21.70990882,21.71675313,21.71801786,21.70794278,21.70787002,21.70584903,21.69922338,21.68434238,21.67430367,21.66419182,21.65503589,21.66604872,21.65826706,21.67377621,21.68040226,21.67787197,21.67321237,21.67862784,21.67848234,21.67181991,21.65792149,21.68919441,21.69049553,21.69401772,21.6975399,21.86926695,21.87699443,21.88240991,21.88668755,21.87633965,21.86622779,21.84029799,21.84748747,21.84649556,21.84550325,21.84913457,21.85262038,21.84938921,21.8438828,21.84133474,21.83671109,21.83322528,21.82862024,21.82311383,21.822841,21.8204926,21.79694717,21.79377056,21.79841239,21.80393699,21.80868754,21.78203825,21.78994762,21.7978566,21.80466453,21.80668513,21.8144308,21.8201191,21.83582791,21.8517372,21.85950107,21.83176852,21.8307944,21.83640995,21.83985938,21.83888566,21.83789335,21.83805705,21.83139462,21.8235584,21.82794518,21.82357659,21.82561538,21.80893244,21.81788829,21.81440248,21.80430881,21.80087756,21.79184896,21.79508013,21.80076843,21.80401779,21.80966972,21.81411146,21.81970882,21.81871651,21.72983306,21.73425622,21.73978082,21.74414982,21.74627955,21.74727186,21.74718092,21.74485071,21.72589254,21.71368733,21.72278868,21.7003261,21.70612393,21.70548734,21.68526362,21.6752431,21.67085592,21.66549501,21.65442762,21.64447946,21.63899123,21.65020413,21.6569575,21.66694204,21.6413756,21.65148747,21.65159659,21.64497055,21.66910814,21.68116785,21.68369773,21.6639655,21.66084346,21.66633169,21.67508746,21.67947465,21.68732905,21.68745637,21.68534483,21.68326926,21.68563584,21.68785652,21.69679418,21.70116277,21.70975485,21.71771879,21.71010044,21.71488776,21.71811894,21.72245116,21.72680196,21.73117055,21.72766655],\"legendgroup\":\"\",\"lon\":[88.79724112,88.79388101,88.79567555,88.79913682,88.7871612,88.77857108,88.78637841,88.76245254,88.75993912,88.82158599,88.82676521,88.81653333,88.79669958,88.78649268,88.77885041,88.76927393,88.79873495,88.80223473,88.81265706,88.82374833,88.82728579,88.83576205,88.8348142,88.83131442,88.81839094,88.80321624,88.80747301,88.81192064,88.81025348,88.81204761,88.80863712,88.8283439,88.82395975,88.82817884,88.83778029,88.85242212,88.85920543,88.84701395,88.82197517,88.73088884,88.73437592,88.73363081,88.73541265,88.73718138,88.73126975,88.7356031,88.7450649,88.74497602,88.75283414,88.76657891,88.76909234,88.78187615,88.77841487,88.78963269,88.79483772,88.79917108,88.80519698,88.80606865,88.81210725,88.80613214,88.81214535,88.80786277,88.81211995,88.79241317,88.80836623,88.81267419,88.81446832,88.8145318,88.81108322,88.81542886,88.8024546,88.79364862,88.79711031,88.79103362,88.78673835,88.78849439,88.78068705,88.78234151,88.77717458,88.77289242,88.77380218,88.76945612,88.77036588,88.76344291,88.79515072,88.79856162,88.80108774,88.80795992,88.81310146,88.81651237,88.81989746,88.80185783,88.79753758,88.79661513,88.78562544,88.78307351,88.78299733,88.77611245,88.77271466,88.7778689,88.76747154,88.77343396,88.77945987,88.7846395,88.76009148,88.76780994,88.78082229,88.79982247,88.79730904,88.75980387,88.75644376,88.77670479,88.86712703,88.85853691,88.84084011,88.84260884,88.83842784,88.85795686,88.85532916,88.8231433,88.82320678,88.82416733,88.83697654,88.83273206,88.8345012,88.82848799,88.8080488,88.80293307,88.79779153,88.84075565,88.86783807,88.85266739,88.84918071,88.84839793,88.8397693,88.85548153,88.8623791,88.86752064,88.8914592,88.89408691,88.90034136,88.89771366,88.89934272,88.89671502,88.89667693,88.89324063,88.90270283,88.89835678,88.90435729,88.9008956,88.88783245,88.88521745,88.88261473,88.89539854,88.88852636,88.82128971,88.82644395,88.81880167,88.83783994,88.8421606,88.85344191,88.86463475,88.86977629,88.85764829,88.85418702,88.84548221,88.84457245,88.84447088,88.84442009,88.8443566,88.84343414,88.83742094,88.82454825,88.81770146,88.84417884,88.84412805,88.83207624,88.85110181,88.85705153,88.85959077,88.86378405,88.86718225,88.87224761,88.87476104,88.87128665,88.85217663,88.85812636,88.86239623,88.86573095,88.87082129,88.8835924,88.890465,88.89209406,88.87746935,88.89120142,88.89286858,88.88340638,88.90061243,88.90395984,88.90984608,88.91142436,88.90963023,88.9010397,88.89522964,88.89781966,88.9059019,88.9066466,88.90394272,88.89876308,88.95519608,88.94834929,88.94322044,88.95464183,88.92362794,88.92196079,88.92544746,88.93061439,88.93578133,88.94211196,88.93180349,88.93921762,88.91424233,88.89877962,88.9276483,88.92944242,88.9295313,88.93549373,88.93469824,88.93301839,88.91877016,88.91189798,88.90588477,88.91572789,88.9209325,88.91846986,88.92487668,88.91806799,88.92690762,88.92078014,88.92593438,88.96832714,88.95808215,88.97754809,88.98083161,88.95253471,88.94734238,88.98246068,88.97816582,88.97213991,88.9695245,88.96516616,88.95917835,88.97194946,88.94852705,89.01845548,89.00391563,89.00131291,89.00295508,88.99441534,88.99010779,88.98662071,88.98914683,88.98995543,88.96604226,88.96690123,88.95232329,88.96091341,88.96773923,88.97023996,88.94067779,88.93697485,88.97822104,88.98075986,89.03290645,89.03113771,89.02919123,89.02402429,88.97877528,88.98040434,88.98287968,88.99227839,89.01544687,89.01809996,89.02585651,89.03558535,89.02340656,89.02096932,89.01581508,89.03658399,89.03398168,89.03221254,89.00546851,89.02267013,89.02965659,89.03915688,89.04179728,89.02565335,89.0193989,89.00893847,89.00460511,89.00445275,88.99224857,88.98297724,88.99698823,89.00214247,89.01276353,88.97753097,88.98273599,88.99295518,89.06389093,89.05283775,89.05810627,89.07085199,89.04668488,89.02856907,89.03946988,89.03676558,89.04727721,89.05348087,89.05087816,89.04794573,89.04872851,89.02721491,89.02641943,89.02840401,89.03354555,89.03464576,88.99373413,88.99556634,88.99494862,88.99847379,88.99167779,88.98663783,88.98937981,88.99457214,88.99794495,89.00304798,89.00931513,89.0033908,89.01304346,89.01886622,89.04663427,89.04376532,89.05350645,89.06205889,89.06284168,89.05930381,89.06094598,89.06683222,89.05808932,89.06744994,89.06738646,89.06816925,89.06897743,89.05340085,89.04475953,89.04041389,89.03373175,89.0301689,89.02346178,89.02252663,89.02073209,89.02060512,89.02910677,89.06023494,89.05586349,89.04805616,89.04192868,89.03671096,89.02721066,89.01860784,89.010864,89.00224807,88.97303314,88.96875057,88.94011044,88.9390737,88.93827822,88.9444311,88.9463395,88.94727506,88.94562019,88.93799061,88.9414777,88.93460552,88.9373475,88.94764327,88.94092305,88.9452691,88.95044874,88.95308913,88.96167967,88.9641931,88.97763273,88.96990157,88.97499233,88.97750575,88.98439063,88.99042923,88.99476259,88.99226186,88.98795389,88.98559283,88.99161874,88.99673448,89.00279847,89.00801619,89.0106697,89.00626016,89.01146519,89.00979762,89.01669561,89.01504074,89.01339898,89.00991189,89.01334819,89.00910371,89.00564243,89.01006426,89.00489774,88.99887183,88.99879565,88.99280783,88.98847448,88.97522087,88.97602905,88.9811706,88.96808206,88.98497068,88.98930362,88.8406327,88.8345941,88.83885127,88.84158097,88.85458063,88.8580546,88.86069541,88.86775805,88.87019529,88.87705477,88.8951071,88.9011584,88.9098247,88.91587601,88.89330028,88.89831485,88.90444233,88.9113653,88.92000621,88.92072551,88.92581626,88.9362771,88.94503229,88.94251886,88.93391563,88.92703075,88.92804209,88.94264583,88.94793932,88.95478652,88.9563394,88.95535346,88.96757033,88.97607158,88.97421397,88.97488248,88.97226707,88.9653568,88.9593055,88.95326689,88.94894664,88.94209986,88.93942096,88.92998456,88.92133054,88.91954911,88.91795814,88.9128293,88.90763697,88.93335696,88.92815193,88.92293462,88.91443297,88.90334171,88.88358414,88.87416044,88.86990326,88.86478712,88.8648633,88.85099197,88.92220664,88.90148852,88.88788383,88.89321583,88.88986841,88.93423306,88.93173233,88.92835951,88.92325607,88.9189993,88.90699828,88.94742317,88.94074145,88.93141933,88.93656087,88.93995866,88.92986604,88.92826237,88.95151529,88.95591213,88.96292398,88.96301286,88.9775527,88.97421839,88.95106262,88.94422853,88.94443169,88.9409573,88.95220093,88.95141814,88.92574894,88.9394679,88.95490481,88.91597758,88.90467088,88.88914468,88.87196403,88.8747445,88.87825657,88.87223066,88.88683441,88.88675822,88.89792526,88.96796796,88.96959744,88.96276334,89.00083988,88.9931464,89.00862182,89.01318372,89.0245793,89.01941278,89.0204876,89.00599813,89.00667934,89.00657777,88.99681125,89.00368343,88.98551683,89.01055561,89.01655612,89.06616388,89.03181568,89.02664874,89.03421483,89.03072775,89.01618791,89.02458798,89.01636566,89.01023818,89.00582864,89.00131793,88.99784355,89.00722957,89.0029343,88.99865173,88.99521585,88.9968576,88.9908571,88.98663801,88.98413728,88.97902113,88.97300792,88.96531486,88.97740034,88.981721,89.00246451,88.96182376,88.96790046,88.99238458,88.98633328,88.99484763,88.99823273,89.02697444,89.02793499,89.02161705,89.02152817,89.02231096,89.02219668,89.01780025,89.03582677,89.03918688,89.0391107,89.01925156,89.01409732,89.0088796,89.00617571,89.01203655,89.00601065,88.99073839,88.98106075,88.97704482,88.99045906,89.07594351,89.07322651,89.06131437,89.05522498,89.04149332,89.03209501,89.04928795,89.081237,89.08304424,89.07706912,89.08396669,89.08828735,89.09435094,89.1013505,89.09369512,89.10501493,89.08458885,89.0734468,89.06143307,89.0836283,89.06302405,89.07590944,89.04839532,89.04916541,89.03620384,89.04394769,89.05755279,89.07496159,89.07319285,89.06971888,89.0703747,89.06772119,89.07864739,89.07358203,89.06831352,89.0529147,89.05384986,89.05238586,89.05574556,89.03515441,89.03162924,89.03572136,89.0347735,89.03884022,89.06029034,89.07840615,88.93071674,88.9263457,88.93334485,88.92044677,88.94211273,88.92063722,88.94140613,88.93714895,88.92551614,88.93135159,88.90861081,88.90696905,88.90091775,88.90294869,88.90901268,88.89689738,88.88917893,88.94439803,88.94960264,88.94859131,88.95737229,88.96334741,88.96500187,88.9675026,88.97109126,88.97797613,88.98225871,88.98311768,88.98651547,88.97796344,88.9796052,88.9769521,88.97853038,88.98023562,88.98533907,88.97590268,88.97155662,88.96459556,88.96892892,88.95599274,88.95249296,88.95071153,88.94474912,88.93701796,88.85676836,88.85338285,88.8577416,88.86112711,88.84912609,88.86212575,88.84577867,88.84414961,88.84509746,88.84960858,88.84885118,88.84808068,88.84815686,88.85514332,88.86458012,88.86972166,88.8881549,88.90888571,88.92007855,88.92425913,88.90621992,88.90439999,88.91205537,88.92219837,88.92704788,88.93540945,88.92935815,88.90540731,88.90486535,88.9099688,88.91679019,88.8918022,88.86934075,88.87532856,88.87758805,88.869895,88.87146057,88.86457569,88.86894714,89.04004645,89.04248369,89.03894623,89.03297111,89.03050806,89.02977606,89.01344168,89.01979369,89.00948521,89.00434368,89.00703486,89.00183025,88.99211411,88.98525462,88.99803843,88.99539803,88.96965265,88.97042274,88.98073081,88.96861551,88.97892399,88.99446288,88.99351462,88.99880852,88.97319011,88.98007499,88.98698526,88.96544627,88.96729118,88.97345675,88.98037972,88.97786629,88.97940648,88.99400981,88.99336668,89.00023886,88.99431052,88.99523297,88.9909758,88.98916898,88.97974487,88.97373166,88.98494989,88.96173063,88.95443118,88.95282751,88.95886612,88.95987745,88.98837751,88.99605828,89.00216037,88.99530089,88.87536684,88.89625043,88.88445255,88.8910454,88.87582393,88.84789082,88.83841591,88.82813325,88.84628715,88.83685034,88.85086134,88.81870914,88.82113409,88.82800627,88.8347007,88.79188893,88.76990956,88.74831977,88.74566668,88.74727035,88.75063005,88.76427324,88.76247871,88.76729013,88.73294192,88.73815964,88.74784998,88.75478565,88.74942825,88.73405484,88.7375669,88.74036007,88.73448653,88.73084709,88.71918487,88.71841436,88.7167853,88.71429727,88.71178343,88.71360336,88.71625645,88.72144878,88.70597337,88.70524137,88.70621462,88.74976647,88.75840738,88.76276613,88.7314729,88.73926754,88.77105152,88.76167861,88.7844448,88.77754722,88.7757277,88.78482128,88.77966745,88.79686039,88.81420611,88.81001242,88.79979323,88.80559059,88.79785944,88.79227793,88.79922629,88.80784181,88.81645733,88.82249593,88.8260338,88.82853453,88.83190734,88.82497168,88.82287282,88.82807744,88.83675685,88.83685843,88.83348562,88.82744701,88.74551815,88.74889055,88.7385444,88.74098164,88.73750767,88.73148176,88.75221257,88.75041845,88.74520072,88.74172634,88.74768876,88.740715,88.73645824,88.73045773,88.73208679,88.72800737,88.72289122,88.72898062,88.7259974,88.71909982,88.71832973,88.71587938,88.77242281,88.78102604,88.77745007,88.78419528,88.78779664,88.78960346,88.78969234,88.82894084,88.82465868,88.82256385,88.8140626,88.78240559,88.77990444,88.77020141,88.81658046,88.81922127,88.81262801,88.79650989,88.80348365,88.83356239,88.84725596,88.85232132,88.82423543,88.82859418,88.83208126,88.83295293,88.83995208,88.84347685,88.84613035,88.84877075,88.79705971,88.80821445,88.82787045,88.84067965,88.85705213,88.78190213,88.79391585,88.79985288,88.80671236,88.80682663,88.80339034,88.81372421,88.81809525,88.80279801,88.80463022,88.80302656,88.79367863,88.78496154,88.78762733,88.77971842,88.77534738,88.761628,88.75308867,88.74443506,88.73756288,88.74021598,88.77130606,88.76751424,88.77609208,88.78378514,88.7914782,88.75773886,88.75249574,88.74384214,88.73434185,88.72157073,88.71996706,88.71166897,88.73392727,88.73995318,88.74597908,88.75882638,88.7648015,88.7708528,88.77521155,88.76063361,88.75381181,88.74783669,88.74187427,88.74623302,88.73334764,88.7282188,88.72676749,88.7353957,88.74307648,88.7395767,88.7524113,88.7630245,88.7663715,88.76971892,88.77393801,88.76360414,88.75921999,88.76345177,88.76499196,88.77598164,88.77245647,88.78480031,88.79168519,88.79248109,88.79673785,88.80362273,88.80964863,88.8173802,88.82003329,88.82012217,88.81577612,88.82098114,88.81150665,88.81685093,88.81674936,88.81077424,88.81002955,88.80663175,88.80329703,88.79724573,88.80147752,88.79628519,88.79879903,88.79702988,88.7969664,88.8029923,88.73010623,88.72747853,88.72397875,88.71877413,88.7135945,88.70756859,88.70327332,88.69900346,88.7026556,88.7079495,88.71472011,88.71153776,88.72092377,88.69085773,88.68765039,88.69034158,88.69468763,88.70591815,88.71205833,88.71818582,88.72340354,88.72413554,88.72577771,88.72136817,88.73025033,88.7318544,88.73700823,88.74137968,88.71790648,88.70574039,88.71945977,88.73944589,88.75065142,88.7454337,88.73588262,88.73153698,88.73230707,88.73832028,88.74435888,88.75211543,88.75810324,88.75721887,88.75625833,88.7510533,88.73377107,88.7396954,88.75009276,88.7646453,88.758594,88.75167103,88.74560703,88.74040201,88.73356792],\"marker\":{\"color\":[3,3,3,3,3,3,3,3,3,3,3,3,3,3,3,3,26,3,3,3,3,3,3,26,3,3,3,3,11,3,3,3,3,11,3,3,3,11,3,13,13,13,13,13,13,13,13,13,13,13,13,13,13,13,13,26,22,26,22,22,22,22,22,13,22,11,22,22,22,26,22,13,26,13,13,26,13,13,11,13,11,13,13,13,13,13,11,22,26,22,22,13,13,26,13,11,13,13,11,13,26,13,11,13,3,11,3,3,3,13,11,26,0,3,3,11,26,0,26,26,11,22,22,26,26,26,22,26,26,26,0,22,11,22,26,3,0,0,0,11,0,0,0,0,0,11,0,0,0,0,0,0,0,0,0,22,22,22,22,11,14,14,14,22,26,22,22,22,22,26,22,26,26,22,22,26,26,22,22,22,11,22,0,11,0,22,22,11,22,26,26,0,0,14,14,14,14,14,14,14,14,14,22,11,14,11,11,0,0,5,5,5,5,5,5,5,5,5,5,5,5,5,5,5,0,0,0,0,0,0,0,0,0,0,0,0,0,0,0,0,17,17,5,5,5,5,5,5,5,5,5,5,5,5,17,17,17,17,17,17,17,17,17,17,17,0,17,23,17,0,0,17,17,17,11,17,5,17,5,17,17,17,17,17,17,17,17,17,17,17,17,17,5,5,5,5,5,5,5,5,5,5,5,5,5,5,5,5,5,5,5,5,5,5,5,5,5,5,5,5,5,5,5,5,5,5,5,17,17,17,17,17,23,23,23,23,23,23,23,23,23,23,23,23,23,23,23,23,23,23,17,11,11,17,11,17,17,17,17,17,17,17,17,17,17,17,17,17,17,17,17,17,17,23,23,0,0,0,0,23,23,23,23,11,23,23,23,23,23,23,23,23,23,23,23,23,23,23,23,23,23,23,23,23,23,23,23,23,23,23,11,23,23,23,23,23,23,23,23,23,23,11,23,23,23,23,23,23,23,11,22,22,22,22,14,14,14,14,14,14,14,14,14,14,14,14,14,14,14,14,14,14,14,14,14,14,14,9,9,9,9,9,9,9,9,23,23,23,23,23,14,14,14,14,14,14,14,14,14,14,14,14,14,14,14,14,14,14,11,14,21,14,21,21,21,21,21,21,21,21,21,21,21,21,21,21,21,21,9,9,9,9,9,9,21,21,21,21,21,21,21,21,15,14,14,14,14,14,14,16,14,14,14,15,15,15,15,15,1,1,1,1,4,4,4,4,15,1,15,1,1,1,1,1,1,1,1,1,1,1,15,15,15,15,15,15,15,15,15,15,15,15,15,15,9,9,9,9,9,9,9,9,9,1,1,9,9,9,9,9,9,9,9,9,9,9,9,9,9,9,9,9,9,1,1,1,1,1,1,1,24,24,24,24,24,24,24,24,24,24,24,24,24,24,24,24,24,24,24,24,24,24,24,24,20,24,24,24,1,24,24,24,24,24,1,1,1,1,1,7,7,7,7,7,7,4,7,4,4,7,7,7,7,7,7,7,7,7,15,15,15,20,15,15,15,15,15,20,20,15,15,15,15,15,15,15,15,15,15,15,15,15,15,2,2,2,2,2,2,2,2,2,2,2,2,2,2,21,21,7,7,7,7,7,7,20,21,21,21,21,21,21,21,21,21,2,21,2,2,2,2,2,24,24,24,24,24,24,4,4,4,4,4,4,4,4,4,4,4,20,4,15,15,4,15,4,20,4,20,4,4,4,20,4,4,4,4,4,15,15,4,15,15,15,20,15,4,4,20,4,4,4,4,4,18,18,18,18,18,18,18,18,18,18,18,18,18,8,18,12,12,12,8,12,8,8,12,12,12,8,12,12,12,12,8,12,12,12,12,12,12,12,12,12,12,12,12,12,12,6,6,6,6,6,6,6,6,6,6,6,6,16,6,6,6,6,6,6,2,2,2,2,2,2,2,2,6,6,2,2,2,2,10,10,10,10,10,10,10,10,10,16,10,10,10,10,10,10,16,10,10,10,16,10,10,10,16,2,2,2,2,16,2,2,2,10,16,10,19,19,19,19,19,19,19,19,19,19,19,19,19,19,19,19,19,19,2,2,21,19,19,19,19,19,19,19,19,19,19,19,19,19,19,19,8,25,25,25,25,25,25,25,25,19,19,6,6,6,6,6,6,6,6,16,6,6,6,6,6,6,6,6,6,16,16,6,10,10,10,16,10,10,10,10,2,10,6,6,6,6,6,2,2,2,2,2,2,2,2,2,2,2,2,2,2,2,2,2,2,2,2,2,2,2,16,16,10,10,10,10,10,10,10,10,10,25,10,25,25,25,25,25,25,25,25,25,25,8,25,25,25,25,25,25,25,25,25,25,25,25,25,25,25,25,25,25,25,25,25,25,25,10,25,25,25,25,10,10,10],\"coloraxis\":\"coloraxis\"},\"mode\":\"markers\",\"name\":\"\",\"showlegend\":false,\"subplot\":\"mapbox\",\"type\":\"scattermapbox\"}],                        {\"template\":{\"data\":{\"bar\":[{\"error_x\":{\"color\":\"#2a3f5f\"},\"error_y\":{\"color\":\"#2a3f5f\"},\"marker\":{\"line\":{\"color\":\"#E5ECF6\",\"width\":0.5},\"pattern\":{\"fillmode\":\"overlay\",\"size\":10,\"solidity\":0.2}},\"type\":\"bar\"}],\"barpolar\":[{\"marker\":{\"line\":{\"color\":\"#E5ECF6\",\"width\":0.5},\"pattern\":{\"fillmode\":\"overlay\",\"size\":10,\"solidity\":0.2}},\"type\":\"barpolar\"}],\"carpet\":[{\"aaxis\":{\"endlinecolor\":\"#2a3f5f\",\"gridcolor\":\"white\",\"linecolor\":\"white\",\"minorgridcolor\":\"white\",\"startlinecolor\":\"#2a3f5f\"},\"baxis\":{\"endlinecolor\":\"#2a3f5f\",\"gridcolor\":\"white\",\"linecolor\":\"white\",\"minorgridcolor\":\"white\",\"startlinecolor\":\"#2a3f5f\"},\"type\":\"carpet\"}],\"choropleth\":[{\"colorbar\":{\"outlinewidth\":0,\"ticks\":\"\"},\"type\":\"choropleth\"}],\"contour\":[{\"colorbar\":{\"outlinewidth\":0,\"ticks\":\"\"},\"colorscale\":[[0.0,\"#0d0887\"],[0.1111111111111111,\"#46039f\"],[0.2222222222222222,\"#7201a8\"],[0.3333333333333333,\"#9c179e\"],[0.4444444444444444,\"#bd3786\"],[0.5555555555555556,\"#d8576b\"],[0.6666666666666666,\"#ed7953\"],[0.7777777777777778,\"#fb9f3a\"],[0.8888888888888888,\"#fdca26\"],[1.0,\"#f0f921\"]],\"type\":\"contour\"}],\"contourcarpet\":[{\"colorbar\":{\"outlinewidth\":0,\"ticks\":\"\"},\"type\":\"contourcarpet\"}],\"heatmap\":[{\"colorbar\":{\"outlinewidth\":0,\"ticks\":\"\"},\"colorscale\":[[0.0,\"#0d0887\"],[0.1111111111111111,\"#46039f\"],[0.2222222222222222,\"#7201a8\"],[0.3333333333333333,\"#9c179e\"],[0.4444444444444444,\"#bd3786\"],[0.5555555555555556,\"#d8576b\"],[0.6666666666666666,\"#ed7953\"],[0.7777777777777778,\"#fb9f3a\"],[0.8888888888888888,\"#fdca26\"],[1.0,\"#f0f921\"]],\"type\":\"heatmap\"}],\"heatmapgl\":[{\"colorbar\":{\"outlinewidth\":0,\"ticks\":\"\"},\"colorscale\":[[0.0,\"#0d0887\"],[0.1111111111111111,\"#46039f\"],[0.2222222222222222,\"#7201a8\"],[0.3333333333333333,\"#9c179e\"],[0.4444444444444444,\"#bd3786\"],[0.5555555555555556,\"#d8576b\"],[0.6666666666666666,\"#ed7953\"],[0.7777777777777778,\"#fb9f3a\"],[0.8888888888888888,\"#fdca26\"],[1.0,\"#f0f921\"]],\"type\":\"heatmapgl\"}],\"histogram\":[{\"marker\":{\"pattern\":{\"fillmode\":\"overlay\",\"size\":10,\"solidity\":0.2}},\"type\":\"histogram\"}],\"histogram2d\":[{\"colorbar\":{\"outlinewidth\":0,\"ticks\":\"\"},\"colorscale\":[[0.0,\"#0d0887\"],[0.1111111111111111,\"#46039f\"],[0.2222222222222222,\"#7201a8\"],[0.3333333333333333,\"#9c179e\"],[0.4444444444444444,\"#bd3786\"],[0.5555555555555556,\"#d8576b\"],[0.6666666666666666,\"#ed7953\"],[0.7777777777777778,\"#fb9f3a\"],[0.8888888888888888,\"#fdca26\"],[1.0,\"#f0f921\"]],\"type\":\"histogram2d\"}],\"histogram2dcontour\":[{\"colorbar\":{\"outlinewidth\":0,\"ticks\":\"\"},\"colorscale\":[[0.0,\"#0d0887\"],[0.1111111111111111,\"#46039f\"],[0.2222222222222222,\"#7201a8\"],[0.3333333333333333,\"#9c179e\"],[0.4444444444444444,\"#bd3786\"],[0.5555555555555556,\"#d8576b\"],[0.6666666666666666,\"#ed7953\"],[0.7777777777777778,\"#fb9f3a\"],[0.8888888888888888,\"#fdca26\"],[1.0,\"#f0f921\"]],\"type\":\"histogram2dcontour\"}],\"mesh3d\":[{\"colorbar\":{\"outlinewidth\":0,\"ticks\":\"\"},\"type\":\"mesh3d\"}],\"parcoords\":[{\"line\":{\"colorbar\":{\"outlinewidth\":0,\"ticks\":\"\"}},\"type\":\"parcoords\"}],\"pie\":[{\"automargin\":true,\"type\":\"pie\"}],\"scatter\":[{\"marker\":{\"colorbar\":{\"outlinewidth\":0,\"ticks\":\"\"}},\"type\":\"scatter\"}],\"scatter3d\":[{\"line\":{\"colorbar\":{\"outlinewidth\":0,\"ticks\":\"\"}},\"marker\":{\"colorbar\":{\"outlinewidth\":0,\"ticks\":\"\"}},\"type\":\"scatter3d\"}],\"scattercarpet\":[{\"marker\":{\"colorbar\":{\"outlinewidth\":0,\"ticks\":\"\"}},\"type\":\"scattercarpet\"}],\"scattergeo\":[{\"marker\":{\"colorbar\":{\"outlinewidth\":0,\"ticks\":\"\"}},\"type\":\"scattergeo\"}],\"scattergl\":[{\"marker\":{\"colorbar\":{\"outlinewidth\":0,\"ticks\":\"\"}},\"type\":\"scattergl\"}],\"scattermapbox\":[{\"marker\":{\"colorbar\":{\"outlinewidth\":0,\"ticks\":\"\"}},\"type\":\"scattermapbox\"}],\"scatterpolar\":[{\"marker\":{\"colorbar\":{\"outlinewidth\":0,\"ticks\":\"\"}},\"type\":\"scatterpolar\"}],\"scatterpolargl\":[{\"marker\":{\"colorbar\":{\"outlinewidth\":0,\"ticks\":\"\"}},\"type\":\"scatterpolargl\"}],\"scatterternary\":[{\"marker\":{\"colorbar\":{\"outlinewidth\":0,\"ticks\":\"\"}},\"type\":\"scatterternary\"}],\"surface\":[{\"colorbar\":{\"outlinewidth\":0,\"ticks\":\"\"},\"colorscale\":[[0.0,\"#0d0887\"],[0.1111111111111111,\"#46039f\"],[0.2222222222222222,\"#7201a8\"],[0.3333333333333333,\"#9c179e\"],[0.4444444444444444,\"#bd3786\"],[0.5555555555555556,\"#d8576b\"],[0.6666666666666666,\"#ed7953\"],[0.7777777777777778,\"#fb9f3a\"],[0.8888888888888888,\"#fdca26\"],[1.0,\"#f0f921\"]],\"type\":\"surface\"}],\"table\":[{\"cells\":{\"fill\":{\"color\":\"#EBF0F8\"},\"line\":{\"color\":\"white\"}},\"header\":{\"fill\":{\"color\":\"#C8D4E3\"},\"line\":{\"color\":\"white\"}},\"type\":\"table\"}]},\"layout\":{\"annotationdefaults\":{\"arrowcolor\":\"#2a3f5f\",\"arrowhead\":0,\"arrowwidth\":1},\"autotypenumbers\":\"strict\",\"coloraxis\":{\"colorbar\":{\"outlinewidth\":0,\"ticks\":\"\"}},\"colorscale\":{\"diverging\":[[0,\"#8e0152\"],[0.1,\"#c51b7d\"],[0.2,\"#de77ae\"],[0.3,\"#f1b6da\"],[0.4,\"#fde0ef\"],[0.5,\"#f7f7f7\"],[0.6,\"#e6f5d0\"],[0.7,\"#b8e186\"],[0.8,\"#7fbc41\"],[0.9,\"#4d9221\"],[1,\"#276419\"]],\"sequential\":[[0.0,\"#0d0887\"],[0.1111111111111111,\"#46039f\"],[0.2222222222222222,\"#7201a8\"],[0.3333333333333333,\"#9c179e\"],[0.4444444444444444,\"#bd3786\"],[0.5555555555555556,\"#d8576b\"],[0.6666666666666666,\"#ed7953\"],[0.7777777777777778,\"#fb9f3a\"],[0.8888888888888888,\"#fdca26\"],[1.0,\"#f0f921\"]],\"sequentialminus\":[[0.0,\"#0d0887\"],[0.1111111111111111,\"#46039f\"],[0.2222222222222222,\"#7201a8\"],[0.3333333333333333,\"#9c179e\"],[0.4444444444444444,\"#bd3786\"],[0.5555555555555556,\"#d8576b\"],[0.6666666666666666,\"#ed7953\"],[0.7777777777777778,\"#fb9f3a\"],[0.8888888888888888,\"#fdca26\"],[1.0,\"#f0f921\"]]},\"colorway\":[\"#636efa\",\"#EF553B\",\"#00cc96\",\"#ab63fa\",\"#FFA15A\",\"#19d3f3\",\"#FF6692\",\"#B6E880\",\"#FF97FF\",\"#FECB52\"],\"font\":{\"color\":\"#2a3f5f\"},\"geo\":{\"bgcolor\":\"white\",\"lakecolor\":\"white\",\"landcolor\":\"#E5ECF6\",\"showlakes\":true,\"showland\":true,\"subunitcolor\":\"white\"},\"hoverlabel\":{\"align\":\"left\"},\"hovermode\":\"closest\",\"mapbox\":{\"style\":\"light\"},\"paper_bgcolor\":\"white\",\"plot_bgcolor\":\"#E5ECF6\",\"polar\":{\"angularaxis\":{\"gridcolor\":\"white\",\"linecolor\":\"white\",\"ticks\":\"\"},\"bgcolor\":\"#E5ECF6\",\"radialaxis\":{\"gridcolor\":\"white\",\"linecolor\":\"white\",\"ticks\":\"\"}},\"scene\":{\"xaxis\":{\"backgroundcolor\":\"#E5ECF6\",\"gridcolor\":\"white\",\"gridwidth\":2,\"linecolor\":\"white\",\"showbackground\":true,\"ticks\":\"\",\"zerolinecolor\":\"white\"},\"yaxis\":{\"backgroundcolor\":\"#E5ECF6\",\"gridcolor\":\"white\",\"gridwidth\":2,\"linecolor\":\"white\",\"showbackground\":true,\"ticks\":\"\",\"zerolinecolor\":\"white\"},\"zaxis\":{\"backgroundcolor\":\"#E5ECF6\",\"gridcolor\":\"white\",\"gridwidth\":2,\"linecolor\":\"white\",\"showbackground\":true,\"ticks\":\"\",\"zerolinecolor\":\"white\"}},\"shapedefaults\":{\"line\":{\"color\":\"#2a3f5f\"}},\"ternary\":{\"aaxis\":{\"gridcolor\":\"white\",\"linecolor\":\"white\",\"ticks\":\"\"},\"baxis\":{\"gridcolor\":\"white\",\"linecolor\":\"white\",\"ticks\":\"\"},\"bgcolor\":\"#E5ECF6\",\"caxis\":{\"gridcolor\":\"white\",\"linecolor\":\"white\",\"ticks\":\"\"}},\"title\":{\"x\":0.05},\"xaxis\":{\"automargin\":true,\"gridcolor\":\"white\",\"linecolor\":\"white\",\"ticks\":\"\",\"title\":{\"standoff\":15},\"zerolinecolor\":\"white\",\"zerolinewidth\":2},\"yaxis\":{\"automargin\":true,\"gridcolor\":\"white\",\"linecolor\":\"white\",\"ticks\":\"\",\"title\":{\"standoff\":15},\"zerolinecolor\":\"white\",\"zerolinewidth\":2}}},\"mapbox\":{\"domain\":{\"x\":[0.0,1.0],\"y\":[0.0,1.0]},\"center\":{\"lat\":21.858540807119923,\"lon\":88.89275864247404},\"zoom\":10,\"style\":\"open-street-map\"},\"coloraxis\":{\"colorbar\":{\"title\":{\"text\":\"color\"}},\"colorscale\":[[0.0,\"#0d0887\"],[0.1111111111111111,\"#46039f\"],[0.2222222222222222,\"#7201a8\"],[0.3333333333333333,\"#9c179e\"],[0.4444444444444444,\"#bd3786\"],[0.5555555555555556,\"#d8576b\"],[0.6666666666666666,\"#ed7953\"],[0.7777777777777778,\"#fb9f3a\"],[0.8888888888888888,\"#fdca26\"],[1.0,\"#f0f921\"]]},\"legend\":{\"tracegroupgap\":0},\"title\":{\"text\":\"Tiger Category\"},\"height\":800,\"width\":800,\"margin\":{\"r\":0,\"t\":0,\"l\":0,\"b\":0}},                        {\"responsive\": true}                    ).then(function(){\n",
              "                            \n",
              "var gd = document.getElementById('5d347484-fe0a-408f-9bda-4d55e0a08359');\n",
              "var x = new MutationObserver(function (mutations, observer) {{\n",
              "        var display = window.getComputedStyle(gd).display;\n",
              "        if (!display || display === 'none') {{\n",
              "            console.log([gd, 'removed!']);\n",
              "            Plotly.purge(gd);\n",
              "            observer.disconnect();\n",
              "        }}\n",
              "}});\n",
              "\n",
              "// Listen for the removal of the full notebook cells\n",
              "var notebookContainer = gd.closest('#notebook-container');\n",
              "if (notebookContainer) {{\n",
              "    x.observe(notebookContainer, {childList: true});\n",
              "}}\n",
              "\n",
              "// Listen for the clearing of the current output cell\n",
              "var outputEl = gd.closest('.output');\n",
              "if (outputEl) {{\n",
              "    x.observe(outputEl, {childList: true});\n",
              "}}\n",
              "\n",
              "                        })                };                            </script>        </div>\n",
              "</body>\n",
              "</html>"
            ]
          },
          "metadata": {}
        }
      ]
    },
    {
      "cell_type": "markdown",
      "source": [
        "### Based on the result achieved from Sub Clustering approach using mRMR selected features."
      ],
      "metadata": {
        "id": "4exlQNOVs5Ig"
      }
    },
    {
      "cell_type": "code",
      "source": [
        "fig = px.scatter_mapbox(census_df[['Lat', 'Long']],\n",
        "                        lat=\"Lat\", \n",
        "                        lon=\"Long\",\n",
        "                        color = mrmr_census_all_sub_cluster_list,\n",
        "                        zoom=10, \n",
        "                        height=800,\n",
        "                        width=800,title=\"Tiger Category[Upper Bound, mrmr]\")\n",
        "\n",
        "fig.update_layout(mapbox_style=\"open-street-map\")\n",
        "fig.update_layout(margin={\"r\":0,\"t\":0,\"l\":0,\"b\":0})\n",
        "fig.show()"
      ],
      "metadata": {
        "id": "ctwPWHsk5BkX",
        "colab": {
          "base_uri": "https://localhost:8080/",
          "height": 817
        },
        "outputId": "7e40c2e8-6e4b-4c50-f5e3-d5777de9481b"
      },
      "execution_count": null,
      "outputs": [
        {
          "output_type": "display_data",
          "data": {
            "text/html": [
              "<html>\n",
              "<head><meta charset=\"utf-8\" /></head>\n",
              "<body>\n",
              "    <div>            <script src=\"https://cdnjs.cloudflare.com/ajax/libs/mathjax/2.7.5/MathJax.js?config=TeX-AMS-MML_SVG\"></script><script type=\"text/javascript\">if (window.MathJax) {MathJax.Hub.Config({SVG: {font: \"STIX-Web\"}});}</script>                <script type=\"text/javascript\">window.PlotlyConfig = {MathJaxConfig: 'local'};</script>\n",
              "        <script src=\"https://cdn.plot.ly/plotly-2.8.3.min.js\"></script>                <div id=\"5933bcba-770a-494a-afb3-828c48bcb521\" class=\"plotly-graph-div\" style=\"height:800px; width:800px;\"></div>            <script type=\"text/javascript\">                                    window.PLOTLYENV=window.PLOTLYENV || {};                                    if (document.getElementById(\"5933bcba-770a-494a-afb3-828c48bcb521\")) {                    Plotly.newPlot(                        \"5933bcba-770a-494a-afb3-828c48bcb521\",                        [{\"hovertemplate\":\"color=5~0<br>Lat=%{lat}<br>Long=%{lon}<extra></extra>\",\"lat\":[22.09853256,22.09174282,22.07816333,22.07798145,22.07142856,22.05972417,22.05407225,22.07329352,22.07116378,22.06422854,22.07052719,22.06135308,22.05335316,22.0643478,22.04257638,22.03705179,22.02719496,22.034148,22.0252649,22.03552227,22.0433403,22.0488653,22.05195057,22.10201838,22.1054674,22.09212477,22.08093006,22.07861805,22.08351451,22.09125978,22.08483421,22.08178493,22.08976665,22.10406522,22.11473246,22.04063867,22.03099971,22.02244401,22.01679209,22.07295639,22.04234839,22.02774061,22.05273267,22.01174039],\"legendgroup\":\"5~0\",\"lon\":[88.79724112,88.79388101,88.7871612,88.77857108,88.78637841,88.76245254,88.75993912,88.82158599,88.82676521,88.81653333,88.79669958,88.78649268,88.77885041,88.76927393,88.79873495,88.80223473,88.81265706,88.82374833,88.82728579,88.83576205,88.8348142,88.83131442,88.81839094,88.80321624,88.80747301,88.81192064,88.81204761,88.80863712,88.8283439,88.82395975,88.83778029,88.85242212,88.85920543,88.84701395,88.82197517,88.76009148,88.78082229,88.79982247,88.79730904,88.85853691,88.84084011,88.83842784,88.85532916,88.8231433],\"marker\":{\"color\":\"#636efa\"},\"mode\":\"markers\",\"name\":\"5~0\",\"showlegend\":true,\"subplot\":\"mapbox\",\"type\":\"scattermapbox\"},{\"hovertemplate\":\"color=5~1<br>Lat=%{lat}<br>Long=%{lon}<extra></extra>\",\"lat\":[22.08506221,22.0828961,22.08761027,22.09806772,22.0419216,22.03790664],\"legendgroup\":\"5~1\",\"lon\":[88.79567555,88.79913682,88.81025348,88.82817884,88.76780994,88.84260884],\"marker\":{\"color\":\"#EF553B\"},\"mode\":\"markers\",\"name\":\"5~1\",\"showlegend\":true,\"subplot\":\"mapbox\",\"type\":\"scattermapbox\"},{\"hovertemplate\":\"color=7~0<br>Lat=%{lat}<br>Long=%{lon}<extra></extra>\",\"lat\":[21.96387715,21.95947218,21.94937851,21.94381753,21.93937618,21.93029301,21.92702546,21.9261059,21.93394212,21.9229111,21.92320212,21.92885404,21.93808272,21.94024923,21.93600755,21.93163896,21.92837141,21.91815042,21.94187773,21.96072718,21.95856108,21.96403112,21.96394017,21.96061805,21.96717134,21.97280508,21.97260501,21.97253225,21.96807231,21.97240493,21.97979449,21.98210651,21.9944936,21.99664153,22.0022207,21.98631141,21.98401798,21.99073496,21.99170869,21.98838658,21.99600493,22.00060997,21.99748793,21.99024388,22.01523593,21.97548047,21.9742517,21.91238131,21.90694725,21.90762022,21.90070357,21.90567237,21.90556325],\"legendgroup\":\"7~0\",\"lon\":[88.73088884,88.73437592,88.73363081,88.73541265,88.73718138,88.73126975,88.7356031,88.7450649,88.74497602,88.75283414,88.76657891,88.76909234,88.78187615,88.77841487,88.78963269,88.79483772,88.79917108,88.79241317,88.8024546,88.79364862,88.79711031,88.79103362,88.78673835,88.78849439,88.78068705,88.78234151,88.77289242,88.76945612,88.77036588,88.76344291,88.79515072,88.79856162,88.80185783,88.79753758,88.79661513,88.78562544,88.78307351,88.78299733,88.77611245,88.7778689,88.76747154,88.77343396,88.7846395,88.75980387,88.77670479,88.80293307,88.79779153,88.7314729,88.73926754,88.77105152,88.76167861,88.78482128,88.77966745],\"marker\":{\"color\":\"#00cc96\"},\"mode\":\"markers\",\"name\":\"7~0\",\"showlegend\":true,\"subplot\":\"mapbox\",\"type\":\"scattermapbox\"},{\"hovertemplate\":\"color=14~0<br>Lat=%{lat}<br>Long=%{lon}<extra></extra>\",\"lat\":[21.9273791,21.92627765,21.92416611,21.9206803,21.92080762,21.91959744,21.92304688,21.9509609,21.94993262,21.943252,21.93765465,21.93870113,21.93431434,21.9867843,21.98801307,21.99032469,21.99487556,21.99720537,22.00419518,21.99962611,21.99518477,21.99505745,21.97894808,21.9740419,21.98437161,21.98204181,21.98521841,21.94787524,21.94798437,21.93998445,21.92807026,21.9160833,21.92401087,21.92617698,21.93607017,21.94053011,21.94948596,21.95396368,21.95956144,21.96514061,21.96501329,21.96362083,21.96123646,21.97523388,21.979712,21.98169623,21.97090166,21.97662633,21.9800394,21.99251744,21.95188851,21.95761319,21.96897201,21.97467849,21.90909349,21.91120543,21.91465487],\"legendgroup\":\"14~0\",\"lon\":[88.80519698,88.80606865,88.81210725,88.80613214,88.81214535,88.80786277,88.81211995,88.80836623,88.81267419,88.81446832,88.8145318,88.81108322,88.81542886,88.80795992,88.81310146,88.81651237,88.81989746,88.82416733,88.83697654,88.83273206,88.8345012,88.82848799,88.8080488,88.84075565,88.85266739,88.84839793,88.8397693,88.82128971,88.82644395,88.81880167,88.83783994,88.85344191,88.85764829,88.85418702,88.84548221,88.84457245,88.84447088,88.84442009,88.8443566,88.84343414,88.83742094,88.82454825,88.81770146,88.84417884,88.84412805,88.83207624,88.85110181,88.85705153,88.85959077,88.86718225,88.85217663,88.85812636,88.86573095,88.87082129,88.8406327,88.8345941,88.83885127],\"marker\":{\"color\":\"#ab63fa\"},\"mode\":\"markers\",\"name\":\"14~0\",\"showlegend\":true,\"subplot\":\"mapbox\",\"type\":\"scattermapbox\"},{\"hovertemplate\":\"color=7~1<br>Lat=%{lat}<br>Long=%{lon}<extra></extra>\",\"lat\":[21.97381517,21.96814507,21.9866388,21.98827744,21.99961806,21.98345413,21.90480778],\"legendgroup\":\"7~1\",\"lon\":[88.77717458,88.77380218,88.80108774,88.77271466,88.77945987,88.75644376,88.79686039],\"marker\":{\"color\":\"#FFA15A\"},\"mode\":\"markers\",\"name\":\"7~1\",\"showlegend\":true,\"subplot\":\"mapbox\",\"type\":\"scattermapbox\"},{\"hovertemplate\":\"color=17~0<br>Lat=%{lat}<br>Long=%{lon}<extra></extra>\",\"lat\":[22.07313828,22.04830951,22.01044733,22.0392991,22.03720574,22.03843411,22.04901887,22.02345283,22.02787599,22.03574858,22.04017215,22.04353064,22.04253833,22.04692551,22.04817206,22.05033857,22.06573818,22.06904211,22.0712264,22.08045508,22.08030957,22.00046279,22.00611471,22.00940044,21.98502639,21.98517191,21.9930449,21.99783183,22.00897198,22.01110211,22.06527373,22.06512822,22.06500091,22.03049681,22.02612821,22.01599817,22.02961403,22.03956179,22.03967092,22.06150496,22.02766578,22.05110248,22.00189967,22.01755432,22.01193878,21.99975175],\"legendgroup\":\"17~0\",\"lon\":[88.86712703,88.85795686,88.86783807,88.85548153,88.8623791,88.86752064,88.8914592,88.90034136,88.89771366,88.89934272,88.89671502,88.89667693,88.90270283,88.89835678,88.90435729,88.9008956,88.88783245,88.88521745,88.88261473,88.89539854,88.88852636,88.87224761,88.87476104,88.87128665,88.8835924,88.890465,88.89209406,88.9066466,88.90394272,88.89876308,88.91877016,88.91189798,88.90588477,88.91572789,88.9209325,88.91846986,88.92690762,88.92078014,88.92593438,88.95232329,88.94067779,88.93697485,88.94011044,88.9390737,88.93827822,88.9444311],\"marker\":{\"color\":\"#19d3f3\"},\"mode\":\"markers\",\"name\":\"17~0\",\"showlegend\":true,\"subplot\":\"mapbox\",\"type\":\"scattermapbox\"},{\"hovertemplate\":\"color=14~noise<br>Lat=%{lat}<br>Long=%{lon}<extra></extra>\",\"lat\":[22.00614303,21.98877698,21.92592234,21.98908619,21.9599434],\"legendgroup\":\"14~noise\",\"lon\":[88.82320678,88.84918071,88.8421606,88.86378405,88.86239623],\"marker\":{\"color\":\"#FF6692\"},\"mode\":\"markers\",\"name\":\"14~noise\",\"showlegend\":true,\"subplot\":\"mapbox\",\"type\":\"scattermapbox\"},{\"hovertemplate\":\"color=17~noise<br>Lat=%{lat}<br>Long=%{lon}<extra></extra>\",\"lat\":[22.0445953,22.04345788,21.98773856],\"legendgroup\":\"17~noise\",\"lon\":[88.89408691,88.89324063,88.9059019],\"marker\":{\"color\":\"#B6E880\"},\"mode\":\"markers\",\"name\":\"17~noise\",\"showlegend\":true,\"subplot\":\"mapbox\",\"type\":\"scattermapbox\"},{\"hovertemplate\":\"color=6~0<br>Lat=%{lat}<br>Long=%{lon}<extra></extra>\",\"lat\":[21.91408089,21.91530966,21.90127546,21.89147281,21.88818747,21.88264428,21.86599772,21.87836662,21.87963176,21.87889409,21.87566291,21.86912781,21.86589663,21.88669393,21.90756398,21.90411454,21.90064692,21.90483403,21.8465565,21.83395114,21.85694078,21.86901868,21.87428864,21.87392487,21.85606774,21.8494239,21.85072503,21.85744201,21.85767846,21.85008843,21.84553794,21.84003153,21.84458202,21.84208851,21.83228586,21.83417954,21.82630654,21.81848851,21.83261325,21.82909106,21.84256141,21.84353553,21.83690949,21.89061795,21.83941312,21.84508324,21.85053509,21.88408325,21.87971425,21.87205992,21.86310407,21.85743396,21.8595455],\"legendgroup\":\"6~0\",\"lon\":[88.86463475,88.86977629,88.84158097,88.85458063,88.8580546,88.86069541,88.86775805,88.87019529,88.87705477,88.8951071,88.9011584,88.9098247,88.91587601,88.89330028,88.87416044,88.86990326,88.86478712,88.85099197,88.90148852,88.88788383,88.91597758,88.90467088,88.88914468,88.87196403,88.8747445,88.87825657,88.88683441,88.88675822,88.89792526,88.85676836,88.85338285,88.8577416,88.86112711,88.84912609,88.86212575,88.84577867,88.84414961,88.84509746,88.87758805,88.869895,88.87146057,88.86457569,88.86894714,88.81420611,88.82853453,88.83190734,88.82497168,88.82287282,88.82807744,88.83675685,88.83685843,88.83348562,88.82744701],\"marker\":{\"color\":\"#FF97FF\"},\"mode\":\"markers\",\"name\":\"6~0\",\"showlegend\":true,\"subplot\":\"mapbox\",\"type\":\"scattermapbox\"},{\"hovertemplate\":\"color=0~0<br>Lat=%{lat}<br>Long=%{lon}<extra></extra>\",\"lat\":[21.91883144,21.9202421,21.9247566,21.92567575,21.92380066,21.93170964,21.94303207,21.95538239,21.962063,21.96188111,21.94277743,21.98142172,21.97567886,21.98299566,21.97629727,21.97066353,21.96154398,21.95699311,21.94249446,21.94383236,21.93025287,21.92586609,21.92373596,21.91819316,21.91837505,21.92402697,21.89911741,21.88916965,21.88483703,21.88054119,21.89287332,21.89858021,21.88536449,21.89717761,21.90040878,21.90252033,21.90466865,21.90228388,21.91118516,21.90986586,21.91528133,21.92084231,21.90961122,21.90726323,21.91051219,21.91553597,21.91990456,21.92539319,21.91737468,21.91042124,21.91000291],\"legendgroup\":\"0~0\",\"lon\":[88.87746935,88.89120142,88.89286858,88.88340638,88.90061243,88.90395984,88.90984608,88.91142436,88.90963023,88.9010397,88.89781966,88.92487668,88.91806799,88.9463395,88.94727506,88.94562019,88.93799061,88.93460552,88.9373475,88.94764327,88.94092305,88.9452691,88.95044874,88.95308913,88.96167967,88.9641931,88.89831485,88.90444233,88.9113653,88.92000621,88.92072551,88.92581626,88.9362771,88.9653568,88.9593055,88.95326689,88.94894664,88.94209986,88.93942096,88.92998456,88.92133054,88.91954911,88.91795814,88.9128293,88.90763697,88.93335696,88.92815193,88.92293462,88.91443297,88.90334171,88.88358414],\"marker\":{\"color\":\"#FECB52\"},\"mode\":\"markers\",\"name\":\"0~0\",\"showlegend\":true,\"subplot\":\"mapbox\",\"type\":\"scattermapbox\"},{\"hovertemplate\":\"color=0~noise<br>Lat=%{lat}<br>Long=%{lon}<extra></extra>\",\"lat\":[21.94384209,21.95713862],\"legendgroup\":\"0~noise\",\"lon\":[88.89522964,88.9414777],\"marker\":{\"color\":\"#636efa\"},\"mode\":\"markers\",\"name\":\"0~noise\",\"showlegend\":true,\"subplot\":\"mapbox\",\"type\":\"scattermapbox\"},{\"hovertemplate\":\"color=9~0<br>Lat=%{lat}<br>Long=%{lon}<extra></extra>\",\"lat\":[22.1869778,22.18459343,22.18224544,22.16009206,22.1672739,22.1627594,22.15835442,22.15734392,22.15633342,22.12847396,22.1282557,22.15640618,22.16147607,22.16114867,22.11585042,22.1091698,22.10133358,22.10593863,22.10032308,22.09692822,22.08983772,22.0840221,22.11018836,22.12369508,22.11861674,22.12186611,22.13156768,22.13147674,22.13246905,22.13577258,22.1412794,22.13891281,22.14926112,22.16892059,22.09462465,22.09930285,22.16181192,22.1874507,22.18308211],\"legendgroup\":\"9~0\",\"lon\":[88.95519608,88.94834929,88.94322044,88.95464183,88.92362794,88.92196079,88.92544746,88.93061439,88.93578133,88.94211196,88.93180349,88.93921762,88.91424233,88.89877962,88.9276483,88.92944242,88.9295313,88.93549373,88.93469824,88.93301839,88.96832714,88.95808215,88.97754809,88.98083161,88.95253471,88.94734238,88.98246068,88.97816582,88.97213991,88.9695245,88.96516616,88.95917835,88.97194946,88.94852705,88.98287968,88.99227839,88.98297724,88.97753097,88.98273599],\"marker\":{\"color\":\"#EF553B\"},\"mode\":\"markers\",\"name\":\"9~0\",\"showlegend\":true,\"subplot\":\"mapbox\",\"type\":\"scattermapbox\"},{\"hovertemplate\":\"color=12~0<br>Lat=%{lat}<br>Long=%{lon}<extra></extra>\",\"lat\":[22.0640251,22.05811854,22.06030284,22.06705621,22.06239619,22.06342489,22.06782985,22.07236254,22.07685846,22.06403484,22.06405303,22.06168684,22.0508559,22.05426896,22.07776788,22.07774164,22.09537038,22.09329521,22.0688666,22.08204593,22.06967703,22.05657044,22.05875514,22.06319648,22.07270812,22.04670517,22.03666646,22.01537808,22.00761462,22.00075212,21.98667987,22.00350831,22.01755264,22.02193943,22.00500184,22.01612381,22.0014251,22.0081239,22.0148041,22.02599921,22.03401732,22.01676041,22.02338645,22.02993934,22.0398875,22.04537573,22.04965378,22.05059113,22.05154706,22.05360403],\"legendgroup\":\"12~0\",\"lon\":[89.01845548,89.00391563,89.00131291,89.00295508,88.99441534,88.99010779,88.98662071,88.98914683,88.98995543,88.96604226,88.96690123,88.96091341,88.97822104,88.98075986,89.03290645,88.97877528,89.01809996,89.02585651,89.03558535,89.02340656,89.02096932,89.03658399,89.03398168,89.03221254,89.00546851,88.99373413,88.99556634,88.99494862,88.99847379,88.99167779,89.06744994,89.06897743,89.04475953,89.04041389,89.03373175,89.0301689,89.02346178,89.02252663,89.02073209,89.02060512,89.02910677,89.06023494,89.05586349,89.04805616,89.04192868,89.03671096,89.02721066,89.01860784,89.010864,89.00224807],\"marker\":{\"color\":\"#00cc96\"},\"mode\":\"markers\",\"name\":\"12~0\",\"showlegend\":true,\"subplot\":\"mapbox\",\"type\":\"scattermapbox\"},{\"hovertemplate\":\"color=19~0<br>Lat=%{lat}<br>Long=%{lon}<extra></extra>\",\"lat\":[21.99016736,21.99693891,21.99056751,21.97606886,21.9728195,21.97848962,21.98307687,21.96081436,21.95285082,21.9351392,21.95205859,21.92801233,21.95370568,21.92815783,21.93169782,21.93843299,21.94731608,21.95406946,21.96539149,21.97864357,21.97796215,21.97675197,21.95118554,21.95102184,21.95672833,21.96238065,21.96140653,21.95929498,21.95602743,21.94925588,21.93119868,21.93020636,21.93367398,21.92932358,21.92383535,21.91717294,21.92715747,21.92278848,21.91618062,21.91054688,21.90379352,21.90827165,21.90370258,21.90586909,21.89476491,21.89577542,21.89676773,21.90111814,21.90438569,21.93657777,21.94107408,21.95994132,21.98605341],\"legendgroup\":\"19~0\",\"lon\":[88.96773923,88.97023996,88.98663783,88.98937981,88.99457214,88.99794495,89.00304798,89.00931513,89.0033908,89.01304346,89.01886622,89.04663427,89.04376532,89.05350645,89.06205889,89.06284168,89.05930381,89.06094598,89.06683222,89.05808932,88.97303314,88.96875057,88.97763273,88.96990157,88.97499233,88.97750575,88.98439063,88.99042923,88.99476259,88.99226186,88.98559283,88.99161874,88.99673448,89.00279847,89.00801619,89.0106697,89.00626016,89.01146519,89.01669561,89.01504074,89.01339898,89.01334819,89.00910371,89.00564243,89.01006426,89.00489774,88.99887183,88.99280783,88.98847448,88.97522087,88.97602905,88.96808206,88.98497068],\"marker\":{\"color\":\"#ab63fa\"},\"mode\":\"markers\",\"name\":\"19~0\",\"showlegend\":true,\"subplot\":\"mapbox\",\"type\":\"scattermapbox\"},{\"hovertemplate\":\"color=12~1<br>Lat=%{lat}<br>Long=%{lon}<extra></extra>\",\"lat\":[22.08220963,22.08561423,22.0695679,21.99227723,21.9990124],\"legendgroup\":\"12~1\",\"lon\":[89.03113771,88.98040434,89.01581508,89.06738646,89.06816925],\"marker\":{\"color\":\"#FFA15A\"},\"mode\":\"markers\",\"name\":\"12~1\",\"showlegend\":true,\"subplot\":\"mapbox\",\"type\":\"scattermapbox\"},{\"hovertemplate\":\"color=3~0<br>Lat=%{lat}<br>Long=%{lon}<extra></extra>\",\"lat\":[22.10232382,22.1020328,22.14697575,22.13704577,22.13276812,22.12722533,22.11120691,22.13234978,22.1455651,22.14883265,22.16226663,22.17768482,22.13859388,22.13870301,22.1870772,22.19113659,22.14896843,22.13865649,22.12869014,22.14127732,22.15084352,22.15717855,22.18092406,22.1920642,22.17437076,22.15770601,22.15989031,22.19118102,22.19791619,22.20081998,22.19520444,22.17173175,22.17296012,22.15170851],\"legendgroup\":\"3~0\",\"lon\":[89.02919123,89.01544687,89.02267013,89.02965659,89.03915688,89.04179728,89.02565335,89.0193989,89.00893847,89.00460511,89.00445275,88.99224857,88.99698823,89.00214247,89.01276353,88.99295518,89.06389093,89.05283775,89.05810627,89.07085199,89.04668488,89.02856907,89.03946988,89.03676558,89.04727721,89.05348087,89.05087816,89.04794573,89.04872851,89.02721491,89.02641943,89.02840401,89.03354555,89.03464576],\"marker\":{\"color\":\"#19d3f3\"},\"mode\":\"markers\",\"name\":\"3~0\",\"showlegend\":true,\"subplot\":\"mapbox\",\"type\":\"scattermapbox\"},{\"hovertemplate\":\"color=3~noise<br>Lat=%{lat}<br>Long=%{lon}<extra></extra>\",\"lat\":[22.10333431],\"legendgroup\":\"3~noise\",\"lon\":[89.02402429],\"marker\":{\"color\":\"#FF6692\"},\"mode\":\"markers\",\"name\":\"3~noise\",\"showlegend\":true,\"subplot\":\"mapbox\",\"type\":\"scattermapbox\"},{\"hovertemplate\":\"color=12~noise<br>Lat=%{lat}<br>Long=%{lon}<extra></extra>\",\"lat\":[22.01325641],\"legendgroup\":\"12~noise\",\"lon\":[89.05340085],\"marker\":{\"color\":\"#B6E880\"},\"mode\":\"markers\",\"name\":\"12~noise\",\"showlegend\":true,\"subplot\":\"mapbox\",\"type\":\"scattermapbox\"},{\"hovertemplate\":\"color=19~1<br>Lat=%{lat}<br>Long=%{lon}<extra></extra>\",\"lat\":[21.95028457,21.91827437,21.90819889,21.90348432,21.94230244,21.98278585],\"legendgroup\":\"19~1\",\"lon\":[88.98795389,89.00979762,89.00991189,88.99879565,88.9811706,88.98930362],\"marker\":{\"color\":\"#FF97FF\"},\"mode\":\"markers\",\"name\":\"19~1\",\"showlegend\":true,\"subplot\":\"mapbox\",\"type\":\"scattermapbox\"},{\"hovertemplate\":\"color=10~0<br>Lat=%{lat}<br>Long=%{lon}<extra></extra>\",\"lat\":[21.87099317,21.86534125,21.86627859,21.86725272,21.85383733,21.85414654,21.84194132,21.8443257,21.85891528,21.8700918,21.85355437,21.86157247,21.87385044,21.8906611,21.89396462,21.83803717,21.83829181,21.83152026,21.82585015,21.81169709,21.82969973,21.82083483,21.80866599,21.80082977,21.80673633,21.79770773,21.8201699,21.81802199,21.8072638,21.829918,21.82444796,21.79012574,21.79702462,21.80157549,21.79984551,21.80992099,21.8187859,21.82028749,21.82707683,21.83379382,21.84233134,21.8422222,21.84771043,21.85885058,21.87241187,21.87340419,21.85628432,21.87623481,21.85151558,21.88091301],\"legendgroup\":\"10~0\",\"lon\":[88.94503229,88.94251886,88.93391563,88.92703075,88.92804209,88.94264583,88.94793932,88.95478652,88.9563394,88.95535346,88.96757033,88.97607158,88.97421397,88.97488248,88.97226707,88.92220664,88.93423306,88.93173233,88.92835951,88.94742317,88.95151529,88.95591213,88.96292398,88.96301286,88.9775527,88.97421839,88.97740034,88.981721,89.00246451,88.96182376,88.96790046,88.98633328,88.99484763,88.99823273,89.02231096,89.02219668,89.01780025,89.03582677,89.03918688,89.0391107,89.01925156,89.01409732,89.0088796,89.00617571,89.01203655,89.00601065,88.99073839,88.98106075,88.97704482,88.99045906],\"marker\":{\"color\":\"#FECB52\"},\"mode\":\"markers\",\"name\":\"10~0\",\"showlegend\":true,\"subplot\":\"mapbox\",\"type\":\"scattermapbox\"},{\"hovertemplate\":\"color=6~noise<br>Lat=%{lat}<br>Long=%{lon}<extra></extra>\",\"lat\":[21.89393033,21.85041582],\"legendgroup\":\"6~noise\",\"lon\":[88.8648633,88.87223066],\"marker\":{\"color\":\"#636efa\"},\"mode\":\"markers\",\"name\":\"6~noise\",\"showlegend\":true,\"subplot\":\"mapbox\",\"type\":\"scattermapbox\"},{\"hovertemplate\":\"color=13~0<br>Lat=%{lat}<br>Long=%{lon}<extra></extra>\",\"lat\":[21.81838744,21.81047846,21.82126289,21.81781386,21.81531996,21.79475911,21.78336433,21.78459309,21.78802434,21.76877474,21.75866288,21.79385815,21.79035414,21.77244244,21.77572818,21.76924764,21.76251247,21.75301097,21.75554124,21.71781611,21.7134653,21.72104728,21.71976395,21.74445526,21.74429157,21.79954813,21.79057409,21.78271967,21.77600269,21.76607271,21.76739242,21.76862118,21.73429897,21.72466041,21.7226576,21.73282402,21.73244207,21.74136154,21.76301369,21.78999037,21.81032282,21.81355399,21.80408887,21.77608349,21.78067075,21.78529398,21.7914835,21.80220532,21.8045719,21.75344957,21.74931703],\"legendgroup\":\"13~0\",\"lon\":[88.89321583,88.88986841,88.92325607,88.9189993,88.90699828,88.94074145,88.93141933,88.93656087,88.93995866,88.92986604,88.92826237,88.95106262,88.94422853,88.94443169,88.9409573,88.95220093,88.95141814,88.92574894,88.9394679,88.90294869,88.90901268,88.89689738,88.88917893,88.94474912,88.93701796,88.84960858,88.84885118,88.84808068,88.84815686,88.85514332,88.86458012,88.86972166,88.8881549,88.90888571,88.92007855,88.92425913,88.90621992,88.90439999,88.92219837,88.92704788,88.93540945,88.92935815,88.90540731,88.90486535,88.9099688,88.91679019,88.8918022,88.86934075,88.87532856,88.84067965,88.85705213],\"marker\":{\"color\":\"#EF553B\"},\"mode\":\"markers\",\"name\":\"13~0\",\"showlegend\":true,\"subplot\":\"mapbox\",\"type\":\"scattermapbox\"},{\"hovertemplate\":\"color=8~0<br>Lat=%{lat}<br>Long=%{lon}<extra></extra>\",\"lat\":[21.75810749,21.74270748,21.75058008,21.74707648,21.72324809,21.71972589,21.71893366,21.69551555,21.69964809,21.69979359,21.71060635,21.6999391,21.70118565,21.71942475,21.72043525,21.73515215,21.73955752,21.73365056,21.75062492,21.71797812,21.72792588,21.73791042,21.75685081,21.76013615,21.76593398,21.76584304,21.76463246,21.76455971,21.77131308,21.77006612,21.76325819,21.75648704,21.75301942,21.7528921,21.74936991,21.78689457,21.76747155,21.75853388,21.78527412,21.79311074,21.70613668,21.7081856,21.72053632,21.72169193,21.72627919,21.72495948,21.72934667,21.73703738,21.73376983,21.73797513,21.74349973,21.74906071],\"legendgroup\":\"8~0\",\"lon\":[88.95490481,88.96796796,88.96959744,88.96276334,89.00083988,88.9931464,89.00862182,89.01318372,88.99681125,89.00368343,88.98551683,89.01055561,89.01655612,89.03181568,89.02664874,89.03421483,89.03072775,89.01618791,89.02458798,89.01636566,89.01023818,89.00582864,89.00131793,88.99784355,89.00722957,89.0029343,88.99865173,88.99521585,88.9968576,88.9908571,88.98663801,88.98413728,88.97902113,88.97300792,88.96531486,88.99238458,89.02697444,89.02793499,89.02161705,89.02152817,89.03884022,88.9769521,88.97853038,88.98023562,88.98533907,88.97590268,88.97155662,88.96459556,88.96892892,88.95599274,88.95249296,88.95071153],\"marker\":{\"color\":\"#00cc96\"},\"mode\":\"markers\",\"name\":\"8~0\",\"showlegend\":true,\"subplot\":\"mapbox\",\"type\":\"scattermapbox\"},{\"hovertemplate\":\"color=11~0<br>Lat=%{lat}<br>Long=%{lon}<extra></extra>\",\"lat\":[21.67560143,21.67661193,21.65759879,21.72127191,21.69236558,21.70462535,21.69429523,21.7008849,21.69947425,21.69479646,21.69404059,21.68016036,21.67236012,21.66887471,21.66678095,21.66463304,21.66028262,21.64923302,21.64235274,21.62915521,21.61192662,21.60945091,21.60807704,21.61930812,21.61958095,21.62123779,21.62909259,21.63553635,21.63458082,21.64718618,21.63184073,21.65305637,21.68122503,21.67327968,21.68324603,21.67732128,21.67062248,21.64819628,21.65498602,21.65231063,21.6600741,21.67807674,21.68589517,21.70883025,21.70249522,21.59978571,21.61215462,21.62103772,21.6175519,21.60742225,21.59620935,21.596983,21.6430274],\"legendgroup\":\"11~0\",\"lon\":[89.0245793,89.01941278,89.0204876,89.06616388,89.07594351,89.07322651,89.06131437,89.05522498,89.04149332,89.03209501,89.04928795,89.081237,89.08304424,89.07706912,89.08396669,89.08828735,89.09435094,89.1013505,89.09369512,89.10501493,89.08458885,89.0734468,89.06143307,89.06302405,89.07590944,89.04839532,89.04916541,89.03620384,89.04394769,89.05755279,89.07319285,89.0703747,89.07864739,89.07358203,89.06831352,89.0529147,89.05384986,89.05238586,89.05574556,89.03515441,89.03162924,89.03572136,89.0347735,89.06029034,89.07840615,89.04004645,89.04248369,89.03894623,89.03297111,89.03050806,89.02977606,89.01344168,89.01979369],\"marker\":{\"color\":\"#ab63fa\"},\"mode\":\"markers\",\"name\":\"11~0\",\"showlegend\":true,\"subplot\":\"mapbox\",\"type\":\"scattermapbox\"},{\"hovertemplate\":\"color=1~0<br>Lat=%{lat}<br>Long=%{lon}<extra></extra>\",\"lat\":[21.6472141,21.66290512,21.67186097,21.69376945,21.7003955,21.68934629,21.6901927,21.67385534,21.67340063,21.66040317,21.65695413,21.62199532,21.63779548,21.67314599,21.66639263,21.6696238,21.69965782,21.69528922,21.70870461,21.69209443,21.69558025,21.70121398,21.70798553,21.69462431,21.69365058,21.69486076,21.69487895,21.70152318,21.64280913,21.64158037,21.63155985,21.63592845,21.65923743,21.65797269,21.66720137,21.67274416,21.66995925,21.67781405,21.67803231,21.68561389,21.68583215,21.67944256,21.68726099,21.67505577,21.66010242,21.66203208,21.65087374,21.63756709,21.62758295,21.64329176,21.64360097,21.62455185,21.62469735,21.69287654,21.68729737,21.68384793,21.69164777,21.68920883,21.68908151,21.68658801,21.64836206,21.6382502,21.63613866,21.62272287,21.60988951,21.61453094,21.60682204,21.6055569],\"legendgroup\":\"1~0\",\"lon\":[89.00599813,89.00667934,89.00657777,88.93071674,88.9263457,88.93334485,88.92044677,88.94211273,88.92063722,88.94140613,88.93714895,88.92551614,88.93135159,88.90861081,88.90696905,88.90091775,88.94439803,88.94960264,88.94859131,88.95737229,88.96334741,88.96500187,88.9675026,88.97109126,88.97797613,88.98225871,88.98311768,88.9796052,89.00948521,89.00434368,89.00703486,89.00183025,88.99211411,88.98525462,88.99803843,88.99539803,88.96965265,88.97042274,88.98073081,88.96861551,88.97892399,88.99446288,88.99351462,88.99880852,88.98007499,88.96544627,88.96729118,88.97345675,88.97786629,88.97940648,88.99400981,88.99336668,89.00023886,88.99431052,88.99523297,88.9909758,88.98916898,88.97974487,88.97373166,88.96173063,88.95443118,88.95282751,88.95886612,88.95987745,88.98837751,88.99605828,89.00216037,88.99530089],\"marker\":{\"color\":\"#FFA15A\"},\"mode\":\"markers\",\"name\":\"1~0\",\"showlegend\":true,\"subplot\":\"mapbox\",\"type\":\"scattermapbox\"},{\"hovertemplate\":\"color=11~noise<br>Lat=%{lat}<br>Long=%{lon}<extra></extra>\",\"lat\":[21.62086429,21.62739898,21.63512648,21.65971878],\"legendgroup\":\"11~noise\",\"lon\":[89.0836283,89.07496159,89.06971888,89.06772119],\"marker\":{\"color\":\"#19d3f3\"},\"mode\":\"markers\",\"name\":\"11~noise\",\"showlegend\":true,\"subplot\":\"mapbox\",\"type\":\"scattermapbox\"},{\"hovertemplate\":\"color=1~noise<br>Lat=%{lat}<br>Long=%{lon}<extra></extra>\",\"lat\":[21.69831019],\"legendgroup\":\"1~noise\",\"lon\":[88.98651547],\"marker\":{\"color\":\"#FF6692\"},\"mode\":\"markers\",\"name\":\"1~noise\",\"showlegend\":true,\"subplot\":\"mapbox\",\"type\":\"scattermapbox\"},{\"hovertemplate\":\"color=1~1<br>Lat=%{lat}<br>Long=%{lon}<extra></extra>\",\"lat\":[21.69476982,21.66107614,21.65688943,21.63323487,21.68484024],\"legendgroup\":\"1~1\",\"lon\":[88.97796344,88.97319011,88.98698526,88.98037972,88.98494989],\"marker\":{\"color\":\"#B6E880\"},\"mode\":\"markers\",\"name\":\"1~1\",\"showlegend\":true,\"subplot\":\"mapbox\",\"type\":\"scattermapbox\"},{\"hovertemplate\":\"color=13~noise<br>Lat=%{lat}<br>Long=%{lon}<extra></extra>\",\"lat\":[21.74824223],\"legendgroup\":\"13~noise\",\"lon\":[88.91205537],\"marker\":{\"color\":\"#FF97FF\"},\"mode\":\"markers\",\"name\":\"13~noise\",\"showlegend\":true,\"subplot\":\"mapbox\",\"type\":\"scattermapbox\"},{\"hovertemplate\":\"color=16~0<br>Lat=%{lat}<br>Long=%{lon}<extra></extra>\",\"lat\":[21.57390409,21.55083157,21.53042636,21.55520016,21.53360257,21.57220243,21.57424162,21.5717841,21.56209098,21.56077127,21.53755323,21.56934516,21.58283371,21.59879716,21.58557339,21.55375521,21.62389069,21.62340766,21.6281768,21.63612215],\"legendgroup\":\"16~0\",\"lon\":[88.87536684,88.89625043,88.88445255,88.8910454,88.87582393,88.84789082,88.83841591,88.82813325,88.84628715,88.83685034,88.85086134,88.81870914,88.82113409,88.8347007,88.79188893,88.76990956,88.80348365,88.83356239,88.84725596,88.85232132],\"marker\":{\"color\":\"#FECB52\"},\"mode\":\"markers\",\"name\":\"16~0\",\"showlegend\":true,\"subplot\":\"mapbox\",\"type\":\"scattermapbox\"},{\"hovertemplate\":\"color=16~noise<br>Lat=%{lat}<br>Long=%{lon}<extra></extra>\",\"lat\":[21.58297921],\"legendgroup\":\"16~noise\",\"lon\":[88.82800627],\"marker\":{\"color\":\"#636efa\"},\"mode\":\"markers\",\"name\":\"16~noise\",\"showlegend\":true,\"subplot\":\"mapbox\",\"type\":\"scattermapbox\"},{\"hovertemplate\":\"color=4~0<br>Lat=%{lat}<br>Long=%{lon}<extra></extra>\",\"lat\":[21.56337598,21.58014987,21.60286668,21.63320186,21.63135509,21.60479674,21.59934489,21.61714746,21.60898345,21.58336285,21.57092119,21.58876013,21.63218331,21.62432889,21.6164563,21.60856512,21.60291319,21.59399372,21.5873313,21.58408194,21.58487417,21.57366127,21.56360398,21.67321237,21.67862784,21.67848234,21.67181991,21.68526362,21.6752431,21.67085592,21.66549501,21.65442762,21.64447946,21.63899123,21.6569575,21.66694204,21.6413756,21.65148747,21.65159659,21.64497055,21.66910814,21.68116785,21.68369773,21.6639655,21.66084346,21.66633169,21.67508746,21.67947465,21.68732905,21.68745637],\"legendgroup\":\"4~0\",\"lon\":[88.74831977,88.74727035,88.76247871,88.76729013,88.73294192,88.74784998,88.75478565,88.74942825,88.73405484,88.74036007,88.73448653,88.73084709,88.71918487,88.71841436,88.7167853,88.71429727,88.71178343,88.71360336,88.71625645,88.72144878,88.70597337,88.70524137,88.70621462,88.75308867,88.74443506,88.73756288,88.74021598,88.68765039,88.69034158,88.69468763,88.70591815,88.71205833,88.71818582,88.72340354,88.72577771,88.72136817,88.73025033,88.7318544,88.73700823,88.74137968,88.71790648,88.70574039,88.71945977,88.73944589,88.75065142,88.7454337,88.73588262,88.73153698,88.73230707,88.73832028],\"marker\":{\"color\":\"#EF553B\"},\"mode\":\"markers\",\"name\":\"4~0\",\"showlegend\":true,\"subplot\":\"mapbox\",\"type\":\"scattermapbox\"},{\"hovertemplate\":\"color=4~1<br>Lat=%{lat}<br>Long=%{lon}<extra></extra>\",\"lat\":[21.57003801,21.5869396,21.59618648,21.62586687,21.60233921],\"legendgroup\":\"4~1\",\"lon\":[88.74566668,88.75063005,88.76427324,88.73815964,88.7375669],\"marker\":{\"color\":\"#00cc96\"},\"mode\":\"markers\",\"name\":\"4~1\",\"showlegend\":true,\"subplot\":\"mapbox\",\"type\":\"scattermapbox\"},{\"hovertemplate\":\"color=2~0<br>Lat=%{lat}<br>Long=%{lon}<extra></extra>\",\"lat\":[21.89037345,21.8860776,21.88057079,21.8631138,21.86520755,21.87412703,21.88157115,21.87351668,21.89267533,21.89251163,21.85432165,21.84775057,21.84569319,21.84363621,21.84152467,21.83264157,21.78671645,21.7857787,21.79802029,21.80936051,21.79488006,21.78708022,21.779244,21.80237915,21.86926695,21.87699443,21.88240991,21.88668755,21.87633965,21.86622779,21.84029799,21.84748747,21.84550325,21.84913457,21.85262038,21.84938921,21.8438828,21.84133474,21.83671109,21.83322528,21.82862024,21.822841,21.8204926,21.80868754,21.78994762,21.7978566,21.80466453,21.80668513,21.8144308,21.8201191,21.83582791,21.8517372,21.85950107,21.83176852,21.8307944,21.83640995,21.83985938,21.83888566,21.83789335,21.83805705,21.83139462,21.8235584,21.82794518,21.82357659,21.82561538,21.80893244,21.81788829,21.81440248,21.80430881,21.80087756,21.79184896,21.79508013,21.80076843,21.80401779,21.80966972,21.81411146,21.81970882],\"legendgroup\":\"2~0\",\"lon\":[88.74976647,88.75840738,88.76276613,88.7844448,88.77754722,88.7757277,88.81001242,88.79979323,88.80559059,88.79785944,88.79227793,88.79922629,88.80784181,88.81645733,88.82249593,88.8260338,88.77242281,88.78102604,88.77745007,88.78419528,88.78779664,88.78960346,88.78969234,88.82465868,88.75773886,88.75249574,88.74384214,88.73434185,88.72157073,88.71996706,88.71166897,88.73392727,88.74597908,88.75882638,88.7648015,88.7708528,88.77521155,88.76063361,88.75381181,88.74783669,88.74187427,88.73334764,88.7282188,88.7524113,88.7663715,88.76971892,88.77393801,88.76360414,88.75921999,88.76345177,88.76499196,88.77598164,88.77245647,88.78480031,88.79168519,88.79248109,88.79673785,88.80362273,88.80964863,88.8173802,88.82003329,88.82012217,88.81577612,88.82098114,88.81150665,88.81685093,88.81674936,88.81077424,88.81002955,88.80663175,88.80329703,88.79724573,88.80147752,88.79628519,88.79879903,88.79702988,88.7969664],\"marker\":{\"color\":\"#ab63fa\"},\"mode\":\"markers\",\"name\":\"2~0\",\"showlegend\":true,\"subplot\":\"mapbox\",\"type\":\"scattermapbox\"},{\"hovertemplate\":\"color=15~0<br>Lat=%{lat}<br>Long=%{lon}<extra></extra>\",\"lat\":[21.73463818,21.74030829,21.74344852,21.75581743,21.75910317,21.76009549,21.75045652,21.75713714,21.76262536,21.77051614,21.77932649,21.77587706,21.77463051,21.7825031,21.76338082,21.75332393,21.78909277,21.79118612,21.77208203,21.75531621,21.79694717,21.79377056,21.79841239,21.78203825,21.72983306,21.73425622,21.73978082,21.74414982,21.74627955,21.74727186,21.74718092,21.74485071,21.72589254,21.71368733,21.72278868,21.7003261,21.70612393,21.70548734,21.70975485,21.71771879,21.71010044,21.71811894,21.72245116,21.72680196,21.73117055,21.72766655],\"legendgroup\":\"15~0\",\"lon\":[88.74551815,88.74889055,88.7385444,88.74098164,88.73750767,88.73148176,88.75221257,88.75041845,88.74520072,88.74768876,88.740715,88.73645824,88.73045773,88.73208679,88.72800737,88.72898062,88.7259974,88.71909982,88.71587938,88.77020141,88.72676749,88.7353957,88.74307648,88.7630245,88.73010623,88.72747853,88.72397875,88.71877413,88.7135945,88.70756859,88.70327332,88.69900346,88.7026556,88.7079495,88.71472011,88.71153776,88.72092377,88.69085773,88.73377107,88.7396954,88.75009276,88.758594,88.75167103,88.74560703,88.74040201,88.73356792],\"marker\":{\"color\":\"#FFA15A\"},\"mode\":\"markers\",\"name\":\"15~0\",\"showlegend\":true,\"subplot\":\"mapbox\",\"type\":\"scattermapbox\"},{\"hovertemplate\":\"color=15~noise<br>Lat=%{lat}<br>Long=%{lon}<extra></extra>\",\"lat\":[21.7659111,21.7599136,21.78333172],\"legendgroup\":\"15~noise\",\"lon\":[88.74172634,88.72289122,88.71832973],\"marker\":{\"color\":\"#19d3f3\"},\"mode\":\"markers\",\"name\":\"15~noise\",\"showlegend\":true,\"subplot\":\"mapbox\",\"type\":\"scattermapbox\"},{\"hovertemplate\":\"color=2~1<br>Lat=%{lat}<br>Long=%{lon}<extra></extra>\",\"lat\":[21.80358972,21.84649556,21.82311383,21.80393699,21.81871651],\"legendgroup\":\"2~1\",\"lon\":[88.82894084,88.73995318,88.74623302,88.7395767,88.8029923],\"marker\":{\"color\":\"#FF6692\"},\"mode\":\"markers\",\"name\":\"2~1\",\"showlegend\":true,\"subplot\":\"mapbox\",\"type\":\"scattermapbox\"},{\"hovertemplate\":\"color=18~0<br>Lat=%{lat}<br>Long=%{lon}<extra></extra>\",\"lat\":[21.7597842,21.7517661,21.73989841,21.6812753,21.67573211,21.65095831,21.63270104,21.68815558,21.68264917,21.6782442,21.67714276,21.66609355,21.65832968,21.65166767,21.64612487,21.73572949,21.73708557,21.74645975,21.70853455,21.70990882,21.71675313,21.71801786,21.70794278,21.70787002,21.70584903,21.69922338,21.68434238,21.67430367,21.66419182,21.65503589,21.66604872,21.65826706,21.67377621,21.67787197,21.65792149,21.68919441,21.69049553,21.69401772,21.6975399,21.68534483,21.68326926,21.68563584,21.68785652,21.69679418,21.70116277,21.71488776],\"legendgroup\":\"18~0\",\"lon\":[88.82256385,88.8140626,88.78240559,88.81658046,88.81922127,88.81262801,88.79650989,88.82423543,88.82859418,88.83208126,88.83295293,88.83995208,88.84347685,88.84613035,88.84877075,88.79705971,88.80821445,88.82787045,88.78190213,88.79391585,88.79985288,88.80671236,88.80682663,88.80339034,88.81372421,88.81809525,88.80279801,88.80463022,88.80302656,88.79367863,88.78496154,88.78762733,88.77971842,88.761628,88.77130606,88.76751424,88.77609208,88.78378514,88.7914782,88.74435888,88.75211543,88.75810324,88.75721887,88.75625833,88.7510533,88.7646453],\"marker\":{\"color\":\"#B6E880\"},\"mode\":\"markers\",\"name\":\"18~0\",\"showlegend\":true,\"subplot\":\"mapbox\",\"type\":\"scattermapbox\"},{\"hovertemplate\":\"color=18~noise<br>Lat=%{lat}<br>Long=%{lon}<extra></extra>\",\"lat\":[21.73312685,21.68040226],\"legendgroup\":\"18~noise\",\"lon\":[88.77990444,88.77534738],\"marker\":{\"color\":\"#FF97FF\"},\"mode\":\"markers\",\"name\":\"18~noise\",\"showlegend\":true,\"subplot\":\"mapbox\",\"type\":\"scattermapbox\"},{\"hovertemplate\":\"color=4~noise<br>Lat=%{lat}<br>Long=%{lon}<extra></extra>\",\"lat\":[21.65020413],\"legendgroup\":\"4~noise\",\"lon\":[88.72413554],\"marker\":{\"color\":\"#FECB52\"},\"mode\":\"markers\",\"name\":\"4~noise\",\"showlegend\":true,\"subplot\":\"mapbox\",\"type\":\"scattermapbox\"}],                        {\"template\":{\"data\":{\"bar\":[{\"error_x\":{\"color\":\"#2a3f5f\"},\"error_y\":{\"color\":\"#2a3f5f\"},\"marker\":{\"line\":{\"color\":\"#E5ECF6\",\"width\":0.5},\"pattern\":{\"fillmode\":\"overlay\",\"size\":10,\"solidity\":0.2}},\"type\":\"bar\"}],\"barpolar\":[{\"marker\":{\"line\":{\"color\":\"#E5ECF6\",\"width\":0.5},\"pattern\":{\"fillmode\":\"overlay\",\"size\":10,\"solidity\":0.2}},\"type\":\"barpolar\"}],\"carpet\":[{\"aaxis\":{\"endlinecolor\":\"#2a3f5f\",\"gridcolor\":\"white\",\"linecolor\":\"white\",\"minorgridcolor\":\"white\",\"startlinecolor\":\"#2a3f5f\"},\"baxis\":{\"endlinecolor\":\"#2a3f5f\",\"gridcolor\":\"white\",\"linecolor\":\"white\",\"minorgridcolor\":\"white\",\"startlinecolor\":\"#2a3f5f\"},\"type\":\"carpet\"}],\"choropleth\":[{\"colorbar\":{\"outlinewidth\":0,\"ticks\":\"\"},\"type\":\"choropleth\"}],\"contour\":[{\"colorbar\":{\"outlinewidth\":0,\"ticks\":\"\"},\"colorscale\":[[0.0,\"#0d0887\"],[0.1111111111111111,\"#46039f\"],[0.2222222222222222,\"#7201a8\"],[0.3333333333333333,\"#9c179e\"],[0.4444444444444444,\"#bd3786\"],[0.5555555555555556,\"#d8576b\"],[0.6666666666666666,\"#ed7953\"],[0.7777777777777778,\"#fb9f3a\"],[0.8888888888888888,\"#fdca26\"],[1.0,\"#f0f921\"]],\"type\":\"contour\"}],\"contourcarpet\":[{\"colorbar\":{\"outlinewidth\":0,\"ticks\":\"\"},\"type\":\"contourcarpet\"}],\"heatmap\":[{\"colorbar\":{\"outlinewidth\":0,\"ticks\":\"\"},\"colorscale\":[[0.0,\"#0d0887\"],[0.1111111111111111,\"#46039f\"],[0.2222222222222222,\"#7201a8\"],[0.3333333333333333,\"#9c179e\"],[0.4444444444444444,\"#bd3786\"],[0.5555555555555556,\"#d8576b\"],[0.6666666666666666,\"#ed7953\"],[0.7777777777777778,\"#fb9f3a\"],[0.8888888888888888,\"#fdca26\"],[1.0,\"#f0f921\"]],\"type\":\"heatmap\"}],\"heatmapgl\":[{\"colorbar\":{\"outlinewidth\":0,\"ticks\":\"\"},\"colorscale\":[[0.0,\"#0d0887\"],[0.1111111111111111,\"#46039f\"],[0.2222222222222222,\"#7201a8\"],[0.3333333333333333,\"#9c179e\"],[0.4444444444444444,\"#bd3786\"],[0.5555555555555556,\"#d8576b\"],[0.6666666666666666,\"#ed7953\"],[0.7777777777777778,\"#fb9f3a\"],[0.8888888888888888,\"#fdca26\"],[1.0,\"#f0f921\"]],\"type\":\"heatmapgl\"}],\"histogram\":[{\"marker\":{\"pattern\":{\"fillmode\":\"overlay\",\"size\":10,\"solidity\":0.2}},\"type\":\"histogram\"}],\"histogram2d\":[{\"colorbar\":{\"outlinewidth\":0,\"ticks\":\"\"},\"colorscale\":[[0.0,\"#0d0887\"],[0.1111111111111111,\"#46039f\"],[0.2222222222222222,\"#7201a8\"],[0.3333333333333333,\"#9c179e\"],[0.4444444444444444,\"#bd3786\"],[0.5555555555555556,\"#d8576b\"],[0.6666666666666666,\"#ed7953\"],[0.7777777777777778,\"#fb9f3a\"],[0.8888888888888888,\"#fdca26\"],[1.0,\"#f0f921\"]],\"type\":\"histogram2d\"}],\"histogram2dcontour\":[{\"colorbar\":{\"outlinewidth\":0,\"ticks\":\"\"},\"colorscale\":[[0.0,\"#0d0887\"],[0.1111111111111111,\"#46039f\"],[0.2222222222222222,\"#7201a8\"],[0.3333333333333333,\"#9c179e\"],[0.4444444444444444,\"#bd3786\"],[0.5555555555555556,\"#d8576b\"],[0.6666666666666666,\"#ed7953\"],[0.7777777777777778,\"#fb9f3a\"],[0.8888888888888888,\"#fdca26\"],[1.0,\"#f0f921\"]],\"type\":\"histogram2dcontour\"}],\"mesh3d\":[{\"colorbar\":{\"outlinewidth\":0,\"ticks\":\"\"},\"type\":\"mesh3d\"}],\"parcoords\":[{\"line\":{\"colorbar\":{\"outlinewidth\":0,\"ticks\":\"\"}},\"type\":\"parcoords\"}],\"pie\":[{\"automargin\":true,\"type\":\"pie\"}],\"scatter\":[{\"marker\":{\"colorbar\":{\"outlinewidth\":0,\"ticks\":\"\"}},\"type\":\"scatter\"}],\"scatter3d\":[{\"line\":{\"colorbar\":{\"outlinewidth\":0,\"ticks\":\"\"}},\"marker\":{\"colorbar\":{\"outlinewidth\":0,\"ticks\":\"\"}},\"type\":\"scatter3d\"}],\"scattercarpet\":[{\"marker\":{\"colorbar\":{\"outlinewidth\":0,\"ticks\":\"\"}},\"type\":\"scattercarpet\"}],\"scattergeo\":[{\"marker\":{\"colorbar\":{\"outlinewidth\":0,\"ticks\":\"\"}},\"type\":\"scattergeo\"}],\"scattergl\":[{\"marker\":{\"colorbar\":{\"outlinewidth\":0,\"ticks\":\"\"}},\"type\":\"scattergl\"}],\"scattermapbox\":[{\"marker\":{\"colorbar\":{\"outlinewidth\":0,\"ticks\":\"\"}},\"type\":\"scattermapbox\"}],\"scatterpolar\":[{\"marker\":{\"colorbar\":{\"outlinewidth\":0,\"ticks\":\"\"}},\"type\":\"scatterpolar\"}],\"scatterpolargl\":[{\"marker\":{\"colorbar\":{\"outlinewidth\":0,\"ticks\":\"\"}},\"type\":\"scatterpolargl\"}],\"scatterternary\":[{\"marker\":{\"colorbar\":{\"outlinewidth\":0,\"ticks\":\"\"}},\"type\":\"scatterternary\"}],\"surface\":[{\"colorbar\":{\"outlinewidth\":0,\"ticks\":\"\"},\"colorscale\":[[0.0,\"#0d0887\"],[0.1111111111111111,\"#46039f\"],[0.2222222222222222,\"#7201a8\"],[0.3333333333333333,\"#9c179e\"],[0.4444444444444444,\"#bd3786\"],[0.5555555555555556,\"#d8576b\"],[0.6666666666666666,\"#ed7953\"],[0.7777777777777778,\"#fb9f3a\"],[0.8888888888888888,\"#fdca26\"],[1.0,\"#f0f921\"]],\"type\":\"surface\"}],\"table\":[{\"cells\":{\"fill\":{\"color\":\"#EBF0F8\"},\"line\":{\"color\":\"white\"}},\"header\":{\"fill\":{\"color\":\"#C8D4E3\"},\"line\":{\"color\":\"white\"}},\"type\":\"table\"}]},\"layout\":{\"annotationdefaults\":{\"arrowcolor\":\"#2a3f5f\",\"arrowhead\":0,\"arrowwidth\":1},\"autotypenumbers\":\"strict\",\"coloraxis\":{\"colorbar\":{\"outlinewidth\":0,\"ticks\":\"\"}},\"colorscale\":{\"diverging\":[[0,\"#8e0152\"],[0.1,\"#c51b7d\"],[0.2,\"#de77ae\"],[0.3,\"#f1b6da\"],[0.4,\"#fde0ef\"],[0.5,\"#f7f7f7\"],[0.6,\"#e6f5d0\"],[0.7,\"#b8e186\"],[0.8,\"#7fbc41\"],[0.9,\"#4d9221\"],[1,\"#276419\"]],\"sequential\":[[0.0,\"#0d0887\"],[0.1111111111111111,\"#46039f\"],[0.2222222222222222,\"#7201a8\"],[0.3333333333333333,\"#9c179e\"],[0.4444444444444444,\"#bd3786\"],[0.5555555555555556,\"#d8576b\"],[0.6666666666666666,\"#ed7953\"],[0.7777777777777778,\"#fb9f3a\"],[0.8888888888888888,\"#fdca26\"],[1.0,\"#f0f921\"]],\"sequentialminus\":[[0.0,\"#0d0887\"],[0.1111111111111111,\"#46039f\"],[0.2222222222222222,\"#7201a8\"],[0.3333333333333333,\"#9c179e\"],[0.4444444444444444,\"#bd3786\"],[0.5555555555555556,\"#d8576b\"],[0.6666666666666666,\"#ed7953\"],[0.7777777777777778,\"#fb9f3a\"],[0.8888888888888888,\"#fdca26\"],[1.0,\"#f0f921\"]]},\"colorway\":[\"#636efa\",\"#EF553B\",\"#00cc96\",\"#ab63fa\",\"#FFA15A\",\"#19d3f3\",\"#FF6692\",\"#B6E880\",\"#FF97FF\",\"#FECB52\"],\"font\":{\"color\":\"#2a3f5f\"},\"geo\":{\"bgcolor\":\"white\",\"lakecolor\":\"white\",\"landcolor\":\"#E5ECF6\",\"showlakes\":true,\"showland\":true,\"subunitcolor\":\"white\"},\"hoverlabel\":{\"align\":\"left\"},\"hovermode\":\"closest\",\"mapbox\":{\"style\":\"light\"},\"paper_bgcolor\":\"white\",\"plot_bgcolor\":\"#E5ECF6\",\"polar\":{\"angularaxis\":{\"gridcolor\":\"white\",\"linecolor\":\"white\",\"ticks\":\"\"},\"bgcolor\":\"#E5ECF6\",\"radialaxis\":{\"gridcolor\":\"white\",\"linecolor\":\"white\",\"ticks\":\"\"}},\"scene\":{\"xaxis\":{\"backgroundcolor\":\"#E5ECF6\",\"gridcolor\":\"white\",\"gridwidth\":2,\"linecolor\":\"white\",\"showbackground\":true,\"ticks\":\"\",\"zerolinecolor\":\"white\"},\"yaxis\":{\"backgroundcolor\":\"#E5ECF6\",\"gridcolor\":\"white\",\"gridwidth\":2,\"linecolor\":\"white\",\"showbackground\":true,\"ticks\":\"\",\"zerolinecolor\":\"white\"},\"zaxis\":{\"backgroundcolor\":\"#E5ECF6\",\"gridcolor\":\"white\",\"gridwidth\":2,\"linecolor\":\"white\",\"showbackground\":true,\"ticks\":\"\",\"zerolinecolor\":\"white\"}},\"shapedefaults\":{\"line\":{\"color\":\"#2a3f5f\"}},\"ternary\":{\"aaxis\":{\"gridcolor\":\"white\",\"linecolor\":\"white\",\"ticks\":\"\"},\"baxis\":{\"gridcolor\":\"white\",\"linecolor\":\"white\",\"ticks\":\"\"},\"bgcolor\":\"#E5ECF6\",\"caxis\":{\"gridcolor\":\"white\",\"linecolor\":\"white\",\"ticks\":\"\"}},\"title\":{\"x\":0.05},\"xaxis\":{\"automargin\":true,\"gridcolor\":\"white\",\"linecolor\":\"white\",\"ticks\":\"\",\"title\":{\"standoff\":15},\"zerolinecolor\":\"white\",\"zerolinewidth\":2},\"yaxis\":{\"automargin\":true,\"gridcolor\":\"white\",\"linecolor\":\"white\",\"ticks\":\"\",\"title\":{\"standoff\":15},\"zerolinecolor\":\"white\",\"zerolinewidth\":2}}},\"mapbox\":{\"domain\":{\"x\":[0.0,1.0],\"y\":[0.0,1.0]},\"center\":{\"lat\":21.858540807119923,\"lon\":88.89275864247404},\"zoom\":10,\"style\":\"open-street-map\"},\"legend\":{\"title\":{\"text\":\"color\"},\"tracegroupgap\":0},\"title\":{\"text\":\"Tiger Category[Upper Bound, mrmr]\"},\"height\":800,\"width\":800,\"margin\":{\"r\":0,\"t\":0,\"l\":0,\"b\":0}},                        {\"responsive\": true}                    ).then(function(){\n",
              "                            \n",
              "var gd = document.getElementById('5933bcba-770a-494a-afb3-828c48bcb521');\n",
              "var x = new MutationObserver(function (mutations, observer) {{\n",
              "        var display = window.getComputedStyle(gd).display;\n",
              "        if (!display || display === 'none') {{\n",
              "            console.log([gd, 'removed!']);\n",
              "            Plotly.purge(gd);\n",
              "            observer.disconnect();\n",
              "        }}\n",
              "}});\n",
              "\n",
              "// Listen for the removal of the full notebook cells\n",
              "var notebookContainer = gd.closest('#notebook-container');\n",
              "if (notebookContainer) {{\n",
              "    x.observe(notebookContainer, {childList: true});\n",
              "}}\n",
              "\n",
              "// Listen for the clearing of the current output cell\n",
              "var outputEl = gd.closest('.output');\n",
              "if (outputEl) {{\n",
              "    x.observe(outputEl, {childList: true});\n",
              "}}\n",
              "\n",
              "                        })                };                            </script>        </div>\n",
              "</body>\n",
              "</html>"
            ]
          },
          "metadata": {}
        }
      ]
    },
    {
      "cell_type": "markdown",
      "source": [
        "### Based on the result achieved from Sub Clustering approach using PCA reduced features."
      ],
      "metadata": {
        "id": "d_lRODkws8g8"
      }
    },
    {
      "cell_type": "code",
      "source": [
        "fig = px.scatter_mapbox(census_df[['Lat', 'Long']],\n",
        "                        lat=\"Lat\", \n",
        "                        lon=\"Long\",\n",
        "                        color = pca_census_all_upper_sub_cluster_list,\n",
        "                        zoom=10, \n",
        "                        height=800,\n",
        "                        width=800,title=\"Tiger Category[Upper Bound , pca]\")\n",
        "\n",
        "fig.update_layout(mapbox_style=\"open-street-map\")\n",
        "fig.update_layout(margin={\"r\":0,\"t\":0,\"l\":0,\"b\":0})\n",
        "fig.show()"
      ],
      "metadata": {
        "id": "6IZgUTbo-ica",
        "colab": {
          "base_uri": "https://localhost:8080/",
          "height": 817
        },
        "outputId": "074f6329-0f58-4c36-cbc3-689e004c9dba"
      },
      "execution_count": null,
      "outputs": [
        {
          "output_type": "display_data",
          "data": {
            "text/html": [
              "<html>\n",
              "<head><meta charset=\"utf-8\" /></head>\n",
              "<body>\n",
              "    <div>            <script src=\"https://cdnjs.cloudflare.com/ajax/libs/mathjax/2.7.5/MathJax.js?config=TeX-AMS-MML_SVG\"></script><script type=\"text/javascript\">if (window.MathJax) {MathJax.Hub.Config({SVG: {font: \"STIX-Web\"}});}</script>                <script type=\"text/javascript\">window.PlotlyConfig = {MathJaxConfig: 'local'};</script>\n",
              "        <script src=\"https://cdn.plot.ly/plotly-2.8.3.min.js\"></script>                <div id=\"7cddc301-c24f-4602-a9f6-04558ceaeaa8\" class=\"plotly-graph-div\" style=\"height:800px; width:800px;\"></div>            <script type=\"text/javascript\">                                    window.PLOTLYENV=window.PLOTLYENV || {};                                    if (document.getElementById(\"7cddc301-c24f-4602-a9f6-04558ceaeaa8\")) {                    Plotly.newPlot(                        \"7cddc301-c24f-4602-a9f6-04558ceaeaa8\",                        [{\"hovertemplate\":\"color=5~0<br>Lat=%{lat}<br>Long=%{lon}<extra></extra>\",\"lat\":[22.09853256,22.09174282,22.08506221,22.0828961,22.07816333,22.07798145,22.07142856,22.05972417,22.05407225,22.07329352,22.07116378,22.06422854,22.07052719,22.06135308,22.05335316,22.0643478,22.04257638,22.03705179,22.02719496,22.034148,22.0252649,22.03552227,22.0433403,22.0488653,22.05195057,22.10201838,22.1054674,22.09212477,22.08761027,22.08093006,22.07861805,22.08351451,22.09125978,22.09806772,22.08483421,22.08178493,22.08976665,22.10406522,22.11473246,22.04063867,22.0419216,22.03099971,22.02244401,22.01679209,22.07295639,22.04234839,22.03790664,22.02774061,22.05273267,22.01174039],\"legendgroup\":\"5~0\",\"lon\":[88.79724112,88.79388101,88.79567555,88.79913682,88.7871612,88.77857108,88.78637841,88.76245254,88.75993912,88.82158599,88.82676521,88.81653333,88.79669958,88.78649268,88.77885041,88.76927393,88.79873495,88.80223473,88.81265706,88.82374833,88.82728579,88.83576205,88.8348142,88.83131442,88.81839094,88.80321624,88.80747301,88.81192064,88.81025348,88.81204761,88.80863712,88.8283439,88.82395975,88.82817884,88.83778029,88.85242212,88.85920543,88.84701395,88.82197517,88.76009148,88.76780994,88.78082229,88.79982247,88.79730904,88.85853691,88.84084011,88.84260884,88.83842784,88.85532916,88.8231433],\"marker\":{\"color\":\"#636efa\"},\"mode\":\"markers\",\"name\":\"5~0\",\"showlegend\":true,\"subplot\":\"mapbox\",\"type\":\"scattermapbox\"},{\"hovertemplate\":\"color=7~0<br>Lat=%{lat}<br>Long=%{lon}<extra></extra>\",\"lat\":[21.96387715,21.95947218,21.94937851,21.94381753,21.93937618,21.93029301,21.92702546,21.9261059,21.93394212,21.9229111,21.92320212,21.92885404,21.93808272,21.94024923,21.93600755,21.93163896,21.92837141,21.91815042,21.94187773,21.96072718,21.95856108,21.96403112,21.96394017,21.96061805,21.96717134,21.97280508,21.97260501,21.97253225,21.96807231,21.97240493,21.97979449,21.98210651,21.9944936,21.99664153,22.0022207,21.98631141,21.98401798,21.99073496,21.99170869,21.98838658,21.99600493,22.00060997,21.99748793,21.99024388,22.01523593,21.97548047,21.9742517,21.91238131,21.90694725,21.90762022,21.90070357,21.90567237,21.90556325],\"legendgroup\":\"7~0\",\"lon\":[88.73088884,88.73437592,88.73363081,88.73541265,88.73718138,88.73126975,88.7356031,88.7450649,88.74497602,88.75283414,88.76657891,88.76909234,88.78187615,88.77841487,88.78963269,88.79483772,88.79917108,88.79241317,88.8024546,88.79364862,88.79711031,88.79103362,88.78673835,88.78849439,88.78068705,88.78234151,88.77289242,88.76945612,88.77036588,88.76344291,88.79515072,88.79856162,88.80185783,88.79753758,88.79661513,88.78562544,88.78307351,88.78299733,88.77611245,88.7778689,88.76747154,88.77343396,88.7846395,88.75980387,88.77670479,88.80293307,88.79779153,88.7314729,88.73926754,88.77105152,88.76167861,88.78482128,88.77966745],\"marker\":{\"color\":\"#EF553B\"},\"mode\":\"markers\",\"name\":\"7~0\",\"showlegend\":true,\"subplot\":\"mapbox\",\"type\":\"scattermapbox\"},{\"hovertemplate\":\"color=14~0<br>Lat=%{lat}<br>Long=%{lon}<extra></extra>\",\"lat\":[21.9273791,21.92627765,21.92416611,21.9206803,21.92080762,21.91959744,21.92304688,21.9509609,21.94993262,21.943252,21.93765465,21.93870113,21.93431434,21.9867843,21.98801307,21.99032469,21.99487556,21.99720537,22.00419518,21.99962611,21.99518477,21.99505745,21.97894808,21.9740419,21.98437161,21.98204181,21.98521841,21.94787524,21.94798437,21.93998445,21.92807026,21.9160833,21.92401087,21.92617698,21.93607017,21.94053011,21.94948596,21.95396368,21.95956144,21.96514061,21.96501329,21.96362083,21.96123646,21.97523388,21.979712,21.98169623,21.97090166,21.97662633,21.9800394,21.99251744,21.95188851,21.95761319,21.96897201,21.97467849,21.90909349,21.91120543,21.91465487],\"legendgroup\":\"14~0\",\"lon\":[88.80519698,88.80606865,88.81210725,88.80613214,88.81214535,88.80786277,88.81211995,88.80836623,88.81267419,88.81446832,88.8145318,88.81108322,88.81542886,88.80795992,88.81310146,88.81651237,88.81989746,88.82416733,88.83697654,88.83273206,88.8345012,88.82848799,88.8080488,88.84075565,88.85266739,88.84839793,88.8397693,88.82128971,88.82644395,88.81880167,88.83783994,88.85344191,88.85764829,88.85418702,88.84548221,88.84457245,88.84447088,88.84442009,88.8443566,88.84343414,88.83742094,88.82454825,88.81770146,88.84417884,88.84412805,88.83207624,88.85110181,88.85705153,88.85959077,88.86718225,88.85217663,88.85812636,88.86573095,88.87082129,88.8406327,88.8345941,88.83885127],\"marker\":{\"color\":\"#00cc96\"},\"mode\":\"markers\",\"name\":\"14~0\",\"showlegend\":true,\"subplot\":\"mapbox\",\"type\":\"scattermapbox\"},{\"hovertemplate\":\"color=7~1<br>Lat=%{lat}<br>Long=%{lon}<extra></extra>\",\"lat\":[21.97381517,21.96814507,21.9866388,21.98827744,21.99961806,21.98345413,21.90480778],\"legendgroup\":\"7~1\",\"lon\":[88.77717458,88.77380218,88.80108774,88.77271466,88.77945987,88.75644376,88.79686039],\"marker\":{\"color\":\"#ab63fa\"},\"mode\":\"markers\",\"name\":\"7~1\",\"showlegend\":true,\"subplot\":\"mapbox\",\"type\":\"scattermapbox\"},{\"hovertemplate\":\"color=17~0<br>Lat=%{lat}<br>Long=%{lon}<extra></extra>\",\"lat\":[22.07313828,22.04830951,22.01044733,22.0392991,22.03720574,22.03843411,22.04901887,22.02345283,22.02787599,22.03574858,22.04017215,22.04353064,22.04253833,22.04692551,22.04817206,22.05033857,22.06573818,22.06904211,22.0712264,22.08045508,22.08030957,22.00046279,22.00611471,22.00940044,21.98502639,21.98517191,21.9930449,21.99783183,22.00897198,22.01110211,22.06527373,22.06512822,22.06500091,22.03049681,22.02612821,22.01599817,22.02961403,22.03956179,22.03967092,22.06150496,22.02766578,22.05110248,22.00189967,22.01755432,22.01193878,21.99975175],\"legendgroup\":\"17~0\",\"lon\":[88.86712703,88.85795686,88.86783807,88.85548153,88.8623791,88.86752064,88.8914592,88.90034136,88.89771366,88.89934272,88.89671502,88.89667693,88.90270283,88.89835678,88.90435729,88.9008956,88.88783245,88.88521745,88.88261473,88.89539854,88.88852636,88.87224761,88.87476104,88.87128665,88.8835924,88.890465,88.89209406,88.9066466,88.90394272,88.89876308,88.91877016,88.91189798,88.90588477,88.91572789,88.9209325,88.91846986,88.92690762,88.92078014,88.92593438,88.95232329,88.94067779,88.93697485,88.94011044,88.9390737,88.93827822,88.9444311],\"marker\":{\"color\":\"#FFA15A\"},\"mode\":\"markers\",\"name\":\"17~0\",\"showlegend\":true,\"subplot\":\"mapbox\",\"type\":\"scattermapbox\"},{\"hovertemplate\":\"color=14~1<br>Lat=%{lat}<br>Long=%{lon}<extra></extra>\",\"lat\":[22.00614303,21.98877698,21.92592234,21.98908619,21.9599434],\"legendgroup\":\"14~1\",\"lon\":[88.82320678,88.84918071,88.8421606,88.86378405,88.86239623],\"marker\":{\"color\":\"#19d3f3\"},\"mode\":\"markers\",\"name\":\"14~1\",\"showlegend\":true,\"subplot\":\"mapbox\",\"type\":\"scattermapbox\"},{\"hovertemplate\":\"color=17~1<br>Lat=%{lat}<br>Long=%{lon}<extra></extra>\",\"lat\":[22.0445953,22.04345788,21.98773856],\"legendgroup\":\"17~1\",\"lon\":[88.89408691,88.89324063,88.9059019],\"marker\":{\"color\":\"#FF6692\"},\"mode\":\"markers\",\"name\":\"17~1\",\"showlegend\":true,\"subplot\":\"mapbox\",\"type\":\"scattermapbox\"},{\"hovertemplate\":\"color=6~0<br>Lat=%{lat}<br>Long=%{lon}<extra></extra>\",\"lat\":[21.91408089,21.91530966,21.90127546,21.89147281,21.88818747,21.88264428,21.86599772,21.87836662,21.87963176,21.87889409,21.87566291,21.86912781,21.86589663,21.88669393,21.90756398,21.90411454,21.90064692,21.89393033,21.90483403,21.8465565,21.83395114,21.85694078,21.86901868,21.87428864,21.87392487,21.85606774,21.8494239,21.85041582,21.85072503,21.85744201,21.85767846,21.85008843,21.84553794,21.84003153,21.84458202,21.84208851,21.83228586,21.83417954,21.82630654,21.81848851,21.83261325,21.82909106,21.84256141,21.84353553,21.83690949,21.89061795,21.83941312,21.84508324,21.85053509,21.88408325,21.87971425,21.87205992,21.86310407,21.85743396,21.8595455],\"legendgroup\":\"6~0\",\"lon\":[88.86463475,88.86977629,88.84158097,88.85458063,88.8580546,88.86069541,88.86775805,88.87019529,88.87705477,88.8951071,88.9011584,88.9098247,88.91587601,88.89330028,88.87416044,88.86990326,88.86478712,88.8648633,88.85099197,88.90148852,88.88788383,88.91597758,88.90467088,88.88914468,88.87196403,88.8747445,88.87825657,88.87223066,88.88683441,88.88675822,88.89792526,88.85676836,88.85338285,88.8577416,88.86112711,88.84912609,88.86212575,88.84577867,88.84414961,88.84509746,88.87758805,88.869895,88.87146057,88.86457569,88.86894714,88.81420611,88.82853453,88.83190734,88.82497168,88.82287282,88.82807744,88.83675685,88.83685843,88.83348562,88.82744701],\"marker\":{\"color\":\"#B6E880\"},\"mode\":\"markers\",\"name\":\"6~0\",\"showlegend\":true,\"subplot\":\"mapbox\",\"type\":\"scattermapbox\"},{\"hovertemplate\":\"color=0~0<br>Lat=%{lat}<br>Long=%{lon}<extra></extra>\",\"lat\":[21.91883144,21.9202421,21.9247566,21.92567575,21.92380066,21.93170964,21.94303207,21.95538239,21.962063,21.96188111,21.94277743,21.98142172,21.97567886,21.98299566,21.97629727,21.97066353,21.96154398,21.95699311,21.94249446,21.94383236,21.93025287,21.92586609,21.92373596,21.91819316,21.91837505,21.92402697,21.89911741,21.88916965,21.88483703,21.88054119,21.89287332,21.89858021,21.88536449,21.89717761,21.90040878,21.90252033,21.90466865,21.90228388,21.91118516,21.90986586,21.91528133,21.92084231,21.90961122,21.90726323,21.91051219,21.91553597,21.91990456,21.92539319,21.91737468,21.91042124,21.91000291],\"legendgroup\":\"0~0\",\"lon\":[88.87746935,88.89120142,88.89286858,88.88340638,88.90061243,88.90395984,88.90984608,88.91142436,88.90963023,88.9010397,88.89781966,88.92487668,88.91806799,88.9463395,88.94727506,88.94562019,88.93799061,88.93460552,88.9373475,88.94764327,88.94092305,88.9452691,88.95044874,88.95308913,88.96167967,88.9641931,88.89831485,88.90444233,88.9113653,88.92000621,88.92072551,88.92581626,88.9362771,88.9653568,88.9593055,88.95326689,88.94894664,88.94209986,88.93942096,88.92998456,88.92133054,88.91954911,88.91795814,88.9128293,88.90763697,88.93335696,88.92815193,88.92293462,88.91443297,88.90334171,88.88358414],\"marker\":{\"color\":\"#FF97FF\"},\"mode\":\"markers\",\"name\":\"0~0\",\"showlegend\":true,\"subplot\":\"mapbox\",\"type\":\"scattermapbox\"},{\"hovertemplate\":\"color=0~1<br>Lat=%{lat}<br>Long=%{lon}<extra></extra>\",\"lat\":[21.94384209,21.95713862],\"legendgroup\":\"0~1\",\"lon\":[88.89522964,88.9414777],\"marker\":{\"color\":\"#FECB52\"},\"mode\":\"markers\",\"name\":\"0~1\",\"showlegend\":true,\"subplot\":\"mapbox\",\"type\":\"scattermapbox\"},{\"hovertemplate\":\"color=9~0<br>Lat=%{lat}<br>Long=%{lon}<extra></extra>\",\"lat\":[22.1869778,22.18459343,22.18224544,22.16009206,22.1672739,22.1627594,22.15835442,22.15734392,22.15633342,22.12847396,22.1282557,22.15640618,22.16147607,22.16114867,22.11585042,22.1091698,22.10133358,22.10593863,22.10032308,22.09692822,22.08983772,22.0840221,22.11018836,22.12369508,22.11861674,22.12186611,22.13156768,22.13147674,22.13246905,22.13577258,22.1412794,22.13891281,22.14926112,22.16892059,22.09462465,22.09930285,22.16181192,22.1874507,22.18308211],\"legendgroup\":\"9~0\",\"lon\":[88.95519608,88.94834929,88.94322044,88.95464183,88.92362794,88.92196079,88.92544746,88.93061439,88.93578133,88.94211196,88.93180349,88.93921762,88.91424233,88.89877962,88.9276483,88.92944242,88.9295313,88.93549373,88.93469824,88.93301839,88.96832714,88.95808215,88.97754809,88.98083161,88.95253471,88.94734238,88.98246068,88.97816582,88.97213991,88.9695245,88.96516616,88.95917835,88.97194946,88.94852705,88.98287968,88.99227839,88.98297724,88.97753097,88.98273599],\"marker\":{\"color\":\"#636efa\"},\"mode\":\"markers\",\"name\":\"9~0\",\"showlegend\":true,\"subplot\":\"mapbox\",\"type\":\"scattermapbox\"},{\"hovertemplate\":\"color=12~0<br>Lat=%{lat}<br>Long=%{lon}<extra></extra>\",\"lat\":[22.0640251,22.05811854,22.06030284,22.06705621,22.06239619,22.06342489,22.06782985,22.07236254,22.07685846,22.06403484,22.06405303,22.06168684,22.0508559,22.05426896,22.07776788,22.08220963,22.07774164,22.08561423,22.09537038,22.09329521,22.0688666,22.08204593,22.06967703,22.0695679,22.05657044,22.05875514,22.06319648,22.07270812,22.04670517,22.03666646,22.01537808,22.00761462,22.00075212,21.98667987,21.99227723,21.9990124,22.00350831,22.01325641,22.01755264,22.02193943,22.00500184,22.01612381,22.0014251,22.0081239,22.0148041,22.02599921,22.03401732,22.01676041,22.02338645,22.02993934,22.0398875,22.04537573,22.04965378,22.05059113,22.05154706,22.05360403],\"legendgroup\":\"12~0\",\"lon\":[89.01845548,89.00391563,89.00131291,89.00295508,88.99441534,88.99010779,88.98662071,88.98914683,88.98995543,88.96604226,88.96690123,88.96091341,88.97822104,88.98075986,89.03290645,89.03113771,88.97877528,88.98040434,89.01809996,89.02585651,89.03558535,89.02340656,89.02096932,89.01581508,89.03658399,89.03398168,89.03221254,89.00546851,88.99373413,88.99556634,88.99494862,88.99847379,88.99167779,89.06744994,89.06738646,89.06816925,89.06897743,89.05340085,89.04475953,89.04041389,89.03373175,89.0301689,89.02346178,89.02252663,89.02073209,89.02060512,89.02910677,89.06023494,89.05586349,89.04805616,89.04192868,89.03671096,89.02721066,89.01860784,89.010864,89.00224807],\"marker\":{\"color\":\"#EF553B\"},\"mode\":\"markers\",\"name\":\"12~0\",\"showlegend\":true,\"subplot\":\"mapbox\",\"type\":\"scattermapbox\"},{\"hovertemplate\":\"color=19~0<br>Lat=%{lat}<br>Long=%{lon}<extra></extra>\",\"lat\":[21.99016736,21.99693891,21.99056751,21.97606886,21.9728195,21.97848962,21.98307687,21.96081436,21.95285082,21.9351392,21.95205859,21.92801233,21.95370568,21.92815783,21.93169782,21.93843299,21.94731608,21.95406946,21.96539149,21.97864357,21.97796215,21.97675197,21.95118554,21.95102184,21.95672833,21.96238065,21.96140653,21.95929498,21.95602743,21.94925588,21.93119868,21.93020636,21.93367398,21.92932358,21.92383535,21.91717294,21.92715747,21.92278848,21.91618062,21.91054688,21.90379352,21.90827165,21.90370258,21.90586909,21.89476491,21.89577542,21.89676773,21.90111814,21.90438569,21.93657777,21.94107408,21.95994132,21.98605341],\"legendgroup\":\"19~0\",\"lon\":[88.96773923,88.97023996,88.98663783,88.98937981,88.99457214,88.99794495,89.00304798,89.00931513,89.0033908,89.01304346,89.01886622,89.04663427,89.04376532,89.05350645,89.06205889,89.06284168,89.05930381,89.06094598,89.06683222,89.05808932,88.97303314,88.96875057,88.97763273,88.96990157,88.97499233,88.97750575,88.98439063,88.99042923,88.99476259,88.99226186,88.98559283,88.99161874,88.99673448,89.00279847,89.00801619,89.0106697,89.00626016,89.01146519,89.01669561,89.01504074,89.01339898,89.01334819,89.00910371,89.00564243,89.01006426,89.00489774,88.99887183,88.99280783,88.98847448,88.97522087,88.97602905,88.96808206,88.98497068],\"marker\":{\"color\":\"#00cc96\"},\"mode\":\"markers\",\"name\":\"19~0\",\"showlegend\":true,\"subplot\":\"mapbox\",\"type\":\"scattermapbox\"},{\"hovertemplate\":\"color=3~0<br>Lat=%{lat}<br>Long=%{lon}<extra></extra>\",\"lat\":[22.10232382,22.1020328,22.14697575,22.13704577,22.13276812,22.12722533,22.11120691,22.13234978,22.1455651,22.14883265,22.16226663,22.17768482,22.13859388,22.13870301,22.1870772,22.19113659,22.14896843,22.13865649,22.12869014,22.14127732,22.15084352,22.15717855,22.18092406,22.1920642,22.17437076,22.15770601,22.15989031,22.19118102,22.19791619,22.20081998,22.19520444,22.17173175,22.17296012,22.15170851],\"legendgroup\":\"3~0\",\"lon\":[89.02919123,89.01544687,89.02267013,89.02965659,89.03915688,89.04179728,89.02565335,89.0193989,89.00893847,89.00460511,89.00445275,88.99224857,88.99698823,89.00214247,89.01276353,88.99295518,89.06389093,89.05283775,89.05810627,89.07085199,89.04668488,89.02856907,89.03946988,89.03676558,89.04727721,89.05348087,89.05087816,89.04794573,89.04872851,89.02721491,89.02641943,89.02840401,89.03354555,89.03464576],\"marker\":{\"color\":\"#ab63fa\"},\"mode\":\"markers\",\"name\":\"3~0\",\"showlegend\":true,\"subplot\":\"mapbox\",\"type\":\"scattermapbox\"},{\"hovertemplate\":\"color=3~1<br>Lat=%{lat}<br>Long=%{lon}<extra></extra>\",\"lat\":[22.10333431],\"legendgroup\":\"3~1\",\"lon\":[89.02402429],\"marker\":{\"color\":\"#FFA15A\"},\"mode\":\"markers\",\"name\":\"3~1\",\"showlegend\":true,\"subplot\":\"mapbox\",\"type\":\"scattermapbox\"},{\"hovertemplate\":\"color=19~1<br>Lat=%{lat}<br>Long=%{lon}<extra></extra>\",\"lat\":[21.95028457,21.91827437,21.90819889,21.90348432,21.94230244,21.98278585],\"legendgroup\":\"19~1\",\"lon\":[88.98795389,89.00979762,89.00991189,88.99879565,88.9811706,88.98930362],\"marker\":{\"color\":\"#19d3f3\"},\"mode\":\"markers\",\"name\":\"19~1\",\"showlegend\":true,\"subplot\":\"mapbox\",\"type\":\"scattermapbox\"},{\"hovertemplate\":\"color=10~0<br>Lat=%{lat}<br>Long=%{lon}<extra></extra>\",\"lat\":[21.87099317,21.86534125,21.86627859,21.86725272,21.85383733,21.85414654,21.84194132,21.8443257,21.85891528,21.8700918,21.85355437,21.86157247,21.87385044,21.8906611,21.89396462,21.83803717,21.83829181,21.83152026,21.82585015,21.81169709,21.82969973,21.82083483,21.80866599,21.80082977,21.80673633,21.79770773,21.8201699,21.81802199,21.8072638,21.829918,21.82444796,21.79012574,21.79702462,21.80157549,21.79984551,21.80992099,21.8187859,21.82028749,21.82707683,21.83379382,21.84233134,21.8422222,21.84771043,21.85885058,21.87241187,21.87340419,21.85628432,21.87623481,21.85151558,21.88091301],\"legendgroup\":\"10~0\",\"lon\":[88.94503229,88.94251886,88.93391563,88.92703075,88.92804209,88.94264583,88.94793932,88.95478652,88.9563394,88.95535346,88.96757033,88.97607158,88.97421397,88.97488248,88.97226707,88.92220664,88.93423306,88.93173233,88.92835951,88.94742317,88.95151529,88.95591213,88.96292398,88.96301286,88.9775527,88.97421839,88.97740034,88.981721,89.00246451,88.96182376,88.96790046,88.98633328,88.99484763,88.99823273,89.02231096,89.02219668,89.01780025,89.03582677,89.03918688,89.0391107,89.01925156,89.01409732,89.0088796,89.00617571,89.01203655,89.00601065,88.99073839,88.98106075,88.97704482,88.99045906],\"marker\":{\"color\":\"#FF6692\"},\"mode\":\"markers\",\"name\":\"10~0\",\"showlegend\":true,\"subplot\":\"mapbox\",\"type\":\"scattermapbox\"},{\"hovertemplate\":\"color=13~0<br>Lat=%{lat}<br>Long=%{lon}<extra></extra>\",\"lat\":[21.81838744,21.81047846,21.82126289,21.81781386,21.81531996,21.79475911,21.78336433,21.78459309,21.78802434,21.76877474,21.75866288,21.79385815,21.79035414,21.77244244,21.77572818,21.76924764,21.76251247,21.75301097,21.75554124,21.71781611,21.7134653,21.72104728,21.71976395,21.74445526,21.74429157,21.79954813,21.79057409,21.78271967,21.77600269,21.76607271,21.76739242,21.76862118,21.73429897,21.72466041,21.7226576,21.73282402,21.73244207,21.74136154,21.76301369,21.78999037,21.81032282,21.81355399,21.80408887,21.77608349,21.78067075,21.78529398,21.7914835,21.80220532,21.8045719,21.75344957,21.74931703],\"legendgroup\":\"13~0\",\"lon\":[88.89321583,88.88986841,88.92325607,88.9189993,88.90699828,88.94074145,88.93141933,88.93656087,88.93995866,88.92986604,88.92826237,88.95106262,88.94422853,88.94443169,88.9409573,88.95220093,88.95141814,88.92574894,88.9394679,88.90294869,88.90901268,88.89689738,88.88917893,88.94474912,88.93701796,88.84960858,88.84885118,88.84808068,88.84815686,88.85514332,88.86458012,88.86972166,88.8881549,88.90888571,88.92007855,88.92425913,88.90621992,88.90439999,88.92219837,88.92704788,88.93540945,88.92935815,88.90540731,88.90486535,88.9099688,88.91679019,88.8918022,88.86934075,88.87532856,88.84067965,88.85705213],\"marker\":{\"color\":\"#B6E880\"},\"mode\":\"markers\",\"name\":\"13~0\",\"showlegend\":true,\"subplot\":\"mapbox\",\"type\":\"scattermapbox\"},{\"hovertemplate\":\"color=8~0<br>Lat=%{lat}<br>Long=%{lon}<extra></extra>\",\"lat\":[21.75810749,21.74270748,21.75058008,21.74707648,21.72324809,21.71972589,21.71893366,21.69551555,21.69964809,21.69979359,21.71060635,21.6999391,21.70118565,21.71942475,21.72043525,21.73515215,21.73955752,21.73365056,21.75062492,21.71797812,21.72792588,21.73791042,21.75685081,21.76013615,21.76593398,21.76584304,21.76463246,21.76455971,21.77131308,21.77006612,21.76325819,21.75648704,21.75301942,21.7528921,21.74936991,21.78689457,21.76747155,21.75853388,21.78527412,21.79311074,21.70613668,21.7081856,21.72053632,21.72169193,21.72627919,21.72495948,21.72934667,21.73703738,21.73376983,21.73797513,21.74349973,21.74906071],\"legendgroup\":\"8~0\",\"lon\":[88.95490481,88.96796796,88.96959744,88.96276334,89.00083988,88.9931464,89.00862182,89.01318372,88.99681125,89.00368343,88.98551683,89.01055561,89.01655612,89.03181568,89.02664874,89.03421483,89.03072775,89.01618791,89.02458798,89.01636566,89.01023818,89.00582864,89.00131793,88.99784355,89.00722957,89.0029343,88.99865173,88.99521585,88.9968576,88.9908571,88.98663801,88.98413728,88.97902113,88.97300792,88.96531486,88.99238458,89.02697444,89.02793499,89.02161705,89.02152817,89.03884022,88.9769521,88.97853038,88.98023562,88.98533907,88.97590268,88.97155662,88.96459556,88.96892892,88.95599274,88.95249296,88.95071153],\"marker\":{\"color\":\"#FF97FF\"},\"mode\":\"markers\",\"name\":\"8~0\",\"showlegend\":true,\"subplot\":\"mapbox\",\"type\":\"scattermapbox\"},{\"hovertemplate\":\"color=11~0<br>Lat=%{lat}<br>Long=%{lon}<extra></extra>\",\"lat\":[21.67560143,21.67661193,21.65759879,21.72127191,21.69236558,21.70462535,21.69429523,21.7008849,21.69947425,21.69479646,21.69404059,21.68016036,21.67236012,21.66887471,21.66678095,21.66463304,21.66028262,21.64923302,21.64235274,21.62915521,21.61192662,21.60945091,21.60807704,21.61930812,21.61958095,21.62123779,21.62909259,21.63553635,21.63458082,21.64718618,21.63184073,21.65305637,21.68122503,21.67327968,21.68324603,21.67732128,21.67062248,21.64819628,21.65498602,21.65231063,21.6600741,21.67807674,21.68589517,21.70883025,21.70249522,21.59978571,21.61215462,21.62103772,21.6175519,21.60742225,21.59620935,21.596983,21.6430274],\"legendgroup\":\"11~0\",\"lon\":[89.0245793,89.01941278,89.0204876,89.06616388,89.07594351,89.07322651,89.06131437,89.05522498,89.04149332,89.03209501,89.04928795,89.081237,89.08304424,89.07706912,89.08396669,89.08828735,89.09435094,89.1013505,89.09369512,89.10501493,89.08458885,89.0734468,89.06143307,89.06302405,89.07590944,89.04839532,89.04916541,89.03620384,89.04394769,89.05755279,89.07319285,89.0703747,89.07864739,89.07358203,89.06831352,89.0529147,89.05384986,89.05238586,89.05574556,89.03515441,89.03162924,89.03572136,89.0347735,89.06029034,89.07840615,89.04004645,89.04248369,89.03894623,89.03297111,89.03050806,89.02977606,89.01344168,89.01979369],\"marker\":{\"color\":\"#FECB52\"},\"mode\":\"markers\",\"name\":\"11~0\",\"showlegend\":true,\"subplot\":\"mapbox\",\"type\":\"scattermapbox\"},{\"hovertemplate\":\"color=1~0<br>Lat=%{lat}<br>Long=%{lon}<extra></extra>\",\"lat\":[21.6472141,21.66290512,21.67186097,21.69376945,21.7003955,21.68934629,21.6901927,21.67385534,21.67340063,21.66040317,21.65695413,21.62199532,21.63779548,21.67314599,21.66639263,21.6696238,21.69965782,21.69528922,21.70870461,21.69209443,21.69558025,21.70121398,21.70798553,21.69462431,21.69365058,21.69486076,21.69487895,21.69831019,21.69476982,21.70152318,21.64280913,21.64158037,21.63155985,21.63592845,21.65923743,21.65797269,21.66720137,21.67274416,21.66995925,21.67781405,21.67803231,21.68561389,21.68583215,21.67944256,21.68726099,21.67505577,21.66107614,21.66010242,21.65688943,21.66203208,21.65087374,21.63756709,21.63323487,21.62758295,21.64329176,21.64360097,21.62455185,21.62469735,21.69287654,21.68729737,21.68384793,21.69164777,21.68920883,21.68908151,21.68484024,21.68658801,21.64836206,21.6382502,21.63613866,21.62272287,21.60988951,21.61453094,21.60682204,21.6055569],\"legendgroup\":\"1~0\",\"lon\":[89.00599813,89.00667934,89.00657777,88.93071674,88.9263457,88.93334485,88.92044677,88.94211273,88.92063722,88.94140613,88.93714895,88.92551614,88.93135159,88.90861081,88.90696905,88.90091775,88.94439803,88.94960264,88.94859131,88.95737229,88.96334741,88.96500187,88.9675026,88.97109126,88.97797613,88.98225871,88.98311768,88.98651547,88.97796344,88.9796052,89.00948521,89.00434368,89.00703486,89.00183025,88.99211411,88.98525462,88.99803843,88.99539803,88.96965265,88.97042274,88.98073081,88.96861551,88.97892399,88.99446288,88.99351462,88.99880852,88.97319011,88.98007499,88.98698526,88.96544627,88.96729118,88.97345675,88.98037972,88.97786629,88.97940648,88.99400981,88.99336668,89.00023886,88.99431052,88.99523297,88.9909758,88.98916898,88.97974487,88.97373166,88.98494989,88.96173063,88.95443118,88.95282751,88.95886612,88.95987745,88.98837751,88.99605828,89.00216037,88.99530089],\"marker\":{\"color\":\"#636efa\"},\"mode\":\"markers\",\"name\":\"1~0\",\"showlegend\":true,\"subplot\":\"mapbox\",\"type\":\"scattermapbox\"},{\"hovertemplate\":\"color=11~1<br>Lat=%{lat}<br>Long=%{lon}<extra></extra>\",\"lat\":[21.62086429,21.62739898,21.63512648],\"legendgroup\":\"11~1\",\"lon\":[89.0836283,89.07496159,89.06971888],\"marker\":{\"color\":\"#EF553B\"},\"mode\":\"markers\",\"name\":\"11~1\",\"showlegend\":true,\"subplot\":\"mapbox\",\"type\":\"scattermapbox\"},{\"hovertemplate\":\"color=11~2<br>Lat=%{lat}<br>Long=%{lon}<extra></extra>\",\"lat\":[21.65971878],\"legendgroup\":\"11~2\",\"lon\":[89.06772119],\"marker\":{\"color\":\"#00cc96\"},\"mode\":\"markers\",\"name\":\"11~2\",\"showlegend\":true,\"subplot\":\"mapbox\",\"type\":\"scattermapbox\"},{\"hovertemplate\":\"color=13~1<br>Lat=%{lat}<br>Long=%{lon}<extra></extra>\",\"lat\":[21.74824223],\"legendgroup\":\"13~1\",\"lon\":[88.91205537],\"marker\":{\"color\":\"#ab63fa\"},\"mode\":\"markers\",\"name\":\"13~1\",\"showlegend\":true,\"subplot\":\"mapbox\",\"type\":\"scattermapbox\"},{\"hovertemplate\":\"color=16~0<br>Lat=%{lat}<br>Long=%{lon}<extra></extra>\",\"lat\":[21.57390409,21.55083157,21.53042636,21.55520016,21.53360257,21.57220243,21.57424162,21.5717841,21.56209098,21.56077127,21.53755323,21.56934516,21.58283371,21.59879716,21.58557339,21.55375521,21.62389069,21.62340766,21.6281768,21.63612215],\"legendgroup\":\"16~0\",\"lon\":[88.87536684,88.89625043,88.88445255,88.8910454,88.87582393,88.84789082,88.83841591,88.82813325,88.84628715,88.83685034,88.85086134,88.81870914,88.82113409,88.8347007,88.79188893,88.76990956,88.80348365,88.83356239,88.84725596,88.85232132],\"marker\":{\"color\":\"#FFA15A\"},\"mode\":\"markers\",\"name\":\"16~0\",\"showlegend\":true,\"subplot\":\"mapbox\",\"type\":\"scattermapbox\"},{\"hovertemplate\":\"color=16~1<br>Lat=%{lat}<br>Long=%{lon}<extra></extra>\",\"lat\":[21.58297921],\"legendgroup\":\"16~1\",\"lon\":[88.82800627],\"marker\":{\"color\":\"#19d3f3\"},\"mode\":\"markers\",\"name\":\"16~1\",\"showlegend\":true,\"subplot\":\"mapbox\",\"type\":\"scattermapbox\"},{\"hovertemplate\":\"color=4~0<br>Lat=%{lat}<br>Long=%{lon}<extra></extra>\",\"lat\":[21.56337598,21.58014987,21.60286668,21.63320186,21.63135509,21.60479674,21.59934489,21.61714746,21.60898345,21.58336285,21.57092119,21.58876013,21.63218331,21.62432889,21.6164563,21.60856512,21.60291319,21.59399372,21.5873313,21.58408194,21.58487417,21.57366127,21.56360398,21.67321237,21.67862784,21.67848234,21.67181991,21.68526362,21.6752431,21.67085592,21.66549501,21.65442762,21.64447946,21.63899123,21.6569575,21.66694204,21.6413756,21.65148747,21.65159659,21.64497055,21.66910814,21.68116785,21.68369773,21.6639655,21.66084346,21.66633169,21.67508746,21.67947465,21.68732905,21.68745637],\"legendgroup\":\"4~0\",\"lon\":[88.74831977,88.74727035,88.76247871,88.76729013,88.73294192,88.74784998,88.75478565,88.74942825,88.73405484,88.74036007,88.73448653,88.73084709,88.71918487,88.71841436,88.7167853,88.71429727,88.71178343,88.71360336,88.71625645,88.72144878,88.70597337,88.70524137,88.70621462,88.75308867,88.74443506,88.73756288,88.74021598,88.68765039,88.69034158,88.69468763,88.70591815,88.71205833,88.71818582,88.72340354,88.72577771,88.72136817,88.73025033,88.7318544,88.73700823,88.74137968,88.71790648,88.70574039,88.71945977,88.73944589,88.75065142,88.7454337,88.73588262,88.73153698,88.73230707,88.73832028],\"marker\":{\"color\":\"#FF6692\"},\"mode\":\"markers\",\"name\":\"4~0\",\"showlegend\":true,\"subplot\":\"mapbox\",\"type\":\"scattermapbox\"},{\"hovertemplate\":\"color=4~1<br>Lat=%{lat}<br>Long=%{lon}<extra></extra>\",\"lat\":[21.57003801,21.5869396,21.59618648,21.62586687,21.60233921,21.65020413],\"legendgroup\":\"4~1\",\"lon\":[88.74566668,88.75063005,88.76427324,88.73815964,88.7375669,88.72413554],\"marker\":{\"color\":\"#B6E880\"},\"mode\":\"markers\",\"name\":\"4~1\",\"showlegend\":true,\"subplot\":\"mapbox\",\"type\":\"scattermapbox\"},{\"hovertemplate\":\"color=2~0<br>Lat=%{lat}<br>Long=%{lon}<extra></extra>\",\"lat\":[21.89037345,21.8860776,21.88057079,21.8631138,21.86520755,21.87412703,21.88157115,21.87351668,21.89267533,21.89251163,21.85432165,21.84775057,21.84569319,21.84363621,21.84152467,21.83264157,21.78671645,21.7857787,21.79802029,21.80936051,21.79488006,21.78708022,21.779244,21.80237915,21.86926695,21.87699443,21.88240991,21.88668755,21.87633965,21.86622779,21.84029799,21.84748747,21.84550325,21.84913457,21.85262038,21.84938921,21.8438828,21.84133474,21.83671109,21.83322528,21.82862024,21.822841,21.8204926,21.80868754,21.78994762,21.7978566,21.80466453,21.80668513,21.8144308,21.8201191,21.83582791,21.8517372,21.85950107,21.83176852,21.8307944,21.83640995,21.83985938,21.83888566,21.83789335,21.83805705,21.83139462,21.8235584,21.82794518,21.82357659,21.82561538,21.80893244,21.81788829,21.81440248,21.80430881,21.80087756,21.79184896,21.79508013,21.80076843,21.80401779,21.80966972,21.81411146,21.81970882],\"legendgroup\":\"2~0\",\"lon\":[88.74976647,88.75840738,88.76276613,88.7844448,88.77754722,88.7757277,88.81001242,88.79979323,88.80559059,88.79785944,88.79227793,88.79922629,88.80784181,88.81645733,88.82249593,88.8260338,88.77242281,88.78102604,88.77745007,88.78419528,88.78779664,88.78960346,88.78969234,88.82465868,88.75773886,88.75249574,88.74384214,88.73434185,88.72157073,88.71996706,88.71166897,88.73392727,88.74597908,88.75882638,88.7648015,88.7708528,88.77521155,88.76063361,88.75381181,88.74783669,88.74187427,88.73334764,88.7282188,88.7524113,88.7663715,88.76971892,88.77393801,88.76360414,88.75921999,88.76345177,88.76499196,88.77598164,88.77245647,88.78480031,88.79168519,88.79248109,88.79673785,88.80362273,88.80964863,88.8173802,88.82003329,88.82012217,88.81577612,88.82098114,88.81150665,88.81685093,88.81674936,88.81077424,88.81002955,88.80663175,88.80329703,88.79724573,88.80147752,88.79628519,88.79879903,88.79702988,88.7969664],\"marker\":{\"color\":\"#FF97FF\"},\"mode\":\"markers\",\"name\":\"2~0\",\"showlegend\":true,\"subplot\":\"mapbox\",\"type\":\"scattermapbox\"},{\"hovertemplate\":\"color=15~0<br>Lat=%{lat}<br>Long=%{lon}<extra></extra>\",\"lat\":[21.73463818,21.74030829,21.74344852,21.75581743,21.75910317,21.76009549,21.75045652,21.75713714,21.76262536,21.7659111,21.77051614,21.77932649,21.77587706,21.77463051,21.7825031,21.76338082,21.7599136,21.75332393,21.78909277,21.79118612,21.78333172,21.77208203,21.75531621,21.79694717,21.79377056,21.79841239,21.78203825,21.72983306,21.73425622,21.73978082,21.74414982,21.74627955,21.74727186,21.74718092,21.74485071,21.72589254,21.71368733,21.72278868,21.7003261,21.70612393,21.70548734,21.70975485,21.71771879,21.71010044,21.71811894,21.72245116,21.72680196,21.73117055,21.72766655],\"legendgroup\":\"15~0\",\"lon\":[88.74551815,88.74889055,88.7385444,88.74098164,88.73750767,88.73148176,88.75221257,88.75041845,88.74520072,88.74172634,88.74768876,88.740715,88.73645824,88.73045773,88.73208679,88.72800737,88.72289122,88.72898062,88.7259974,88.71909982,88.71832973,88.71587938,88.77020141,88.72676749,88.7353957,88.74307648,88.7630245,88.73010623,88.72747853,88.72397875,88.71877413,88.7135945,88.70756859,88.70327332,88.69900346,88.7026556,88.7079495,88.71472011,88.71153776,88.72092377,88.69085773,88.73377107,88.7396954,88.75009276,88.758594,88.75167103,88.74560703,88.74040201,88.73356792],\"marker\":{\"color\":\"#FECB52\"},\"mode\":\"markers\",\"name\":\"15~0\",\"showlegend\":true,\"subplot\":\"mapbox\",\"type\":\"scattermapbox\"},{\"hovertemplate\":\"color=2~1<br>Lat=%{lat}<br>Long=%{lon}<extra></extra>\",\"lat\":[21.80358972,21.84649556,21.82311383,21.80393699,21.81871651],\"legendgroup\":\"2~1\",\"lon\":[88.82894084,88.73995318,88.74623302,88.7395767,88.8029923],\"marker\":{\"color\":\"#636efa\"},\"mode\":\"markers\",\"name\":\"2~1\",\"showlegend\":true,\"subplot\":\"mapbox\",\"type\":\"scattermapbox\"},{\"hovertemplate\":\"color=18~0<br>Lat=%{lat}<br>Long=%{lon}<extra></extra>\",\"lat\":[21.7597842,21.7517661,21.73989841,21.6812753,21.67573211,21.65095831,21.63270104,21.68815558,21.68264917,21.6782442,21.67714276,21.66609355,21.65832968,21.65166767,21.64612487,21.73572949,21.73708557,21.74645975,21.70853455,21.70990882,21.71675313,21.71801786,21.70794278,21.70787002,21.70584903,21.69922338,21.68434238,21.67430367,21.66419182,21.65503589,21.66604872,21.65826706,21.67377621,21.67787197,21.65792149,21.68919441,21.69049553,21.69401772,21.6975399,21.68534483,21.68326926,21.68563584,21.68785652,21.69679418,21.70116277,21.71488776],\"legendgroup\":\"18~0\",\"lon\":[88.82256385,88.8140626,88.78240559,88.81658046,88.81922127,88.81262801,88.79650989,88.82423543,88.82859418,88.83208126,88.83295293,88.83995208,88.84347685,88.84613035,88.84877075,88.79705971,88.80821445,88.82787045,88.78190213,88.79391585,88.79985288,88.80671236,88.80682663,88.80339034,88.81372421,88.81809525,88.80279801,88.80463022,88.80302656,88.79367863,88.78496154,88.78762733,88.77971842,88.761628,88.77130606,88.76751424,88.77609208,88.78378514,88.7914782,88.74435888,88.75211543,88.75810324,88.75721887,88.75625833,88.7510533,88.7646453],\"marker\":{\"color\":\"#EF553B\"},\"mode\":\"markers\",\"name\":\"18~0\",\"showlegend\":true,\"subplot\":\"mapbox\",\"type\":\"scattermapbox\"},{\"hovertemplate\":\"color=18~1<br>Lat=%{lat}<br>Long=%{lon}<extra></extra>\",\"lat\":[21.73312685,21.68040226],\"legendgroup\":\"18~1\",\"lon\":[88.77990444,88.77534738],\"marker\":{\"color\":\"#00cc96\"},\"mode\":\"markers\",\"name\":\"18~1\",\"showlegend\":true,\"subplot\":\"mapbox\",\"type\":\"scattermapbox\"}],                        {\"template\":{\"data\":{\"bar\":[{\"error_x\":{\"color\":\"#2a3f5f\"},\"error_y\":{\"color\":\"#2a3f5f\"},\"marker\":{\"line\":{\"color\":\"#E5ECF6\",\"width\":0.5},\"pattern\":{\"fillmode\":\"overlay\",\"size\":10,\"solidity\":0.2}},\"type\":\"bar\"}],\"barpolar\":[{\"marker\":{\"line\":{\"color\":\"#E5ECF6\",\"width\":0.5},\"pattern\":{\"fillmode\":\"overlay\",\"size\":10,\"solidity\":0.2}},\"type\":\"barpolar\"}],\"carpet\":[{\"aaxis\":{\"endlinecolor\":\"#2a3f5f\",\"gridcolor\":\"white\",\"linecolor\":\"white\",\"minorgridcolor\":\"white\",\"startlinecolor\":\"#2a3f5f\"},\"baxis\":{\"endlinecolor\":\"#2a3f5f\",\"gridcolor\":\"white\",\"linecolor\":\"white\",\"minorgridcolor\":\"white\",\"startlinecolor\":\"#2a3f5f\"},\"type\":\"carpet\"}],\"choropleth\":[{\"colorbar\":{\"outlinewidth\":0,\"ticks\":\"\"},\"type\":\"choropleth\"}],\"contour\":[{\"colorbar\":{\"outlinewidth\":0,\"ticks\":\"\"},\"colorscale\":[[0.0,\"#0d0887\"],[0.1111111111111111,\"#46039f\"],[0.2222222222222222,\"#7201a8\"],[0.3333333333333333,\"#9c179e\"],[0.4444444444444444,\"#bd3786\"],[0.5555555555555556,\"#d8576b\"],[0.6666666666666666,\"#ed7953\"],[0.7777777777777778,\"#fb9f3a\"],[0.8888888888888888,\"#fdca26\"],[1.0,\"#f0f921\"]],\"type\":\"contour\"}],\"contourcarpet\":[{\"colorbar\":{\"outlinewidth\":0,\"ticks\":\"\"},\"type\":\"contourcarpet\"}],\"heatmap\":[{\"colorbar\":{\"outlinewidth\":0,\"ticks\":\"\"},\"colorscale\":[[0.0,\"#0d0887\"],[0.1111111111111111,\"#46039f\"],[0.2222222222222222,\"#7201a8\"],[0.3333333333333333,\"#9c179e\"],[0.4444444444444444,\"#bd3786\"],[0.5555555555555556,\"#d8576b\"],[0.6666666666666666,\"#ed7953\"],[0.7777777777777778,\"#fb9f3a\"],[0.8888888888888888,\"#fdca26\"],[1.0,\"#f0f921\"]],\"type\":\"heatmap\"}],\"heatmapgl\":[{\"colorbar\":{\"outlinewidth\":0,\"ticks\":\"\"},\"colorscale\":[[0.0,\"#0d0887\"],[0.1111111111111111,\"#46039f\"],[0.2222222222222222,\"#7201a8\"],[0.3333333333333333,\"#9c179e\"],[0.4444444444444444,\"#bd3786\"],[0.5555555555555556,\"#d8576b\"],[0.6666666666666666,\"#ed7953\"],[0.7777777777777778,\"#fb9f3a\"],[0.8888888888888888,\"#fdca26\"],[1.0,\"#f0f921\"]],\"type\":\"heatmapgl\"}],\"histogram\":[{\"marker\":{\"pattern\":{\"fillmode\":\"overlay\",\"size\":10,\"solidity\":0.2}},\"type\":\"histogram\"}],\"histogram2d\":[{\"colorbar\":{\"outlinewidth\":0,\"ticks\":\"\"},\"colorscale\":[[0.0,\"#0d0887\"],[0.1111111111111111,\"#46039f\"],[0.2222222222222222,\"#7201a8\"],[0.3333333333333333,\"#9c179e\"],[0.4444444444444444,\"#bd3786\"],[0.5555555555555556,\"#d8576b\"],[0.6666666666666666,\"#ed7953\"],[0.7777777777777778,\"#fb9f3a\"],[0.8888888888888888,\"#fdca26\"],[1.0,\"#f0f921\"]],\"type\":\"histogram2d\"}],\"histogram2dcontour\":[{\"colorbar\":{\"outlinewidth\":0,\"ticks\":\"\"},\"colorscale\":[[0.0,\"#0d0887\"],[0.1111111111111111,\"#46039f\"],[0.2222222222222222,\"#7201a8\"],[0.3333333333333333,\"#9c179e\"],[0.4444444444444444,\"#bd3786\"],[0.5555555555555556,\"#d8576b\"],[0.6666666666666666,\"#ed7953\"],[0.7777777777777778,\"#fb9f3a\"],[0.8888888888888888,\"#fdca26\"],[1.0,\"#f0f921\"]],\"type\":\"histogram2dcontour\"}],\"mesh3d\":[{\"colorbar\":{\"outlinewidth\":0,\"ticks\":\"\"},\"type\":\"mesh3d\"}],\"parcoords\":[{\"line\":{\"colorbar\":{\"outlinewidth\":0,\"ticks\":\"\"}},\"type\":\"parcoords\"}],\"pie\":[{\"automargin\":true,\"type\":\"pie\"}],\"scatter\":[{\"marker\":{\"colorbar\":{\"outlinewidth\":0,\"ticks\":\"\"}},\"type\":\"scatter\"}],\"scatter3d\":[{\"line\":{\"colorbar\":{\"outlinewidth\":0,\"ticks\":\"\"}},\"marker\":{\"colorbar\":{\"outlinewidth\":0,\"ticks\":\"\"}},\"type\":\"scatter3d\"}],\"scattercarpet\":[{\"marker\":{\"colorbar\":{\"outlinewidth\":0,\"ticks\":\"\"}},\"type\":\"scattercarpet\"}],\"scattergeo\":[{\"marker\":{\"colorbar\":{\"outlinewidth\":0,\"ticks\":\"\"}},\"type\":\"scattergeo\"}],\"scattergl\":[{\"marker\":{\"colorbar\":{\"outlinewidth\":0,\"ticks\":\"\"}},\"type\":\"scattergl\"}],\"scattermapbox\":[{\"marker\":{\"colorbar\":{\"outlinewidth\":0,\"ticks\":\"\"}},\"type\":\"scattermapbox\"}],\"scatterpolar\":[{\"marker\":{\"colorbar\":{\"outlinewidth\":0,\"ticks\":\"\"}},\"type\":\"scatterpolar\"}],\"scatterpolargl\":[{\"marker\":{\"colorbar\":{\"outlinewidth\":0,\"ticks\":\"\"}},\"type\":\"scatterpolargl\"}],\"scatterternary\":[{\"marker\":{\"colorbar\":{\"outlinewidth\":0,\"ticks\":\"\"}},\"type\":\"scatterternary\"}],\"surface\":[{\"colorbar\":{\"outlinewidth\":0,\"ticks\":\"\"},\"colorscale\":[[0.0,\"#0d0887\"],[0.1111111111111111,\"#46039f\"],[0.2222222222222222,\"#7201a8\"],[0.3333333333333333,\"#9c179e\"],[0.4444444444444444,\"#bd3786\"],[0.5555555555555556,\"#d8576b\"],[0.6666666666666666,\"#ed7953\"],[0.7777777777777778,\"#fb9f3a\"],[0.8888888888888888,\"#fdca26\"],[1.0,\"#f0f921\"]],\"type\":\"surface\"}],\"table\":[{\"cells\":{\"fill\":{\"color\":\"#EBF0F8\"},\"line\":{\"color\":\"white\"}},\"header\":{\"fill\":{\"color\":\"#C8D4E3\"},\"line\":{\"color\":\"white\"}},\"type\":\"table\"}]},\"layout\":{\"annotationdefaults\":{\"arrowcolor\":\"#2a3f5f\",\"arrowhead\":0,\"arrowwidth\":1},\"autotypenumbers\":\"strict\",\"coloraxis\":{\"colorbar\":{\"outlinewidth\":0,\"ticks\":\"\"}},\"colorscale\":{\"diverging\":[[0,\"#8e0152\"],[0.1,\"#c51b7d\"],[0.2,\"#de77ae\"],[0.3,\"#f1b6da\"],[0.4,\"#fde0ef\"],[0.5,\"#f7f7f7\"],[0.6,\"#e6f5d0\"],[0.7,\"#b8e186\"],[0.8,\"#7fbc41\"],[0.9,\"#4d9221\"],[1,\"#276419\"]],\"sequential\":[[0.0,\"#0d0887\"],[0.1111111111111111,\"#46039f\"],[0.2222222222222222,\"#7201a8\"],[0.3333333333333333,\"#9c179e\"],[0.4444444444444444,\"#bd3786\"],[0.5555555555555556,\"#d8576b\"],[0.6666666666666666,\"#ed7953\"],[0.7777777777777778,\"#fb9f3a\"],[0.8888888888888888,\"#fdca26\"],[1.0,\"#f0f921\"]],\"sequentialminus\":[[0.0,\"#0d0887\"],[0.1111111111111111,\"#46039f\"],[0.2222222222222222,\"#7201a8\"],[0.3333333333333333,\"#9c179e\"],[0.4444444444444444,\"#bd3786\"],[0.5555555555555556,\"#d8576b\"],[0.6666666666666666,\"#ed7953\"],[0.7777777777777778,\"#fb9f3a\"],[0.8888888888888888,\"#fdca26\"],[1.0,\"#f0f921\"]]},\"colorway\":[\"#636efa\",\"#EF553B\",\"#00cc96\",\"#ab63fa\",\"#FFA15A\",\"#19d3f3\",\"#FF6692\",\"#B6E880\",\"#FF97FF\",\"#FECB52\"],\"font\":{\"color\":\"#2a3f5f\"},\"geo\":{\"bgcolor\":\"white\",\"lakecolor\":\"white\",\"landcolor\":\"#E5ECF6\",\"showlakes\":true,\"showland\":true,\"subunitcolor\":\"white\"},\"hoverlabel\":{\"align\":\"left\"},\"hovermode\":\"closest\",\"mapbox\":{\"style\":\"light\"},\"paper_bgcolor\":\"white\",\"plot_bgcolor\":\"#E5ECF6\",\"polar\":{\"angularaxis\":{\"gridcolor\":\"white\",\"linecolor\":\"white\",\"ticks\":\"\"},\"bgcolor\":\"#E5ECF6\",\"radialaxis\":{\"gridcolor\":\"white\",\"linecolor\":\"white\",\"ticks\":\"\"}},\"scene\":{\"xaxis\":{\"backgroundcolor\":\"#E5ECF6\",\"gridcolor\":\"white\",\"gridwidth\":2,\"linecolor\":\"white\",\"showbackground\":true,\"ticks\":\"\",\"zerolinecolor\":\"white\"},\"yaxis\":{\"backgroundcolor\":\"#E5ECF6\",\"gridcolor\":\"white\",\"gridwidth\":2,\"linecolor\":\"white\",\"showbackground\":true,\"ticks\":\"\",\"zerolinecolor\":\"white\"},\"zaxis\":{\"backgroundcolor\":\"#E5ECF6\",\"gridcolor\":\"white\",\"gridwidth\":2,\"linecolor\":\"white\",\"showbackground\":true,\"ticks\":\"\",\"zerolinecolor\":\"white\"}},\"shapedefaults\":{\"line\":{\"color\":\"#2a3f5f\"}},\"ternary\":{\"aaxis\":{\"gridcolor\":\"white\",\"linecolor\":\"white\",\"ticks\":\"\"},\"baxis\":{\"gridcolor\":\"white\",\"linecolor\":\"white\",\"ticks\":\"\"},\"bgcolor\":\"#E5ECF6\",\"caxis\":{\"gridcolor\":\"white\",\"linecolor\":\"white\",\"ticks\":\"\"}},\"title\":{\"x\":0.05},\"xaxis\":{\"automargin\":true,\"gridcolor\":\"white\",\"linecolor\":\"white\",\"ticks\":\"\",\"title\":{\"standoff\":15},\"zerolinecolor\":\"white\",\"zerolinewidth\":2},\"yaxis\":{\"automargin\":true,\"gridcolor\":\"white\",\"linecolor\":\"white\",\"ticks\":\"\",\"title\":{\"standoff\":15},\"zerolinecolor\":\"white\",\"zerolinewidth\":2}}},\"mapbox\":{\"domain\":{\"x\":[0.0,1.0],\"y\":[0.0,1.0]},\"center\":{\"lat\":21.858540807119923,\"lon\":88.89275864247404},\"zoom\":10,\"style\":\"open-street-map\"},\"legend\":{\"title\":{\"text\":\"color\"},\"tracegroupgap\":0},\"title\":{\"text\":\"Tiger Category[Upper Bound , pca]\"},\"height\":800,\"width\":800,\"margin\":{\"r\":0,\"t\":0,\"l\":0,\"b\":0}},                        {\"responsive\": true}                    ).then(function(){\n",
              "                            \n",
              "var gd = document.getElementById('7cddc301-c24f-4602-a9f6-04558ceaeaa8');\n",
              "var x = new MutationObserver(function (mutations, observer) {{\n",
              "        var display = window.getComputedStyle(gd).display;\n",
              "        if (!display || display === 'none') {{\n",
              "            console.log([gd, 'removed!']);\n",
              "            Plotly.purge(gd);\n",
              "            observer.disconnect();\n",
              "        }}\n",
              "}});\n",
              "\n",
              "// Listen for the removal of the full notebook cells\n",
              "var notebookContainer = gd.closest('#notebook-container');\n",
              "if (notebookContainer) {{\n",
              "    x.observe(notebookContainer, {childList: true});\n",
              "}}\n",
              "\n",
              "// Listen for the clearing of the current output cell\n",
              "var outputEl = gd.closest('.output');\n",
              "if (outputEl) {{\n",
              "    x.observe(outputEl, {childList: true});\n",
              "}}\n",
              "\n",
              "                        })                };                            </script>        </div>\n",
              "</body>\n",
              "</html>"
            ]
          },
          "metadata": {}
        }
      ]
    }
  ]
}